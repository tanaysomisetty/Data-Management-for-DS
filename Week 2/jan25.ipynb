{
 "cells": [
  {
   "cell_type": "markdown",
   "id": "188d1c61-019c-4719-bfed-018958fc0b6b",
   "metadata": {},
   "source": [
    "#### Party expense exercise ###\n",
    "\n",
    "Suppose that you are responsible for buying pizza and soda for your employer's annual company party. You must buy entire pizza pies and cases of soda (boxes of soda cans). You cannot buy individual slices of pizza or cans of soda, nor can you buy fractional numbers of pizza pies or soda cases. \n",
    "\n",
    "Write a function to compute the total cost of the pizza and soda you will need to buy. Do not buy more than you need to in order to supply each partygoer with the desired number of pizza slices and soda cans. \n",
    "\n",
    "Your function should take the following parameters: \n",
    "\n",
    "1. the number of people attending the party (default 5) \n",
    "2. the number of slices of pizza each person should be able to eat (default 2) \n",
    "3. the number of cans of soda each person should be able to drink (default 1) \n",
    "4. the cost of a pizza pie (default \\$10) \n",
    "5. the number of slices in a pizza pie (default 8) \n",
    "6. the cost of a case of soda (default \\$1.50) \n",
    "7. the number of cans in a case of soda (default 12)"
   ]
  },
  {
   "cell_type": "code",
   "execution_count": 10,
   "id": "6855ca67-9e88-42c8-96df-c54e7cc7790b",
   "metadata": {},
   "outputs": [],
   "source": [
    "import math\n",
    "\n",
    "def party_cost(n=5,p=2,s=1,pc=10,ps=8,sc=1.5,cc=12):\n",
    "    pizza_cost = math.ceil((n*p)/ps)*pc\n",
    "    soda_cost = math.ceil((n*s)/cc)*sc\n",
    "    return pizza_cost + soda_cost"
   ]
  },
  {
   "cell_type": "code",
   "execution_count": 2,
   "id": "ca8c430f-a3eb-4823-ad28-a02f922971f8",
   "metadata": {},
   "outputs": [
    {
     "data": {
      "text/plain": [
       "21.5"
      ]
     },
     "execution_count": 2,
     "metadata": {},
     "output_type": "execute_result"
    }
   ],
   "source": [
    "party_cost()"
   ]
  },
  {
   "cell_type": "code",
   "execution_count": 3,
   "id": "60ec7d49-0b29-488d-9ff7-9cc198003b16",
   "metadata": {},
   "outputs": [
    {
     "data": {
      "text/plain": [
       "21.5"
      ]
     },
     "execution_count": 3,
     "metadata": {},
     "output_type": "execute_result"
    }
   ],
   "source": [
    "party_cost(5)"
   ]
  },
  {
   "cell_type": "code",
   "execution_count": 4,
   "id": "f624125a-b6c8-444a-adff-7fa1fc82eefe",
   "metadata": {},
   "outputs": [
    {
     "data": {
      "text/plain": [
       "21.5"
      ]
     },
     "execution_count": 4,
     "metadata": {},
     "output_type": "execute_result"
    }
   ],
   "source": [
    "party_cost(5,2)"
   ]
  },
  {
   "cell_type": "code",
   "execution_count": 5,
   "id": "5b729284-8ca8-4d58-80ea-97adff5434f4",
   "metadata": {},
   "outputs": [
    {
     "data": {
      "text/plain": [
       "64.5"
      ]
     },
     "execution_count": 5,
     "metadata": {},
     "output_type": "execute_result"
    }
   ],
   "source": [
    "party_cost(15,3,2)"
   ]
  },
  {
   "cell_type": "code",
   "execution_count": 7,
   "id": "9631009e-5fa0-4695-850e-46d999069ecf",
   "metadata": {},
   "outputs": [
    {
     "name": "stdout",
     "output_type": "stream",
     "text": [
      "15\n"
     ]
    }
   ],
   "source": [
    "def func(x,y=5):\n",
    "    return x*y\n",
    "\n",
    "print(func(3))"
   ]
  },
  {
   "cell_type": "code",
   "execution_count": 8,
   "id": "2c3818bb-36d5-4d70-bb35-6a09f2af3416",
   "metadata": {},
   "outputs": [
    {
     "ename": "TypeError",
     "evalue": "func() missing 1 required positional argument: 'x'",
     "output_type": "error",
     "traceback": [
      "\u001b[0;31m---------------------------------------------------------------------------\u001b[0m",
      "\u001b[0;31mTypeError\u001b[0m                                 Traceback (most recent call last)",
      "\u001b[0;32m/var/folders/j8/4sd0mj5s083cmgy92br3xg7r0000gn/T/ipykernel_96436/1691680551.py\u001b[0m in \u001b[0;36m<module>\u001b[0;34m\u001b[0m\n\u001b[1;32m      2\u001b[0m     \u001b[0;32mreturn\u001b[0m \u001b[0mx\u001b[0m\u001b[0;34m*\u001b[0m\u001b[0my\u001b[0m\u001b[0;34m\u001b[0m\u001b[0;34m\u001b[0m\u001b[0m\n\u001b[1;32m      3\u001b[0m \u001b[0;34m\u001b[0m\u001b[0m\n\u001b[0;32m----> 4\u001b[0;31m \u001b[0mprint\u001b[0m\u001b[0;34m(\u001b[0m\u001b[0mfunc\u001b[0m\u001b[0;34m(\u001b[0m\u001b[0;34m)\u001b[0m\u001b[0;34m)\u001b[0m\u001b[0;34m\u001b[0m\u001b[0;34m\u001b[0m\u001b[0m\n\u001b[0m",
      "\u001b[0;31mTypeError\u001b[0m: func() missing 1 required positional argument: 'x'"
     ]
    }
   ],
   "source": [
    "def func(x,y=5):\n",
    "    return x*y\n",
    "\n",
    "print(func())"
   ]
  },
  {
   "cell_type": "code",
   "execution_count": 9,
   "id": "7444bd5f-dd40-4de2-8b09-78fb2df5535d",
   "metadata": {},
   "outputs": [
    {
     "ename": "SyntaxError",
     "evalue": "non-default argument follows default argument (223151214.py, line 1)",
     "output_type": "error",
     "traceback": [
      "\u001b[0;36m  File \u001b[0;32m\"/var/folders/j8/4sd0mj5s083cmgy92br3xg7r0000gn/T/ipykernel_96436/223151214.py\"\u001b[0;36m, line \u001b[0;32m1\u001b[0m\n\u001b[0;31m    def func(x=5,y):\u001b[0m\n\u001b[0m                  ^\u001b[0m\n\u001b[0;31mSyntaxError\u001b[0m\u001b[0;31m:\u001b[0m non-default argument follows default argument\n"
     ]
    }
   ],
   "source": [
    "def func(x=5,y):\n",
    "    return x*y\n",
    "\n",
    "print(func(3))"
   ]
  },
  {
   "cell_type": "markdown",
   "id": "15374342-9c2b-4a10-b3d8-26a793f41205",
   "metadata": {},
   "source": [
    "#### default args must be at the end ####"
   ]
  },
  {
   "cell_type": "code",
   "execution_count": 12,
   "id": "420d7ce1-d4f7-4152-993d-b369b0f13ff0",
   "metadata": {},
   "outputs": [],
   "source": [
    "def party_cost_new(n=5,p=2,s=1,pc=10,ps=8,sc=1.5,cc=12):\n",
    "    pies = math.ceil((n*p)/ps)\n",
    "    pizza_cost = pies*pc\n",
    "    soda_cases = math.ceil((n*s)/cc)\n",
    "    soda_cost = soda_cases*sc\n",
    "    return pies, soda_cases, pizza_cost + soda_cost"
   ]
  },
  {
   "cell_type": "code",
   "execution_count": 13,
   "id": "1c25ebbf-3f76-4056-b9d7-567d60ad1d26",
   "metadata": {},
   "outputs": [
    {
     "name": "stdout",
     "output_type": "stream",
     "text": [
      "pies=2, cases=1, cost=21.5\n"
     ]
    }
   ],
   "source": [
    "pies, cases, cost = party_cost_new()\n",
    "print(f'pies={pies}, cases={cases}, cost={cost}')"
   ]
  },
  {
   "cell_type": "markdown",
   "id": "f5cecef6-97d2-43d2-898b-4c49179a7d42",
   "metadata": {},
   "source": [
    "### Decisions ###"
   ]
  },
  {
   "cell_type": "code",
   "execution_count": 14,
   "id": "d001cc3a-627e-4fd6-a4ab-af5a7bdc661b",
   "metadata": {},
   "outputs": [
    {
     "name": "stdout",
     "output_type": "stream",
     "text": [
      "x < y\n",
      "outside the if\n"
     ]
    }
   ],
   "source": [
    "x=2\n",
    "y=3\n",
    "if x < y:\n",
    "    print('x < y')\n",
    "print('outside the if')"
   ]
  },
  {
   "cell_type": "code",
   "execution_count": 15,
   "id": "7667c115-7281-4f56-a116-3ac1102a6ce7",
   "metadata": {},
   "outputs": [
    {
     "name": "stdout",
     "output_type": "stream",
     "text": [
      "outside the if\n"
     ]
    }
   ],
   "source": [
    "x=3\n",
    "y=2\n",
    "if x < y:\n",
    "    print('x < y')\n",
    "print('outside the if')"
   ]
  },
  {
   "cell_type": "code",
   "execution_count": 16,
   "id": "958decf8-5e31-4bbb-af99-ef828b664c50",
   "metadata": {},
   "outputs": [
    {
     "name": "stdout",
     "output_type": "stream",
     "text": [
      "x > y\n"
     ]
    }
   ],
   "source": [
    "if x > y:\n",
    "    print('x > y')\n",
    "else:\n",
    "    print('x not > y')"
   ]
  },
  {
   "cell_type": "code",
   "execution_count": 17,
   "id": "1b9922ec-d3f9-4bdb-a20e-fc897c01816d",
   "metadata": {},
   "outputs": [
    {
     "name": "stdout",
     "output_type": "stream",
     "text": [
      "x not < y, and y < z\n"
     ]
    }
   ],
   "source": [
    "z = 10\n",
    "if x < y:\n",
    "    print('x < y')\n",
    "elif y < z:\n",
    "    print('x not < y, and y < z')\n",
    "else:\n",
    "    print('x not < y, and y not < z')"
   ]
  },
  {
   "cell_type": "code",
   "execution_count": 18,
   "id": "f4be6a91-f843-409e-9a4e-55f8c07f32a5",
   "metadata": {},
   "outputs": [
    {
     "name": "stdout",
     "output_type": "stream",
     "text": [
      "x not < y, and y < z\n"
     ]
    }
   ],
   "source": [
    "z = 10\n",
    "if x < y:\n",
    "    print('x < y')\n",
    "else:\n",
    "    if y < z:\n",
    "        print('x not < y, and y < z')\n",
    "    else:\n",
    "        print('x not < y, and y not < z')"
   ]
  },
  {
   "cell_type": "code",
   "execution_count": 20,
   "id": "c530bfca-b437-4590-a17b-580d874620a6",
   "metadata": {},
   "outputs": [],
   "source": [
    "# arrange 3 numbers in ascending order\n",
    "def sort3(x,y,z):\n",
    "    if x < y:\n",
    "        if y < z:\n",
    "            return x,y,z\n",
    "        elif x < z:\n",
    "            return x,z,y\n",
    "        else:\n",
    "            return z,x,y\n",
    "    else:\n",
    "        if x < z:\n",
    "            return y,x,z\n",
    "        elif y < z:\n",
    "            return y,z,x\n",
    "        else:\n",
    "            return z,y,x"
   ]
  },
  {
   "cell_type": "code",
   "execution_count": 21,
   "id": "266a2465-b010-491e-b661-99ea9d9552e3",
   "metadata": {},
   "outputs": [
    {
     "name": "stdout",
     "output_type": "stream",
     "text": [
      "(1, 2, 3)\n"
     ]
    }
   ],
   "source": [
    "print(sort3(1,2,3))"
   ]
  },
  {
   "cell_type": "code",
   "execution_count": 23,
   "id": "04a9ba16-8116-45ad-80d6-d47614af967e",
   "metadata": {},
   "outputs": [
    {
     "name": "stdout",
     "output_type": "stream",
     "text": [
      "(1, 2, 3)\n"
     ]
    }
   ],
   "source": [
    "print(sort3(3,1,2))"
   ]
  },
  {
   "cell_type": "code",
   "execution_count": 24,
   "id": "403c58a4-f37f-4f8b-a19f-85caa4396822",
   "metadata": {},
   "outputs": [
    {
     "name": "stdout",
     "output_type": "stream",
     "text": [
      "(1, 2, 3)\n"
     ]
    }
   ],
   "source": [
    "print(sort3(3,2,1))"
   ]
  },
  {
   "cell_type": "code",
   "execution_count": 25,
   "id": "15e469d0-01b3-43fc-bb95-bc66a395b56f",
   "metadata": {},
   "outputs": [],
   "source": [
    "def grade(score):\n",
    "    if score >= 90:\n",
    "        grade = 'A'\n",
    "    elif score >= 80:\n",
    "        grade = 'B'\n",
    "    elif score >= 70:\n",
    "        grade = 'C'\n",
    "    elif score >= 60:\n",
    "        grade = 'D'\n",
    "    else:\n",
    "        grade = 'F'\n",
    "    return grade"
   ]
  },
  {
   "cell_type": "code",
   "execution_count": 26,
   "id": "2bff4449-7976-4fb0-bc8c-64ffad5aa72d",
   "metadata": {},
   "outputs": [
    {
     "name": "stdout",
     "output_type": "stream",
     "text": [
      "D\n"
     ]
    }
   ],
   "source": [
    "print(grade(62.5))"
   ]
  },
  {
   "cell_type": "code",
   "execution_count": 27,
   "id": "6883478d-2087-4354-902e-9f0bf3be3503",
   "metadata": {},
   "outputs": [
    {
     "name": "stdout",
     "output_type": "stream",
     "text": [
      "A\n"
     ]
    }
   ],
   "source": [
    "print(grade(90))"
   ]
  },
  {
   "cell_type": "code",
   "execution_count": 28,
   "id": "c54cd35e-9d6e-4009-a5a2-0d10caa8a7bc",
   "metadata": {},
   "outputs": [],
   "source": [
    "# version 2, without elifs\n",
    "def grade(score):\n",
    "    if score >= 90:\n",
    "        return 'A'\n",
    "    if score >= 80:\n",
    "        return 'B'\n",
    "    if score >= 70:\n",
    "        return 'C'\n",
    "    if score >= 60:\n",
    "        return 'D'\n",
    "    return 'F'"
   ]
  },
  {
   "cell_type": "code",
   "execution_count": 29,
   "id": "469e3b5f-2e27-45e8-ac0f-3124ffc4bd9e",
   "metadata": {},
   "outputs": [
    {
     "name": "stdout",
     "output_type": "stream",
     "text": [
      "D\n"
     ]
    }
   ],
   "source": [
    "print(grade(62.5))"
   ]
  },
  {
   "cell_type": "code",
   "execution_count": 30,
   "id": "5ffc6fe5-8d03-47f2-809b-0d1d02a8eb4e",
   "metadata": {},
   "outputs": [
    {
     "name": "stdout",
     "output_type": "stream",
     "text": [
      "A\n"
     ]
    }
   ],
   "source": [
    "print(grade(90))"
   ]
  },
  {
   "cell_type": "code",
   "execution_count": 38,
   "id": "9a0f0c1d-251c-4ae4-921f-3db2f5f9637f",
   "metadata": {},
   "outputs": [],
   "source": [
    "def convert(temp, dir='ctof'):\n",
    "    if dir == 'ctof':\n",
    "        res = temp*9/5 + 32\n",
    "    else:\n",
    "        res = (temp-32)*5/9\n",
    "    return res"
   ]
  },
  {
   "cell_type": "code",
   "execution_count": 39,
   "id": "8c157f53-9ab1-475c-8f34-23bc87624f92",
   "metadata": {},
   "outputs": [
    {
     "name": "stdout",
     "output_type": "stream",
     "text": [
      "108.5\n"
     ]
    }
   ],
   "source": [
    "print(convert(42.5))"
   ]
  },
  {
   "cell_type": "code",
   "execution_count": 40,
   "id": "a4e4be6f-edfd-4c3f-a7f6-6f6f44d40b6a",
   "metadata": {},
   "outputs": [
    {
     "name": "stdout",
     "output_type": "stream",
     "text": [
      "5.833333333333333\n"
     ]
    }
   ],
   "source": [
    "print(convert(42.5,'ftoc'))"
   ]
  },
  {
   "cell_type": "code",
   "execution_count": 42,
   "id": "2d4ba90c-4a29-4418-9723-4efc0538f378",
   "metadata": {},
   "outputs": [
    {
     "name": "stdout",
     "output_type": "stream",
     "text": [
      "5.83\n"
     ]
    }
   ],
   "source": [
    "# formatting\n",
    "cval = convert(42.5,'ftoc')\n",
    "print(f'{cval:.2f}')"
   ]
  },
  {
   "cell_type": "markdown",
   "id": "1ab308b6-e812-4777-899f-e71a2d4a92dd",
   "metadata": {},
   "source": [
    "### Read input from console ###"
   ]
  },
  {
   "cell_type": "code",
   "execution_count": 54,
   "id": "17655068-3fd7-4831-a8b0-114e2a70d81a",
   "metadata": {},
   "outputs": [],
   "source": [
    "def tempconvert():\n",
    "    dir = input(\"Enter 'f2c' or 'c2f': \")\n",
    "    if dir == 'f2c':\n",
    "        f = float(input('enter F: ')) # convert text input to real number\n",
    "        c = (f-32)*5/9\n",
    "        return c\n",
    "    else:\n",
    "        c = float(input('enter C: '))\n",
    "        f = c*9/5 + 32\n",
    "        return f"
   ]
  },
  {
   "cell_type": "code",
   "execution_count": 57,
   "id": "107d6dc8-43a2-4508-80f6-f084128d9521",
   "metadata": {},
   "outputs": [
    {
     "name": "stdin",
     "output_type": "stream",
     "text": [
      "Enter 'f2c' or 'c2f':  f2c\n",
      "enter F:  42.5\n"
     ]
    },
    {
     "data": {
      "text/plain": [
       "5.833333333333333"
      ]
     },
     "execution_count": 57,
     "metadata": {},
     "output_type": "execute_result"
    }
   ],
   "source": [
    "tempconvert()"
   ]
  },
  {
   "cell_type": "code",
   "execution_count": 58,
   "id": "94801c9f-0412-4c65-b444-d4aa0c2556b7",
   "metadata": {},
   "outputs": [
    {
     "name": "stdin",
     "output_type": "stream",
     "text": [
      "Enter 'f2c' or 'c2f':  abc\n",
      "enter C:  23\n"
     ]
    },
    {
     "data": {
      "text/plain": [
       "73.4"
      ]
     },
     "execution_count": 58,
     "metadata": {},
     "output_type": "execute_result"
    }
   ],
   "source": [
    "tempconvert()"
   ]
  },
  {
   "cell_type": "code",
   "execution_count": 59,
   "id": "180461ef-5e5e-4f4f-b1c1-241bb736dc38",
   "metadata": {},
   "outputs": [
    {
     "name": "stdin",
     "output_type": "stream",
     "text": [
      "Enter 'f2c' or 'c2f':  c2f\n",
      "enter C:  xyz\n"
     ]
    },
    {
     "ename": "ValueError",
     "evalue": "could not convert string to float: 'xyz'",
     "output_type": "error",
     "traceback": [
      "\u001b[0;31m---------------------------------------------------------------------------\u001b[0m",
      "\u001b[0;31mValueError\u001b[0m                                Traceback (most recent call last)",
      "\u001b[0;32m/var/folders/j8/4sd0mj5s083cmgy92br3xg7r0000gn/T/ipykernel_96436/1250826023.py\u001b[0m in \u001b[0;36m<module>\u001b[0;34m\u001b[0m\n\u001b[0;32m----> 1\u001b[0;31m \u001b[0mtempconvert\u001b[0m\u001b[0;34m(\u001b[0m\u001b[0;34m)\u001b[0m\u001b[0;34m\u001b[0m\u001b[0;34m\u001b[0m\u001b[0m\n\u001b[0m",
      "\u001b[0;32m/var/folders/j8/4sd0mj5s083cmgy92br3xg7r0000gn/T/ipykernel_96436/3951379171.py\u001b[0m in \u001b[0;36mtempconvert\u001b[0;34m()\u001b[0m\n\u001b[1;32m      6\u001b[0m         \u001b[0;32mreturn\u001b[0m \u001b[0mc\u001b[0m\u001b[0;34m\u001b[0m\u001b[0;34m\u001b[0m\u001b[0m\n\u001b[1;32m      7\u001b[0m     \u001b[0;32melse\u001b[0m\u001b[0;34m:\u001b[0m\u001b[0;34m\u001b[0m\u001b[0;34m\u001b[0m\u001b[0m\n\u001b[0;32m----> 8\u001b[0;31m         \u001b[0mc\u001b[0m \u001b[0;34m=\u001b[0m \u001b[0mfloat\u001b[0m\u001b[0;34m(\u001b[0m\u001b[0minput\u001b[0m\u001b[0;34m(\u001b[0m\u001b[0;34m'enter C: '\u001b[0m\u001b[0;34m)\u001b[0m\u001b[0;34m)\u001b[0m\u001b[0;34m\u001b[0m\u001b[0;34m\u001b[0m\u001b[0m\n\u001b[0m\u001b[1;32m      9\u001b[0m         \u001b[0mf\u001b[0m \u001b[0;34m=\u001b[0m \u001b[0mc\u001b[0m\u001b[0;34m*\u001b[0m\u001b[0;36m9\u001b[0m\u001b[0;34m/\u001b[0m\u001b[0;36m5\u001b[0m \u001b[0;34m+\u001b[0m \u001b[0;36m32\u001b[0m\u001b[0;34m\u001b[0m\u001b[0;34m\u001b[0m\u001b[0m\n\u001b[1;32m     10\u001b[0m         \u001b[0;32mreturn\u001b[0m \u001b[0mf\u001b[0m\u001b[0;34m\u001b[0m\u001b[0;34m\u001b[0m\u001b[0m\n",
      "\u001b[0;31mValueError\u001b[0m: could not convert string to float: 'xyz'"
     ]
    }
   ],
   "source": [
    "tempconvert()"
   ]
  },
  {
   "cell_type": "code",
   "execution_count": 60,
   "id": "68ea40b9-ec22-479f-aa06-3eeda24b042f",
   "metadata": {},
   "outputs": [],
   "source": [
    "def tempconvert():\n",
    "    dir = input(\"Enter 'f2c' or 'c2f': \")\n",
    "    try:\n",
    "        if dir == 'f2c':\n",
    "            f = float(input('enter F: ')) # convert text input to real number\n",
    "            c = (f-32)*5/9\n",
    "            return c\n",
    "        else:\n",
    "            c = float(input('enter C: '))\n",
    "            f = c*9/5 + 32\n",
    "            return f\n",
    "    except ValueError as err:\n",
    "        print(err) "
   ]
  },
  {
   "cell_type": "code",
   "execution_count": 62,
   "id": "70ff3ecf-49f7-4794-8083-26764e346a8b",
   "metadata": {},
   "outputs": [
    {
     "name": "stdin",
     "output_type": "stream",
     "text": [
      "Enter 'f2c' or 'c2f':  f2c\n",
      "enter F:  xy.5\n"
     ]
    },
    {
     "name": "stdout",
     "output_type": "stream",
     "text": [
      "could not convert string to float: 'xy.5'\n"
     ]
    }
   ],
   "source": [
    "tempconvert()"
   ]
  },
  {
   "cell_type": "code",
   "execution_count": 63,
   "id": "4e103310-163d-4798-8338-d1bc444d3d2e",
   "metadata": {},
   "outputs": [],
   "source": [
    "# replace with new message that is more pointed and contextual\n",
    "def tempconvert():\n",
    "    dir = input(\"Enter 'f2c' or 'c2f': \")\n",
    "    try:\n",
    "        if dir == 'f2c':\n",
    "            inp = input('enter F: ')\n",
    "            f = float(inp) # error might happen here during conversion\n",
    "            c = (f-32)*5/9\n",
    "            return c\n",
    "        else:\n",
    "            inp = input('enter C: ')\n",
    "            c = float(inp) # error might happen here during conversion\n",
    "            f = c*9/5 + 32\n",
    "            return f\n",
    "    except ValueError as err:\n",
    "        print(f'Input must be a real number, you entered \"{inp}\"') "
   ]
  },
  {
   "cell_type": "code",
   "execution_count": 64,
   "id": "a8952897-0235-485e-bc94-799dc1f0de32",
   "metadata": {},
   "outputs": [
    {
     "name": "stdin",
     "output_type": "stream",
     "text": [
      "Enter 'f2c' or 'c2f':  f2c\n",
      "enter F:  23.x\n"
     ]
    },
    {
     "name": "stdout",
     "output_type": "stream",
     "text": [
      "Input must be a real number, you entered \"23.x\"\n"
     ]
    }
   ],
   "source": [
    "tempconvert()"
   ]
  },
  {
   "cell_type": "code",
   "execution_count": 65,
   "id": "a6ae920f-5397-4fdd-af7f-a91f6a9a4524",
   "metadata": {},
   "outputs": [],
   "source": [
    "# replace with new message that is more pointed and contextual\n",
    "def tempconvert():\n",
    "    dir = input(\"Enter 'f2c' or 'c2f': \")\n",
    "    try:\n",
    "        if dir == 'f2c':\n",
    "            inp = input('enter F: ')\n",
    "            f = float(inp) # error might happen here during conversion\n",
    "            c = (f-32)*5/9\n",
    "            return c\n",
    "        elif dir == 'c2f':\n",
    "            inp = input('enter C: ')\n",
    "            c = float(inp) # error might happen here during conversion\n",
    "            f = c*9/5 + 32\n",
    "            return f\n",
    "        else:\n",
    "            print(f'You must enter f2c or c2f, you entered {dir}')\n",
    "    except ValueError as err:\n",
    "        print(f'Input must be a real number, you entered \"{inp}\"')"
   ]
  },
  {
   "cell_type": "code",
   "execution_count": 66,
   "id": "59c2be6d-bc50-49f8-a433-afa8e56d1c4a",
   "metadata": {},
   "outputs": [
    {
     "name": "stdin",
     "output_type": "stream",
     "text": [
      "Enter 'f2c' or 'c2f':  xyz\n"
     ]
    },
    {
     "name": "stdout",
     "output_type": "stream",
     "text": [
      "You must enter f2c or c2f, you entered xyz\n"
     ]
    }
   ],
   "source": [
    "tempconvert()"
   ]
  },
  {
   "cell_type": "code",
   "execution_count": 69,
   "id": "f7ddf831-0af7-4016-8bc5-6f41b813f6a5",
   "metadata": {},
   "outputs": [],
   "source": [
    "def stuff():\n",
    "    try:\n",
    "        val = int(input(\"enter an integer: \"))\n",
    "    except ValueError as err:\n",
    "        print(err)"
   ]
  },
  {
   "cell_type": "code",
   "execution_count": 70,
   "id": "6e848389-6987-446a-b629-056b36e0273f",
   "metadata": {},
   "outputs": [
    {
     "name": "stdin",
     "output_type": "stream",
     "text": [
      "enter an integer:  12.5\n"
     ]
    },
    {
     "name": "stdout",
     "output_type": "stream",
     "text": [
      "invalid literal for int() with base 10: '12.5'\n"
     ]
    }
   ],
   "source": [
    "stuff()"
   ]
  },
  {
   "cell_type": "code",
   "execution_count": null,
   "id": "dd692e80-6c92-46e2-baee-6cc9ce466ad8",
   "metadata": {},
   "outputs": [],
   "source": []
  }
 ],
 "metadata": {
  "kernelspec": {
   "display_name": "Python 3 (ipykernel)",
   "language": "python",
   "name": "python3"
  },
  "language_info": {
   "codemirror_mode": {
    "name": "ipython",
    "version": 3
   },
   "file_extension": ".py",
   "mimetype": "text/x-python",
   "name": "python",
   "nbconvert_exporter": "python",
   "pygments_lexer": "ipython3",
   "version": "3.9.7"
  }
 },
 "nbformat": 4,
 "nbformat_minor": 5
}
