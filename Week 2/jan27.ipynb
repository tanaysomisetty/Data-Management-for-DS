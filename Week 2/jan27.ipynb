{
 "cells": [
  {
   "cell_type": "code",
   "execution_count": 1,
   "id": "50489e76-5d19-480f-bf77-fde1502d453b",
   "metadata": {},
   "outputs": [],
   "source": [
    "def tempconvert(temp, dir='f2c'):\n",
    "    \"\"\"\n",
    "    This function converts Fahrenheit to Celsius (default),\n",
    "    and vice versa\n",
    "    \"\"\"\n",
    "    if dir == 'f2c':\n",
    "        c = (temp-32)*5/9\n",
    "        return c\n",
    "    elif dir == 'c2f':\n",
    "        f = temp*9/5 + 32\n",
    "        return f\n",
    "    else:\n",
    "        print(f'dir must be f2c or c2f, got {dir} instead')"
   ]
  },
  {
   "cell_type": "code",
   "execution_count": 2,
   "id": "916878f1-f38c-4dfb-a7c6-47b75e33552e",
   "metadata": {},
   "outputs": [
    {
     "data": {
      "text/plain": [
       "-3.888888888888889"
      ]
     },
     "execution_count": 2,
     "metadata": {},
     "output_type": "execute_result"
    }
   ],
   "source": [
    "tempconvert(25)"
   ]
  },
  {
   "cell_type": "code",
   "execution_count": 3,
   "id": "e85b5370-91d0-489e-ac9a-722f2a63d13a",
   "metadata": {},
   "outputs": [
    {
     "data": {
      "text/plain": [
       "77.0"
      ]
     },
     "execution_count": 3,
     "metadata": {},
     "output_type": "execute_result"
    }
   ],
   "source": [
    "tempconvert(25,'c2f')"
   ]
  },
  {
   "cell_type": "markdown",
   "id": "53451a80-2979-4506-9f11-298b0ea6df3f",
   "metadata": {},
   "source": [
    "**Command line arguments for program**"
   ]
  },
  {
   "cell_type": "code",
   "execution_count": 6,
   "id": "f0eae816-8eb4-4bb9-8572-2dd62fc6f50d",
   "metadata": {},
   "outputs": [],
   "source": [
    "import sys\n",
    "\n",
    "def main():\n",
    "    args = len(sys.argv) # command line arguments\n",
    "    \n",
    "    # no parameters given (first arg is program name)\n",
    "    # or too many parameters\n",
    "    if args == 1 or args > 3:\n",
    "        print(f'usage: {sys.argv[0]} temperature [\"f2c\"|\"c2f\"]')\n",
    "        return \n",
    "    \n",
    "    if args == 2: # one argument, temperature\n",
    "        res = tempconvert(float(sys.argv[1]))\n",
    "    else:\n",
    "        res = tempconvert(float(sys.argv[1]), sys.argv[2])\n",
    "    print(res)"
   ]
  },
  {
   "cell_type": "code",
   "execution_count": 5,
   "id": "7dbe0062-9db2-4b37-ba67-2dda95f89452",
   "metadata": {},
   "outputs": [
    {
     "ename": "ValueError",
     "evalue": "could not convert string to float: '-f'",
     "output_type": "error",
     "traceback": [
      "\u001b[0;31m---------------------------------------------------------------------------\u001b[0m",
      "\u001b[0;31mValueError\u001b[0m                                Traceback (most recent call last)",
      "\u001b[0;32m/var/folders/j8/4sd0mj5s083cmgy92br3xg7r0000gn/T/ipykernel_6170/451043146.py\u001b[0m in \u001b[0;36m<module>\u001b[0;34m\u001b[0m\n\u001b[0;32m----> 1\u001b[0;31m \u001b[0mmain\u001b[0m\u001b[0;34m(\u001b[0m\u001b[0;34m)\u001b[0m\u001b[0;34m\u001b[0m\u001b[0;34m\u001b[0m\u001b[0m\n\u001b[0m",
      "\u001b[0;32m/var/folders/j8/4sd0mj5s083cmgy92br3xg7r0000gn/T/ipykernel_6170/1569812217.py\u001b[0m in \u001b[0;36mmain\u001b[0;34m()\u001b[0m\n\u001b[1;32m     13\u001b[0m         \u001b[0mres\u001b[0m \u001b[0;34m=\u001b[0m \u001b[0mtempconvert\u001b[0m\u001b[0;34m(\u001b[0m\u001b[0mfloat\u001b[0m\u001b[0;34m(\u001b[0m\u001b[0msys\u001b[0m\u001b[0;34m.\u001b[0m\u001b[0margv\u001b[0m\u001b[0;34m[\u001b[0m\u001b[0;36m1\u001b[0m\u001b[0;34m]\u001b[0m\u001b[0;34m)\u001b[0m\u001b[0;34m)\u001b[0m\u001b[0;34m\u001b[0m\u001b[0;34m\u001b[0m\u001b[0m\n\u001b[1;32m     14\u001b[0m     \u001b[0;32melse\u001b[0m\u001b[0;34m:\u001b[0m\u001b[0;34m\u001b[0m\u001b[0;34m\u001b[0m\u001b[0m\n\u001b[0;32m---> 15\u001b[0;31m         \u001b[0mres\u001b[0m \u001b[0;34m=\u001b[0m \u001b[0mtempconvert\u001b[0m\u001b[0;34m(\u001b[0m\u001b[0mfloat\u001b[0m\u001b[0;34m(\u001b[0m\u001b[0msys\u001b[0m\u001b[0;34m.\u001b[0m\u001b[0margv\u001b[0m\u001b[0;34m[\u001b[0m\u001b[0;36m1\u001b[0m\u001b[0;34m]\u001b[0m\u001b[0;34m)\u001b[0m\u001b[0;34m,\u001b[0m \u001b[0msys\u001b[0m\u001b[0;34m.\u001b[0m\u001b[0margv\u001b[0m\u001b[0;34m[\u001b[0m\u001b[0;36m2\u001b[0m\u001b[0;34m]\u001b[0m\u001b[0;34m)\u001b[0m\u001b[0;34m\u001b[0m\u001b[0;34m\u001b[0m\u001b[0m\n\u001b[0m\u001b[1;32m     16\u001b[0m     \u001b[0mprint\u001b[0m\u001b[0;34m(\u001b[0m\u001b[0mres\u001b[0m\u001b[0;34m)\u001b[0m\u001b[0;34m\u001b[0m\u001b[0;34m\u001b[0m\u001b[0m\n",
      "\u001b[0;31mValueError\u001b[0m: could not convert string to float: '-f'"
     ]
    }
   ],
   "source": [
    "main()"
   ]
  },
  {
   "cell_type": "markdown",
   "id": "010ff5ed-217e-49bc-9851-f163febb1ed1",
   "metadata": {},
   "source": [
    "-----"
   ]
  },
  {
   "cell_type": "markdown",
   "id": "280c7f33-5f9b-4624-b677-deae2b5fe530",
   "metadata": {},
   "source": [
    "#### Repetition using while loop ####"
   ]
  },
  {
   "cell_type": "code",
   "execution_count": 8,
   "id": "862f1e33-3b42-4374-865f-3a4ee20e7c17",
   "metadata": {},
   "outputs": [],
   "source": [
    "def sum_it(cap):\n",
    "    num=1\n",
    "    sum=0\n",
    "    while num <= cap:\n",
    "        sum += num # same as sum = sum + num\n",
    "        num += 1 # same as num = num + 1 (but can't do num++)\n",
    "    return sum"
   ]
  },
  {
   "cell_type": "code",
   "execution_count": 9,
   "id": "1af3963c-4caa-4a86-b716-c0aba7daadca",
   "metadata": {},
   "outputs": [
    {
     "data": {
      "text/plain": [
       "15"
      ]
     },
     "execution_count": 9,
     "metadata": {},
     "output_type": "execute_result"
    }
   ],
   "source": [
    "sum_it(5)"
   ]
  },
  {
   "cell_type": "code",
   "execution_count": 10,
   "id": "54e1f733-186b-4cf2-83f6-e99cc56954ea",
   "metadata": {},
   "outputs": [],
   "source": [
    "def sum_it(cap):\n",
    "    sum=0\n",
    "    while cap > 0:\n",
    "        sum += cap\n",
    "        cap -= 1\n",
    "    return sum"
   ]
  },
  {
   "cell_type": "code",
   "execution_count": 11,
   "id": "6b2e6e48-f62c-498a-b1d5-7424773c35f4",
   "metadata": {},
   "outputs": [
    {
     "data": {
      "text/plain": [
       "15"
      ]
     },
     "execution_count": 11,
     "metadata": {},
     "output_type": "execute_result"
    }
   ],
   "source": [
    "sum_it(5)"
   ]
  },
  {
   "cell_type": "code",
   "execution_count": 12,
   "id": "5feead4d-c9d4-49a3-97f2-f2ab53f23d99",
   "metadata": {},
   "outputs": [
    {
     "data": {
      "text/plain": [
       "55"
      ]
     },
     "execution_count": 12,
     "metadata": {},
     "output_type": "execute_result"
    }
   ],
   "source": [
    "cap = 10\n",
    "sum_it(cap)"
   ]
  },
  {
   "cell_type": "code",
   "execution_count": 14,
   "id": "1ff92d2e-9f3c-49e3-aef8-7e879c6d063c",
   "metadata": {},
   "outputs": [
    {
     "name": "stdout",
     "output_type": "stream",
     "text": [
      "10\n"
     ]
    }
   ],
   "source": [
    "print(cap)"
   ]
  },
  {
   "cell_type": "code",
   "execution_count": 19,
   "id": "12a892ee-34b7-4243-8a56-a845c63f20df",
   "metadata": {},
   "outputs": [
    {
     "name": "stdin",
     "output_type": "stream",
     "text": [
      "Enter next integer, 0 to stop:  abc\n"
     ]
    },
    {
     "name": "stdout",
     "output_type": "stream",
     "text": [
      "Input must be an integer\n"
     ]
    },
    {
     "name": "stdin",
     "output_type": "stream",
     "text": [
      "Enter next integer, 0 to stop:  -12\n",
      "Enter next integer, 0 to stop:  25.6\n"
     ]
    },
    {
     "name": "stdout",
     "output_type": "stream",
     "text": [
      "Input must be an integer\n"
     ]
    },
    {
     "name": "stdin",
     "output_type": "stream",
     "text": [
      "Enter next integer, 0 to stop:  12\n",
      "Enter next integer, 0 to stop:  1\n",
      "Enter next integer, 0 to stop:  0\n"
     ]
    },
    {
     "name": "stdout",
     "output_type": "stream",
     "text": [
      "1\n"
     ]
    }
   ],
   "source": [
    "# read from input until a guard value indicates termination\n",
    "# guard can be any pre-determined value that is not a legit input\n",
    "sum = 0\n",
    "while True:\n",
    "    try:\n",
    "        val = int(input('Enter next integer, 0 to stop: '))\n",
    "        if val == 0:\n",
    "            break    # break out of the loop right here\n",
    "        sum += val\n",
    "    except ValueError:\n",
    "        print('Input must be an integer')\n",
    "print(sum)"
   ]
  },
  {
   "cell_type": "code",
   "execution_count": 22,
   "id": "e4c55ad4-9574-44a3-94e3-6f13ea6ea1a1",
   "metadata": {},
   "outputs": [],
   "source": [
    "# check if number is prime\n",
    "import math\n",
    "\n",
    "def is_prime(num):\n",
    "    if num < 1:\n",
    "        print('Number must be a positive integer > 0')\n",
    "        return\n",
    "    if num == 1:\n",
    "        return False\n",
    "    if num == 2:\n",
    "        return True\n",
    "    if num % 2 == 0:\n",
    "        return False\n",
    "    \n",
    "    # check odd numbers for divisors\n",
    "    d=3\n",
    "    while d <= math.sqrt(num):\n",
    "        if num % d == 0:\n",
    "            return False\n",
    "        d += 2\n",
    "    return True"
   ]
  },
  {
   "cell_type": "code",
   "execution_count": 23,
   "id": "06cc2f87-06c0-4d70-9c08-3b62df5defc5",
   "metadata": {},
   "outputs": [],
   "source": [
    "def try_prime(): \n",
    "    while True: \n",
    "        try: \n",
    "            val = int(input('Enter +ve integer, 0 to stop: ')) \n",
    "            if val == 0: \n",
    "                break \n",
    "            if val < 1: \n",
    "                print(\"Input must be a +ve integer\") \n",
    "                continue \n",
    "            if is_prime(val) == True: \n",
    "                print(f'{val} is a prime') \n",
    "            else: \n",
    "                print(f'{val} is not a prime') \n",
    "        except ValueError: \n",
    "            print(\"Input must be a +ve integer\")"
   ]
  },
  {
   "cell_type": "code",
   "execution_count": 24,
   "id": "ddd96d4e-2fe9-4878-bafa-984b54fd4d92",
   "metadata": {},
   "outputs": [
    {
     "name": "stdin",
     "output_type": "stream",
     "text": [
      "Enter +ve integer, 0 to stop:  2\n"
     ]
    },
    {
     "name": "stdout",
     "output_type": "stream",
     "text": [
      "2 is a prime\n"
     ]
    },
    {
     "name": "stdin",
     "output_type": "stream",
     "text": [
      "Enter +ve integer, 0 to stop:  23\n"
     ]
    },
    {
     "name": "stdout",
     "output_type": "stream",
     "text": [
      "23 is a prime\n"
     ]
    },
    {
     "name": "stdin",
     "output_type": "stream",
     "text": [
      "Enter +ve integer, 0 to stop:  12\n"
     ]
    },
    {
     "name": "stdout",
     "output_type": "stream",
     "text": [
      "12 is not a prime\n"
     ]
    },
    {
     "name": "stdin",
     "output_type": "stream",
     "text": [
      "Enter +ve integer, 0 to stop:  39\n"
     ]
    },
    {
     "name": "stdout",
     "output_type": "stream",
     "text": [
      "39 is not a prime\n"
     ]
    },
    {
     "name": "stdin",
     "output_type": "stream",
     "text": [
      "Enter +ve integer, 0 to stop:  47\n"
     ]
    },
    {
     "name": "stdout",
     "output_type": "stream",
     "text": [
      "47 is a prime\n"
     ]
    },
    {
     "name": "stdin",
     "output_type": "stream",
     "text": [
      "Enter +ve integer, 0 to stop:  0\n"
     ]
    }
   ],
   "source": [
    "try_prime()"
   ]
  },
  {
   "cell_type": "markdown",
   "id": "0449852b-af82-4a8e-9081-f35ce3b89ff9",
   "metadata": {},
   "source": [
    "#### Repetition with for loop, range function, iterating over a string ####"
   ]
  },
  {
   "cell_type": "code",
   "execution_count": 25,
   "id": "cf730603-2429-46be-8a1f-19c099449f37",
   "metadata": {},
   "outputs": [],
   "source": [
    "sum = 0\n",
    "for r in range(6): # 0, 1, 2, 3, 4, => 6 is not included\n",
    "    sum += r"
   ]
  },
  {
   "cell_type": "code",
   "execution_count": 27,
   "id": "21d79759-aa09-4148-a45b-ca3587ee0e33",
   "metadata": {},
   "outputs": [
    {
     "name": "stdout",
     "output_type": "stream",
     "text": [
      "15\n"
     ]
    }
   ],
   "source": [
    "print(sum)"
   ]
  },
  {
   "cell_type": "code",
   "execution_count": 28,
   "id": "da7740cc-ab3b-4f91-9adc-0ece8646cd61",
   "metadata": {},
   "outputs": [],
   "source": [
    "sum = 0\n",
    "for r in range(3, 8): # 3, 4, 5, 6, 7 => 3 is included but 8 is not included\n",
    "    sum +=r"
   ]
  },
  {
   "cell_type": "code",
   "execution_count": 29,
   "id": "2b32e8c3-1ec1-423e-a8ec-2f6e6fe0464d",
   "metadata": {},
   "outputs": [
    {
     "name": "stdout",
     "output_type": "stream",
     "text": [
      "25\n"
     ]
    }
   ],
   "source": [
    "print(sum)"
   ]
  },
  {
   "cell_type": "code",
   "execution_count": 31,
   "id": "0919c4c3-cce1-4634-854f-c754379e55b0",
   "metadata": {},
   "outputs": [],
   "source": [
    "sum = 0\n",
    "for r in range(1, 10, 2): # 1, 3, 5, 7, 9\n",
    "    sum += r"
   ]
  },
  {
   "cell_type": "code",
   "execution_count": 32,
   "id": "0d71b20e-4e6c-49ba-b2b7-2c3bb352a1b5",
   "metadata": {},
   "outputs": [
    {
     "name": "stdout",
     "output_type": "stream",
     "text": [
      "25\n"
     ]
    }
   ],
   "source": [
    "print(sum)"
   ]
  },
  {
   "cell_type": "code",
   "execution_count": 35,
   "id": "6035ca8f-38dd-4604-8047-d42919e97f85",
   "metadata": {},
   "outputs": [],
   "source": [
    "sum = 0\n",
    "for r in range(8, 3, -1): # 8, 7, 6, 5, 4\n",
    "    sum += r"
   ]
  },
  {
   "cell_type": "code",
   "execution_count": 36,
   "id": "477a670e-62c9-49b9-b566-795e3b38327b",
   "metadata": {},
   "outputs": [
    {
     "name": "stdout",
     "output_type": "stream",
     "text": [
      "30\n"
     ]
    }
   ],
   "source": [
    "print(sum)"
   ]
  },
  {
   "cell_type": "code",
   "execution_count": 37,
   "id": "bb3d68ac-a8af-4cff-82f0-71818cc4f33d",
   "metadata": {},
   "outputs": [],
   "source": [
    "sum = 0\n",
    "for r in range(8, 3, -3): # 8, 5\n",
    "    sum += r"
   ]
  },
  {
   "cell_type": "code",
   "execution_count": 38,
   "id": "da457fb2-a8f0-46f1-bedc-33a2250d1602",
   "metadata": {},
   "outputs": [
    {
     "name": "stdout",
     "output_type": "stream",
     "text": [
      "13\n"
     ]
    }
   ],
   "source": [
    "print(sum)"
   ]
  },
  {
   "cell_type": "code",
   "execution_count": 49,
   "id": "bdd514f3-625e-4a7d-8289-f6e4990daa1a",
   "metadata": {},
   "outputs": [],
   "source": [
    "sum = 0\n",
    "for x in range(5, -5, 2): # 5 is > -5, so the loop is never run\n",
    "    sum += x"
   ]
  },
  {
   "cell_type": "code",
   "execution_count": 42,
   "id": "983900c6-26f8-42a0-8032-3d97a58bbfcd",
   "metadata": {},
   "outputs": [
    {
     "name": "stdout",
     "output_type": "stream",
     "text": [
      "0\n"
     ]
    }
   ],
   "source": [
    "print(sum)"
   ]
  },
  {
   "cell_type": "code",
   "execution_count": 50,
   "id": "7e546716-2ca6-4322-a6f1-6f2a9909f49d",
   "metadata": {},
   "outputs": [],
   "source": [
    "sum = 0\n",
    "for x in range(5, -5, -2): # 5, 3, 1, -1, -3\n",
    "    sum += x"
   ]
  },
  {
   "cell_type": "code",
   "execution_count": 44,
   "id": "1189c7ef-1d0f-4a86-955e-6a46d03ba6fe",
   "metadata": {},
   "outputs": [
    {
     "name": "stdout",
     "output_type": "stream",
     "text": [
      "5\n"
     ]
    }
   ],
   "source": [
    "print(sum)"
   ]
  },
  {
   "cell_type": "code",
   "execution_count": 55,
   "id": "e5239edd-dce9-4e4f-949c-8969b7bf5b20",
   "metadata": {},
   "outputs": [],
   "source": [
    "sum = 0\n",
    "for x in range(5, -3, -2): # 5, 3, 1, -1\n",
    "    sum += x"
   ]
  },
  {
   "cell_type": "code",
   "execution_count": 52,
   "id": "a995b3c2-13cc-4d2d-a903-c6679c4e9d0c",
   "metadata": {},
   "outputs": [
    {
     "name": "stdout",
     "output_type": "stream",
     "text": [
      "8\n"
     ]
    }
   ],
   "source": [
    "print(sum)"
   ]
  },
  {
   "cell_type": "code",
   "execution_count": 56,
   "id": "94fb0412-865c-4429-8195-3cd43979972e",
   "metadata": {},
   "outputs": [],
   "source": [
    "# nested iteration\n",
    "def lower_triange(lines=5):\n",
    "    for ln in range(1,lines+1):\n",
    "        for stars in range(ln):\n",
    "            print('*',end=\"\") # end = \"\" means don't print a newline character\n",
    "        print()"
   ]
  },
  {
   "cell_type": "code",
   "execution_count": 57,
   "id": "7510d4be-5cf9-435e-a1db-4698ff2665d7",
   "metadata": {},
   "outputs": [
    {
     "name": "stdout",
     "output_type": "stream",
     "text": [
      "*\n",
      "**\n",
      "***\n",
      "****\n",
      "*****\n"
     ]
    }
   ],
   "source": [
    "lower_triange()"
   ]
  },
  {
   "cell_type": "code",
   "execution_count": 58,
   "id": "fc742c99-4eb3-456e-9b90-5ee9716c7576",
   "metadata": {},
   "outputs": [
    {
     "name": "stdout",
     "output_type": "stream",
     "text": [
      "*\n",
      "**\n",
      "***\n",
      "****\n",
      "*****\n",
      "******\n",
      "*******\n",
      "********\n",
      "*********\n",
      "**********\n"
     ]
    }
   ],
   "source": [
    "lower_triange(10)"
   ]
  },
  {
   "cell_type": "code",
   "execution_count": 59,
   "id": "5bc99047-26f0-49fb-aa66-e218e8d19925",
   "metadata": {},
   "outputs": [],
   "source": [
    "def lower_triange2(lines=5):\n",
    "    for ln in range(1,lines+1):\n",
    "        print('*'*ln)"
   ]
  },
  {
   "cell_type": "code",
   "execution_count": 61,
   "id": "bac408f4-251e-4ba4-9f16-097a2c6e1da2",
   "metadata": {},
   "outputs": [
    {
     "name": "stdout",
     "output_type": "stream",
     "text": [
      "*\n",
      "**\n",
      "***\n",
      "****\n",
      "*****\n"
     ]
    }
   ],
   "source": [
    "lower_triange2()"
   ]
  },
  {
   "cell_type": "markdown",
   "id": "4a4e0c66-d395-4669-846a-e8481021c768",
   "metadata": {},
   "source": [
    "**Iterate over string characters**"
   ]
  },
  {
   "cell_type": "code",
   "execution_count": 65,
   "id": "3831f502-2b18-4c1a-b957-d4abe79d8a96",
   "metadata": {},
   "outputs": [],
   "source": [
    "# count number of vowels and consonants in a string\n",
    "def countVowelsAndConsonants(st):\n",
    "    v_count=0\n",
    "    c_count=0\n",
    "    for ch in st: # \"in\" is a membership operator\n",
    "        if ch.lower() in 'aeiou': # check for membership\n",
    "            v_count += 1\n",
    "        else:\n",
    "            c_count += 1\n",
    "    return v_count, c_count"
   ]
  },
  {
   "cell_type": "code",
   "execution_count": 67,
   "id": "5b079252-e022-46be-8242-6067c6a7eb91",
   "metadata": {},
   "outputs": [
    {
     "name": "stdout",
     "output_type": "stream",
     "text": [
      "1 5\n"
     ]
    }
   ],
   "source": [
    "vc, cc = countVowelsAndConsonants('string')\n",
    "print(vc,cc)"
   ]
  },
  {
   "cell_type": "code",
   "execution_count": 68,
   "id": "cbb26069-6fae-4b8f-9695-7ae182d7a47c",
   "metadata": {},
   "outputs": [
    {
     "name": "stdout",
     "output_type": "stream",
     "text": [
      "12 32\n"
     ]
    }
   ],
   "source": [
    "vc, cc = countVowelsAndConsonants('the quick brown fox jumped over the lazy dog')\n",
    "print(vc,cc)"
   ]
  },
  {
   "cell_type": "code",
   "execution_count": 69,
   "id": "7283e073-b1da-4446-8017-10bde4d64228",
   "metadata": {},
   "outputs": [
    {
     "data": {
      "text/plain": [
       "0"
      ]
     },
     "execution_count": 69,
     "metadata": {},
     "output_type": "execute_result"
    }
   ],
   "source": [
    "st = 'aeiou'\n",
    "st.find('a')"
   ]
  },
  {
   "cell_type": "code",
   "execution_count": 71,
   "id": "0686cd4b-eef4-4fe2-bdf6-ab53b39d0406",
   "metadata": {},
   "outputs": [
    {
     "data": {
      "text/plain": [
       "-1"
      ]
     },
     "execution_count": 71,
     "metadata": {},
     "output_type": "execute_result"
    }
   ],
   "source": [
    "st.find('h')"
   ]
  },
  {
   "cell_type": "markdown",
   "id": "69e4910d-0368-4b63-a3d6-ada5dc92bef5",
   "metadata": {},
   "source": [
    "----"
   ]
  },
  {
   "cell_type": "markdown",
   "id": "251f023c-4666-4448-923d-82b0e5261671",
   "metadata": {},
   "source": [
    "### Lists ###"
   ]
  },
  {
   "cell_type": "code",
   "execution_count": 73,
   "id": "97210e10-1441-4c7e-b67c-5d4dc0d6d4f6",
   "metadata": {},
   "outputs": [],
   "source": [
    "# lists\n",
    "listofints = [1, -2, 3]\n",
    "listofreals = [1.2, 3, 6.8, -12]\n",
    "listofstrings = ['cs','ee','math']\n",
    "mixedlist = [1, 'a', 2.5]"
   ]
  },
  {
   "cell_type": "code",
   "execution_count": 74,
   "id": "817eab49-5487-4030-8b68-bc793528fa29",
   "metadata": {},
   "outputs": [
    {
     "data": {
      "text/plain": [
       "3"
      ]
     },
     "execution_count": 74,
     "metadata": {},
     "output_type": "execute_result"
    }
   ],
   "source": [
    "len(listofints)"
   ]
  },
  {
   "cell_type": "code",
   "execution_count": 76,
   "id": "0046f2ae-3139-4dc7-9fc6-59f8c2b019f3",
   "metadata": {},
   "outputs": [
    {
     "data": {
      "text/plain": [
       "['a', 'b', 'c', 'd', 'e']"
      ]
     },
     "execution_count": 76,
     "metadata": {},
     "output_type": "execute_result"
    }
   ],
   "source": [
    "strlist = list('abcde')\n",
    "strlist"
   ]
  },
  {
   "cell_type": "code",
   "execution_count": 77,
   "id": "d33ed174-3637-456f-8684-5e3dff6eaa7b",
   "metadata": {},
   "outputs": [
    {
     "data": {
      "text/plain": [
       "[[1, -2, 3], 'abc', 'def']"
      ]
     },
     "execution_count": 77,
     "metadata": {},
     "output_type": "execute_result"
    }
   ],
   "source": [
    "# list of lists\n",
    "[[1,-2,3], 'abc', 'def']"
   ]
  },
  {
   "cell_type": "code",
   "execution_count": 78,
   "id": "d88e78c9-78af-4ece-a618-01ca3a10b7e1",
   "metadata": {},
   "outputs": [
    {
     "data": {
      "text/plain": [
       "[[1, -2, 3], 'xy', 2.5]"
      ]
     },
     "execution_count": 78,
     "metadata": {},
     "output_type": "execute_result"
    }
   ],
   "source": [
    "[listofints, 'xy', 2.5]"
   ]
  },
  {
   "cell_type": "code",
   "execution_count": 79,
   "id": "8697e3e4-adef-4d6b-8cd1-98438bb04003",
   "metadata": {},
   "outputs": [
    {
     "data": {
      "text/plain": [
       "3"
      ]
     },
     "execution_count": 79,
     "metadata": {},
     "output_type": "execute_result"
    }
   ],
   "source": [
    "len([listofints, 'xy', 2.5])"
   ]
  },
  {
   "cell_type": "code",
   "execution_count": 80,
   "id": "84d60f1f-384b-4cfd-a270-74216337f4a0",
   "metadata": {},
   "outputs": [
    {
     "ename": "TypeError",
     "evalue": "'int' object is not callable",
     "output_type": "error",
     "traceback": [
      "\u001b[0;31m---------------------------------------------------------------------------\u001b[0m",
      "\u001b[0;31mTypeError\u001b[0m                                 Traceback (most recent call last)",
      "\u001b[0;32m/var/folders/j8/4sd0mj5s083cmgy92br3xg7r0000gn/T/ipykernel_6170/2752200312.py\u001b[0m in \u001b[0;36m<module>\u001b[0;34m\u001b[0m\n\u001b[0;32m----> 1\u001b[0;31m \u001b[0mprint\u001b[0m\u001b[0;34m(\u001b[0m\u001b[0msum\u001b[0m\u001b[0;34m(\u001b[0m\u001b[0mlistofints\u001b[0m\u001b[0;34m)\u001b[0m\u001b[0;34m)\u001b[0m\u001b[0;34m\u001b[0m\u001b[0;34m\u001b[0m\u001b[0m\n\u001b[0m",
      "\u001b[0;31mTypeError\u001b[0m: 'int' object is not callable"
     ]
    }
   ],
   "source": [
    "print(sum(listofints))"
   ]
  },
  {
   "cell_type": "markdown",
   "id": "4eba712e-c7ec-4d6f-a460-df7ac02cf9c4",
   "metadata": {},
   "source": [
    "**error because I had sum before as a variable name**"
   ]
  },
  {
   "cell_type": "code",
   "execution_count": 81,
   "id": "504f8d9e-7b15-4fb2-805b-ca98e573ccf5",
   "metadata": {},
   "outputs": [],
   "source": [
    "def stuff():\n",
    "    return sum(listofints)"
   ]
  },
  {
   "cell_type": "code",
   "execution_count": 82,
   "id": "093583bb-b108-42ef-80bd-d2afdf9f4a15",
   "metadata": {},
   "outputs": [
    {
     "ename": "SyntaxError",
     "evalue": "invalid syntax (4108477780.py, line 1)",
     "output_type": "error",
     "traceback": [
      "\u001b[0;36m  File \u001b[0;32m\"/var/folders/j8/4sd0mj5s083cmgy92br3xg7r0000gn/T/ipykernel_6170/4108477780.py\"\u001b[0;36m, line \u001b[0;32m1\u001b[0m\n\u001b[0;31m    stuff():\u001b[0m\n\u001b[0m            ^\u001b[0m\n\u001b[0;31mSyntaxError\u001b[0m\u001b[0;31m:\u001b[0m invalid syntax\n"
     ]
    }
   ],
   "source": [
    "stuff():"
   ]
  },
  {
   "cell_type": "code",
   "execution_count": 83,
   "id": "fd7eb651-8e0e-4d79-b30f-006a8002be24",
   "metadata": {},
   "outputs": [
    {
     "data": {
      "text/plain": [
       "3"
      ]
     },
     "execution_count": 83,
     "metadata": {},
     "output_type": "execute_result"
    }
   ],
   "source": [
    "max(listofints)"
   ]
  },
  {
   "cell_type": "code",
   "execution_count": null,
   "id": "e7272c14-1b49-45ae-9e67-d963d62c290c",
   "metadata": {},
   "outputs": [],
   "source": []
  }
 ],
 "metadata": {
  "kernelspec": {
   "display_name": "Python 3 (ipykernel)",
   "language": "python",
   "name": "python3"
  },
  "language_info": {
   "codemirror_mode": {
    "name": "ipython",
    "version": 3
   },
   "file_extension": ".py",
   "mimetype": "text/x-python",
   "name": "python",
   "nbconvert_exporter": "python",
   "pygments_lexer": "ipython3",
   "version": "3.9.7"
  }
 },
 "nbformat": 4,
 "nbformat_minor": 5
}
