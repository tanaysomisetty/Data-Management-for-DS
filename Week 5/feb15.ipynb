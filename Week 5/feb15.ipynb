{
 "cells": [
  {
   "cell_type": "markdown",
   "id": "247afcc3-796c-4ba6-9c69-15f95c6712f6",
   "metadata": {},
   "source": [
    "### Regular Expressions"
   ]
  },
  {
   "cell_type": "code",
   "execution_count": 3,
   "id": "ac433484-70ca-42e1-be53-3ad130ac23ce",
   "metadata": {},
   "outputs": [],
   "source": [
    "import re"
   ]
  },
  {
   "cell_type": "code",
   "execution_count": 3,
   "id": "f3a31efc-6618-46d6-af7b-6f9e83c7f502",
   "metadata": {},
   "outputs": [
    {
     "name": "stdin",
     "output_type": "stream",
     "text": [
      "string? ('quit' to stop)  art\n"
     ]
    },
    {
     "name": "stdout",
     "output_type": "stream",
     "text": [
      "match\n"
     ]
    },
    {
     "name": "stdin",
     "output_type": "stream",
     "text": [
      "string? ('quit' to stop)  artist\n"
     ]
    },
    {
     "name": "stdout",
     "output_type": "stream",
     "text": [
      "match\n"
     ]
    },
    {
     "name": "stdin",
     "output_type": "stream",
     "text": [
      "string? ('quit' to stop)  cart\n"
     ]
    },
    {
     "name": "stdout",
     "output_type": "stream",
     "text": [
      "no match\n"
     ]
    },
    {
     "name": "stdin",
     "output_type": "stream",
     "text": [
      "string? ('quit' to stop)  at\n"
     ]
    },
    {
     "name": "stdout",
     "output_type": "stream",
     "text": [
      "no match\n"
     ]
    },
    {
     "name": "stdin",
     "output_type": "stream",
     "text": [
      "string? ('quit' to stop)  ar1st\n"
     ]
    },
    {
     "name": "stdout",
     "output_type": "stream",
     "text": [
      "no match\n"
     ]
    },
    {
     "name": "stdin",
     "output_type": "stream",
     "text": [
      "string? ('quit' to stop)  quit\n"
     ]
    }
   ],
   "source": [
    "while True:\n",
    "    astr = input(\"string? ('quit' to stop) \")\n",
    "    if astr == 'quit':\n",
    "        break\n",
    "    res = re.search('^ar[^0-9]*t$', astr) \n",
    "    print('match') if res else print('no match') "
   ]
  },
  {
   "cell_type": "code",
   "execution_count": 6,
   "id": "cf11d4db-9a30-470c-a52d-f3ce8fa2a302",
   "metadata": {},
   "outputs": [
    {
     "name": "stdout",
     "output_type": "stream",
     "text": [
      "None\n"
     ]
    }
   ],
   "source": [
    "res= re.search('^[^0-9A-Z]*$', 'abcXyz')\n",
    "print(res)"
   ]
  },
  {
   "cell_type": "code",
   "execution_count": 7,
   "id": "c3abbcea-b11d-42f7-b95e-8074af44a5eb",
   "metadata": {},
   "outputs": [
    {
     "name": "stdout",
     "output_type": "stream",
     "text": [
      "<re.Match object; span=(0, 5), match='abcyz'>\n"
     ]
    }
   ],
   "source": [
    "res= re.search('^[^0-9A-Z]*$', 'abcyz')\n",
    "print(res)"
   ]
  },
  {
   "cell_type": "markdown",
   "id": "5019401c-be46-4962-8bff-9d05d6f35dca",
   "metadata": {},
   "source": [
    "Search for any sequence that starts with a, ends with t, and has exactly one letter and exactly one digit in between, in EITHER order"
   ]
  },
  {
   "cell_type": "code",
   "execution_count": 7,
   "id": "62b88ba4-6ec2-4ba3-886f-fb219f034c99",
   "metadata": {},
   "outputs": [
    {
     "name": "stdin",
     "output_type": "stream",
     "text": [
      "string? ('quit' to stop)  naaat\n"
     ]
    },
    {
     "name": "stdout",
     "output_type": "stream",
     "text": [
      "no match\n"
     ]
    },
    {
     "name": "stdin",
     "output_type": "stream",
     "text": [
      "string? ('quit' to stop)  na9t\n"
     ]
    },
    {
     "name": "stdout",
     "output_type": "stream",
     "text": [
      "no match\n"
     ]
    },
    {
     "name": "stdin",
     "output_type": "stream",
     "text": [
      "string? ('quit' to stop)  naa9t\n"
     ]
    },
    {
     "name": "stdout",
     "output_type": "stream",
     "text": [
      "match\n"
     ]
    },
    {
     "name": "stdin",
     "output_type": "stream",
     "text": [
      "string? ('quit' to stop)  a9xt\n"
     ]
    },
    {
     "name": "stdout",
     "output_type": "stream",
     "text": [
      "match\n"
     ]
    },
    {
     "name": "stdin",
     "output_type": "stream",
     "text": [
      "string? ('quit' to stop)  a99t\n"
     ]
    },
    {
     "name": "stdout",
     "output_type": "stream",
     "text": [
      "no match\n"
     ]
    },
    {
     "name": "stdin",
     "output_type": "stream",
     "text": [
      "string? ('quit' to stop)  axyt\n"
     ]
    },
    {
     "name": "stdout",
     "output_type": "stream",
     "text": [
      "no match\n"
     ]
    },
    {
     "name": "stdin",
     "output_type": "stream",
     "text": [
      "string? ('quit' to stop)  quit\n"
     ]
    }
   ],
   "source": [
    "while True:\n",
    "    astr = input(\"string? ('quit' to stop) \")\n",
    "    if astr == 'quit':\n",
    "        break\n",
    "    res = re.search('a([a-zA-Z][0-9]|[0-9][a-zA-Z])t$', astr) \n",
    "    print('match') if res else print('no match') "
   ]
  },
  {
   "cell_type": "markdown",
   "id": "bea476c0-3488-40a6-a4f0-324ce3f513f6",
   "metadata": {},
   "source": [
    "search for the sequence 'airport' or 'airplace'"
   ]
  },
  {
   "cell_type": "code",
   "execution_count": 8,
   "id": "8fb1cddf-081b-495d-8671-a52ef91a3145",
   "metadata": {},
   "outputs": [
    {
     "name": "stdout",
     "output_type": "stream",
     "text": [
      "None\n"
     ]
    }
   ],
   "source": [
    "res = re.search('air(port|plane)','the air is cool')\n",
    "print(res)"
   ]
  },
  {
   "cell_type": "code",
   "execution_count": 9,
   "id": "1098f2cb-63f3-4b05-9ff7-f8cf1b6c8833",
   "metadata": {},
   "outputs": [
    {
     "name": "stdout",
     "output_type": "stream",
     "text": [
      "<re.Match object; span=(7, 14), match='airport'>\n"
     ]
    }
   ],
   "source": [
    "res = re.search('air(port|plane)','newark airport security')\n",
    "print(res)"
   ]
  },
  {
   "cell_type": "code",
   "execution_count": 10,
   "id": "5c09289c-dab5-4223-8970-6f76a4e884e6",
   "metadata": {},
   "outputs": [
    {
     "name": "stdout",
     "output_type": "stream",
     "text": [
      "<re.Match object; span=(0, 8), match='airplane'>\n"
     ]
    }
   ],
   "source": [
    "res = re.search('air(port|plane)','airplane')\n",
    "print(res)"
   ]
  },
  {
   "cell_type": "markdown",
   "id": "ba99b3c4-dd77-480c-9f5a-9561f2717dea",
   "metadata": {},
   "source": [
    "Search for the sequence 'air, or 'airport' or 'airplane'"
   ]
  },
  {
   "cell_type": "code",
   "execution_count": 11,
   "id": "1cb7e223-10c0-479f-9d8e-8c24b04e5924",
   "metadata": {},
   "outputs": [
    {
     "name": "stdout",
     "output_type": "stream",
     "text": [
      "<re.Match object; span=(4, 7), match='air'>\n"
     ]
    }
   ],
   "source": [
    "res = re.search('air(port|plane)|air','the air is cool')\n",
    "print(res)"
   ]
  },
  {
   "cell_type": "code",
   "execution_count": 12,
   "id": "b6002705-64c2-4759-9ff8-f6556ea43109",
   "metadata": {},
   "outputs": [
    {
     "name": "stdout",
     "output_type": "stream",
     "text": [
      "<re.Match object; span=(0, 3), match='ABC'>\n"
     ]
    }
   ],
   "source": [
    "print(re.search('[A-Z]{3}','ABC'))"
   ]
  },
  {
   "cell_type": "code",
   "execution_count": 13,
   "id": "568cafe3-1818-4964-b7c7-84e421c12a93",
   "metadata": {},
   "outputs": [
    {
     "name": "stdout",
     "output_type": "stream",
     "text": [
      "<re.Match object; span=(2, 5), match='ABC'>\n"
     ]
    }
   ],
   "source": [
    "print(re.search('[A-Z]{3}','xyABCdef'))"
   ]
  },
  {
   "cell_type": "code",
   "execution_count": 14,
   "id": "377a5c97-60eb-47e6-93ac-ace0e0e5c14a",
   "metadata": {},
   "outputs": [
    {
     "name": "stdout",
     "output_type": "stream",
     "text": [
      "None\n"
     ]
    }
   ],
   "source": [
    "print(re.search('[A-Z]{3}','xyABy23'))"
   ]
  },
  {
   "cell_type": "code",
   "execution_count": 17,
   "id": "246a23ae-fe35-47fe-abb3-7e3c400f2e49",
   "metadata": {},
   "outputs": [
    {
     "name": "stdout",
     "output_type": "stream",
     "text": [
      "<re.Match object; span=(1, 5), match='ABCD'>\n"
     ]
    }
   ],
   "source": [
    "print(re.search('[A-Z]{2,4}','xABCDEy23')) #2 to 4 inclusive"
   ]
  },
  {
   "cell_type": "markdown",
   "id": "5e38e4fe-fde1-4ae3-87c1-769a159fd271",
   "metadata": {},
   "source": [
    "--"
   ]
  },
  {
   "cell_type": "code",
   "execution_count": 18,
   "id": "1f8925f5-70ea-4489-9951-43ac6c9c9096",
   "metadata": {},
   "outputs": [
    {
     "name": "stdout",
     "output_type": "stream",
     "text": [
      "<re.Match object; span=(2, 5), match='CAR'>\n"
     ]
    }
   ],
   "source": [
    "print(re.search('[A-Z]{2,}','12CAR34'))"
   ]
  },
  {
   "cell_type": "code",
   "execution_count": 19,
   "id": "1c6d1f67-0719-4da5-957b-4f48201ee294",
   "metadata": {},
   "outputs": [
    {
     "name": "stdout",
     "output_type": "stream",
     "text": [
      "None\n"
     ]
    }
   ],
   "source": [
    "print(re.search('[A-Z]{2,}','12C34'))"
   ]
  },
  {
   "cell_type": "code",
   "execution_count": 20,
   "id": "88c27bed-45dc-4c9c-ad4f-38a98340ed0a",
   "metadata": {},
   "outputs": [
    {
     "name": "stdout",
     "output_type": "stream",
     "text": [
      "<re.Match object; span=(0, 0), match=''>\n"
     ]
    }
   ],
   "source": [
    "print(re.search('[A-Z]{,2}','12C34'))"
   ]
  },
  {
   "cell_type": "code",
   "execution_count": 22,
   "id": "e8deebf7-8ccb-43bd-b2e9-95554b103753",
   "metadata": {},
   "outputs": [
    {
     "name": "stdout",
     "output_type": "stream",
     "text": [
      "<re.Match object; span=(0, 0), match=''>\n"
     ]
    }
   ],
   "source": [
    "print(re.search('[A-Z]{0,2}','12C34'))"
   ]
  },
  {
   "cell_type": "code",
   "execution_count": 24,
   "id": "77ed5082-c1e4-41d0-a060-b284f505780e",
   "metadata": {},
   "outputs": [
    {
     "name": "stdout",
     "output_type": "stream",
     "text": [
      "None\n"
     ]
    }
   ],
   "source": [
    "print(re.search('^[A-Z]{0,2}$','xy'))"
   ]
  },
  {
   "cell_type": "markdown",
   "id": "391a58ce-8b2d-4c08-9a23-c5e8c2c7a42d",
   "metadata": {},
   "source": [
    "----"
   ]
  },
  {
   "cell_type": "code",
   "execution_count": 29,
   "id": "0c568d90-f083-4d6d-9c70-0c7b7e3f8702",
   "metadata": {},
   "outputs": [
    {
     "name": "stdout",
     "output_type": "stream",
     "text": [
      "<re.Match object; span=(0, 2), match='at'>\n"
     ]
    }
   ],
   "source": [
    "print(re.search('a[$.^?]*t','at'))"
   ]
  },
  {
   "cell_type": "code",
   "execution_count": 30,
   "id": "004114ca-c3b7-4eb1-ae8a-d24431875e99",
   "metadata": {},
   "outputs": [
    {
     "name": "stdout",
     "output_type": "stream",
     "text": [
      "<re.Match object; span=(0, 4), match='a$^t'>\n"
     ]
    }
   ],
   "source": [
    "print(re.search('a[$.^?]*t','a$^t'))"
   ]
  },
  {
   "cell_type": "code",
   "execution_count": 32,
   "id": "fed18c5c-d6ff-4580-8900-5cebe6947f73",
   "metadata": {},
   "outputs": [
    {
     "name": "stdout",
     "output_type": "stream",
     "text": [
      "<re.Match object; span=(0, 7), match='a$..^.t'>\n"
     ]
    }
   ],
   "source": [
    "print(re.search('a[$.^?]*t','a$..^.t'))"
   ]
  },
  {
   "cell_type": "markdown",
   "id": "33fb46d2-32bd-45fc-a340-d17f8488541d",
   "metadata": {},
   "source": [
    "----"
   ]
  },
  {
   "cell_type": "markdown",
   "id": "ef36ea8e-d15c-4592-a5dd-1e465af2bd18",
   "metadata": {},
   "source": [
    "**Escaping(\"neutralizing\") special meaning of metacharacter with '\\'**"
   ]
  },
  {
   "cell_type": "code",
   "execution_count": 34,
   "id": "2f3c4a9f-9d13-4219-ac81-5f25ce62fc62",
   "metadata": {},
   "outputs": [
    {
     "name": "stdout",
     "output_type": "stream",
     "text": [
      "<re.Match object; span=(0, 2), match='ab'>\n"
     ]
    }
   ],
   "source": [
    "print(re.search('a+b','ab'))"
   ]
  },
  {
   "cell_type": "code",
   "execution_count": 36,
   "id": "c70f445e-4fa9-4f48-b965-2fbace4cafed",
   "metadata": {},
   "outputs": [
    {
     "name": "stdout",
     "output_type": "stream",
     "text": [
      "None\n",
      "<re.Match object; span=(0, 3), match='a+b'>\n"
     ]
    }
   ],
   "source": [
    "# want to match the pattern a+b (literally)\n",
    "print(re.search('a+b','a+b'))\n",
    "print(re.search('a\\+b','a+b'))"
   ]
  },
  {
   "cell_type": "code",
   "execution_count": 37,
   "id": "314cbbc2-acf3-4634-81e2-02b28d44f520",
   "metadata": {},
   "outputs": [
    {
     "name": "stdout",
     "output_type": "stream",
     "text": [
      "<re.Match object; span=(0, 5), match='a...b'>\n"
     ]
    }
   ],
   "source": [
    "# want to match the pattern a, followed by any number of dots, followed by c\n",
    "print(re.search('a\\.+b', 'a...b'))"
   ]
  },
  {
   "cell_type": "code",
   "execution_count": 39,
   "id": "5dd49cf0-0647-45c9-83c1-f97a1370f2d4",
   "metadata": {},
   "outputs": [
    {
     "name": "stdout",
     "output_type": "stream",
     "text": [
      "None\n",
      "<re.Match object; span=(0, 3), match='a?y'>\n"
     ]
    }
   ],
   "source": [
    "# want to match the sequence 'a\\y', i.e. one or zero occurence of '\\' between 'a' and 'y'\n",
    "print(re.search('a\\?y','ay')) # doesn't work\n",
    "print(re.search('a\\?y','a?y'))"
   ]
  },
  {
   "cell_type": "code",
   "execution_count": 44,
   "id": "220910dc-18ec-4b83-aad3-b3a24e7611d4",
   "metadata": {},
   "outputs": [
    {
     "name": "stdout",
     "output_type": "stream",
     "text": [
      "None\n"
     ]
    }
   ],
   "source": [
    "# need to escape the backlash itself\n",
    "print(re.search('a\\\\?y','ay'))"
   ]
  },
  {
   "cell_type": "code",
   "execution_count": 45,
   "id": "377ff638-d0a1-4c77-8857-b5770c5d7543",
   "metadata": {},
   "outputs": [
    {
     "name": "stdout",
     "output_type": "stream",
     "text": [
      "<re.Match object; span=(0, 3), match='a?y'>\n"
     ]
    }
   ],
   "source": [
    "print(re.search('a\\\\?y','a?y'))"
   ]
  },
  {
   "cell_type": "code",
   "execution_count": 46,
   "id": "e9088257-20e7-4303-a916-901bd7c70f9d",
   "metadata": {},
   "outputs": [
    {
     "name": "stdout",
     "output_type": "stream",
     "text": [
      "<re.Match object; span=(0, 3), match='a\\\\y'>\n"
     ]
    }
   ],
   "source": [
    "print(re.search('a\\\\\\\\?y','a\\y'))"
   ]
  },
  {
   "cell_type": "code",
   "execution_count": 49,
   "id": "7a687cf9-f4fc-4d97-bf24-23cd1ba776aa",
   "metadata": {},
   "outputs": [
    {
     "name": "stdout",
     "output_type": "stream",
     "text": [
      "<re.Match object; span=(0, 3), match='a\\\\y'>\n"
     ]
    }
   ],
   "source": [
    "print(re.search('a\\\\\\?y','a\\y'))"
   ]
  },
  {
   "cell_type": "code",
   "execution_count": 54,
   "id": "cfd1039a-7dbd-4764-afbb-81b3eead5f81",
   "metadata": {},
   "outputs": [
    {
     "name": "stdout",
     "output_type": "stream",
     "text": [
      "None\n",
      "None\n",
      "None\n"
     ]
    }
   ],
   "source": [
    "# want to use 'r' in front of the target string, for \"raw\" string\n",
    "# single '\\' still retains its special meaning\n",
    "print(re.search(r'a\\?y','a\\y'))\n",
    "print(re.search(r'a\\?y','ay'))\n",
    "print(re.search(r'a\\?y','a??y'))"
   ]
  },
  {
   "cell_type": "code",
   "execution_count": 55,
   "id": "9498188e-57ff-4b72-9940-493dbd4a2727",
   "metadata": {},
   "outputs": [
    {
     "name": "stdout",
     "output_type": "stream",
     "text": [
      "<re.Match object; span=(0, 3), match='a\\\\y'>\n"
     ]
    }
   ],
   "source": [
    "print(re.search(r'a\\\\?y','a\\y'))"
   ]
  },
  {
   "cell_type": "markdown",
   "id": "14765bc5-62c4-42a8-832f-fd1d59db0cf2",
   "metadata": {},
   "source": [
    "**Always use raw string for regular expression if it has an escape '\\\\' character**"
   ]
  },
  {
   "cell_type": "markdown",
   "id": "3cc57f12-63a5-48eb-9e6c-bfc6348e8853",
   "metadata": {},
   "source": [
    "### Greedy and non-greedy matching"
   ]
  },
  {
   "cell_type": "code",
   "execution_count": 57,
   "id": "7ca38fd8-1dd2-43e6-836a-1296bf9ffa3c",
   "metadata": {},
   "outputs": [
    {
     "name": "stdout",
     "output_type": "stream",
     "text": [
      "<re.Match object; span=(0, 40), match='<p class=\"para\">This is a paragraph.</p>'>\n"
     ]
    }
   ],
   "source": [
    "res = re.search('<.*>','<p class=\"para\">This is a paragraph.</p>')\n",
    "print(res)"
   ]
  },
  {
   "cell_type": "code",
   "execution_count": 58,
   "id": "68a6bde8-1c18-460c-8f44-f30f3db1c3b1",
   "metadata": {},
   "outputs": [
    {
     "name": "stdout",
     "output_type": "stream",
     "text": [
      "<re.Match object; span=(0, 16), match='<p class=\"para\">'>\n"
     ]
    }
   ],
   "source": [
    "# non-greedy match with ?\n",
    "res = re.search('<.*?>','<p class=\"para\">This is a paragraph.</p>')\n",
    "print(res)"
   ]
  },
  {
   "cell_type": "code",
   "execution_count": 59,
   "id": "21081760-eb04-419c-b8fa-f8b9176d3a7e",
   "metadata": {},
   "outputs": [
    {
     "name": "stdout",
     "output_type": "stream",
     "text": [
      "None\n"
     ]
    }
   ],
   "source": [
    "# took out the * after .\n",
    "res = re.search('<.?>','<p class=\"para\">This is a paragraph.</p>')\n",
    "print(res)"
   ]
  },
  {
   "cell_type": "code",
   "execution_count": 60,
   "id": "561f0465-3d05-4618-8fec-0344caf88c9d",
   "metadata": {},
   "outputs": [
    {
     "name": "stdout",
     "output_type": "stream",
     "text": [
      "<re.Match object; span=(0, 2), match='<>'>\n"
     ]
    }
   ],
   "source": [
    "res = re.search('<.?>','<>')\n",
    "print(res)"
   ]
  },
  {
   "cell_type": "code",
   "execution_count": 61,
   "id": "e0540aac-d676-4a67-8ee5-085f32b9e018",
   "metadata": {},
   "outputs": [
    {
     "name": "stdout",
     "output_type": "stream",
     "text": [
      "<re.Match object; span=(0, 3), match='<?>'>\n"
     ]
    }
   ],
   "source": [
    "res = re.search('<.?>','<?>')\n",
    "print(res)"
   ]
  },
  {
   "cell_type": "code",
   "execution_count": 62,
   "id": "3f704aad-79e2-4721-a722-048cc3ea755a",
   "metadata": {},
   "outputs": [
    {
     "name": "stdout",
     "output_type": "stream",
     "text": [
      "None\n"
     ]
    }
   ],
   "source": [
    "res = re.search('<.?>','<??>')\n",
    "print(res)"
   ]
  },
  {
   "cell_type": "code",
   "execution_count": null,
   "id": "6175dffd-4907-4732-8f99-8e94a9d127ef",
   "metadata": {},
   "outputs": [],
   "source": []
  }
 ],
 "metadata": {
  "kernelspec": {
   "display_name": "Python 3 (ipykernel)",
   "language": "python",
   "name": "python3"
  },
  "language_info": {
   "codemirror_mode": {
    "name": "ipython",
    "version": 3
   },
   "file_extension": ".py",
   "mimetype": "text/x-python",
   "name": "python",
   "nbconvert_exporter": "python",
   "pygments_lexer": "ipython3",
   "version": "3.9.7"
  }
 },
 "nbformat": 4,
 "nbformat_minor": 5
}
