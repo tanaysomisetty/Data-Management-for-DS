{
 "cells": [
  {
   "cell_type": "markdown",
   "id": "431d8558-993d-40a8-ac28-00e0d7e52fc1",
   "metadata": {},
   "source": [
    "# Problem 1: EU Cities Temperatures Dataset"
   ]
  },
  {
   "cell_type": "code",
   "execution_count": 278,
   "id": "b838b134-3cad-453a-8ae6-0e99944b2ff4",
   "metadata": {},
   "outputs": [],
   "source": [
    "#imports\n",
    "from pandas import Series\n",
    "from pandas import DataFrame\n",
    "import pandas as pd\n",
    "import numpy as np\n",
    "import math\n",
    "from matplotlib import pyplot as plt\n",
    "import random"
   ]
  },
  {
   "cell_type": "markdown",
   "id": "e4eea358-5a6f-46c4-ab24-b7f3d201759f",
   "metadata": {
    "tags": []
   },
   "source": [
    "## Preprocessing/Analysis"
   ]
  },
  {
   "cell_type": "markdown",
   "id": "77e8b6b1-6db6-40fc-83ce-e58094168133",
   "metadata": {},
   "source": [
    "1. Fill in the missing latitude and longitude values by calculating the average for that country. Round the average to 2 decimal places."
   ]
  },
  {
   "cell_type": "code",
   "execution_count": 180,
   "id": "5b3b5e41-44b2-4823-a721-8ada3dc74c92",
   "metadata": {
    "tags": []
   },
   "outputs": [
    {
     "data": {
      "text/html": [
       "<div>\n",
       "<style scoped>\n",
       "    .dataframe tbody tr th:only-of-type {\n",
       "        vertical-align: middle;\n",
       "    }\n",
       "\n",
       "    .dataframe tbody tr th {\n",
       "        vertical-align: top;\n",
       "    }\n",
       "\n",
       "    .dataframe thead th {\n",
       "        text-align: right;\n",
       "    }\n",
       "</style>\n",
       "<table border=\"1\" class=\"dataframe\">\n",
       "  <thead>\n",
       "    <tr style=\"text-align: right;\">\n",
       "      <th></th>\n",
       "      <th>city</th>\n",
       "      <th>country</th>\n",
       "      <th>population</th>\n",
       "      <th>EU</th>\n",
       "      <th>coastline</th>\n",
       "      <th>latitude</th>\n",
       "      <th>longitude</th>\n",
       "      <th>temperature</th>\n",
       "    </tr>\n",
       "  </thead>\n",
       "  <tbody>\n",
       "    <tr>\n",
       "      <th>0</th>\n",
       "      <td>Elbasan</td>\n",
       "      <td>Albania</td>\n",
       "      <td>2.90</td>\n",
       "      <td>no</td>\n",
       "      <td>yes</td>\n",
       "      <td>41.12</td>\n",
       "      <td>20.08</td>\n",
       "      <td>15.18</td>\n",
       "    </tr>\n",
       "    <tr>\n",
       "      <th>1</th>\n",
       "      <td>Andorra</td>\n",
       "      <td>Andorra</td>\n",
       "      <td>0.07</td>\n",
       "      <td>no</td>\n",
       "      <td>no</td>\n",
       "      <td>42.50</td>\n",
       "      <td>1.52</td>\n",
       "      <td>NaN</td>\n",
       "    </tr>\n",
       "    <tr>\n",
       "      <th>2</th>\n",
       "      <td>Innsbruck</td>\n",
       "      <td>Austria</td>\n",
       "      <td>8.57</td>\n",
       "      <td>yes</td>\n",
       "      <td>no</td>\n",
       "      <td>NaN</td>\n",
       "      <td>11.41</td>\n",
       "      <td>4.54</td>\n",
       "    </tr>\n",
       "    <tr>\n",
       "      <th>3</th>\n",
       "      <td>Graz</td>\n",
       "      <td>Austria</td>\n",
       "      <td>8.57</td>\n",
       "      <td>yes</td>\n",
       "      <td>no</td>\n",
       "      <td>47.08</td>\n",
       "      <td>NaN</td>\n",
       "      <td>6.91</td>\n",
       "    </tr>\n",
       "    <tr>\n",
       "      <th>4</th>\n",
       "      <td>Linz</td>\n",
       "      <td>Austria</td>\n",
       "      <td>8.57</td>\n",
       "      <td>yes</td>\n",
       "      <td>no</td>\n",
       "      <td>48.32</td>\n",
       "      <td>14.29</td>\n",
       "      <td>6.79</td>\n",
       "    </tr>\n",
       "    <tr>\n",
       "      <th>...</th>\n",
       "      <td>...</td>\n",
       "      <td>...</td>\n",
       "      <td>...</td>\n",
       "      <td>...</td>\n",
       "      <td>...</td>\n",
       "      <td>...</td>\n",
       "      <td>...</td>\n",
       "      <td>...</td>\n",
       "    </tr>\n",
       "    <tr>\n",
       "      <th>208</th>\n",
       "      <td>Edinburgh</td>\n",
       "      <td>United Kingdom</td>\n",
       "      <td>65.11</td>\n",
       "      <td>yes</td>\n",
       "      <td>yes</td>\n",
       "      <td>55.95</td>\n",
       "      <td>NaN</td>\n",
       "      <td>NaN</td>\n",
       "    </tr>\n",
       "    <tr>\n",
       "      <th>209</th>\n",
       "      <td>Exeter</td>\n",
       "      <td>United Kingdom</td>\n",
       "      <td>65.11</td>\n",
       "      <td>yes</td>\n",
       "      <td>yes</td>\n",
       "      <td>50.70</td>\n",
       "      <td>-3.53</td>\n",
       "      <td>10.14</td>\n",
       "    </tr>\n",
       "    <tr>\n",
       "      <th>210</th>\n",
       "      <td>Inverness</td>\n",
       "      <td>United Kingdom</td>\n",
       "      <td>65.11</td>\n",
       "      <td>yes</td>\n",
       "      <td>yes</td>\n",
       "      <td>NaN</td>\n",
       "      <td>-4.23</td>\n",
       "      <td>8.00</td>\n",
       "    </tr>\n",
       "    <tr>\n",
       "      <th>211</th>\n",
       "      <td>Glasgow</td>\n",
       "      <td>United Kingdom</td>\n",
       "      <td>65.11</td>\n",
       "      <td>yes</td>\n",
       "      <td>yes</td>\n",
       "      <td>55.87</td>\n",
       "      <td>-4.25</td>\n",
       "      <td>8.60</td>\n",
       "    </tr>\n",
       "    <tr>\n",
       "      <th>212</th>\n",
       "      <td>Swansea</td>\n",
       "      <td>United Kingdom</td>\n",
       "      <td>65.11</td>\n",
       "      <td>yes</td>\n",
       "      <td>yes</td>\n",
       "      <td>51.63</td>\n",
       "      <td>-3.95</td>\n",
       "      <td>9.73</td>\n",
       "    </tr>\n",
       "  </tbody>\n",
       "</table>\n",
       "<p>213 rows × 8 columns</p>\n",
       "</div>"
      ],
      "text/plain": [
       "          city         country  population   EU coastline  latitude  \\\n",
       "0      Elbasan         Albania        2.90   no       yes     41.12   \n",
       "1      Andorra         Andorra        0.07   no        no     42.50   \n",
       "2    Innsbruck         Austria        8.57  yes        no       NaN   \n",
       "3         Graz         Austria        8.57  yes        no     47.08   \n",
       "4         Linz         Austria        8.57  yes        no     48.32   \n",
       "..         ...             ...         ...  ...       ...       ...   \n",
       "208  Edinburgh  United Kingdom       65.11  yes       yes     55.95   \n",
       "209     Exeter  United Kingdom       65.11  yes       yes     50.70   \n",
       "210  Inverness  United Kingdom       65.11  yes       yes       NaN   \n",
       "211    Glasgow  United Kingdom       65.11  yes       yes     55.87   \n",
       "212    Swansea  United Kingdom       65.11  yes       yes     51.63   \n",
       "\n",
       "     longitude  temperature  \n",
       "0        20.08        15.18  \n",
       "1         1.52          NaN  \n",
       "2        11.41         4.54  \n",
       "3          NaN         6.91  \n",
       "4        14.29         6.79  \n",
       "..         ...          ...  \n",
       "208        NaN          NaN  \n",
       "209      -3.53        10.14  \n",
       "210      -4.23         8.00  \n",
       "211      -4.25         8.60  \n",
       "212      -3.95         9.73  \n",
       "\n",
       "[213 rows x 8 columns]"
      ]
     },
     "execution_count": 180,
     "metadata": {},
     "output_type": "execute_result"
    }
   ],
   "source": [
    "cities_file = open(\"EuCitiesTemperatures.csv\")\n",
    "cities = pd.read_csv(cities_file)\n",
    "cities"
   ]
  },
  {
   "cell_type": "code",
   "execution_count": 181,
   "id": "1eddd26d-9eeb-4881-8008-96db5bb7ce71",
   "metadata": {},
   "outputs": [],
   "source": [
    "num_rows = cities.shape[0]\n",
    "i = 0\n",
    "while i < num_rows:\n",
    "    country = cities.loc[i, 'country']\n",
    "    cities_country = cities[cities['country'] == country]\n",
    "    lat = cities.loc[i, 'latitude']\n",
    "    lon = cities.loc[i, 'longitude']\n",
    "    if pd.isna(lat):\n",
    "        mean = cities_country['latitude'].mean()\n",
    "        mean = round(mean, 2)\n",
    "        cities.loc[i, 'latitude'] = mean\n",
    "    if pd.isna(lon):\n",
    "        mean = cities_country['longitude'].mean()\n",
    "        mean = round(mean, 2)\n",
    "        cities.loc[i, 'longitude'] = mean\n",
    "    i = i + 1"
   ]
  },
  {
   "cell_type": "code",
   "execution_count": 182,
   "id": "c330f9fc-e365-43bc-95bf-68765c090397",
   "metadata": {},
   "outputs": [
    {
     "name": "stdout",
     "output_type": "stream",
     "text": [
      "<class 'pandas.core.frame.DataFrame'>\n",
      "RangeIndex: 213 entries, 0 to 212\n",
      "Data columns (total 8 columns):\n",
      " #   Column       Non-Null Count  Dtype  \n",
      "---  ------       --------------  -----  \n",
      " 0   city         213 non-null    object \n",
      " 1   country      213 non-null    object \n",
      " 2   population   213 non-null    float64\n",
      " 3   EU           213 non-null    object \n",
      " 4   coastline    213 non-null    object \n",
      " 5   latitude     213 non-null    float64\n",
      " 6   longitude    213 non-null    float64\n",
      " 7   temperature  149 non-null    float64\n",
      "dtypes: float64(4), object(4)\n",
      "memory usage: 13.4+ KB\n"
     ]
    }
   ],
   "source": [
    "cities.info()"
   ]
  },
  {
   "cell_type": "markdown",
   "id": "85cd595b-eae4-4028-97ab-e5d0d04abbb5",
   "metadata": {},
   "source": [
    "2. Find out the subset of cities that lie between latitudes 40 to 60 (both inclusive) and longitudes 15 to 30 (both inclusive). Find out which countries have the maximum number of cities in this geographical band. (More than one country could have the maximum number of values.)"
   ]
  },
  {
   "cell_type": "code",
   "execution_count": 183,
   "id": "492bea11-f001-4bcf-9b0a-66b640900786",
   "metadata": {},
   "outputs": [],
   "source": [
    "cities_subset = cities[(cities['latitude'] >= 40) & (cities['latitude'] <= 60)]\n",
    "cities_subset = cities_subset[(cities_subset['longitude'] >= 15) & (cities_subset['longitude'] <= 30)]\n",
    "countries_max = cities_subset.country.mode()"
   ]
  },
  {
   "cell_type": "code",
   "execution_count": 184,
   "id": "63d035ed-dd95-4511-a108-f4cf5fcf7810",
   "metadata": {},
   "outputs": [
    {
     "data": {
      "text/html": [
       "<div>\n",
       "<style scoped>\n",
       "    .dataframe tbody tr th:only-of-type {\n",
       "        vertical-align: middle;\n",
       "    }\n",
       "\n",
       "    .dataframe tbody tr th {\n",
       "        vertical-align: top;\n",
       "    }\n",
       "\n",
       "    .dataframe thead th {\n",
       "        text-align: right;\n",
       "    }\n",
       "</style>\n",
       "<table border=\"1\" class=\"dataframe\">\n",
       "  <thead>\n",
       "    <tr style=\"text-align: right;\">\n",
       "      <th></th>\n",
       "      <th>city</th>\n",
       "      <th>country</th>\n",
       "      <th>population</th>\n",
       "      <th>EU</th>\n",
       "      <th>coastline</th>\n",
       "      <th>latitude</th>\n",
       "      <th>longitude</th>\n",
       "      <th>temperature</th>\n",
       "    </tr>\n",
       "  </thead>\n",
       "  <tbody>\n",
       "    <tr>\n",
       "      <th>0</th>\n",
       "      <td>Elbasan</td>\n",
       "      <td>Albania</td>\n",
       "      <td>2.90</td>\n",
       "      <td>no</td>\n",
       "      <td>yes</td>\n",
       "      <td>41.12</td>\n",
       "      <td>20.08</td>\n",
       "      <td>15.18</td>\n",
       "    </tr>\n",
       "    <tr>\n",
       "      <th>6</th>\n",
       "      <td>Vienna</td>\n",
       "      <td>Austria</td>\n",
       "      <td>8.57</td>\n",
       "      <td>yes</td>\n",
       "      <td>no</td>\n",
       "      <td>48.20</td>\n",
       "      <td>16.37</td>\n",
       "      <td>7.86</td>\n",
       "    </tr>\n",
       "    <tr>\n",
       "      <th>7</th>\n",
       "      <td>Minsk</td>\n",
       "      <td>Belarus</td>\n",
       "      <td>9.48</td>\n",
       "      <td>no</td>\n",
       "      <td>no</td>\n",
       "      <td>52.61</td>\n",
       "      <td>27.57</td>\n",
       "      <td>5.28</td>\n",
       "    </tr>\n",
       "    <tr>\n",
       "      <th>8</th>\n",
       "      <td>Orsha</td>\n",
       "      <td>Belarus</td>\n",
       "      <td>9.48</td>\n",
       "      <td>no</td>\n",
       "      <td>no</td>\n",
       "      <td>52.61</td>\n",
       "      <td>25.63</td>\n",
       "      <td>4.93</td>\n",
       "    </tr>\n",
       "    <tr>\n",
       "      <th>9</th>\n",
       "      <td>Pinsk</td>\n",
       "      <td>Belarus</td>\n",
       "      <td>9.48</td>\n",
       "      <td>no</td>\n",
       "      <td>no</td>\n",
       "      <td>52.61</td>\n",
       "      <td>25.63</td>\n",
       "      <td>6.42</td>\n",
       "    </tr>\n",
       "    <tr>\n",
       "      <th>...</th>\n",
       "      <td>...</td>\n",
       "      <td>...</td>\n",
       "      <td>...</td>\n",
       "      <td>...</td>\n",
       "      <td>...</td>\n",
       "      <td>...</td>\n",
       "      <td>...</td>\n",
       "      <td>...</td>\n",
       "    </tr>\n",
       "    <tr>\n",
       "      <th>165</th>\n",
       "      <td>Bursa</td>\n",
       "      <td>Turkey</td>\n",
       "      <td>79.62</td>\n",
       "      <td>no</td>\n",
       "      <td>yes</td>\n",
       "      <td>40.20</td>\n",
       "      <td>29.07</td>\n",
       "      <td>11.16</td>\n",
       "    </tr>\n",
       "    <tr>\n",
       "      <th>169</th>\n",
       "      <td>Edirne</td>\n",
       "      <td>Turkey</td>\n",
       "      <td>79.62</td>\n",
       "      <td>no</td>\n",
       "      <td>yes</td>\n",
       "      <td>41.67</td>\n",
       "      <td>26.57</td>\n",
       "      <td>NaN</td>\n",
       "    </tr>\n",
       "    <tr>\n",
       "      <th>183</th>\n",
       "      <td>Tekirdag</td>\n",
       "      <td>Turkey</td>\n",
       "      <td>79.62</td>\n",
       "      <td>no</td>\n",
       "      <td>yes</td>\n",
       "      <td>40.99</td>\n",
       "      <td>27.51</td>\n",
       "      <td>13.02</td>\n",
       "    </tr>\n",
       "    <tr>\n",
       "      <th>186</th>\n",
       "      <td>Chernivtsi</td>\n",
       "      <td>Ukraine</td>\n",
       "      <td>44.62</td>\n",
       "      <td>no</td>\n",
       "      <td>yes</td>\n",
       "      <td>48.71</td>\n",
       "      <td>25.92</td>\n",
       "      <td>7.06</td>\n",
       "    </tr>\n",
       "    <tr>\n",
       "      <th>193</th>\n",
       "      <td>Rivne</td>\n",
       "      <td>Ukraine</td>\n",
       "      <td>44.62</td>\n",
       "      <td>no</td>\n",
       "      <td>yes</td>\n",
       "      <td>48.71</td>\n",
       "      <td>26.25</td>\n",
       "      <td>6.76</td>\n",
       "    </tr>\n",
       "  </tbody>\n",
       "</table>\n",
       "<p>63 rows × 8 columns</p>\n",
       "</div>"
      ],
      "text/plain": [
       "           city  country  population   EU coastline  latitude  longitude  \\\n",
       "0       Elbasan  Albania        2.90   no       yes     41.12      20.08   \n",
       "6        Vienna  Austria        8.57  yes        no     48.20      16.37   \n",
       "7         Minsk  Belarus        9.48   no        no     52.61      27.57   \n",
       "8         Orsha  Belarus        9.48   no        no     52.61      25.63   \n",
       "9         Pinsk  Belarus        9.48   no        no     52.61      25.63   \n",
       "..          ...      ...         ...  ...       ...       ...        ...   \n",
       "165       Bursa   Turkey       79.62   no       yes     40.20      29.07   \n",
       "169      Edirne   Turkey       79.62   no       yes     41.67      26.57   \n",
       "183    Tekirdag   Turkey       79.62   no       yes     40.99      27.51   \n",
       "186  Chernivtsi  Ukraine       44.62   no       yes     48.71      25.92   \n",
       "193       Rivne  Ukraine       44.62   no       yes     48.71      26.25   \n",
       "\n",
       "     temperature  \n",
       "0          15.18  \n",
       "6           7.86  \n",
       "7           5.28  \n",
       "8           4.93  \n",
       "9           6.42  \n",
       "..           ...  \n",
       "165        11.16  \n",
       "169          NaN  \n",
       "183        13.02  \n",
       "186         7.06  \n",
       "193         6.76  \n",
       "\n",
       "[63 rows x 8 columns]"
      ]
     },
     "execution_count": 184,
     "metadata": {},
     "output_type": "execute_result"
    }
   ],
   "source": [
    "cities_subset"
   ]
  },
  {
   "cell_type": "code",
   "execution_count": 185,
   "id": "474cc903-74e6-4b98-afdf-03017aaa32a1",
   "metadata": {},
   "outputs": [
    {
     "data": {
      "text/plain": [
       "0     Poland\n",
       "1    Romania\n",
       "dtype: object"
      ]
     },
     "execution_count": 185,
     "metadata": {},
     "output_type": "execute_result"
    }
   ],
   "source": [
    "countries_max"
   ]
  },
  {
   "cell_type": "code",
   "execution_count": 186,
   "id": "f018a949-1b56-43c6-8818-c50c617c2939",
   "metadata": {},
   "outputs": [
    {
     "name": "stdout",
     "output_type": "stream",
     "text": [
      "The countries that have the max number of cities in this geographical band are: Poland, Romania\n"
     ]
    }
   ],
   "source": [
    "countries_max_str = countries_max[0]\n",
    "i = 1\n",
    "while i < len(countries_max):\n",
    "    countries_max_str = countries_max_str + ', ' + countries_max[i]\n",
    "    i = i + 1\n",
    "    \n",
    "print(f'The countries that have the max number of cities in this geographical band are: {countries_max_str}')"
   ]
  },
  {
   "cell_type": "markdown",
   "id": "dcbb48d9-11f9-4fdc-a1ff-8729fde1d07c",
   "metadata": {},
   "source": [
    "3. Fill in the missing temperature values by the average temperature value of the similar region type. A region type would be a combinaton of whether it is in EU (yes/no) and whether it has a coastline (yes/no).\n",
    "\n",
    "    For example, if we have a missing temperature value for Bergen, Norway, which is not in the EU but lies on the coast, we will fill it with the average temperature of cities with EU='no' and coastline='yes')"
   ]
  },
  {
   "cell_type": "code",
   "execution_count": 187,
   "id": "ca566017-bc8a-4378-b6be-9bfb644c6617",
   "metadata": {},
   "outputs": [],
   "source": [
    "i = 0\n",
    "while i < num_rows:\n",
    "    temp = cities.loc[i, 'temperature']\n",
    "    eu = cities.loc[i, 'EU']\n",
    "    coast = cities.loc[i, 'coastline']\n",
    "    if pd.isna(temp):\n",
    "        eu_coast_subset = cities[(cities['EU'] == eu) & (cities['coastline'] == coast)]\n",
    "        mean = eu_coast_subset['temperature'].mean()\n",
    "        cities.loc[i, 'temperature'] = mean\n",
    "    i = i + 1"
   ]
  },
  {
   "cell_type": "code",
   "execution_count": 188,
   "id": "35b88459-6b33-4abe-a1bb-356b0f4fc705",
   "metadata": {},
   "outputs": [
    {
     "name": "stdout",
     "output_type": "stream",
     "text": [
      "<class 'pandas.core.frame.DataFrame'>\n",
      "RangeIndex: 213 entries, 0 to 212\n",
      "Data columns (total 8 columns):\n",
      " #   Column       Non-Null Count  Dtype  \n",
      "---  ------       --------------  -----  \n",
      " 0   city         213 non-null    object \n",
      " 1   country      213 non-null    object \n",
      " 2   population   213 non-null    float64\n",
      " 3   EU           213 non-null    object \n",
      " 4   coastline    213 non-null    object \n",
      " 5   latitude     213 non-null    float64\n",
      " 6   longitude    213 non-null    float64\n",
      " 7   temperature  213 non-null    float64\n",
      "dtypes: float64(4), object(4)\n",
      "memory usage: 13.4+ KB\n"
     ]
    }
   ],
   "source": [
    "cities.info()"
   ]
  },
  {
   "cell_type": "markdown",
   "id": "febf42f9-24f8-4189-aaa1-008f88cf3050",
   "metadata": {},
   "source": [
    "## Visualization"
   ]
  },
  {
   "cell_type": "markdown",
   "id": "23a3a02c-36be-4057-91c1-1b72eaf45d56",
   "metadata": {},
   "source": [
    "1. Plot a bar chart for the number of cities belonging to each of the regions described in Preprocessing/Analysis #3 above."
   ]
  },
  {
   "cell_type": "code",
   "execution_count": 203,
   "id": "b684b462-900c-4ed8-a4ab-65278541c67c",
   "metadata": {},
   "outputs": [
    {
     "data": {
      "text/plain": [
       "136"
      ]
     },
     "execution_count": 203,
     "metadata": {},
     "output_type": "execute_result"
    }
   ],
   "source": [
    "eu_no_coast_no = cities[(cities['EU'] == 'no') & (cities['coastline'] == 'no')]\n",
    "eu_no_coast_yes = cities[(cities['EU'] == 'no') & (cities['coastline'] == 'yes')]\n",
    "eu_yes_coast_no = cities[(cities['EU'] == 'yes') & (cities['coastline'] == 'no')]\n",
    "eu_yes_coast_yes = cities[(cities['EU'] == 'yes') & (cities['coastline'] == 'yes')]"
   ]
  },
  {
   "cell_type": "code",
   "execution_count": 215,
   "id": "968c67e8-f4cf-472e-98dc-b48b93869b89",
   "metadata": {},
   "outputs": [
    {
     "data": {
      "image/png": "[encoded data removed]",
      "text/plain": [
       "<Figure size 864x360 with 1 Axes>"
      ]
     },
     "metadata": {
      "needs_background": "light"
     },
     "output_type": "display_data"
    }
   ],
   "source": [
    "regions = ['Not in EU, No coastline','Not in EU, Yes coastline','In EU, No coastline','In EU, Yes coastline']\n",
    "num_cities = [eu_no_coast_no.shape[0], eu_no_coast_yes.shape[0], eu_yes_coast_no.shape[0], eu_yes_coast_yes.shape[0]]\n",
    "plt.figure(figsize=(12,5))\n",
    "plt.bar(regions, num_cities)\n",
    "plt.yticks(range(0,151,10))\n",
    "plt.title('Number of Cities Per Region',fontsize=14)\n",
    "plt.xlabel('Regions',fontsize=12)\n",
    "plt.ylabel('Number of Cities',fontsize=12)\n",
    "plt.show()"
   ]
  },
  {
   "cell_type": "markdown",
   "id": "6f6d2885-2633-49a0-aac0-50c2f6e06223",
   "metadata": {},
   "source": [
    "2. Plot a scatter plot of latitude (y-axis) v/s longitude (x-axis) values to get a map-like visual of the cities under consideration. All the cities in the same country should have the same color."
   ]
  },
  {
   "cell_type": "code",
   "execution_count": 436,
   "id": "d318e184-2e12-4d01-b6ad-42c6dd3f4807",
   "metadata": {},
   "outputs": [
    {
     "data": {
      "image/png": "[encoded data removed]",
      "text/plain": [
       "<Figure size 864x576 with 1 Axes>"
      ]
     },
     "metadata": {
      "needs_background": "light"
     },
     "output_type": "display_data"
    }
   ],
   "source": [
    "countries_lst = cities.country.unique()\n",
    "\n",
    "plt.figure(figsize=(12,8))\n",
    "for country in countries_lst:\n",
    "    country_cities = cities[cities['country'] == country]\n",
    "    x = []\n",
    "    y = []\n",
    "    for city in country_cities.iterrows():\n",
    "        x.append(city[1].loc['longitude'])\n",
    "        y.append(city[1].loc['latitude'])\n",
    "    plt.scatter(x,y,color=np.random.rand(3,))\n",
    "    \n",
    "plt.xticks(range(-25,66,10))\n",
    "plt.yticks(range(-10,91,10))\n",
    "plt.xlabel('Longitude',fontsize=12)\n",
    "plt.ylabel('Latitude',fontsize=12)\n",
    "plt.show()"
   ]
  },
  {
   "cell_type": "markdown",
   "id": "12642b9e-aecd-4d4a-a1f0-dbcd439b3466",
   "metadata": {},
   "source": [
    "3. The population column contains values unique to each country. So two cities of the same country will show the same population value. Plot a histogram of the number of countries belonging to each population group: split the population values into 5 bins (groups)."
   ]
  },
  {
   "cell_type": "code",
   "execution_count": 437,
   "id": "0fdcc9b3-5bdb-4ca6-84f9-6ccda3821e63",
   "metadata": {},
   "outputs": [
    {
     "data": {
      "image/png": "[encoded data removed]",
      "text/plain": [
       "<Figure size 432x288 with 1 Axes>"
      ]
     },
     "metadata": {
      "needs_background": "light"
     },
     "output_type": "display_data"
    }
   ],
   "source": [
    "countries_lst\n",
    "pops = []\n",
    "for country in countries_lst:\n",
    "    countrydf = cities[cities['country'] == country]\n",
    "    pops.append(countrydf['population'].iloc[0])\n",
    "    \n",
    "max_pop = max(pops)\n",
    "if max_pop % 5 == 0: \n",
    "    upper = max_pop\n",
    "else: \n",
    "    upper = max_pop - max_pop % 5 + 5 \n",
    "max_pop, upper\n",
    "\n",
    "upper = int(upper)\n",
    "    \n",
    "plt.figure(figsize=(6,4))\n",
    "plt.hist(pops,bins=5,color='#bffa45',edgecolor='green')\n",
    "plt.xticks(range(0,upper+1,int(max_pop/5)))\n",
    "plt.title('Number of Cities In Each Population Bin',fontsize=14)\n",
    "plt.xlabel('Population',fontsize=12)\n",
    "plt.ylabel('Number of Cities',fontsize=12)\n",
    "plt.show()"
   ]
  },
  {
   "cell_type": "markdown",
   "id": "4d99e83d-dd73-4834-93f6-d8b9afd85be7",
   "metadata": {},
   "source": [
    "4. Plot subplots (2, 2), with proper titles, one each for the region types described in Preprocessing/Analysis #3 above.\n",
    "\n",
    "    Each subplot should be a scatter plot of Latitude (y-axis) vs. City (x-axis), where the color of the plot points should be based on the temperature values: ‘red’ for temperatures above 10, ‘blue’ for temperatures below 6 and ‘orange for temperatures between 6 and 10 (both inclusive). For each subplot, set xticks to an array of numbers from 0 to n-1 (both inclusive), where n is the total number of cities in each region type. This represents each city as a number between 0 and n-1."
   ]
  },
  {
   "cell_type": "code",
   "execution_count": 440,
   "id": "dbc7eaec-9871-418f-9974-9168c324e416",
   "metadata": {},
   "outputs": [
    {
     "data": {
      "image/png": "[encoded data removed]",
      "text/plain": [
       "<Figure size 1440x1440 with 4 Axes>"
      ]
     },
     "metadata": {
      "needs_background": "light"
     },
     "output_type": "display_data"
    }
   ],
   "source": [
    "fig, axes = plt.subplots(2,2,figsize=(20,20))\n",
    "\n",
    "#Not in EU, No Coast\n",
    "eu_no_coast_no_red = eu_no_coast_no[eu_no_coast_no['temperature'] > 10]\n",
    "eu_no_coast_no_blue = eu_no_coast_no[eu_no_coast_no['temperature'] < 6]\n",
    "eu_no_coast_no_orange = eu_no_coast_no[(eu_no_coast_no['temperature'] >= 6) & (eu_no_coast_no['temperature'] <= 10)]\n",
    "\n",
    "x = []\n",
    "y = []\n",
    "for row in eu_no_coast_no_red.iterrows():\n",
    "    city = row[1]['city']\n",
    "    lat = row[1]['latitude']\n",
    "    x.append(city)\n",
    "    y.append(lat)\n",
    "axes[0][0].scatter(x,y,color='red')\n",
    "\n",
    "x = []\n",
    "y = []\n",
    "for row in eu_no_coast_no_blue.iterrows():\n",
    "    city = row[1]['city']\n",
    "    lat = row[1]['latitude']\n",
    "    x.append(city)\n",
    "    y.append(lat)\n",
    "axes[0][0].scatter(x,y,color='blue')\n",
    "\n",
    "x = []\n",
    "y = []\n",
    "for row in eu_no_coast_no_orange.iterrows():\n",
    "    city = row[1]['city']\n",
    "    lat = row[1]['latitude']\n",
    "    x.append(city)\n",
    "    y.append(lat)\n",
    "axes[0][0].scatter(x,y,color='orange')\n",
    "\n",
    "#Not in EU, Yes Coast\n",
    "eu_no_coast_yes_red = eu_no_coast_yes[eu_no_coast_yes['temperature'] > 10]\n",
    "eu_no_coast_yes_blue = eu_no_coast_yes[eu_no_coast_yes['temperature'] < 6]\n",
    "eu_no_coast_yes_orange = eu_no_coast_yes[(eu_no_coast_yes['temperature'] >= 6) & (eu_no_coast_yes['temperature'] <= 10)]\n",
    "\n",
    "x = []\n",
    "y = []\n",
    "for row in eu_no_coast_yes_red.iterrows():\n",
    "    city = row[1]['city']\n",
    "    lat = row[1]['latitude']\n",
    "    x.append(city)\n",
    "    y.append(lat)\n",
    "axes[0][1].scatter(x,y,color='red')\n",
    "\n",
    "x = []\n",
    "y = []\n",
    "for row in eu_no_coast_yes_blue.iterrows():\n",
    "    city = row[1]['city']\n",
    "    lat = row[1]['latitude']\n",
    "    x.append(city)\n",
    "    y.append(lat)\n",
    "axes[0][1].scatter(x,y,color='blue')\n",
    "\n",
    "x = []\n",
    "y = []\n",
    "for row in eu_no_coast_yes_orange.iterrows():\n",
    "    city = row[1]['city']\n",
    "    lat = row[1]['latitude']\n",
    "    x.append(city)\n",
    "    y.append(lat)\n",
    "axes[0][1].scatter(x,y,color='orange')\n",
    "\n",
    "#In EU, No Coast\n",
    "eu_yes_coast_no_red = eu_yes_coast_no[eu_yes_coast_no['temperature'] > 10]\n",
    "eu_yes_coast_no_blue = eu_yes_coast_no[eu_yes_coast_no['temperature'] < 6]\n",
    "eu_yes_coast_no_orange = eu_yes_coast_no[(eu_yes_coast_no['temperature'] >= 6) & (eu_yes_coast_no['temperature'] <= 10)]\n",
    "\n",
    "x = []\n",
    "y = []\n",
    "for row in eu_yes_coast_no_red.iterrows():\n",
    "    city = row[1]['city']\n",
    "    lat = row[1]['latitude']\n",
    "    x.append(city)\n",
    "    y.append(lat)\n",
    "axes[1][0].scatter(x,y,color='red')\n",
    "\n",
    "x = []\n",
    "y = []\n",
    "for row in eu_yes_coast_no_blue.iterrows():\n",
    "    city = row[1]['city']\n",
    "    lat = row[1]['latitude']\n",
    "    x.append(city)\n",
    "    y.append(lat)\n",
    "axes[1][0].scatter(x,y,color='blue')\n",
    "\n",
    "x = []\n",
    "y = []\n",
    "for row in eu_yes_coast_no_orange.iterrows():\n",
    "    city = row[1]['city']\n",
    "    lat = row[1]['latitude']\n",
    "    x.append(city)\n",
    "    y.append(lat)\n",
    "axes[1][0].scatter(x,y,color='orange')\n",
    "\n",
    "#In EU, Yes Coast\n",
    "eu_yes_coast_yes_red = eu_yes_coast_yes[eu_yes_coast_yes['temperature'] > 10]\n",
    "eu_yes_coast_yes_blue = eu_yes_coast_yes[eu_yes_coast_yes['temperature'] < 6]\n",
    "eu_yes_coast_yes_orange = eu_yes_coast_yes[(eu_yes_coast_yes['temperature'] >= 6) & (eu_yes_coast_yes['temperature'] <= 10)]\n",
    "\n",
    "x = []\n",
    "y = []\n",
    "for row in eu_yes_coast_yes_red.iterrows():\n",
    "    city = row[1]['city']\n",
    "    lat = row[1]['latitude']\n",
    "    x.append(city)\n",
    "    y.append(lat)\n",
    "axes[1][1].scatter(x,y,color='red')\n",
    "\n",
    "x = []\n",
    "y = []\n",
    "for row in eu_yes_coast_yes_blue.iterrows():\n",
    "    city = row[1]['city']\n",
    "    lat = row[1]['latitude']\n",
    "    x.append(city)\n",
    "    y.append(lat)\n",
    "axes[1][1].scatter(x,y,color='blue')\n",
    "\n",
    "x = []\n",
    "y = []\n",
    "for row in eu_yes_coast_yes_orange.iterrows():\n",
    "    city = row[1]['city']\n",
    "    lat = row[1]['latitude']\n",
    "    x.append(city)\n",
    "    y.append(lat)\n",
    "axes[1][1].scatter(x,y,color='orange')\n",
    "\n",
    "\n",
    "axes[0][0].set_xticks(range(0,eu_no_coast_no.shape[0]))\n",
    "axes[0][0].set_xticklabels(range(0,eu_no_coast_no.shape[0]))\n",
    "axes[0][0].set_title('Not in EU, No Coast',fontsize=14)\n",
    "axes[0][0].set_xlabel('Cities',fontsize=12)\n",
    "axes[0][0].set_ylabel('Latitude',fontsize=12)\n",
    "\n",
    "axes[0][1].set_xticks(range(0,eu_no_coast_yes.shape[0]))\n",
    "axes[0][1].set_xticklabels(range(0,eu_no_coast_yes.shape[0]))\n",
    "axes[0][1].set_title('Not in EU, Yes Coast',fontsize=14)\n",
    "axes[0][1].set_xlabel('Cities',fontsize=12)\n",
    "axes[0][1].set_ylabel('Latitude',fontsize=12)\n",
    "\n",
    "axes[1][0].set_xticks(range(0,eu_yes_coast_no.shape[0]))\n",
    "axes[1][0].set_xticklabels(range(0,eu_yes_coast_no.shape[0]))\n",
    "axes[1][0].set_title('In EU, No Coast',fontsize=14)\n",
    "axes[1][0].set_xlabel('Cities',fontsize=12)\n",
    "axes[1][0].set_ylabel('Latitude',fontsize=12)\n",
    "\n",
    "axes[1][1].set_xticks(range(0,eu_yes_coast_yes.shape[0]))\n",
    "axes[1][1].set_xticklabels(range(0,eu_yes_coast_yes.shape[0]))\n",
    "axes[1][1].set_title('In EU, Yes Coast',fontsize=14)\n",
    "axes[1][1].set_xlabel('Cities',fontsize=12)\n",
    "axes[1][1].set_ylabel('Latitude',fontsize=12)\n",
    "\n",
    "plt.show()"
   ]
  },
  {
   "cell_type": "code",
   "execution_count": null,
   "id": "53f9584a-1612-4842-8fc4-ec3d044e0a00",
   "metadata": {},
   "outputs": [],
   "source": []
  }
 ],
 "metadata": {
  "kernelspec": {
   "display_name": "Python 3 (ipykernel)",
   "language": "python",
   "name": "python3"
  },
  "language_info": {
   "codemirror_mode": {
    "name": "ipython",
    "version": 3
   },
   "file_extension": ".py",
   "mimetype": "text/x-python",
   "name": "python",
   "nbconvert_exporter": "python",
   "pygments_lexer": "ipython3",
   "version": "3.9.7"
  }
 },
 "nbformat": 4,
 "nbformat_minor": 5
}
