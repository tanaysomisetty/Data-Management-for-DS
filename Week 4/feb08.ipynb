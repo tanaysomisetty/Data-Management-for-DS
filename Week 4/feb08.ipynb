{
 "cells": [
  {
   "cell_type": "markdown",
   "id": "1fd39cbf-3cd8-4d7a-9794-253fee5f2ab6",
   "metadata": {},
   "source": [
    "## Dictionary"
   ]
  },
  {
   "cell_type": "code",
   "execution_count": 2,
   "id": "a29b11f3-5f8d-468d-8596-5f132e92b3e7",
   "metadata": {},
   "outputs": [
    {
     "data": {
      "text/plain": [
       "{'Jenna': 80, 'Dylan': 75, 'Anis': 65}"
      ]
     },
     "execution_count": 2,
     "metadata": {},
     "output_type": "execute_result"
    }
   ],
   "source": [
    "empty_dict1 = {}\n",
    "empty_dict2 = dict()\n",
    "grades = {'Jenna': 80, 'Dylan': 75, 'Anis': 65}\n",
    "grades"
   ]
  },
  {
   "cell_type": "code",
   "execution_count": 4,
   "id": "ec5ce5b2-2904-44ec-a58c-15287c8fae7d",
   "metadata": {},
   "outputs": [
    {
     "name": "stdout",
     "output_type": "stream",
     "text": [
      "80\n"
     ]
    }
   ],
   "source": [
    "grade = grades['Jenna']\n",
    "print(grade)"
   ]
  },
  {
   "cell_type": "code",
   "execution_count": 5,
   "id": "51afc824-39ec-45b4-9214-700f461f581b",
   "metadata": {},
   "outputs": [
    {
     "ename": "KeyError",
     "evalue": "'Keisha'",
     "output_type": "error",
     "traceback": [
      "\u001b[0;31m---------------------------------------------------------------------------\u001b[0m",
      "\u001b[0;31mKeyError\u001b[0m                                  Traceback (most recent call last)",
      "\u001b[0;32m/var/folders/j8/4sd0mj5s083cmgy92br3xg7r0000gn/T/ipykernel_83027/389059275.py\u001b[0m in \u001b[0;36m<module>\u001b[0;34m\u001b[0m\n\u001b[0;32m----> 1\u001b[0;31m \u001b[0mgrade\u001b[0m \u001b[0;34m=\u001b[0m \u001b[0mgrades\u001b[0m\u001b[0;34m[\u001b[0m\u001b[0;34m'Keisha'\u001b[0m\u001b[0;34m]\u001b[0m\u001b[0;34m\u001b[0m\u001b[0;34m\u001b[0m\u001b[0m\n\u001b[0m",
      "\u001b[0;31mKeyError\u001b[0m: 'Keisha'"
     ]
    }
   ],
   "source": [
    "grade = grades['Keisha']"
   ]
  },
  {
   "cell_type": "code",
   "execution_count": 6,
   "id": "45070542-a34a-4af5-8252-5ede97882ef2",
   "metadata": {},
   "outputs": [
    {
     "data": {
      "text/plain": [
       "80"
      ]
     },
     "execution_count": 6,
     "metadata": {},
     "output_type": "execute_result"
    }
   ],
   "source": [
    "grade = grades.get('Jenna')\n",
    "grade"
   ]
  },
  {
   "cell_type": "code",
   "execution_count": 7,
   "id": "bf235425-8180-4e38-98a3-629dcc815b22",
   "metadata": {},
   "outputs": [
    {
     "data": {
      "text/plain": [
       "0"
      ]
     },
     "execution_count": 7,
     "metadata": {},
     "output_type": "execute_result"
    }
   ],
   "source": [
    "grade = grades.get('Keisha',0)\n",
    "grade"
   ]
  },
  {
   "cell_type": "code",
   "execution_count": 8,
   "id": "497a97cd-5a79-46df-b581-3cdf19ffcd4a",
   "metadata": {},
   "outputs": [
    {
     "data": {
      "text/plain": [
       "{'Jenna': 80, 'Dylan': 75, 'Anis': 65}"
      ]
     },
     "execution_count": 8,
     "metadata": {},
     "output_type": "execute_result"
    }
   ],
   "source": [
    "grades"
   ]
  },
  {
   "cell_type": "code",
   "execution_count": 9,
   "id": "22b6ef21-0f9f-4f33-9075-754fe676692f",
   "metadata": {},
   "outputs": [
    {
     "data": {
      "text/plain": [
       "{'Jenna': 80, 'Dylan': 75, 'Anis': 65, 'Keisha': 82}"
      ]
     },
     "execution_count": 9,
     "metadata": {},
     "output_type": "execute_result"
    }
   ],
   "source": [
    "grades['Keisha'] = 82\n",
    "grades"
   ]
  },
  {
   "cell_type": "code",
   "execution_count": 10,
   "id": "9d8d81a2-9c29-4a42-a754-288ad32ebd06",
   "metadata": {},
   "outputs": [
    {
     "name": "stdout",
     "output_type": "stream",
     "text": [
      "Jenna: 80\n",
      "Dylan: 75\n",
      "Anis: 65\n",
      "Keisha: 82\n"
     ]
    }
   ],
   "source": [
    "for key in grades:\n",
    "    print(f'{key}: {grades.get(key)}')"
   ]
  },
  {
   "cell_type": "code",
   "execution_count": 11,
   "id": "c0fdd422-a52d-42b3-876e-d2b09e04aa51",
   "metadata": {},
   "outputs": [
    {
     "name": "stdout",
     "output_type": "stream",
     "text": [
      "Jenna\n",
      "Dylan\n",
      "Anis\n",
      "Keisha\n"
     ]
    }
   ],
   "source": [
    "for key in grades.keys():\n",
    "    print(key)"
   ]
  },
  {
   "cell_type": "code",
   "execution_count": 13,
   "id": "cf33dc6f-d5f9-48ae-83d2-6c47b77af8d0",
   "metadata": {},
   "outputs": [
    {
     "name": "stdout",
     "output_type": "stream",
     "text": [
      "75\n"
     ]
    },
    {
     "data": {
      "text/plain": [
       "{'Jenna': 80, 'Dylan': 78, 'Anis': 65, 'Keisha': 82}"
      ]
     },
     "execution_count": 13,
     "metadata": {},
     "output_type": "execute_result"
    }
   ],
   "source": [
    "print(grades.get('Dylan'))\n",
    "grades['Dylan'] = 78\n",
    "grades"
   ]
  },
  {
   "cell_type": "code",
   "execution_count": 14,
   "id": "ef8a3d38-5a3d-46bf-8e29-b1c3808dd91d",
   "metadata": {},
   "outputs": [
    {
     "data": {
      "text/plain": [
       "dict_values([80, 78, 65, 82])"
      ]
     },
     "execution_count": 14,
     "metadata": {},
     "output_type": "execute_result"
    }
   ],
   "source": [
    "grades.values()"
   ]
  },
  {
   "cell_type": "code",
   "execution_count": 15,
   "id": "0654724a-4940-429a-a4d4-fa6f3724f0a5",
   "metadata": {},
   "outputs": [
    {
     "data": {
      "text/plain": [
       "dict_items([('Jenna', 80), ('Dylan', 78), ('Anis', 65), ('Keisha', 82)])"
      ]
     },
     "execution_count": 15,
     "metadata": {},
     "output_type": "execute_result"
    }
   ],
   "source": [
    "grades.items()"
   ]
  },
  {
   "cell_type": "code",
   "execution_count": 16,
   "id": "0399ff25-6a70-4188-888a-57c4a07c68fa",
   "metadata": {},
   "outputs": [
    {
     "name": "stdout",
     "output_type": "stream",
     "text": [
      "Jenna : 80\n",
      "Dylan : 78\n",
      "Anis : 65\n",
      "Keisha : 82\n"
     ]
    }
   ],
   "source": [
    "for key, value in grades.items():\n",
    "    print(key, ':', value)"
   ]
  },
  {
   "cell_type": "code",
   "execution_count": 17,
   "id": "1188fa0f-fed2-4cb3-9513-61e9b0d0e922",
   "metadata": {},
   "outputs": [],
   "source": [
    "prereqs = {'cs112':'cs111', 'cs336':['cs112','cs205']}"
   ]
  },
  {
   "cell_type": "code",
   "execution_count": 18,
   "id": "038a0770-70b5-4cbd-a4e8-b0cd2b01721e",
   "metadata": {},
   "outputs": [
    {
     "data": {
      "text/plain": [
       "'cs111'"
      ]
     },
     "execution_count": 18,
     "metadata": {},
     "output_type": "execute_result"
    }
   ],
   "source": [
    "prereqs['cs112']"
   ]
  },
  {
   "cell_type": "code",
   "execution_count": 19,
   "id": "1d00f972-fb67-4f0a-8c4d-02624945ecec",
   "metadata": {},
   "outputs": [
    {
     "data": {
      "text/plain": [
       "['cs112', 'cs205']"
      ]
     },
     "execution_count": 19,
     "metadata": {},
     "output_type": "execute_result"
    }
   ],
   "source": [
    "prereqs['cs336']"
   ]
  },
  {
   "cell_type": "code",
   "execution_count": 21,
   "id": "c429cf24-6759-4155-91a7-bfd5603395ab",
   "metadata": {},
   "outputs": [],
   "source": [
    "counties = {'nj': {'middlesex':825000, 'bergen':90000, 'essex':795000},\n",
    "            'ca': {'los angeles': 10000000, 'san diego': 3300000}}"
   ]
  },
  {
   "cell_type": "code",
   "execution_count": 22,
   "id": "788319b6-562a-4020-b814-ada600ac4f65",
   "metadata": {},
   "outputs": [
    {
     "data": {
      "text/plain": [
       "{'middlesex': 825000, 'bergen': 90000, 'essex': 795000}"
      ]
     },
     "execution_count": 22,
     "metadata": {},
     "output_type": "execute_result"
    }
   ],
   "source": [
    "counties['nj']"
   ]
  },
  {
   "cell_type": "code",
   "execution_count": 23,
   "id": "6790add5-f780-443f-9e9a-00f71e4852cb",
   "metadata": {},
   "outputs": [
    {
     "data": {
      "text/plain": [
       "795000"
      ]
     },
     "execution_count": 23,
     "metadata": {},
     "output_type": "execute_result"
    }
   ],
   "source": [
    "counties['nj']['essex']"
   ]
  },
  {
   "cell_type": "code",
   "execution_count": 24,
   "id": "8878d1fe-dcf0-4b2d-905d-ce38da92fbfa",
   "metadata": {},
   "outputs": [
    {
     "data": {
      "text/plain": [
       "{'x': 10, 'y': 10}"
      ]
     },
     "execution_count": 24,
     "metadata": {},
     "output_type": "execute_result"
    }
   ],
   "source": [
    "mydict = dict.fromkeys(['x','y'],10)\n",
    "mydict"
   ]
  },
  {
   "cell_type": "code",
   "execution_count": 26,
   "id": "8596e278-f85c-45bd-9c01-6cfad05e4ea6",
   "metadata": {},
   "outputs": [
    {
     "data": {
      "text/plain": [
       "{'a': None, 'b': None, 'c': None, 'd': None, 'e': None}"
      ]
     },
     "execution_count": 26,
     "metadata": {},
     "output_type": "execute_result"
    }
   ],
   "source": [
    "mydict2 = dict.fromkeys('abcde')\n",
    "mydict2"
   ]
  },
  {
   "cell_type": "code",
   "execution_count": 27,
   "id": "f129d7da-36f7-4827-aa7a-428ff9113f4b",
   "metadata": {},
   "outputs": [
    {
     "name": "stdout",
     "output_type": "stream",
     "text": [
      "no value for key \"a\"\n"
     ]
    }
   ],
   "source": [
    "if mydict2['a'] == None:\n",
    "    print('no value for key \"a\"')"
   ]
  },
  {
   "cell_type": "code",
   "execution_count": 28,
   "id": "4a1ba66d-740f-4869-b23f-4305d1d04436",
   "metadata": {},
   "outputs": [
    {
     "data": {
      "text/plain": [
       "{'cs111': 800, 'cs112': 500}"
      ]
     },
     "execution_count": 28,
     "metadata": {},
     "output_type": "execute_result"
    }
   ],
   "source": [
    "mydict = dict([('cs111',800),('cs112',500)])\n",
    "mydict"
   ]
  },
  {
   "cell_type": "code",
   "execution_count": 30,
   "id": "f07edd4c-7065-451f-82d9-738b87830ab8",
   "metadata": {},
   "outputs": [
    {
     "data": {
      "text/plain": [
       "{'table': 1, 'chair': 3, 'desk': 1}"
      ]
     },
     "execution_count": 30,
     "metadata": {},
     "output_type": "execute_result"
    }
   ],
   "source": [
    "mydict2 = dict([('table',2),('chair',1),('table',1),('chair',3),('desk',1)])\n",
    "mydict2"
   ]
  },
  {
   "cell_type": "markdown",
   "id": "213b466f-b20c-4d96-93ab-cce7d02288de",
   "metadata": {},
   "source": [
    "### Default Dictionary "
   ]
  },
  {
   "cell_type": "code",
   "execution_count": 31,
   "id": "dfc5e12d-5061-4633-9f37-95ace428565d",
   "metadata": {},
   "outputs": [
    {
     "name": "stdout",
     "output_type": "stream",
     "text": [
      "{4: 2, 5: 3, 9: 3, 7: 3, 6: 3, 2: 1, 1: 1, 10: 1, 8: 1}\n"
     ]
    }
   ],
   "source": [
    "quiz_scores = [4,5,9,7,6,4,2,5,7,9,1,10,7,6,6,9,8,5]\n",
    "scores = {}\n",
    "for qs in quiz_scores:\n",
    "    if qs in scores: # membership check for key in dictionary\n",
    "        scores[qs] += 1\n",
    "    else:\n",
    "        scores[qs] = 1\n",
    "print(scores)"
   ]
  },
  {
   "cell_type": "code",
   "execution_count": 32,
   "id": "3356b89b-5410-437c-938a-b4c728562b8d",
   "metadata": {},
   "outputs": [
    {
     "name": "stdout",
     "output_type": "stream",
     "text": [
      "defaultdict(<class 'int'>, {4: 2, 5: 3, 9: 3, 7: 3, 6: 3, 2: 1, 1: 1, 10: 1, 8: 1})\n"
     ]
    }
   ],
   "source": [
    "# using default dictionary\n",
    "\n",
    "from collections import defaultdict\n",
    "\n",
    "scores2 = defaultdict(int)\n",
    "for qs in quiz_scores:\n",
    "    scores2[qs] += 1\n",
    "print(scores2)"
   ]
  },
  {
   "cell_type": "code",
   "execution_count": 33,
   "id": "ce90ca41-d400-474b-af05-9cb8a0645f6c",
   "metadata": {},
   "outputs": [
    {
     "data": {
      "text/plain": [
       "defaultdict(list, {'table': [2, 1], 'chair': [1, 3], 'desk': [1]})"
      ]
     },
     "execution_count": 33,
     "metadata": {},
     "output_type": "execute_result"
    }
   ],
   "source": [
    "lst = [('table',2), ('chair',1), ('table',1), ('chair',3), ('desk',1)]\n",
    "mydict3 = defaultdict(list)\n",
    "for k,v in lst:\n",
    "    mydict3[k].append(v)\n",
    "mydict3"
   ]
  },
  {
   "cell_type": "markdown",
   "id": "18ea8427-e7b2-4eaa-9b89-70572ae0d374",
   "metadata": {},
   "source": [
    "### Ordered Dictionary"
   ]
  },
  {
   "cell_type": "code",
   "execution_count": 34,
   "id": "f47224f5-a137-458c-8269-bd7b8424a546",
   "metadata": {},
   "outputs": [
    {
     "data": {
      "text/plain": [
       "OrderedDict([('Hill Center', 'Busch'),\n",
       "             ('AB', 'College Ave'),\n",
       "             ('Hickman', 'Douglas'),\n",
       "             ('SEC', 'Busch')])"
      ]
     },
     "execution_count": 34,
     "metadata": {},
     "output_type": "execute_result"
    }
   ],
   "source": [
    "from collections import OrderedDict\n",
    "\n",
    "od = OrderedDict()\n",
    "od['Hill Center'] = 'Busch'\n",
    "od['AB'] = 'College Ave'\n",
    "od['Hickman'] = 'Douglas'\n",
    "od['SEC'] = 'Busch'\n",
    "od"
   ]
  },
  {
   "cell_type": "code",
   "execution_count": 35,
   "id": "190c1520-0214-4ae6-a934-1106fcca29ee",
   "metadata": {},
   "outputs": [
    {
     "data": {
      "text/plain": [
       "False"
      ]
     },
     "execution_count": 35,
     "metadata": {},
     "output_type": "execute_result"
    }
   ],
   "source": [
    "OrderedDict([('a',1),('b',2)]) == OrderedDict([('b',2),('a',1)])"
   ]
  },
  {
   "cell_type": "code",
   "execution_count": 36,
   "id": "597b72d3-60bd-45ed-bd50-084740d45f87",
   "metadata": {},
   "outputs": [
    {
     "data": {
      "text/plain": [
       "True"
      ]
     },
     "execution_count": 36,
     "metadata": {},
     "output_type": "execute_result"
    }
   ],
   "source": [
    "dict([('a',1),('b',2)]) == dict([('b',2),('a',1)])"
   ]
  },
  {
   "cell_type": "code",
   "execution_count": 37,
   "id": "4611763a-9c04-46b5-ad1e-65a8427c6f1b",
   "metadata": {},
   "outputs": [
    {
     "data": {
      "text/plain": [
       "{'a': 3, 'b': 2}"
      ]
     },
     "execution_count": 37,
     "metadata": {},
     "output_type": "execute_result"
    }
   ],
   "source": [
    "dict1 = {'a':1, 'b':2}\n",
    "dict2 = dict1\n",
    "dict2['a'] = 3\n",
    "dict1"
   ]
  },
  {
   "cell_type": "code",
   "execution_count": 39,
   "id": "07a3a400-af7b-4f83-aa6a-58b8ad5a0ff9",
   "metadata": {},
   "outputs": [
    {
     "data": {
      "text/plain": [
       "{'a': 3, 'b': 2}"
      ]
     },
     "execution_count": 39,
     "metadata": {},
     "output_type": "execute_result"
    }
   ],
   "source": [
    "dict3 = dict1.copy() # seperate physical copy\n",
    "dict3['b'] = 5\n",
    "dict1"
   ]
  },
  {
   "cell_type": "markdown",
   "id": "a04d2733-b21d-4cf9-987f-7159d0ac39f7",
   "metadata": {},
   "source": [
    "### Counter"
   ]
  },
  {
   "cell_type": "code",
   "execution_count": 40,
   "id": "e6a80bad-94f2-4647-a972-7957421be333",
   "metadata": {},
   "outputs": [
    {
     "data": {
      "text/plain": [
       "Counter({1: 3, 2: 2, 8: 1, 9: 1})"
      ]
     },
     "execution_count": 40,
     "metadata": {},
     "output_type": "execute_result"
    }
   ],
   "source": [
    "from collections import Counter\n",
    "\n",
    "ctr = Counter([1,2,8,2,1,9,1])\n",
    "ctr"
   ]
  },
  {
   "cell_type": "code",
   "execution_count": 41,
   "id": "64425728-efa4-454f-84ae-f71647cf2f5f",
   "metadata": {},
   "outputs": [
    {
     "data": {
      "text/plain": [
       "dict_items([(1, 3), (2, 2), (8, 1), (9, 1)])"
      ]
     },
     "execution_count": 41,
     "metadata": {},
     "output_type": "execute_result"
    }
   ],
   "source": [
    "ctr.items()"
   ]
  },
  {
   "cell_type": "code",
   "execution_count": 42,
   "id": "a786c728-a52c-4661-b1dc-630af3441ebf",
   "metadata": {},
   "outputs": [
    {
     "data": {
      "text/plain": [
       "dict_keys([1, 2, 8, 9])"
      ]
     },
     "execution_count": 42,
     "metadata": {},
     "output_type": "execute_result"
    }
   ],
   "source": [
    "ctr.keys()"
   ]
  },
  {
   "cell_type": "code",
   "execution_count": 43,
   "id": "9c75618b-b7d2-4eab-8fab-80aee6df3760",
   "metadata": {},
   "outputs": [
    {
     "data": {
      "text/plain": [
       "dict_values([3, 2, 1, 1])"
      ]
     },
     "execution_count": 43,
     "metadata": {},
     "output_type": "execute_result"
    }
   ],
   "source": [
    "ctr.values()"
   ]
  },
  {
   "cell_type": "code",
   "execution_count": 44,
   "id": "a1ddcc08-c52e-4d10-b429-dac9406e11b6",
   "metadata": {},
   "outputs": [
    {
     "data": {
      "text/plain": [
       "Counter({1: 4, 2: 2, 8: 1, 9: 1})"
      ]
     },
     "execution_count": 44,
     "metadata": {},
     "output_type": "execute_result"
    }
   ],
   "source": [
    "ctr.update([1])\n",
    "ctr"
   ]
  },
  {
   "cell_type": "code",
   "execution_count": 45,
   "id": "38b4ec51-cda5-470d-a997-5bda89f58e5e",
   "metadata": {},
   "outputs": [
    {
     "ename": "TypeError",
     "evalue": "'int' object is not iterable",
     "output_type": "error",
     "traceback": [
      "\u001b[0;31m---------------------------------------------------------------------------\u001b[0m",
      "\u001b[0;31mTypeError\u001b[0m                                 Traceback (most recent call last)",
      "\u001b[0;32m/var/folders/j8/4sd0mj5s083cmgy92br3xg7r0000gn/T/ipykernel_83027/2311094273.py\u001b[0m in \u001b[0;36m<module>\u001b[0;34m\u001b[0m\n\u001b[0;32m----> 1\u001b[0;31m \u001b[0mctr\u001b[0m\u001b[0;34m.\u001b[0m\u001b[0mupdate\u001b[0m\u001b[0;34m(\u001b[0m\u001b[0;36m1\u001b[0m\u001b[0;34m)\u001b[0m\u001b[0;34m\u001b[0m\u001b[0;34m\u001b[0m\u001b[0m\n\u001b[0m",
      "\u001b[0;32m/opt/anaconda3/lib/python3.9/collections/__init__.py\u001b[0m in \u001b[0;36mupdate\u001b[0;34m(self, iterable, **kwds)\u001b[0m\n\u001b[1;32m    677\u001b[0m                     \u001b[0msuper\u001b[0m\u001b[0;34m(\u001b[0m\u001b[0;34m)\u001b[0m\u001b[0;34m.\u001b[0m\u001b[0mupdate\u001b[0m\u001b[0;34m(\u001b[0m\u001b[0miterable\u001b[0m\u001b[0;34m)\u001b[0m\u001b[0;34m\u001b[0m\u001b[0;34m\u001b[0m\u001b[0m\n\u001b[1;32m    678\u001b[0m             \u001b[0;32melse\u001b[0m\u001b[0;34m:\u001b[0m\u001b[0;34m\u001b[0m\u001b[0;34m\u001b[0m\u001b[0m\n\u001b[0;32m--> 679\u001b[0;31m                 \u001b[0m_count_elements\u001b[0m\u001b[0;34m(\u001b[0m\u001b[0mself\u001b[0m\u001b[0;34m,\u001b[0m \u001b[0miterable\u001b[0m\u001b[0;34m)\u001b[0m\u001b[0;34m\u001b[0m\u001b[0;34m\u001b[0m\u001b[0m\n\u001b[0m\u001b[1;32m    680\u001b[0m         \u001b[0;32mif\u001b[0m \u001b[0mkwds\u001b[0m\u001b[0;34m:\u001b[0m\u001b[0;34m\u001b[0m\u001b[0;34m\u001b[0m\u001b[0m\n\u001b[1;32m    681\u001b[0m             \u001b[0mself\u001b[0m\u001b[0;34m.\u001b[0m\u001b[0mupdate\u001b[0m\u001b[0;34m(\u001b[0m\u001b[0mkwds\u001b[0m\u001b[0;34m)\u001b[0m\u001b[0;34m\u001b[0m\u001b[0;34m\u001b[0m\u001b[0m\n",
      "\u001b[0;31mTypeError\u001b[0m: 'int' object is not iterable"
     ]
    }
   ],
   "source": [
    "ctr.update(1)"
   ]
  },
  {
   "cell_type": "code",
   "execution_count": 46,
   "id": "d395647b-740b-414f-9599-72029f79d49a",
   "metadata": {},
   "outputs": [
    {
     "data": {
      "text/plain": [
       "Counter({1: 4, 2: 3, 8: 1, 9: 2})"
      ]
     },
     "execution_count": 46,
     "metadata": {},
     "output_type": "execute_result"
    }
   ],
   "source": [
    "ctr.update([2,9])\n",
    "ctr"
   ]
  },
  {
   "cell_type": "code",
   "execution_count": 47,
   "id": "47ba5d6a-cf49-4146-bd2a-6b1f83ff6b39",
   "metadata": {},
   "outputs": [
    {
     "data": {
      "text/plain": [
       "Counter({'this': 1, 'that': 1})"
      ]
     },
     "execution_count": 47,
     "metadata": {},
     "output_type": "execute_result"
    }
   ],
   "source": [
    "ctr1 = Counter()\n",
    "ctr1.update(['this','that'])\n",
    "ctr1"
   ]
  },
  {
   "cell_type": "code",
   "execution_count": 48,
   "id": "e727817d-7fcb-4410-bafd-1a7f4eea73e0",
   "metadata": {},
   "outputs": [
    {
     "data": {
      "text/plain": [
       "Counter({'w': 1,\n",
       "         'h': 1,\n",
       "         'a': 3,\n",
       "         't': 1,\n",
       "         ' ': 4,\n",
       "         'g': 1,\n",
       "         'o': 4,\n",
       "         'e': 2,\n",
       "         's': 2,\n",
       "         'r': 2,\n",
       "         'u': 2,\n",
       "         'n': 2,\n",
       "         'd': 2,\n",
       "         'c': 1,\n",
       "         'm': 1})"
      ]
     },
     "execution_count": 48,
     "metadata": {},
     "output_type": "execute_result"
    }
   ],
   "source": [
    "ctr2 = Counter('what goes around comes around')\n",
    "ctr2"
   ]
  },
  {
   "cell_type": "code",
   "execution_count": 49,
   "id": "46856e11-2c70-446d-b601-30c3b4c97032",
   "metadata": {},
   "outputs": [
    {
     "data": {
      "text/plain": [
       "[(' ', 4), ('o', 4), ('a', 3)]"
      ]
     },
     "execution_count": 49,
     "metadata": {},
     "output_type": "execute_result"
    }
   ],
   "source": [
    "ctr2.most_common(3)"
   ]
  },
  {
   "cell_type": "code",
   "execution_count": 50,
   "id": "30ffda23-7672-4c95-843b-13f183accd78",
   "metadata": {},
   "outputs": [
    {
     "data": {
      "text/plain": [
       "[(' ', 4),\n",
       " ('o', 4),\n",
       " ('a', 3),\n",
       " ('e', 2),\n",
       " ('s', 2),\n",
       " ('r', 2),\n",
       " ('u', 2),\n",
       " ('n', 2),\n",
       " ('d', 2),\n",
       " ('w', 1),\n",
       " ('h', 1),\n",
       " ('t', 1),\n",
       " ('g', 1),\n",
       " ('c', 1),\n",
       " ('m', 1)]"
      ]
     },
     "execution_count": 50,
     "metadata": {},
     "output_type": "execute_result"
    }
   ],
   "source": [
    "ctr2.most_common()"
   ]
  },
  {
   "cell_type": "code",
   "execution_count": 52,
   "id": "f7e901e3-2a77-4715-aa65-2f68e4e10d97",
   "metadata": {},
   "outputs": [
    {
     "data": {
      "text/plain": [
       "[('g', 1), ('c', 1), ('m', 1)]"
      ]
     },
     "execution_count": 52,
     "metadata": {},
     "output_type": "execute_result"
    }
   ],
   "source": [
    "ctr2.most_common()[-3:]"
   ]
  },
  {
   "cell_type": "code",
   "execution_count": 54,
   "id": "76164f88-019f-4c6f-afe2-125ff7844f08",
   "metadata": {},
   "outputs": [
    {
     "data": {
      "text/plain": [
       "[('w', 1),\n",
       " ('u', 2),\n",
       " ('t', 1),\n",
       " ('s', 2),\n",
       " ('r', 2),\n",
       " ('o', 4),\n",
       " ('n', 2),\n",
       " ('m', 1),\n",
       " ('h', 1),\n",
       " ('g', 1),\n",
       " ('e', 2),\n",
       " ('d', 2),\n",
       " ('c', 1),\n",
       " ('a', 3),\n",
       " (' ', 4)]"
      ]
     },
     "execution_count": 54,
     "metadata": {},
     "output_type": "execute_result"
    }
   ],
   "source": [
    "sorted(ctr2.most_common(), reverse=True)"
   ]
  },
  {
   "cell_type": "code",
   "execution_count": 55,
   "id": "da0c97ee-46bd-4401-8559-2292c50c4f66",
   "metadata": {},
   "outputs": [
    {
     "data": {
      "text/plain": [
       "[(' ', 4),\n",
       " ('o', 4),\n",
       " ('a', 3),\n",
       " ('e', 2),\n",
       " ('s', 2),\n",
       " ('r', 2),\n",
       " ('u', 2),\n",
       " ('n', 2),\n",
       " ('d', 2),\n",
       " ('w', 1),\n",
       " ('h', 1),\n",
       " ('t', 1),\n",
       " ('g', 1),\n",
       " ('c', 1),\n",
       " ('m', 1)]"
      ]
     },
     "execution_count": 55,
     "metadata": {},
     "output_type": "execute_result"
    }
   ],
   "source": [
    "sorted(ctr2.most_common(), key=lambda tup: tup[1], reverse=True)"
   ]
  },
  {
   "cell_type": "code",
   "execution_count": 56,
   "id": "4ad047ae-f542-49c5-ab09-a49134fa3196",
   "metadata": {},
   "outputs": [
    {
     "data": {
      "text/plain": [
       "[('w', 1),\n",
       " ('h', 1),\n",
       " ('t', 1),\n",
       " ('g', 1),\n",
       " ('c', 1),\n",
       " ('m', 1),\n",
       " ('e', 2),\n",
       " ('s', 2),\n",
       " ('r', 2),\n",
       " ('u', 2),\n",
       " ('n', 2),\n",
       " ('d', 2),\n",
       " ('a', 3),\n",
       " (' ', 4),\n",
       " ('o', 4)]"
      ]
     },
     "execution_count": 56,
     "metadata": {},
     "output_type": "execute_result"
    }
   ],
   "source": [
    "sorted(ctr2.most_common(), key=lambda tup: tup[1])"
   ]
  },
  {
   "cell_type": "markdown",
   "id": "4dd5ca38-0cdb-48d9-869d-2f290aa77cff",
   "metadata": {},
   "source": [
    "### Reading from a file"
   ]
  },
  {
   "cell_type": "code",
   "execution_count": 57,
   "id": "185e7916-1ca0-48e4-b846-a657826db0f4",
   "metadata": {},
   "outputs": [
    {
     "name": "stdout",
     "output_type": "stream",
     "text": [
      "{'Hurt Locker': '2010', 'The Artist': '2012', 'The Shape of Water': '2018', 'Moonlight': '2017', \"The King's Speech\": '2011', 'Argo': '2013', 'Green Book': '2019', '12 Years a Slave': '2014', 'Spotlight': '2016', 'Birdman': '2015'}\n"
     ]
    }
   ],
   "source": [
    "oscars = {}\n",
    "for line in open('oscars.txt'): # read one line at a time\n",
    "    movie, year = line.split(':') # splits line into two pieces around ':'\n",
    "    oscars[movie.strip()] = year.strip()\n",
    "print(oscars)"
   ]
  },
  {
   "cell_type": "code",
   "execution_count": 58,
   "id": "aa9392ab-2e9e-4988-9d3c-37ebcd4556c7",
   "metadata": {},
   "outputs": [
    {
     "data": {
      "text/plain": [
       "[('Hurt Locker', '2010'),\n",
       " (\"The King's Speech\", '2011'),\n",
       " ('The Artist', '2012'),\n",
       " ('Argo', '2013'),\n",
       " ('12 Years a Slave', '2014'),\n",
       " ('Birdman', '2015'),\n",
       " ('Spotlight', '2016'),\n",
       " ('Moonlight', '2017'),\n",
       " ('The Shape of Water', '2018'),\n",
       " ('Green Book', '2019')]"
      ]
     },
     "execution_count": 58,
     "metadata": {},
     "output_type": "execute_result"
    }
   ],
   "source": [
    "# sort by year\n",
    "oscar_years = sorted(oscars.items(), key=lambda movie: movie[1])\n",
    "oscar_years"
   ]
  },
  {
   "cell_type": "code",
   "execution_count": null,
   "id": "71aa6592-eca2-4183-bb31-7b0b90820741",
   "metadata": {},
   "outputs": [],
   "source": []
  }
 ],
 "metadata": {
  "kernelspec": {
   "display_name": "Python 3 (ipykernel)",
   "language": "python",
   "name": "python3"
  },
  "language_info": {
   "codemirror_mode": {
    "name": "ipython",
    "version": 3
   },
   "file_extension": ".py",
   "mimetype": "text/x-python",
   "name": "python",
   "nbconvert_exporter": "python",
   "pygments_lexer": "ipython3",
   "version": "3.9.7"
  }
 },
 "nbformat": 4,
 "nbformat_minor": 5
}
