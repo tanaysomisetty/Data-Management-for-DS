{
 "cells": [
  {
   "cell_type": "markdown",
   "id": "fa6e1e9d-fe1f-46ce-bf3a-5b1316aac6a8",
   "metadata": {},
   "source": [
    "### Writing to a file"
   ]
  },
  {
   "cell_type": "code",
   "execution_count": 1,
   "id": "6996f28b-d381-4652-8960-c9c0cdc1065a",
   "metadata": {},
   "outputs": [
    {
     "data": {
      "text/plain": [
       "{'Jenna': 80, 'Dylan': 78, 'Anis': 65, 'Keisha': 82}"
      ]
     },
     "execution_count": 1,
     "metadata": {},
     "output_type": "execute_result"
    }
   ],
   "source": [
    "grades = {'Jenna': 80, 'Dylan': 78, 'Anis': 65, 'Keisha': 82}\n",
    "grades"
   ]
  },
  {
   "cell_type": "code",
   "execution_count": 3,
   "id": "50e97b94-d2ea-461b-9bdc-a2fe427713a0",
   "metadata": {},
   "outputs": [],
   "source": [
    "scores_file = open(\"scores_file.txt\", \"w\")\n",
    "for key, value in grades.items():\n",
    "    scores_file.write(key + \":\" + str(value) + '\\n')\n",
    "scores_file.close() # IMPORTANT TO CLOSE!!"
   ]
  },
  {
   "cell_type": "markdown",
   "id": "6fc7b2ef-e1a5-4c9c-adcc-9edc70bf020e",
   "metadata": {},
   "source": [
    "### Exercise"
   ]
  },
  {
   "cell_type": "code",
   "execution_count": 4,
   "id": "dc2c556e-79a5-42d4-ae4c-b33d8cec88d6",
   "metadata": {},
   "outputs": [],
   "source": [
    "def getPopulations(file):\n",
    "    pops = {}\n",
    "    for line in open(file):\n",
    "        country, pop = line.split('|')\n",
    "        population = int(pop.replace(',',''))\n",
    "        pops[country] = population\n",
    "    return pops"
   ]
  },
  {
   "cell_type": "code",
   "execution_count": 6,
   "id": "15333a53-7065-4634-acb9-4359f1eb25d8",
   "metadata": {},
   "outputs": [],
   "source": [
    "populations = getPopulations('population.txt')"
   ]
  },
  {
   "cell_type": "code",
   "execution_count": 7,
   "id": "62deaa3d-202a-431b-ae1e-551c2866fc16",
   "metadata": {},
   "outputs": [
    {
     "data": {
      "text/plain": [
       "1347350000"
      ]
     },
     "execution_count": 7,
     "metadata": {},
     "output_type": "execute_result"
    }
   ],
   "source": [
    "populations['China']"
   ]
  },
  {
   "cell_type": "code",
   "execution_count": 10,
   "id": "0c03087a-c451-4e7f-98f6-7b8f0e16028b",
   "metadata": {},
   "outputs": [
    {
     "name": "stdout",
     "output_type": "stream",
     "text": [
      "['China', 'India', 'United States', 'Indonesia', 'Brazil', 'Pakistan', 'Nigeria', 'Bangladesh', 'Russia', 'Japan', 'Mexico']\n"
     ]
    }
   ],
   "source": [
    "# get countries with population over 1 million\n",
    "large_pops = [c for c,p in populations.items() if p > 100000000]\n",
    "print(large_pops)"
   ]
  },
  {
   "cell_type": "markdown",
   "id": "83c0fad6-36ab-4b26-a96f-9cb79dd908a2",
   "metadata": {},
   "source": [
    "### Exercise"
   ]
  },
  {
   "cell_type": "code",
   "execution_count": 12,
   "id": "225683f6-5986-47ac-b209-da20a73813d6",
   "metadata": {},
   "outputs": [
    {
     "name": "stdout",
     "output_type": "stream",
     "text": [
      "Counter({'he': 10, 'to': 6, 'the': 4, 'that': 4, 'was': 4, 'his': 4, 'a': 3, 'and': 3, 'look': 2, 'at': 2, 'dull': 2, 'feel': 2, 'right': 2, 'have': 2, 'gregor': 1, 'then': 1, 'turned': 1, 'out': 1, 'window': 1, 'weather': 1, 'drops': 1, 'of': 1, 'rain': 1, 'could': 1, 'be': 1, 'heard': 1, 'hitting': 1, 'pane': 1, 'which': 1, 'made': 1, 'him': 1, 'quite': 1, 'sad': 1, 'how': 1, 'about': 1, 'if': 1, 'i': 1, 'sleep': 1, 'little': 1, 'bit': 1, 'longer': 1, 'forget': 1, 'all': 1, 'this': 1, 'nonsense': 1, 'thought': 1, 'but': 1, 'something': 1, 'unable': 1, 'do': 1, 'because': 1, 'used': 1, 'sleeping': 1, 'on': 1, 'in': 1, 'present': 1, 'state': 1, \"couldn't\": 1, 'get': 1, 'into': 1, 'position': 1, 'however': 1, 'hard': 1, 'threw': 1, 'himself': 1, 'onto': 1, 'always': 1, 'rolled': 1, 'back': 1, 'where': 1, 'must': 1, 'tried': 1, 'it': 1, 'hundred': 1, 'times': 1, 'shut': 1, 'eyes': 1, 'so': 1, \"wouldn't\": 1, 'floundering': 1, 'legs': 1, 'only': 1, 'stopped': 1, 'when': 1, 'began': 1, 'mild': 1, 'pain': 1, 'there': 1, 'had': 1, 'never': 1, 'felt': 1, 'before': 1})\n"
     ]
    }
   ],
   "source": [
    "from collections import Counter\n",
    "\n",
    "word_counts = Counter()\n",
    "for line in open('metamorphosis.txt'):\n",
    "    tokens = line.split()\n",
    "    for token in tokens:\n",
    "        word_counts.update([token.lower().strip(',.')])\n",
    "        \n",
    "print(word_counts)"
   ]
  },
  {
   "cell_type": "code",
   "execution_count": 14,
   "id": "d49d3fb5-7b4f-40f1-b7db-385969b99fc8",
   "metadata": {},
   "outputs": [
    {
     "name": "stdout",
     "output_type": "stream",
     "text": [
      "he 10\n",
      "to 6\n",
      "the 4\n",
      "that 4\n",
      "was 4\n"
     ]
    }
   ],
   "source": [
    "# find top 5 most common words\n",
    "for word, count in word_counts.most_common(5):\n",
    "    print(word,count)"
   ]
  },
  {
   "cell_type": "code",
   "execution_count": 16,
   "id": "66885047-2157-4fd5-b84c-d78c0797b69b",
   "metadata": {},
   "outputs": [
    {
     "data": {
      "text/plain": [
       "[('that', 4), ('look', 2), ('dull', 2), ('feel', 2), ('right', 2), ('have', 2)]"
      ]
     },
     "execution_count": 16,
     "metadata": {},
     "output_type": "execute_result"
    }
   ],
   "source": [
    "# Find words of length 4 or more that occur at least twice\n",
    "commons = [(w,c) for w,c in word_counts.most_common() if len(w) >= 4 and c >= 2]\n",
    "commons"
   ]
  },
  {
   "cell_type": "code",
   "execution_count": 17,
   "id": "6a2220f1-db49-491b-9b45-a54c43d319ce",
   "metadata": {},
   "outputs": [
    {
     "data": {
      "text/plain": [
       "[('that', 4), ('look', 2), ('dull', 2), ('feel', 2), ('right', 2)]"
      ]
     },
     "execution_count": 17,
     "metadata": {},
     "output_type": "execute_result"
    }
   ],
   "source": [
    "# Find up to 5 words of length 4 or more that occur at least twice\n",
    "commons = [(w,c) for w,c in word_counts.most_common() if len(w) >= 4 and c >= 2][:5]\n",
    "commons"
   ]
  },
  {
   "cell_type": "markdown",
   "id": "1aeedd8a-c982-4308-9339-2668d1ae9b77",
   "metadata": {},
   "source": [
    "----"
   ]
  },
  {
   "cell_type": "markdown",
   "id": "711f0e6b-b289-44bf-a41b-3007ec8b40f2",
   "metadata": {},
   "source": [
    "### Regular Expressions"
   ]
  },
  {
   "cell_type": "code",
   "execution_count": 18,
   "id": "ca55a377-9202-44f4-85f6-820b3a1f1974",
   "metadata": {},
   "outputs": [],
   "source": [
    "import re"
   ]
  },
  {
   "cell_type": "code",
   "execution_count": 19,
   "id": "2ad6d080-9279-4891-88ff-ec1a7f461fd6",
   "metadata": {},
   "outputs": [
    {
     "data": {
      "text/plain": [
       "<re.Match object; span=(1, 2), match='a'>"
      ]
     },
     "execution_count": 19,
     "metadata": {},
     "output_type": "execute_result"
    }
   ],
   "source": [
    "# Searching for a pattern in a string using re.search function\n",
    "res = re.search('a','cat') # search for pattern 'a' in target 'cat'\n",
    "res"
   ]
  },
  {
   "cell_type": "code",
   "execution_count": 20,
   "id": "af1d971f-811b-4a59-97e7-19defb36e8fc",
   "metadata": {},
   "outputs": [],
   "source": [
    "res = re.search('a','dog')\n",
    "res"
   ]
  },
  {
   "cell_type": "code",
   "execution_count": 21,
   "id": "682e9e5f-081b-4255-8254-9241fb16639f",
   "metadata": {},
   "outputs": [
    {
     "name": "stdout",
     "output_type": "stream",
     "text": [
      "None\n"
     ]
    }
   ],
   "source": [
    "print(res)"
   ]
  },
  {
   "cell_type": "code",
   "execution_count": 22,
   "id": "c1a80542-07aa-49dd-b726-bbdf330be174",
   "metadata": {},
   "outputs": [
    {
     "name": "stdout",
     "output_type": "stream",
     "text": [
      "not matched\n"
     ]
    }
   ],
   "source": [
    "print('matched') if re.search('a','dog') else print('not matched')"
   ]
  },
  {
   "cell_type": "code",
   "execution_count": 23,
   "id": "c6ef8f2c-df05-4498-ba1e-1cccd76e6eae",
   "metadata": {},
   "outputs": [
    {
     "data": {
      "text/plain": [
       "<re.Match object; span=(1, 3), match='ar'>"
      ]
     },
     "execution_count": 23,
     "metadata": {},
     "output_type": "execute_result"
    }
   ],
   "source": [
    "res = re.search('ar','barbaric')\n",
    "res"
   ]
  },
  {
   "cell_type": "markdown",
   "id": "57423e8c-3418-4c70-bc04-a81ef60c60c2",
   "metadata": {},
   "source": [
    "### Writing regex patterns with metacharacters"
   ]
  },
  {
   "cell_type": "code",
   "execution_count": 25,
   "id": "4d7abbdc-6b50-46ba-9944-b97bf752fa2c",
   "metadata": {},
   "outputs": [
    {
     "name": "stdin",
     "output_type": "stream",
     "text": [
      "string? ('quit' to stop)  at\n"
     ]
    },
    {
     "name": "stdout",
     "output_type": "stream",
     "text": [
      "match\n"
     ]
    },
    {
     "name": "stdin",
     "output_type": "stream",
     "text": [
      "string? ('quit' to stop)  cartesian\n"
     ]
    },
    {
     "name": "stdout",
     "output_type": "stream",
     "text": [
      "no match\n"
     ]
    },
    {
     "name": "stdin",
     "output_type": "stream",
     "text": [
      "string? ('quit' to stop)  factor\n"
     ]
    },
    {
     "name": "stdout",
     "output_type": "stream",
     "text": [
      "match\n"
     ]
    },
    {
     "name": "stdin",
     "output_type": "stream",
     "text": [
      "string? ('quit' to stop)  account\n"
     ]
    },
    {
     "name": "stdout",
     "output_type": "stream",
     "text": [
      "no match\n"
     ]
    },
    {
     "name": "stdin",
     "output_type": "stream",
     "text": [
      "string? ('quit' to stop)  quit\n"
     ]
    }
   ],
   "source": [
    "# example 1 using * metacharacter\n",
    "while True:\n",
    "    astr = input(\"string? ('quit' to stop) \")\n",
    "    if astr == 'quit':\n",
    "        break\n",
    "    res = re.search('ac*t', astr)\n",
    "    print('match') if res else print('no match') "
   ]
  },
  {
   "cell_type": "code",
   "execution_count": 27,
   "id": "f95b7138-7586-4e32-bc53-03a518dbb06a",
   "metadata": {},
   "outputs": [
    {
     "name": "stdin",
     "output_type": "stream",
     "text": [
      "string? ('quit' to stop)  at\n"
     ]
    },
    {
     "name": "stdout",
     "output_type": "stream",
     "text": [
      "no match\n"
     ]
    },
    {
     "name": "stdin",
     "output_type": "stream",
     "text": [
      "string? ('quit' to stop)  act\n"
     ]
    },
    {
     "name": "stdout",
     "output_type": "stream",
     "text": [
      "match\n"
     ]
    },
    {
     "name": "stdin",
     "output_type": "stream",
     "text": [
      "string? ('quit' to stop)  factor\n"
     ]
    },
    {
     "name": "stdout",
     "output_type": "stream",
     "text": [
      "match\n"
     ]
    },
    {
     "name": "stdin",
     "output_type": "stream",
     "text": [
      "string? ('quit' to stop)  quit\n"
     ]
    }
   ],
   "source": [
    "# example 2 using + metacharacter\n",
    "while True:\n",
    "    astr = input(\"string? ('quit' to stop) \")\n",
    "    if astr == 'quit':\n",
    "        break\n",
    "    res = re.search('ac+t', astr)\n",
    "    print('match') if res else print('no match') "
   ]
  },
  {
   "cell_type": "code",
   "execution_count": 28,
   "id": "5bdd3997-383b-4c40-906b-4d17a89aadef",
   "metadata": {},
   "outputs": [],
   "source": [
    "# example 3 using [] and * metacharacters"
   ]
  },
  {
   "cell_type": "code",
   "execution_count": 29,
   "id": "e404b3d2-4c18-4d0e-9a62-6a3740bd8d5c",
   "metadata": {},
   "outputs": [
    {
     "name": "stdin",
     "output_type": "stream",
     "text": [
      "string? ('quit' to stop)  at\n"
     ]
    },
    {
     "name": "stdout",
     "output_type": "stream",
     "text": [
      "match\n"
     ]
    },
    {
     "name": "stdin",
     "output_type": "stream",
     "text": [
      "string? ('quit' to stop)  a2t\n"
     ]
    },
    {
     "name": "stdout",
     "output_type": "stream",
     "text": [
      "match\n"
     ]
    },
    {
     "name": "stdin",
     "output_type": "stream",
     "text": [
      "string? ('quit' to stop)  a123t\n"
     ]
    },
    {
     "name": "stdout",
     "output_type": "stream",
     "text": [
      "match\n"
     ]
    },
    {
     "name": "stdin",
     "output_type": "stream",
     "text": [
      "string? ('quit' to stop)  ffa1256ttqq\n"
     ]
    },
    {
     "name": "stdout",
     "output_type": "stream",
     "text": [
      "match\n"
     ]
    },
    {
     "name": "stdin",
     "output_type": "stream",
     "text": [
      "string? ('quit' to stop)  quit\n"
     ]
    }
   ],
   "source": [
    "while True:\n",
    "    astr = input(\"string? ('quit' to stop) \")\n",
    "    if astr == 'quit':\n",
    "        break\n",
    "    res = re.search('a[0-9]*t', astr)\n",
    "    print('match') if res else print('no match') "
   ]
  },
  {
   "cell_type": "code",
   "execution_count": 30,
   "id": "ab208077-eeb2-485d-9995-54e3007dbcf8",
   "metadata": {},
   "outputs": [
    {
     "name": "stdin",
     "output_type": "stream",
     "text": [
      "string? ('quit' to stop)  at\n"
     ]
    },
    {
     "name": "stdout",
     "output_type": "stream",
     "text": [
      "match\n"
     ]
    },
    {
     "name": "stdin",
     "output_type": "stream",
     "text": [
      "string? ('quit' to stop)  aat\n"
     ]
    },
    {
     "name": "stdout",
     "output_type": "stream",
     "text": [
      "match\n"
     ]
    },
    {
     "name": "stdin",
     "output_type": "stream",
     "text": [
      "string? ('quit' to stop)  aA19at\n"
     ]
    },
    {
     "name": "stdout",
     "output_type": "stream",
     "text": [
      "match\n"
     ]
    },
    {
     "name": "stdin",
     "output_type": "stream",
     "text": [
      "string? ('quit' to stop)  quit\n"
     ]
    }
   ],
   "source": [
    "# example 4 using metacharacters [] and *\n",
    "while True:\n",
    "    astr = input(\"string? ('quit' to stop) \")\n",
    "    if astr == 'quit':\n",
    "        break\n",
    "    res = re.search('a[a-zA-Z0-9]*t', astr)\n",
    "    print('match') if res else print('no match') "
   ]
  },
  {
   "cell_type": "code",
   "execution_count": 31,
   "id": "19d7fab3-1209-4e32-b5b2-3746fea733e6",
   "metadata": {},
   "outputs": [
    {
     "name": "stdin",
     "output_type": "stream",
     "text": [
      "string? ('quit' to stop)  at\n"
     ]
    },
    {
     "name": "stdout",
     "output_type": "stream",
     "text": [
      "no match\n"
     ]
    },
    {
     "name": "stdin",
     "output_type": "stream",
     "text": [
      "string? ('quit' to stop)  aAt\n"
     ]
    },
    {
     "name": "stdout",
     "output_type": "stream",
     "text": [
      "no match\n"
     ]
    },
    {
     "name": "stdin",
     "output_type": "stream",
     "text": [
      "string? ('quit' to stop)  aA1t\n"
     ]
    },
    {
     "name": "stdout",
     "output_type": "stream",
     "text": [
      "match\n"
     ]
    },
    {
     "name": "stdin",
     "output_type": "stream",
     "text": [
      "string? ('quit' to stop)  a1At\n"
     ]
    },
    {
     "name": "stdout",
     "output_type": "stream",
     "text": [
      "no match\n"
     ]
    },
    {
     "name": "stdin",
     "output_type": "stream",
     "text": [
      "string? ('quit' to stop)  quit\n"
     ]
    }
   ],
   "source": [
    "# example 5 using metacharacters [] and *\n",
    "while True:\n",
    "    astr = input(\"string? ('quit' to stop) \")\n",
    "    if astr == 'quit':\n",
    "        break\n",
    "    res = re.search('a[a-zA-Z]+[0-9]+t', astr)\n",
    "    print('match') if res else print('no match') "
   ]
  },
  {
   "cell_type": "code",
   "execution_count": 32,
   "id": "b0f89b65-85ba-483d-9eaf-54011726282a",
   "metadata": {},
   "outputs": [],
   "source": [
    "# Metacharacter '.', matches any character"
   ]
  },
  {
   "cell_type": "code",
   "execution_count": 33,
   "id": "fdbead27-ed19-45f7-bc0f-3ec58249b46c",
   "metadata": {},
   "outputs": [
    {
     "name": "stdin",
     "output_type": "stream",
     "text": [
      "string? ('quit' to stop)  at\n"
     ]
    },
    {
     "name": "stdout",
     "output_type": "stream",
     "text": [
      "match\n"
     ]
    },
    {
     "name": "stdin",
     "output_type": "stream",
     "text": [
      "string? ('quit' to stop)  art\n"
     ]
    },
    {
     "name": "stdout",
     "output_type": "stream",
     "text": [
      "match\n"
     ]
    },
    {
     "name": "stdin",
     "output_type": "stream",
     "text": [
      "string? ('quit' to stop)  factoid\n"
     ]
    },
    {
     "name": "stdout",
     "output_type": "stream",
     "text": [
      "match\n"
     ]
    },
    {
     "name": "stdin",
     "output_type": "stream",
     "text": [
      "string? ('quit' to stop)  cpen15t\n"
     ]
    },
    {
     "name": "stdout",
     "output_type": "stream",
     "text": [
      "no match\n"
     ]
    },
    {
     "name": "stdin",
     "output_type": "stream",
     "text": [
      "string? ('quit' to stop)  cpppt\n"
     ]
    },
    {
     "name": "stdout",
     "output_type": "stream",
     "text": [
      "no match\n"
     ]
    },
    {
     "name": "stdin",
     "output_type": "stream",
     "text": [
      "string? ('quit' to stop)  apen15t\n"
     ]
    },
    {
     "name": "stdout",
     "output_type": "stream",
     "text": [
      "match\n"
     ]
    },
    {
     "name": "stdin",
     "output_type": "stream",
     "text": [
      "string? ('quit' to stop)  ac12##tor\n"
     ]
    },
    {
     "name": "stdout",
     "output_type": "stream",
     "text": [
      "match\n"
     ]
    },
    {
     "name": "stdin",
     "output_type": "stream",
     "text": [
      "string? ('quit' to stop)  quit\n"
     ]
    }
   ],
   "source": [
    "while True:\n",
    "    astr = input(\"string? ('quit' to stop) \")\n",
    "    if astr == 'quit':\n",
    "        break\n",
    "    res = re.search('a.*t', astr)\n",
    "    print('match') if res else print('no match') "
   ]
  },
  {
   "cell_type": "code",
   "execution_count": 37,
   "id": "e16bc88c-58a1-4d94-ad8a-847c09c9bbc2",
   "metadata": {},
   "outputs": [
    {
     "name": "stdout",
     "output_type": "stream",
     "text": [
      "<re.Match object; span=(0, 2), match='at'>\n",
      "<re.Match object; span=(0, 3), match='act'>\n",
      "<re.Match object; span=(2, 5), match='act'>\n",
      "None\n",
      "None\n"
     ]
    }
   ],
   "source": [
    "# Metacharacter '?', matches zero or One occurence of preceding character (there or not there)\n",
    "res = re.search('ac?t','at')\n",
    "print(res)\n",
    "res = re.search('ac?t','act')\n",
    "print(res)\n",
    "res = re.search('ac?t','tractor')\n",
    "print(res)\n",
    "res = re.search('ac?t','art')\n",
    "print(res)\n",
    "res = re.search('ac?t','acct')\n",
    "print(res)"
   ]
  },
  {
   "cell_type": "code",
   "execution_count": 38,
   "id": "87c2d1fa-0754-46af-b0f0-f4ce534261b1",
   "metadata": {},
   "outputs": [],
   "source": [
    "# metacharacter ^ matches start of target string when used outside []\n",
    "# metacharacter $ matches end of string"
   ]
  },
  {
   "cell_type": "code",
   "execution_count": 39,
   "id": "4bc13397-1c3e-4725-8087-f5755f9c94d8",
   "metadata": {},
   "outputs": [
    {
     "name": "stdin",
     "output_type": "stream",
     "text": [
      "string? ('quit' to stop)  pat\n"
     ]
    },
    {
     "name": "stdout",
     "output_type": "stream",
     "text": [
      "match\n"
     ]
    },
    {
     "name": "stdin",
     "output_type": "stream",
     "text": [
      "string? ('quit' to stop)  part\n"
     ]
    },
    {
     "name": "stdout",
     "output_type": "stream",
     "text": [
      "match\n"
     ]
    },
    {
     "name": "stdin",
     "output_type": "stream",
     "text": [
      "string? ('quit' to stop)  apart\n"
     ]
    },
    {
     "name": "stdout",
     "output_type": "stream",
     "text": [
      "no match\n"
     ]
    },
    {
     "name": "stdin",
     "output_type": "stream",
     "text": [
      "string? ('quit' to stop)  p\n"
     ]
    },
    {
     "name": "stdout",
     "output_type": "stream",
     "text": [
      "match\n"
     ]
    },
    {
     "name": "stdin",
     "output_type": "stream",
     "text": [
      "string? ('quit' to stop)  quit\n"
     ]
    }
   ],
   "source": [
    "# example 1\n",
    "while True:\n",
    "    astr = input(\"string? ('quit' to stop) \")\n",
    "    if astr == 'quit':\n",
    "        break\n",
    "    res = re.search('^p', astr) # target string must start with p\n",
    "    print('match') if res else print('no match') "
   ]
  },
  {
   "cell_type": "code",
   "execution_count": 40,
   "id": "eeb605bd-cd9a-4744-ae59-ddc345346ac2",
   "metadata": {},
   "outputs": [
    {
     "name": "stdin",
     "output_type": "stream",
     "text": [
      "string? ('quit' to stop)  tarp\n"
     ]
    },
    {
     "name": "stdout",
     "output_type": "stream",
     "text": [
      "match\n"
     ]
    },
    {
     "name": "stdin",
     "output_type": "stream",
     "text": [
      "string? ('quit' to stop)  \n"
     ]
    },
    {
     "name": "stdout",
     "output_type": "stream",
     "text": [
      "no match\n"
     ]
    },
    {
     "name": "stdin",
     "output_type": "stream",
     "text": [
      "string? ('quit' to stop)  p\n"
     ]
    },
    {
     "name": "stdout",
     "output_type": "stream",
     "text": [
      "match\n"
     ]
    },
    {
     "name": "stdin",
     "output_type": "stream",
     "text": [
      "string? ('quit' to stop)  carp\n"
     ]
    },
    {
     "name": "stdout",
     "output_type": "stream",
     "text": [
      "match\n"
     ]
    },
    {
     "name": "stdin",
     "output_type": "stream",
     "text": [
      "string? ('quit' to stop)  cap\n"
     ]
    },
    {
     "name": "stdout",
     "output_type": "stream",
     "text": [
      "match\n"
     ]
    },
    {
     "name": "stdin",
     "output_type": "stream",
     "text": [
      "string? ('quit' to stop)  captor\n"
     ]
    },
    {
     "name": "stdout",
     "output_type": "stream",
     "text": [
      "no match\n"
     ]
    },
    {
     "name": "stdin",
     "output_type": "stream",
     "text": [
      "string? ('quit' to stop)  quit\n"
     ]
    }
   ],
   "source": [
    "while True:\n",
    "    astr = input(\"string? ('quit' to stop) \")\n",
    "    if astr == 'quit':\n",
    "        break\n",
    "    res = re.search('p$', astr) # target string must END with p\n",
    "    print('match') if res else print('no match') "
   ]
  },
  {
   "cell_type": "code",
   "execution_count": null,
   "id": "812861cb-4a58-451d-901c-eb0d6da4fc28",
   "metadata": {},
   "outputs": [
    {
     "name": "stdin",
     "output_type": "stream",
     "text": [
      "string? ('quit' to stop)  art\n"
     ]
    },
    {
     "name": "stdout",
     "output_type": "stream",
     "text": [
      "no match\n"
     ]
    },
    {
     "name": "stdin",
     "output_type": "stream",
     "text": [
      "string? ('quit' to stop)  arrest\n"
     ]
    },
    {
     "name": "stdout",
     "output_type": "stream",
     "text": [
      "match\n"
     ]
    },
    {
     "name": "stdin",
     "output_type": "stream",
     "text": [
      "string? ('quit' to stop)  artistry\n"
     ]
    },
    {
     "name": "stdout",
     "output_type": "stream",
     "text": [
      "no match\n"
     ]
    }
   ],
   "source": [
    "# example 1\n",
    "while True:\n",
    "    astr = input(\"string? ('quit' to stop) \")\n",
    "    if astr == 'quit':\n",
    "        break\n",
    "    res = re.search('ar[a-z]+t$', astr)\n",
    "    print('match') if res else print('no match') "
   ]
  },
  {
   "cell_type": "code",
   "execution_count": null,
   "id": "16cf8513-c17a-4767-bd77-7d2b1979a94d",
   "metadata": {},
   "outputs": [],
   "source": []
  }
 ],
 "metadata": {
  "kernelspec": {
   "display_name": "Python 3 (ipykernel)",
   "language": "python",
   "name": "python3"
  },
  "language_info": {
   "codemirror_mode": {
    "name": "ipython",
    "version": 3
   },
   "file_extension": ".py",
   "mimetype": "text/x-python",
   "name": "python",
   "nbconvert_exporter": "python",
   "pygments_lexer": "ipython3",
   "version": "3.9.7"
  }
 },
 "nbformat": 4,
 "nbformat_minor": 5
}
