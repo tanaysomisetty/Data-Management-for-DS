{
 "cells": [
  {
   "cell_type": "markdown",
   "id": "172a1a2a-3c59-42f4-bf43-763f9fa4733a",
   "metadata": {},
   "source": [
    "### List Comprehension ###"
   ]
  },
  {
   "cell_type": "markdown",
   "id": "eccb77d7-4cc5-45fb-bebc-e5415eb0e1e1",
   "metadata": {},
   "source": [
    "Building lists using general syntax: **[item for item in iterable]**"
   ]
  },
  {
   "cell_type": "code",
   "execution_count": 1,
   "id": "3376ceb0-451d-4678-ba41-0f26f42b662f",
   "metadata": {},
   "outputs": [
    {
     "data": {
      "text/plain": [
       "[0, 1, 2, 3, 4, 5, 6, 7, 8, 9, 10]"
      ]
     },
     "execution_count": 1,
     "metadata": {},
     "output_type": "execute_result"
    }
   ],
   "source": [
    "nums = [x for x in range(11)]\n",
    "nums"
   ]
  },
  {
   "cell_type": "code",
   "execution_count": 2,
   "id": "3d49e8b3-1e77-4b51-8938-0cf3005a407e",
   "metadata": {},
   "outputs": [
    {
     "data": {
      "text/plain": [
       "[0, 2, 4, 6, 8, 10, 12, 14, 16, 18, 20]"
      ]
     },
     "execution_count": 2,
     "metadata": {},
     "output_type": "execute_result"
    }
   ],
   "source": [
    "evens = [x for x in range(21) if x % 2 == 0]\n",
    "evens"
   ]
  },
  {
   "cell_type": "code",
   "execution_count": 3,
   "id": "1c3c6a02-d24a-4ddc-af28-39742a466a22",
   "metadata": {},
   "outputs": [
    {
     "data": {
      "text/plain": [
       "[(1, 1), (2, 4), (3, 9), (4, 16), (5, 25)]"
      ]
     },
     "execution_count": 3,
     "metadata": {},
     "output_type": "execute_result"
    }
   ],
   "source": [
    "squares = [(x,x*x) for x in range(1,6)]\n",
    "squares"
   ]
  },
  {
   "cell_type": "code",
   "execution_count": 4,
   "id": "dd98ee16-d457-4001-af72-9d663e1993c3",
   "metadata": {},
   "outputs": [
    {
     "data": {
      "text/plain": [
       "['i',\n",
       " 'e',\n",
       " 'o',\n",
       " 'a',\n",
       " 'o',\n",
       " 'u',\n",
       " 'e',\n",
       " 'e',\n",
       " 'e',\n",
       " 'o',\n",
       " 'u',\n",
       " 'e',\n",
       " 'a',\n",
       " 'I',\n",
       " 'o',\n",
       " 'e',\n",
       " 'o',\n",
       " 'u',\n",
       " 'e',\n",
       " 'a',\n",
       " 'e',\n",
       " 'o',\n",
       " 'o',\n",
       " 'a',\n",
       " 'i',\n",
       " 'e',\n",
       " 'i']"
      ]
     },
     "execution_count": 4,
     "metadata": {},
     "output_type": "execute_result"
    }
   ],
   "source": [
    "# extract all vowels from a string\n",
    "txt = 'Friends, Romans, countrymen, lend me your ears: I come to bury Ceaser, not to praise him.'\n",
    "vowels = [v for v in txt if v.lower() in 'aeiou']\n",
    "vowels"
   ]
  },
  {
   "cell_type": "code",
   "execution_count": 7,
   "id": "44a5b815-4cfe-47dd-8d41-3f4da68ab735",
   "metadata": {},
   "outputs": [
    {
     "data": {
      "text/plain": [
       "['Friends,',\n",
       " 'Romans,',\n",
       " 'countrymen,',\n",
       " 'lend',\n",
       " 'me',\n",
       " 'your',\n",
       " 'ears:',\n",
       " 'I',\n",
       " 'come',\n",
       " 'to',\n",
       " 'bury',\n",
       " 'Ceaser,',\n",
       " 'not',\n",
       " 'to',\n",
       " 'praise',\n",
       " 'him.']"
      ]
     },
     "execution_count": 7,
     "metadata": {},
     "output_type": "execute_result"
    }
   ],
   "source": [
    "# extract all vowels from a string, only if they are NOT standalone, like 'I' above - Part 1\n",
    "txt = 'Friends, Romans, countrymen, lend me your ears: I come to bury Ceaser, not to praise him.'\n",
    "lst = txt.split() # USEFUL STRING METHOD\n",
    "lst"
   ]
  },
  {
   "cell_type": "code",
   "execution_count": 9,
   "id": "ef897552-bec8-487a-b113-daf75ba3d2a0",
   "metadata": {},
   "outputs": [
    {
     "data": {
      "text/plain": [
       "['i',\n",
       " 'e',\n",
       " 'o',\n",
       " 'a',\n",
       " 'o',\n",
       " 'u',\n",
       " 'e',\n",
       " 'e',\n",
       " 'e',\n",
       " 'o',\n",
       " 'u',\n",
       " 'e',\n",
       " 'a',\n",
       " 'o',\n",
       " 'e',\n",
       " 'o',\n",
       " 'u',\n",
       " 'e',\n",
       " 'a',\n",
       " 'e',\n",
       " 'o',\n",
       " 'o',\n",
       " 'a',\n",
       " 'i',\n",
       " 'e',\n",
       " 'i']"
      ]
     },
     "execution_count": 9,
     "metadata": {},
     "output_type": "execute_result"
    }
   ],
   "source": [
    "# extract all vowels from a string, only if they are NOT standalone, like 'I' above - Part 1\n",
    "vowels = [v for word in lst for v in word if len(word) > 1 and v.lower() in 'aeiou']\n",
    "vowels"
   ]
  },
  {
   "cell_type": "code",
   "execution_count": 11,
   "id": "62ecc1fa-f156-4add-bb49-b016319a507c",
   "metadata": {},
   "outputs": [
    {
     "data": {
      "text/plain": [
       "['198:210', '640:250']"
      ]
     },
     "execution_count": 11,
     "metadata": {},
     "output_type": "execute_result"
    }
   ],
   "source": [
    "# extract all 200 level classes from a list of course numbers\n",
    "courses = ['198:111','198:210','640:250','750:313']\n",
    "sub200 = [cl for cl in courses if cl[cl.find(':')+1] == '2']\n",
    "sub200"
   ]
  },
  {
   "cell_type": "code",
   "execution_count": 12,
   "id": "566acfb6-029f-4f54-ad6e-c8eb3eecc0bf",
   "metadata": {},
   "outputs": [
    {
     "data": {
      "text/plain": [
       "['198:111', '198:210', '640:250', '750:313']"
      ]
     },
     "execution_count": 12,
     "metadata": {},
     "output_type": "execute_result"
    }
   ],
   "source": [
    "# extract all 200 level classes from a list of course numbers\n",
    "courses = ['198:111','198:210','640:250','750:313']\n",
    "sub200 = [cl for cl in courses if cl[cl.find(':2')]]\n",
    "sub200"
   ]
  },
  {
   "cell_type": "markdown",
   "id": "66c1ed9c-dc0e-451e-b710-8d12c9e3d769",
   "metadata": {},
   "source": [
    "**Above doesn't work because if doesn't do a comparison, and if &lt;num> is always True**"
   ]
  },
  {
   "cell_type": "code",
   "execution_count": 16,
   "id": "251c2f0e-a405-426d-a2c1-fa17a944e8e7",
   "metadata": {},
   "outputs": [
    {
     "data": {
      "text/plain": [
       "[1992, 1996, 2000, 2004, 2008, 2012, 2016, 2020]"
      ]
     },
     "execution_count": 16,
     "metadata": {},
     "output_type": "execute_result"
    }
   ],
   "source": [
    "# list of leap years from 1990 to 2020, NOT using list comprehension\n",
    "leaps = []\n",
    "for yr in range(1990,2021):\n",
    "    if (yr % 4 == 0 and yr % 100 != 0) or (yr % 400 == 0):\n",
    "        leaps.append(yr)\n",
    "leaps"
   ]
  },
  {
   "cell_type": "code",
   "execution_count": 17,
   "id": "135b64eb-b7d4-4c03-978b-e0c1b53bb6ee",
   "metadata": {},
   "outputs": [
    {
     "data": {
      "text/plain": [
       "[1992, 1996, 2000, 2004, 2008, 2012, 2016, 2020]"
      ]
     },
     "execution_count": 17,
     "metadata": {},
     "output_type": "execute_result"
    }
   ],
   "source": [
    "# using list comprehension\n",
    "leapyrs = [yr for yr in range(1990,2021) if (yr % 4 == 0 and yr % 100 != 0) or (yr % 400 == 0)]\n",
    "leapyrs"
   ]
  },
  {
   "cell_type": "code",
   "execution_count": 1,
   "id": "d567896b-f039-4c6f-a671-d5e69acb19b4",
   "metadata": {},
   "outputs": [],
   "source": [
    "# given lists of integers x and y, generate all pairs of values in x and y, except if they are equal\n",
    "def get_pairs(x,y):\n",
    "    return [(xv,yv) for xv in x for yv in y if xv != yv]"
   ]
  },
  {
   "cell_type": "code",
   "execution_count": 2,
   "id": "9f0fe4b0-d519-49fc-93d4-78013643382f",
   "metadata": {},
   "outputs": [
    {
     "data": {
      "text/plain": [
       "[(1, 2), (1, 4), (3, 2), (3, 4), (2, 4)]"
      ]
     },
     "execution_count": 2,
     "metadata": {},
     "output_type": "execute_result"
    }
   ],
   "source": [
    "get_pairs([1,3,2],[2,4])"
   ]
  },
  {
   "cell_type": "code",
   "execution_count": 3,
   "id": "99a52b3e-82b8-4d74-a23b-a00b4696422f",
   "metadata": {},
   "outputs": [
    {
     "data": {
      "text/plain": [
       "[(2, 3),\n",
       " (2, 1),\n",
       " (2, 6),\n",
       " (1, 3),\n",
       " (1, 6),\n",
       " (5, 3),\n",
       " (5, 1),\n",
       " (5, 6),\n",
       " (4, 3),\n",
       " (4, 1),\n",
       " (4, 6)]"
      ]
     },
     "execution_count": 3,
     "metadata": {},
     "output_type": "execute_result"
    }
   ],
   "source": [
    "get_pairs([2,1,5,4],[3,1,6])"
   ]
  },
  {
   "cell_type": "code",
   "execution_count": 5,
   "id": "46ecfe65-990d-4687-84c1-5d73a6b06565",
   "metadata": {},
   "outputs": [
    {
     "data": {
      "text/plain": [
       "[(0, 1),\n",
       " (0, 2),\n",
       " (0, 3),\n",
       " (0, 4),\n",
       " (1, 2),\n",
       " (1, 3),\n",
       " (1, 4),\n",
       " (2, 3),\n",
       " (2, 4),\n",
       " (3, 4)]"
      ]
     },
     "execution_count": 5,
     "metadata": {},
     "output_type": "execute_result"
    }
   ],
   "source": [
    "# generate pairs x,y where 0 <= x < 5, and x < y < 5\n",
    "increasing_pairs = [(x,y) for x in range(5) for y in range(x+1,5)]\n",
    "increasing_pairs"
   ]
  },
  {
   "cell_type": "code",
   "execution_count": 12,
   "id": "6afa156c-19bd-4ce4-9e0a-06070454c303",
   "metadata": {},
   "outputs": [
    {
     "data": {
      "text/plain": [
       "[(0, 1),\n",
       " (0, 2),\n",
       " (0, 3),\n",
       " (0, 4),\n",
       " (1, 2),\n",
       " (1, 3),\n",
       " (1, 4),\n",
       " (2, 3),\n",
       " (2, 4),\n",
       " (3, 4)]"
      ]
     },
     "execution_count": 12,
     "metadata": {},
     "output_type": "execute_result"
    }
   ],
   "source": [
    "# generate pairs x,y where 0 <= x < 5, and x < y < 5 - version 2 (less efficient than previous version)\n",
    "increasing_pairs = [(x,y) for x in range(5) for y in range(5) if y > x]\n",
    "increasing_pairs"
   ]
  },
  {
   "cell_type": "code",
   "execution_count": 8,
   "id": "3e5d15d6-1b11-454a-9ccf-853898dbbd48",
   "metadata": {},
   "outputs": [
    {
     "data": {
      "text/plain": [
       "[[1, 2, 3], [1, 2, 3], [1, 2, 3]]"
      ]
     },
     "execution_count": 8,
     "metadata": {},
     "output_type": "execute_result"
    }
   ],
   "source": [
    "# generate the list [[1,2,3],[1,2,3],[1,2,3]]\n",
    "list_of_lists = [[j for j in range(1,4)] for _ in range(1,4)]\n",
    "list_of_lists"
   ]
  },
  {
   "cell_type": "code",
   "execution_count": 9,
   "id": "837e02b2-b541-4deb-a689-0b0901cb2f9a",
   "metadata": {},
   "outputs": [
    {
     "data": {
      "text/plain": [
       "[[1, 2, 3], [4, 5, 6], [7, 8, 9]]"
      ]
     },
     "execution_count": 9,
     "metadata": {},
     "output_type": "execute_result"
    }
   ],
   "source": [
    "# generate the list [[1,2,3],[4,5,6],[7,8,9]]\n",
    "list_of_lists = [[j+(i-1)*3 for j in range(1,4)] for i in range(1,4)]\n",
    "list_of_lists"
   ]
  },
  {
   "cell_type": "code",
   "execution_count": 10,
   "id": "668a3adc-46c4-48c1-8bac-61913a98ea59",
   "metadata": {},
   "outputs": [
    {
     "data": {
      "text/plain": [
       "[[1], [1, 2], [1, 2, 3]]"
      ]
     },
     "execution_count": 10,
     "metadata": {},
     "output_type": "execute_result"
    }
   ],
   "source": [
    "# lists of varying lengths\n",
    "varying_lengths = [[j for j in range(1,i)] for i in range(2,5)]\n",
    "varying_lengths"
   ]
  },
  {
   "cell_type": "markdown",
   "id": "b5fed1b1-b95b-470a-971c-8ecee078eda5",
   "metadata": {},
   "source": [
    "**Sorting**"
   ]
  },
  {
   "cell_type": "code",
   "execution_count": 11,
   "id": "98abca33-d933-431d-9104-86e17d51fbd8",
   "metadata": {},
   "outputs": [
    {
     "data": {
      "text/plain": [
       "[1, 1, 2, 3, 3, 4, 5, 9]"
      ]
     },
     "execution_count": 11,
     "metadata": {},
     "output_type": "execute_result"
    }
   ],
   "source": [
    "lst1 = [3,2,4,1,5,9,3,1]\n",
    "lst1.sort()\n",
    "lst1"
   ]
  },
  {
   "cell_type": "code",
   "execution_count": 13,
   "id": "cab4d4a1-82de-4794-b66c-67908358e02a",
   "metadata": {},
   "outputs": [
    {
     "data": {
      "text/plain": [
       "[9, 5, 4, 3, 3, 2, 1, 1]"
      ]
     },
     "execution_count": 13,
     "metadata": {},
     "output_type": "execute_result"
    }
   ],
   "source": [
    "lst1.sort(reverse=True)\n",
    "lst1"
   ]
  },
  {
   "cell_type": "code",
   "execution_count": 16,
   "id": "de41718d-b512-4534-8b72-6a340495e356",
   "metadata": {},
   "outputs": [
    {
     "data": {
      "text/plain": [
       "[1, -1, -2, 3, 3, 4, -5, 9]"
      ]
     },
     "execution_count": 16,
     "metadata": {},
     "output_type": "execute_result"
    }
   ],
   "source": [
    "lst2 = [3,-2,4,1,-5,9,3,-1]\n",
    "lst2.sort(key=abs) # key says how to use each list item when sorting, here take absoulute value\n",
    "lst2"
   ]
  },
  {
   "cell_type": "code",
   "execution_count": 22,
   "id": "595663e4-85ee-4d3c-b0fd-35a6037f8655",
   "metadata": {},
   "outputs": [
    {
     "name": "stdout",
     "output_type": "stream",
     "text": [
      "[3, -2, 4, 1, -5, 9, 3, -1]\n",
      "[9, -5, 4, 3, 3, -2, 1, -1]\n"
     ]
    }
   ],
   "source": [
    "# reverse sort list, don't modify it so get sorted list as a new result\n",
    "lst2 = [3,-2,4,1,-5,9,3,-1]\n",
    "lst2sort = sorted(lst2, key=abs, reverse=True)\n",
    "print(lst2)\n",
    "print(lst2sort)"
   ]
  },
  {
   "cell_type": "markdown",
   "id": "997efbc9-a7cf-4f48-8994-e90b4d2d48c1",
   "metadata": {},
   "source": [
    "**Lambda**"
   ]
  },
  {
   "cell_type": "code",
   "execution_count": 23,
   "id": "3cc6e21c-0a3f-4f6c-b17d-383f92b4d064",
   "metadata": {},
   "outputs": [
    {
     "data": {
      "text/plain": [
       "5"
      ]
     },
     "execution_count": 23,
     "metadata": {},
     "output_type": "execute_result"
    }
   ],
   "source": [
    "# two params in, result out - no explicit return\n",
    "lam = lambda a,b: a + b\n",
    "lam(2,3)"
   ]
  },
  {
   "cell_type": "code",
   "execution_count": 24,
   "id": "d501f521-1927-4414-9be3-bba1e5d6b96c",
   "metadata": {},
   "outputs": [
    {
     "data": {
      "text/plain": [
       "5"
      ]
     },
     "execution_count": 24,
     "metadata": {},
     "output_type": "execute_result"
    }
   ],
   "source": [
    "# can roll up lambda definition and call in one statement\n",
    "(lambda a,b: a+b)(2,3)"
   ]
  },
  {
   "cell_type": "code",
   "execution_count": 25,
   "id": "f9475eeb-f098-4851-83d2-d21dba8d6d53",
   "metadata": {},
   "outputs": [
    {
     "data": {
      "text/plain": [
       "1.5"
      ]
     },
     "execution_count": 25,
     "metadata": {},
     "output_type": "execute_result"
    }
   ],
   "source": [
    "lam1 = lambda tup: tup[0]/tup[1]\n",
    "lam1((3,2))"
   ]
  },
  {
   "cell_type": "code",
   "execution_count": 26,
   "id": "f442f73a-bc00-40f2-814c-f66dfeff0452",
   "metadata": {},
   "outputs": [
    {
     "name": "stdout",
     "output_type": "stream",
     "text": [
      "7\n",
      "12\n"
     ]
    }
   ],
   "source": [
    "lam2 = lambda x,y,z=0: x+y+z\n",
    "print(lam2(3,4))\n",
    "print(lam2(3,4,5))"
   ]
  },
  {
   "cell_type": "code",
   "execution_count": 27,
   "id": "10357400-2e33-412c-8ec7-799ac1459367",
   "metadata": {},
   "outputs": [
    {
     "data": {
      "text/plain": [
       "[1, -1, -2, 3, 3, 4, -5, 9]"
      ]
     },
     "execution_count": 27,
     "metadata": {},
     "output_type": "execute_result"
    }
   ],
   "source": [
    "lst2 = [3,-2,4,1,-5,9,3,-1]\n",
    "lst2.sort(key=lambda x: abs(x))\n",
    "lst2"
   ]
  },
  {
   "cell_type": "code",
   "execution_count": 29,
   "id": "0dcb0241-a221-4f93-af43-ed241155809e",
   "metadata": {},
   "outputs": [
    {
     "data": {
      "text/plain": [
       "['cs210', 'cs344', 'math250', 'phy313']"
      ]
     },
     "execution_count": 29,
     "metadata": {},
     "output_type": "execute_result"
    }
   ],
   "source": [
    "courses = ['math250','cs210','cs344','phy313']\n",
    "sorted(courses)"
   ]
  },
  {
   "cell_type": "code",
   "execution_count": 30,
   "id": "5f1c512e-aab6-48b0-9c97-5ff9ae2ab42c",
   "metadata": {},
   "outputs": [
    {
     "data": {
      "text/plain": [
       "['cs210', 'math250', 'phy313', 'cs344']"
      ]
     },
     "execution_count": 30,
     "metadata": {},
     "output_type": "execute_result"
    }
   ],
   "source": [
    "sorted(course,key=lambda x: x[-3:])"
   ]
  },
  {
   "cell_type": "code",
   "execution_count": null,
   "id": "6b7a15ea-82cc-4d6d-8786-ecd48f85f2b6",
   "metadata": {},
   "outputs": [],
   "source": []
  }
 ],
 "metadata": {
  "kernelspec": {
   "display_name": "Python 3 (ipykernel)",
   "language": "python",
   "name": "python3"
  },
  "language_info": {
   "codemirror_mode": {
    "name": "ipython",
    "version": 3
   },
   "file_extension": ".py",
   "mimetype": "text/x-python",
   "name": "python",
   "nbconvert_exporter": "python",
   "pygments_lexer": "ipython3",
   "version": "3.9.7"
  }
 },
 "nbformat": 4,
 "nbformat_minor": 5
}
