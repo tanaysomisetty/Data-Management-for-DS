{
 "cells": [
  {
   "cell_type": "markdown",
   "id": "f3c48e8e-ce89-413c-acf0-a327d4b152c8",
   "metadata": {},
   "source": [
    "#### Lists ####"
   ]
  },
  {
   "cell_type": "code",
   "execution_count": 2,
   "id": "f5220f3e-b1d3-4882-b5dd-6987b80e8d95",
   "metadata": {},
   "outputs": [
    {
     "name": "stdout",
     "output_type": "stream",
     "text": [
      "cs\n"
     ]
    }
   ],
   "source": [
    "listofstrings = ['cs','ee','math']\n",
    "print(listofstrings[0])"
   ]
  },
  {
   "cell_type": "code",
   "execution_count": 3,
   "id": "2ae1d663-cc7d-47cc-ad51-081bd6770057",
   "metadata": {},
   "outputs": [
    {
     "name": "stdout",
     "output_type": "stream",
     "text": [
      "[4, 5, 6]\n"
     ]
    }
   ],
   "source": [
    "# list of lists\n",
    "alst = [1,2,3,[4,5,6],[7,8],10,11]\n",
    "print(alst[3])"
   ]
  },
  {
   "cell_type": "code",
   "execution_count": 4,
   "id": "b0bb7283-9912-45ed-a87a-d3486fa0178d",
   "metadata": {},
   "outputs": [
    {
     "name": "stdout",
     "output_type": "stream",
     "text": [
      "5\n"
     ]
    }
   ],
   "source": [
    "print(alst[3][1])"
   ]
  },
  {
   "cell_type": "code",
   "execution_count": 5,
   "id": "068c7077-92dd-4ade-b84f-6aa41630528c",
   "metadata": {},
   "outputs": [
    {
     "data": {
      "text/plain": [
       "False"
      ]
     },
     "execution_count": 5,
     "metadata": {},
     "output_type": "execute_result"
    }
   ],
   "source": [
    "# membership \n",
    "6 in alst"
   ]
  },
  {
   "cell_type": "code",
   "execution_count": 6,
   "id": "b9863fd7-5c37-4aef-893b-5d0f78acdd3c",
   "metadata": {},
   "outputs": [
    {
     "data": {
      "text/plain": [
       "True"
      ]
     },
     "execution_count": 6,
     "metadata": {},
     "output_type": "execute_result"
    }
   ],
   "source": [
    "[7,8] in alst"
   ]
  },
  {
   "cell_type": "code",
   "execution_count": 8,
   "id": "78396565-3648-4bdf-a4aa-b0c961ea7d37",
   "metadata": {},
   "outputs": [],
   "source": [
    "lst = [0,1,2,3,4,5,6,7,8,9]\n",
    "nine = lst[9]"
   ]
  },
  {
   "cell_type": "code",
   "execution_count": 9,
   "id": "c8839866-4157-4d15-a77d-d2777caa8a9b",
   "metadata": {},
   "outputs": [
    {
     "data": {
      "text/plain": [
       "9"
      ]
     },
     "execution_count": 9,
     "metadata": {},
     "output_type": "execute_result"
    }
   ],
   "source": [
    "nine"
   ]
  },
  {
   "cell_type": "code",
   "execution_count": 11,
   "id": "c1a036ab-5fa2-4fd0-874c-181bb05b395f",
   "metadata": {},
   "outputs": [
    {
     "data": {
      "text/plain": [
       "list[-2]"
      ]
     },
     "execution_count": 11,
     "metadata": {},
     "output_type": "execute_result"
    }
   ],
   "source": [
    "eight = list[-2]\n",
    "eight"
   ]
  },
  {
   "cell_type": "code",
   "execution_count": 12,
   "id": "c6264d10-f0d3-4dc4-a458-3e152f914edf",
   "metadata": {},
   "outputs": [
    {
     "data": {
      "text/plain": [
       "[0, 11, 2, 3, 4, 5, 6, 7, 8, 9]"
      ]
     },
     "execution_count": 12,
     "metadata": {},
     "output_type": "execute_result"
    }
   ],
   "source": [
    "lst[1] = 11\n",
    "lst"
   ]
  },
  {
   "cell_type": "code",
   "execution_count": 15,
   "id": "76cf7c8e-6850-4c9e-8c01-2e4e6acc43f8",
   "metadata": {},
   "outputs": [
    {
     "data": {
      "text/plain": [
       "[11, 2, 3]"
      ]
     },
     "execution_count": 15,
     "metadata": {},
     "output_type": "execute_result"
    }
   ],
   "source": [
    "#slices of list\n",
    "second_thru_fourth = lst[1:4]\n",
    "second_thru_fourth"
   ]
  },
  {
   "cell_type": "code",
   "execution_count": 17,
   "id": "8cb4e37e-23cb-4477-85cb-452f60257b27",
   "metadata": {},
   "outputs": [
    {
     "data": {
      "text/plain": [
       "[0, 11, 2]"
      ]
     },
     "execution_count": 17,
     "metadata": {},
     "output_type": "execute_result"
    }
   ],
   "source": [
    "first_three = lst[:3]\n",
    "first_three"
   ]
  },
  {
   "cell_type": "code",
   "execution_count": 18,
   "id": "7da5b78e-5619-40a1-8836-0e63a461adaf",
   "metadata": {},
   "outputs": [
    {
     "data": {
      "text/plain": [
       "[7, 8, 9]"
      ]
     },
     "execution_count": 18,
     "metadata": {},
     "output_type": "execute_result"
    }
   ],
   "source": [
    "last_three = lst[-3:]\n",
    "last_three"
   ]
  },
  {
   "cell_type": "code",
   "execution_count": 19,
   "id": "a70ae8da-7376-4b04-adb2-56ea3661b417",
   "metadata": {},
   "outputs": [
    {
     "data": {
      "text/plain": [
       "[11, 2, 3, 4, 5, 6, 7, 8]"
      ]
     },
     "execution_count": 19,
     "metadata": {},
     "output_type": "execute_result"
    }
   ],
   "source": [
    "stuff = lst[1:-1]\n",
    "stuff"
   ]
  },
  {
   "cell_type": "code",
   "execution_count": 20,
   "id": "e93a4064-d458-4577-9f75-5c8eaaab08bb",
   "metadata": {},
   "outputs": [
    {
     "data": {
      "text/plain": [
       "[0, 11, 2, 3, 4, 5, 6, 7, 8, 9]"
      ]
     },
     "execution_count": 20,
     "metadata": {},
     "output_type": "execute_result"
    }
   ],
   "source": [
    "lst[:]"
   ]
  },
  {
   "cell_type": "code",
   "execution_count": 21,
   "id": "0bf7f617-5370-4e84-bda7-7773dc2660e6",
   "metadata": {},
   "outputs": [
    {
     "data": {
      "text/plain": [
       "[0, 11, 2, 3, 4, 5, 6, 7, 8, 9]"
      ]
     },
     "execution_count": 21,
     "metadata": {},
     "output_type": "execute_result"
    }
   ],
   "source": [
    "lst"
   ]
  },
  {
   "cell_type": "code",
   "execution_count": 22,
   "id": "4a1d136f-6bae-4b99-a849-c74f4c450328",
   "metadata": {},
   "outputs": [
    {
     "data": {
      "text/plain": [
       "[0, 3, 6, 9]"
      ]
     },
     "execution_count": 22,
     "metadata": {},
     "output_type": "execute_result"
    }
   ],
   "source": [
    "lst[::3]"
   ]
  },
  {
   "cell_type": "code",
   "execution_count": 23,
   "id": "ee6548c4-d903-437a-9f10-178323d8764c",
   "metadata": {},
   "outputs": [
    {
     "data": {
      "text/plain": [
       "[8, 6, 4, 2]"
      ]
     },
     "execution_count": 23,
     "metadata": {},
     "output_type": "execute_result"
    }
   ],
   "source": [
    "lst[8:0:-2]"
   ]
  },
  {
   "cell_type": "code",
   "execution_count": 24,
   "id": "dc676147-6d14-4ef7-9838-9ba176f0f01f",
   "metadata": {},
   "outputs": [
    {
     "name": "stdout",
     "output_type": "stream",
     "text": [
      "[1, 2, 3]\n",
      "[1, 2, 3, 4, 5, 6, 7]\n"
     ]
    }
   ],
   "source": [
    "xx = [1,2,3]\n",
    "yy = xx + [4,5,6,7]\n",
    "print(xx)\n",
    "print(yy)"
   ]
  },
  {
   "cell_type": "code",
   "execution_count": 25,
   "id": "17bc7c5d-464f-43b3-88dd-e6305d12da48",
   "metadata": {},
   "outputs": [
    {
     "ename": "TypeError",
     "evalue": "can only concatenate list (not \"int\") to list",
     "output_type": "error",
     "traceback": [
      "\u001b[0;31m---------------------------------------------------------------------------\u001b[0m",
      "\u001b[0;31mTypeError\u001b[0m                                 Traceback (most recent call last)",
      "\u001b[0;32m/var/folders/j8/4sd0mj5s083cmgy92br3xg7r0000gn/T/ipykernel_9373/1444941119.py\u001b[0m in \u001b[0;36m<module>\u001b[0;34m\u001b[0m\n\u001b[0;32m----> 1\u001b[0;31m \u001b[0mzz\u001b[0m \u001b[0;34m=\u001b[0m \u001b[0mxx\u001b[0m \u001b[0;34m+\u001b[0m \u001b[0;36m2\u001b[0m\u001b[0;34m\u001b[0m\u001b[0;34m\u001b[0m\u001b[0m\n\u001b[0m",
      "\u001b[0;31mTypeError\u001b[0m: can only concatenate list (not \"int\") to list"
     ]
    }
   ],
   "source": [
    "zz = xx + 2"
   ]
  },
  {
   "cell_type": "code",
   "execution_count": 26,
   "id": "96af34c4-69ef-4928-9fb7-5b6d41c1371f",
   "metadata": {},
   "outputs": [
    {
     "data": {
      "text/plain": [
       "[1, 2, 3, 4, 5, 6, 7]"
      ]
     },
     "execution_count": 26,
     "metadata": {},
     "output_type": "execute_result"
    }
   ],
   "source": [
    "xx = [1,2,3]\n",
    "xx.extend([4,5,6,7])\n",
    "xx"
   ]
  },
  {
   "cell_type": "code",
   "execution_count": 27,
   "id": "bf26ca7c-470f-45a3-b908-dd1a79323d35",
   "metadata": {},
   "outputs": [
    {
     "ename": "TypeError",
     "evalue": "'int' object is not iterable",
     "output_type": "error",
     "traceback": [
      "\u001b[0;31m---------------------------------------------------------------------------\u001b[0m",
      "\u001b[0;31mTypeError\u001b[0m                                 Traceback (most recent call last)",
      "\u001b[0;32m/var/folders/j8/4sd0mj5s083cmgy92br3xg7r0000gn/T/ipykernel_9373/1447453041.py\u001b[0m in \u001b[0;36m<module>\u001b[0;34m\u001b[0m\n\u001b[0;32m----> 1\u001b[0;31m \u001b[0mxx\u001b[0m\u001b[0;34m.\u001b[0m\u001b[0mextend\u001b[0m\u001b[0;34m(\u001b[0m\u001b[0;36m17\u001b[0m\u001b[0;34m)\u001b[0m\u001b[0;34m\u001b[0m\u001b[0;34m\u001b[0m\u001b[0m\n\u001b[0m",
      "\u001b[0;31mTypeError\u001b[0m: 'int' object is not iterable"
     ]
    }
   ],
   "source": [
    " xx.extend(17)"
   ]
  },
  {
   "cell_type": "code",
   "execution_count": 29,
   "id": "4fd6d7b4-092f-405b-bf05-d9eaa2527539",
   "metadata": {},
   "outputs": [
    {
     "data": {
      "text/plain": [
       "[2, 3, 4]"
      ]
     },
     "execution_count": 29,
     "metadata": {},
     "output_type": "execute_result"
    }
   ],
   "source": [
    "yy = [2,3,4]\n",
    "yy + [5,6,7]\n",
    "yy"
   ]
  },
  {
   "cell_type": "code",
   "execution_count": 32,
   "id": "6212188d-2c01-4f15-8084-a669d4d6ff8d",
   "metadata": {},
   "outputs": [],
   "source": [
    "xx.extend(\"abc\") # string is iterable"
   ]
  },
  {
   "cell_type": "code",
   "execution_count": 33,
   "id": "a4a9f083-ded2-4702-8010-98f66da660c7",
   "metadata": {},
   "outputs": [
    {
     "data": {
      "text/plain": [
       "[1, 2, 3, 4, 5, 6, 7, 'a', 'b', 'c', 'a', 'b', 'c', 'a', 'b', 'c']"
      ]
     },
     "execution_count": 33,
     "metadata": {},
     "output_type": "execute_result"
    }
   ],
   "source": [
    "xx"
   ]
  },
  {
   "cell_type": "code",
   "execution_count": 35,
   "id": "7456504d-01d3-4bba-bad7-0b6c7afbaf71",
   "metadata": {},
   "outputs": [
    {
     "data": {
      "text/plain": [
       "[1, 2, 3, 4]"
      ]
     },
     "execution_count": 35,
     "metadata": {},
     "output_type": "execute_result"
    }
   ],
   "source": [
    "x = [1,2,3]\n",
    "x.append(4)\n",
    "x"
   ]
  },
  {
   "cell_type": "code",
   "execution_count": 36,
   "id": "23aefd1f-e34a-41bf-816e-3d9857fce600",
   "metadata": {},
   "outputs": [
    {
     "data": {
      "text/plain": [
       "[1, 2, 3, 4, 'abc']"
      ]
     },
     "execution_count": 36,
     "metadata": {},
     "output_type": "execute_result"
    }
   ],
   "source": [
    "x.append(\"abc\")\n",
    "x"
   ]
  },
  {
   "cell_type": "code",
   "execution_count": 37,
   "id": "f6519741-dd95-4a65-ae2c-32e99b02fddf",
   "metadata": {},
   "outputs": [],
   "source": [
    "x.append([4,5,6])"
   ]
  },
  {
   "cell_type": "code",
   "execution_count": 38,
   "id": "0457155b-35e0-4f6d-bdc2-ac2e9abde4fd",
   "metadata": {},
   "outputs": [
    {
     "data": {
      "text/plain": [
       "[1, 2, 3, 4, 'abc', [4, 5, 6]]"
      ]
     },
     "execution_count": 38,
     "metadata": {},
     "output_type": "execute_result"
    }
   ],
   "source": [
    "x"
   ]
  },
  {
   "cell_type": "code",
   "execution_count": 39,
   "id": "2fe4c9d2-606b-45a5-90b4-b6aa9032c99f",
   "metadata": {},
   "outputs": [
    {
     "name": "stdout",
     "output_type": "stream",
     "text": [
      "4 6\n"
     ]
    }
   ],
   "source": [
    "# unpacking\n",
    "a,b = [4,6]\n",
    "print(a,b)"
   ]
  },
  {
   "cell_type": "code",
   "execution_count": 40,
   "id": "807890e4-6a84-48e0-b8db-55b3a7cd499e",
   "metadata": {},
   "outputs": [
    {
     "data": {
      "text/plain": [
       "6"
      ]
     },
     "execution_count": 40,
     "metadata": {},
     "output_type": "execute_result"
    }
   ],
   "source": [
    "_, b = [4,6]\n",
    "b"
   ]
  },
  {
   "cell_type": "code",
   "execution_count": 45,
   "id": "b926251d-211c-43bd-b599-4737d04abd45",
   "metadata": {},
   "outputs": [
    {
     "name": "stdout",
     "output_type": "stream",
     "text": [
      "5\n",
      "[4, -3, 6, 1, -7, 3, 8]\n"
     ]
    }
   ],
   "source": [
    "mylst = [5,4,-3,6,1,-7,3,8]\n",
    "first, *rest = mylst\n",
    "print(first)\n",
    "print(rest)"
   ]
  },
  {
   "cell_type": "code",
   "execution_count": 49,
   "id": "2f88d12b-5991-4684-a8b2-ac07df33bb15",
   "metadata": {},
   "outputs": [
    {
     "name": "stdout",
     "output_type": "stream",
     "text": [
      "5\n",
      "[4, -3, 6, 1, -7, 3]\n",
      "8\n"
     ]
    }
   ],
   "source": [
    "first, *chunk, last = mylst\n",
    "print(first)\n",
    "print(chunk)\n",
    "print(last)"
   ]
  },
  {
   "cell_type": "code",
   "execution_count": 52,
   "id": "994c7ad2-fe55-402b-bf94-dc4e05cbc17d",
   "metadata": {},
   "outputs": [],
   "source": [
    "mylst = [5,4,-3,6,1,-7,3,8]\n",
    "abc, efg, *potty = mylst"
   ]
  },
  {
   "cell_type": "code",
   "execution_count": 54,
   "id": "06c8da05-a75b-4be9-9e16-2380f80e4696",
   "metadata": {},
   "outputs": [
    {
     "name": "stdout",
     "output_type": "stream",
     "text": [
      "5\n",
      "4\n",
      "[-3, 6, 1, -7, 3, 8]\n"
     ]
    }
   ],
   "source": [
    "print(abc)\n",
    "print(efg)\n",
    "print(potty)"
   ]
  },
  {
   "cell_type": "code",
   "execution_count": 55,
   "id": "fccc3869-c151-4310-b668-1ec15204c7cf",
   "metadata": {},
   "outputs": [
    {
     "data": {
      "text/plain": [
       "3"
      ]
     },
     "execution_count": 55,
     "metadata": {},
     "output_type": "execute_result"
    }
   ],
   "source": [
    "clst = ['a','b','a','c','d','a','b']\n",
    "clst.count('a')"
   ]
  },
  {
   "cell_type": "code",
   "execution_count": 56,
   "id": "dd44c3d5-0241-4c07-a7f2-14982bbe975d",
   "metadata": {},
   "outputs": [
    {
     "data": {
      "text/plain": [
       "3"
      ]
     },
     "execution_count": 56,
     "metadata": {},
     "output_type": "execute_result"
    }
   ],
   "source": [
    "# find index of item\n",
    "clst.index('c')"
   ]
  },
  {
   "cell_type": "code",
   "execution_count": 58,
   "id": "d1a113bf-4bfd-4ecb-b7ba-ca4b65eda314",
   "metadata": {},
   "outputs": [
    {
     "data": {
      "text/plain": [
       "5"
      ]
     },
     "execution_count": 58,
     "metadata": {},
     "output_type": "execute_result"
    }
   ],
   "source": [
    "clst.index('a',3)"
   ]
  },
  {
   "cell_type": "code",
   "execution_count": 59,
   "id": "c0736c79-4b5c-49af-b504-b40ce1c9fc05",
   "metadata": {},
   "outputs": [
    {
     "data": {
      "text/plain": [
       "5"
      ]
     },
     "execution_count": 59,
     "metadata": {},
     "output_type": "execute_result"
    }
   ],
   "source": [
    "clst.index('a',3,6)"
   ]
  },
  {
   "cell_type": "code",
   "execution_count": 60,
   "id": "972e4c4d-f633-4cbe-acda-83351f16ae1d",
   "metadata": {},
   "outputs": [
    {
     "ename": "ValueError",
     "evalue": "'a' is not in list",
     "output_type": "error",
     "traceback": [
      "\u001b[0;31m---------------------------------------------------------------------------\u001b[0m",
      "\u001b[0;31mValueError\u001b[0m                                Traceback (most recent call last)",
      "\u001b[0;32m/var/folders/j8/4sd0mj5s083cmgy92br3xg7r0000gn/T/ipykernel_9373/2992682518.py\u001b[0m in \u001b[0;36m<module>\u001b[0;34m\u001b[0m\n\u001b[0;32m----> 1\u001b[0;31m \u001b[0mclst\u001b[0m\u001b[0;34m.\u001b[0m\u001b[0mindex\u001b[0m\u001b[0;34m(\u001b[0m\u001b[0;34m'a'\u001b[0m\u001b[0;34m,\u001b[0m\u001b[0;36m3\u001b[0m\u001b[0;34m,\u001b[0m\u001b[0;36m5\u001b[0m\u001b[0;34m)\u001b[0m\u001b[0;34m\u001b[0m\u001b[0;34m\u001b[0m\u001b[0m\n\u001b[0m",
      "\u001b[0;31mValueError\u001b[0m: 'a' is not in list"
     ]
    }
   ],
   "source": [
    "clst.index('a',3,5)"
   ]
  },
  {
   "cell_type": "code",
   "execution_count": 66,
   "id": "3a29108d-3554-449f-a563-91fa39f762fb",
   "metadata": {},
   "outputs": [],
   "source": [
    "clst = ['a','b','a','c','d','a','b','f']"
   ]
  },
  {
   "cell_type": "code",
   "execution_count": 67,
   "id": "48a00ae6-4573-4492-a909-f55538a49bbb",
   "metadata": {},
   "outputs": [
    {
     "data": {
      "text/plain": [
       "2"
      ]
     },
     "execution_count": 67,
     "metadata": {},
     "output_type": "execute_result"
    }
   ],
   "source": [
    "clst[::-1].index('a')"
   ]
  },
  {
   "cell_type": "code",
   "execution_count": 68,
   "id": "c347e4fa-d7ca-492c-b95b-3f85584894ae",
   "metadata": {},
   "outputs": [
    {
     "data": {
      "text/plain": [
       "['f', 'b', 'a', 'd', 'c', 'a', 'b', 'a']"
      ]
     },
     "execution_count": 68,
     "metadata": {},
     "output_type": "execute_result"
    }
   ],
   "source": [
    "clst[::-1]"
   ]
  },
  {
   "cell_type": "code",
   "execution_count": 69,
   "id": "b7c498c2-855e-40cf-b54c-b4242cfeec07",
   "metadata": {},
   "outputs": [
    {
     "name": "stdout",
     "output_type": "stream",
     "text": [
      "z is not in list\n"
     ]
    }
   ],
   "source": [
    "try:\n",
    "    res = clst.index('z')\n",
    "    print('z is in list')\n",
    "except:\n",
    "    print('z is not in list')"
   ]
  },
  {
   "cell_type": "code",
   "execution_count": 70,
   "id": "90ac5b37-6548-4f86-8725-a3cd33c733e6",
   "metadata": {},
   "outputs": [
    {
     "ename": "AttributeError",
     "evalue": "'list' object has no attribute 'find'",
     "output_type": "error",
     "traceback": [
      "\u001b[0;31m---------------------------------------------------------------------------\u001b[0m",
      "\u001b[0;31mAttributeError\u001b[0m                            Traceback (most recent call last)",
      "\u001b[0;32m/var/folders/j8/4sd0mj5s083cmgy92br3xg7r0000gn/T/ipykernel_9373/3284804694.py\u001b[0m in \u001b[0;36m<module>\u001b[0;34m\u001b[0m\n\u001b[0;32m----> 1\u001b[0;31m \u001b[0mclst\u001b[0m\u001b[0;34m.\u001b[0m\u001b[0mfind\u001b[0m\u001b[0;34m(\u001b[0m\u001b[0;34m'a'\u001b[0m\u001b[0;34m)\u001b[0m\u001b[0;34m\u001b[0m\u001b[0;34m\u001b[0m\u001b[0m\n\u001b[0m",
      "\u001b[0;31mAttributeError\u001b[0m: 'list' object has no attribute 'find'"
     ]
    }
   ],
   "source": [
    "clst.find('a')"
   ]
  },
  {
   "cell_type": "code",
   "execution_count": 71,
   "id": "feb0f59b-13f8-412b-b7c9-81cb9736936a",
   "metadata": {},
   "outputs": [
    {
     "data": {
      "text/plain": [
       "['a', 'b', 'x', 'a', 'c', 'd', 'a', 'b', 'f']"
      ]
     },
     "execution_count": 71,
     "metadata": {},
     "output_type": "execute_result"
    }
   ],
   "source": [
    "clst.insert(2,'x')\n",
    "clst"
   ]
  },
  {
   "cell_type": "code",
   "execution_count": 72,
   "id": "655784d5-9d96-4e10-8446-579a55319242",
   "metadata": {},
   "outputs": [
    {
     "data": {
      "text/plain": [
       "['a', 'b', 'x', 'a', 'c', 'd', 'a', 'b', 'f', 'z']"
      ]
     },
     "execution_count": 72,
     "metadata": {},
     "output_type": "execute_result"
    }
   ],
   "source": [
    "clst.insert(len(clst),'z')\n",
    "clst"
   ]
  },
  {
   "cell_type": "code",
   "execution_count": 73,
   "id": "fb511983-6ff3-4790-93e9-88ec60d52c71",
   "metadata": {},
   "outputs": [
    {
     "data": {
      "text/plain": [
       "['a', 'b', 'x', 'a', 'c', 'd', 'a', 'b', 'f', 'z', 'k']"
      ]
     },
     "execution_count": 73,
     "metadata": {},
     "output_type": "execute_result"
    }
   ],
   "source": [
    "clst.append('k')\n",
    "clst"
   ]
  },
  {
   "cell_type": "code",
   "execution_count": 75,
   "id": "0c79841f-a3a7-457c-9b6f-46a8059e5983",
   "metadata": {},
   "outputs": [
    {
     "data": {
      "text/plain": [
       "['a', 'b', 'abc', 'x', 'a', 'c', 'd', 'a', 'b', 'f', 'z', 'k']"
      ]
     },
     "execution_count": 75,
     "metadata": {},
     "output_type": "execute_result"
    }
   ],
   "source": [
    "clst.insert(2,'abc')\n",
    "clst"
   ]
  },
  {
   "cell_type": "code",
   "execution_count": 76,
   "id": "89e590e2-8cda-4613-a7dd-9f4bc4693c33",
   "metadata": {},
   "outputs": [],
   "source": [
    "clst.remove('x')"
   ]
  },
  {
   "cell_type": "code",
   "execution_count": 77,
   "id": "7fd68501-df4e-4b19-bd83-23728c0c039b",
   "metadata": {},
   "outputs": [
    {
     "data": {
      "text/plain": [
       "['a', 'b', 'abc', 'a', 'c', 'd', 'a', 'b', 'f', 'z', 'k']"
      ]
     },
     "execution_count": 77,
     "metadata": {},
     "output_type": "execute_result"
    }
   ],
   "source": [
    "clst"
   ]
  },
  {
   "cell_type": "code",
   "execution_count": 78,
   "id": "e4f7906c-a95c-453a-863c-d68a19ff1a7c",
   "metadata": {},
   "outputs": [
    {
     "ename": "ValueError",
     "evalue": "list.remove(x): x not in list",
     "output_type": "error",
     "traceback": [
      "\u001b[0;31m---------------------------------------------------------------------------\u001b[0m",
      "\u001b[0;31mValueError\u001b[0m                                Traceback (most recent call last)",
      "\u001b[0;32m/var/folders/j8/4sd0mj5s083cmgy92br3xg7r0000gn/T/ipykernel_9373/2590412535.py\u001b[0m in \u001b[0;36m<module>\u001b[0;34m\u001b[0m\n\u001b[0;32m----> 1\u001b[0;31m \u001b[0mclst\u001b[0m\u001b[0;34m.\u001b[0m\u001b[0mremove\u001b[0m\u001b[0;34m(\u001b[0m\u001b[0;34m'p'\u001b[0m\u001b[0;34m)\u001b[0m\u001b[0;34m\u001b[0m\u001b[0;34m\u001b[0m\u001b[0m\n\u001b[0m",
      "\u001b[0;31mValueError\u001b[0m: list.remove(x): x not in list"
     ]
    }
   ],
   "source": [
    "clst.remove('p')"
   ]
  },
  {
   "cell_type": "code",
   "execution_count": 81,
   "id": "3c1d0839-af8a-4bcc-9287-e8727f0cd295",
   "metadata": {},
   "outputs": [
    {
     "name": "stdout",
     "output_type": "stream",
     "text": [
      "['a', 'a', 'c', 'd', 'a', 'f']\n"
     ]
    }
   ],
   "source": [
    "# remove all occurrences of 'b' from clst, Version 1\n",
    "\n",
    "clst = ['a','b','a','c','d','a','b','f']\n",
    "while True:\n",
    "    try:\n",
    "        clst.remove('b')\n",
    "    except:\n",
    "        break\n",
    "print(clst)\n",
    "\n"
   ]
  },
  {
   "cell_type": "code",
   "execution_count": 83,
   "id": "e2aa8b8b-d36c-47c4-a9f4-cefd927f3985",
   "metadata": {},
   "outputs": [
    {
     "name": "stdout",
     "output_type": "stream",
     "text": [
      "['a', 'a', 'c', 'd', 'a', 'f']\n"
     ]
    }
   ],
   "source": [
    "# version 2\n",
    "clst = ['a','b','a','c','d','a','b','f']\n",
    "for _ in range(clst.count('b')):\n",
    "    clst.remove('b')\n",
    "print(clst)"
   ]
  },
  {
   "cell_type": "code",
   "execution_count": 84,
   "id": "b526330a-3cf0-4cc9-bab5-8e9527dc4539",
   "metadata": {},
   "outputs": [
    {
     "name": "stdout",
     "output_type": "stream",
     "text": [
      "['a', 'a', 'c', 'd', 'a', 'f']\n"
     ]
    }
   ],
   "source": [
    "# version 3\n",
    "clst = ['a','b','a','c','d','a','b','f']\n",
    "while 'b' in clst:\n",
    "    clst.remove('b')\n",
    "print(clst)"
   ]
  },
  {
   "cell_type": "code",
   "execution_count": 85,
   "id": "2bf0c53a-ad7e-43f3-85a8-db8590bbd1f8",
   "metadata": {},
   "outputs": [],
   "source": [
    "clst.reverse()"
   ]
  },
  {
   "cell_type": "code",
   "execution_count": 86,
   "id": "395e7cd6-d6b6-4291-830b-b5797d05e9da",
   "metadata": {},
   "outputs": [
    {
     "data": {
      "text/plain": [
       "['f', 'a', 'd', 'c', 'a', 'a']"
      ]
     },
     "execution_count": 86,
     "metadata": {},
     "output_type": "execute_result"
    }
   ],
   "source": [
    "clst"
   ]
  },
  {
   "cell_type": "markdown",
   "id": "9548e712-58fa-47f1-b158-8286bfa7fd18",
   "metadata": {},
   "source": [
    "----"
   ]
  },
  {
   "cell_type": "code",
   "execution_count": 88,
   "id": "c2974512-6680-491b-a07d-06be3e1dd578",
   "metadata": {},
   "outputs": [
    {
     "name": "stdout",
     "output_type": "stream",
     "text": [
      "(0, 1)\n",
      "(1, 2)\n",
      "(2, 3)\n"
     ]
    }
   ],
   "source": [
    "# enumeration\n",
    "for item in enumerate([1,2,3]):\n",
    "    print(item)"
   ]
  },
  {
   "cell_type": "code",
   "execution_count": 90,
   "id": "ebfb3c64-5cf9-41c0-ba11-d209b841c56b",
   "metadata": {},
   "outputs": [
    {
     "name": "stdout",
     "output_type": "stream",
     "text": [
      "0 1\n",
      "1 2\n",
      "2 3\n"
     ]
    }
   ],
   "source": [
    "for i,item in enumerate([1,2,3]):\n",
    "    print(i, item)"
   ]
  },
  {
   "cell_type": "code",
   "execution_count": 91,
   "id": "21ed5b78-20c1-4887-9087-995bf31773d7",
   "metadata": {},
   "outputs": [
    {
     "name": "stdout",
     "output_type": "stream",
     "text": [
      "(0, 2)\n",
      "(1, 4)\n"
     ]
    }
   ],
   "source": [
    "for item in enumerate(range(2,5,2)):\n",
    "    print(item)"
   ]
  },
  {
   "cell_type": "code",
   "execution_count": 92,
   "id": "8b285298-68a2-454d-ad5b-09bca1b818c0",
   "metadata": {},
   "outputs": [
    {
     "data": {
      "text/plain": [
       "range(2, 5, 2)"
      ]
     },
     "execution_count": 92,
     "metadata": {},
     "output_type": "execute_result"
    }
   ],
   "source": [
    "rlst = range(2,5,2)\n",
    "rlst"
   ]
  },
  {
   "cell_type": "markdown",
   "id": "3a1045b0-93ef-4377-891e-55f8250f37d4",
   "metadata": {},
   "source": [
    "----"
   ]
  },
  {
   "cell_type": "markdown",
   "id": "a2583a9c-70eb-401c-8252-5b8714952088",
   "metadata": {},
   "source": [
    "#### Tuples ####"
   ]
  },
  {
   "cell_type": "code",
   "execution_count": 94,
   "id": "e8cb7105-b346-4464-8cb0-f5f527b5f2f7",
   "metadata": {},
   "outputs": [
    {
     "data": {
      "text/plain": [
       "(2, 4)"
      ]
     },
     "execution_count": 94,
     "metadata": {},
     "output_type": "execute_result"
    }
   ],
   "source": [
    "atup = (2,4)\n",
    "atup"
   ]
  },
  {
   "cell_type": "code",
   "execution_count": 95,
   "id": "c78f3be5-0d93-4c61-a17b-b1c71640f839",
   "metadata": {},
   "outputs": [
    {
     "data": {
      "text/plain": [
       "(3, 5)"
      ]
     },
     "execution_count": 95,
     "metadata": {},
     "output_type": "execute_result"
    }
   ],
   "source": [
    "atup = 3,5\n",
    "atup"
   ]
  },
  {
   "cell_type": "code",
   "execution_count": 96,
   "id": "d7ec0f99-81d7-487e-8373-3b8233ad3873",
   "metadata": {},
   "outputs": [
    {
     "data": {
      "text/plain": [
       "(1, 2)"
      ]
     },
     "execution_count": 96,
     "metadata": {},
     "output_type": "execute_result"
    }
   ],
   "source": [
    "atup = tuple((1,2))\n",
    "atup"
   ]
  },
  {
   "cell_type": "code",
   "execution_count": 97,
   "id": "5e93d619-ce44-4eb8-9047-6faba14c3504",
   "metadata": {},
   "outputs": [
    {
     "ename": "TypeError",
     "evalue": "tuple expected at most 1 argument, got 2",
     "output_type": "error",
     "traceback": [
      "\u001b[0;31m---------------------------------------------------------------------------\u001b[0m",
      "\u001b[0;31mTypeError\u001b[0m                                 Traceback (most recent call last)",
      "\u001b[0;32m/var/folders/j8/4sd0mj5s083cmgy92br3xg7r0000gn/T/ipykernel_9373/3840001989.py\u001b[0m in \u001b[0;36m<module>\u001b[0;34m\u001b[0m\n\u001b[0;32m----> 1\u001b[0;31m \u001b[0mbtup\u001b[0m \u001b[0;34m=\u001b[0m \u001b[0mtuple\u001b[0m\u001b[0;34m(\u001b[0m\u001b[0;36m3\u001b[0m\u001b[0;34m,\u001b[0m\u001b[0;36m4\u001b[0m\u001b[0;34m)\u001b[0m\u001b[0;34m\u001b[0m\u001b[0;34m\u001b[0m\u001b[0m\n\u001b[0m\u001b[1;32m      2\u001b[0m \u001b[0mbtup\u001b[0m\u001b[0;34m\u001b[0m\u001b[0;34m\u001b[0m\u001b[0m\n",
      "\u001b[0;31mTypeError\u001b[0m: tuple expected at most 1 argument, got 2"
     ]
    }
   ],
   "source": [
    "btup = tuple(3,4)\n",
    "btup"
   ]
  },
  {
   "cell_type": "code",
   "execution_count": 99,
   "id": "cefbf9a1-800f-4d65-b27d-d3611e66aa42",
   "metadata": {},
   "outputs": [
    {
     "data": {
      "text/plain": [
       "()"
      ]
     },
     "execution_count": 99,
     "metadata": {},
     "output_type": "execute_result"
    }
   ],
   "source": [
    "ctup = tuple()\n",
    "ctup"
   ]
  },
  {
   "cell_type": "code",
   "execution_count": 100,
   "id": "428561ea-db26-4511-bbed-335e23c59b1d",
   "metadata": {},
   "outputs": [
    {
     "data": {
      "text/plain": [
       "('a', 'b', 'c', 'e')"
      ]
     },
     "execution_count": 100,
     "metadata": {},
     "output_type": "execute_result"
    }
   ],
   "source": [
    "stup = tuple('abce')\n",
    "stup"
   ]
  },
  {
   "cell_type": "code",
   "execution_count": 101,
   "id": "0c506892-2115-4e94-9069-c9542a244da4",
   "metadata": {},
   "outputs": [
    {
     "data": {
      "text/plain": [
       "(1, [3, 2], 5)"
      ]
     },
     "execution_count": 101,
     "metadata": {},
     "output_type": "execute_result"
    }
   ],
   "source": [
    "ltup = tuple([1,[3,2],5])\n",
    "ltup"
   ]
  },
  {
   "cell_type": "code",
   "execution_count": 102,
   "id": "31c26d8f-3b17-4757-beac-ed96558f0fdf",
   "metadata": {},
   "outputs": [
    {
     "ename": "TypeError",
     "evalue": "tuple expected at most 1 argument, got 5",
     "output_type": "error",
     "traceback": [
      "\u001b[0;31m---------------------------------------------------------------------------\u001b[0m",
      "\u001b[0;31mTypeError\u001b[0m                                 Traceback (most recent call last)",
      "\u001b[0;32m/var/folders/j8/4sd0mj5s083cmgy92br3xg7r0000gn/T/ipykernel_9373/3223962546.py\u001b[0m in \u001b[0;36m<module>\u001b[0;34m\u001b[0m\n\u001b[0;32m----> 1\u001b[0;31m \u001b[0mmtup\u001b[0m \u001b[0;34m=\u001b[0m \u001b[0mtuple\u001b[0m\u001b[0;34m(\u001b[0m\u001b[0;34m'a'\u001b[0m\u001b[0;34m,\u001b[0m\u001b[0;36m2.5\u001b[0m\u001b[0;34m,\u001b[0m\u001b[0;34m'cde'\u001b[0m\u001b[0;34m,\u001b[0m\u001b[0;36m15\u001b[0m\u001b[0;34m,\u001b[0m\u001b[0;34m[\u001b[0m\u001b[0;36m1\u001b[0m\u001b[0;34m,\u001b[0m\u001b[0;36m2\u001b[0m\u001b[0;34m,\u001b[0m\u001b[0;36m3\u001b[0m\u001b[0;34m]\u001b[0m\u001b[0;34m)\u001b[0m\u001b[0;34m\u001b[0m\u001b[0;34m\u001b[0m\u001b[0m\n\u001b[0m",
      "\u001b[0;31mTypeError\u001b[0m: tuple expected at most 1 argument, got 5"
     ]
    }
   ],
   "source": [
    "mtup = tuple('a',2.5,'cde',15,[1,2,3])"
   ]
  },
  {
   "cell_type": "code",
   "execution_count": 103,
   "id": "8d4409bd-cffa-4377-876d-740e6823228d",
   "metadata": {},
   "outputs": [
    {
     "data": {
      "text/plain": [
       "('a', 2.5, 'cde', 15, [1, 2, 3])"
      ]
     },
     "execution_count": 103,
     "metadata": {},
     "output_type": "execute_result"
    }
   ],
   "source": [
    "mtup = 'a',2.5,'cde',15,[1,2,3]\n",
    "mtup"
   ]
  },
  {
   "cell_type": "code",
   "execution_count": 107,
   "id": "23133206-63e7-4ace-bf31-93dc4b6f27ed",
   "metadata": {},
   "outputs": [
    {
     "ename": "TypeError",
     "evalue": "'tuple' object does not support item assignment",
     "output_type": "error",
     "traceback": [
      "\u001b[0;31m---------------------------------------------------------------------------\u001b[0m",
      "\u001b[0;31mTypeError\u001b[0m                                 Traceback (most recent call last)",
      "\u001b[0;32m/var/folders/j8/4sd0mj5s083cmgy92br3xg7r0000gn/T/ipykernel_9373/3933331863.py\u001b[0m in \u001b[0;36m<module>\u001b[0;34m\u001b[0m\n\u001b[0;32m----> 1\u001b[0;31m \u001b[0matup\u001b[0m\u001b[0;34m[\u001b[0m\u001b[0;36m1\u001b[0m\u001b[0;34m]\u001b[0m \u001b[0;34m=\u001b[0m \u001b[0;36m5\u001b[0m \u001b[0;31m# tuples are immutable\u001b[0m\u001b[0;34m\u001b[0m\u001b[0;34m\u001b[0m\u001b[0m\n\u001b[0m",
      "\u001b[0;31mTypeError\u001b[0m: 'tuple' object does not support item assignment"
     ]
    }
   ],
   "source": [
    "atup[1] = 5 # tuples are immutable"
   ]
  },
  {
   "cell_type": "code",
   "execution_count": 108,
   "id": "ec320685-7974-4e69-baff-9783564bc614",
   "metadata": {},
   "outputs": [
    {
     "name": "stdout",
     "output_type": "stream",
     "text": [
      "2 3\n"
     ]
    }
   ],
   "source": [
    "# swap\n",
    "a=3\n",
    "b=2\n",
    "a,b=b,a\n",
    "print(a,b)"
   ]
  },
  {
   "cell_type": "markdown",
   "id": "6b38005a-8817-4b13-ac67-7481c0d19536",
   "metadata": {},
   "source": [
    "-----"
   ]
  },
  {
   "cell_type": "markdown",
   "id": "2d8956dd-f1d9-48a3-8ee8-f6f31af5a796",
   "metadata": {},
   "source": [
    "#### Strings as iterables"
   ]
  },
  {
   "cell_type": "code",
   "execution_count": 109,
   "id": "db423036-aa2a-4e63-bf46-cb8375c7a33c",
   "metadata": {},
   "outputs": [
    {
     "data": {
      "text/plain": [
       "'Science'"
      ]
     },
     "execution_count": 109,
     "metadata": {},
     "output_type": "execute_result"
    }
   ],
   "source": [
    "ds = 'Data Science'\n",
    "ds[5:]"
   ]
  },
  {
   "cell_type": "code",
   "execution_count": 110,
   "id": "43f11b3e-a1ec-4cc7-b42f-f2311a0e9d69",
   "metadata": {},
   "outputs": [
    {
     "data": {
      "text/plain": [
       "'Data'"
      ]
     },
     "execution_count": 110,
     "metadata": {},
     "output_type": "execute_result"
    }
   ],
   "source": [
    "ds[:4]"
   ]
  },
  {
   "cell_type": "code",
   "execution_count": 111,
   "id": "b120e582-73aa-46c3-a825-6de824b3fac9",
   "metadata": {},
   "outputs": [
    {
     "data": {
      "text/plain": [
       "'a S'"
      ]
     },
     "execution_count": 111,
     "metadata": {},
     "output_type": "execute_result"
    }
   ],
   "source": [
    "ds[3:6]"
   ]
  },
  {
   "cell_type": "code",
   "execution_count": 112,
   "id": "a095108e-2fbe-43f6-8744-892fc6c1b08c",
   "metadata": {},
   "outputs": [
    {
     "data": {
      "text/plain": [
       "'Data Scienc'"
      ]
     },
     "execution_count": 112,
     "metadata": {},
     "output_type": "execute_result"
    }
   ],
   "source": [
    "ds[:-1]"
   ]
  },
  {
   "cell_type": "code",
   "execution_count": 116,
   "id": "d9cb7e3a-1ebd-473d-aa2a-5b560f24c5f9",
   "metadata": {},
   "outputs": [],
   "source": [
    "# tell if a string is a palindrome - Version 1\n",
    "def isPalindrome(st):\n",
    "    while True:\n",
    "        n = len(st)\n",
    "        if n == 0 or n == 1:\n",
    "            return True\n",
    "        if st[0].lower() != st[-1].lower():\n",
    "            return False\n",
    "        st = st[1:-1]"
   ]
  },
  {
   "cell_type": "code",
   "execution_count": 118,
   "id": "45a31d81-5b75-445c-8c14-a6217ca246ab",
   "metadata": {},
   "outputs": [
    {
     "data": {
      "text/plain": [
       "True"
      ]
     },
     "execution_count": 118,
     "metadata": {},
     "output_type": "execute_result"
    }
   ],
   "source": [
    "isPalindrome('raceCar')"
   ]
  },
  {
   "cell_type": "code",
   "execution_count": 119,
   "id": "1967390e-195c-4597-a2c5-57af54713bbc",
   "metadata": {},
   "outputs": [
    {
     "data": {
      "text/plain": [
       "True"
      ]
     },
     "execution_count": 119,
     "metadata": {},
     "output_type": "execute_result"
    }
   ],
   "source": [
    "isPalindrome('a')"
   ]
  },
  {
   "cell_type": "code",
   "execution_count": 120,
   "id": "5e36cf3c-3b58-4f95-98ef-65c693ea0cf7",
   "metadata": {},
   "outputs": [
    {
     "data": {
      "text/plain": [
       "False"
      ]
     },
     "execution_count": 120,
     "metadata": {},
     "output_type": "execute_result"
    }
   ],
   "source": [
    "isPalindrome('potty')"
   ]
  },
  {
   "cell_type": "code",
   "execution_count": 121,
   "id": "65a7e30b-3604-45bd-a8ab-9a93a9f0fa65",
   "metadata": {},
   "outputs": [
    {
     "data": {
      "text/plain": [
       "True"
      ]
     },
     "execution_count": 121,
     "metadata": {},
     "output_type": "execute_result"
    }
   ],
   "source": [
    "isPalindrome('')"
   ]
  },
  {
   "cell_type": "code",
   "execution_count": 123,
   "id": "2b8e6522-c0a8-4e7f-85ba-bdfbf43354eb",
   "metadata": {},
   "outputs": [],
   "source": [
    "# Version 2\n",
    "def isPalindrome(st):\n",
    "    st = st.lower()\n",
    "    while True:\n",
    "        n = len(st)\n",
    "        if n == 0 or n == 1:\n",
    "            return True\n",
    "        f, *st, l = st\n",
    "        if f != l:\n",
    "            return False"
   ]
  },
  {
   "cell_type": "code",
   "execution_count": 124,
   "id": "4e14b272-0a9f-408e-887a-80a0d3a1e439",
   "metadata": {},
   "outputs": [
    {
     "data": {
      "text/plain": [
       "True"
      ]
     },
     "execution_count": 124,
     "metadata": {},
     "output_type": "execute_result"
    }
   ],
   "source": [
    "isPalindrome(\"raceCar\")"
   ]
  },
  {
   "cell_type": "code",
   "execution_count": 126,
   "id": "0615f79f-891e-4446-886e-a486cbc81dd3",
   "metadata": {},
   "outputs": [],
   "source": [
    "# Version 3\n",
    "def isPalindrome(st):\n",
    "    return st.lower() == st.lower()[::-1]"
   ]
  },
  {
   "cell_type": "code",
   "execution_count": 127,
   "id": "4d2b4cef-f0cb-44ad-913d-4a591351ac71",
   "metadata": {},
   "outputs": [
    {
     "data": {
      "text/plain": [
       "True"
      ]
     },
     "execution_count": 127,
     "metadata": {},
     "output_type": "execute_result"
    }
   ],
   "source": [
    "isPalindrome(\"raceCar\")"
   ]
  },
  {
   "cell_type": "code",
   "execution_count": 128,
   "id": "680b91fc-6639-4f12-9ef1-8ff6a6be249f",
   "metadata": {},
   "outputs": [
    {
     "ename": "AttributeError",
     "evalue": "'str' object has no attribute 'reverse'",
     "output_type": "error",
     "traceback": [
      "\u001b[0;31m---------------------------------------------------------------------------\u001b[0m",
      "\u001b[0;31mAttributeError\u001b[0m                            Traceback (most recent call last)",
      "\u001b[0;32m/var/folders/j8/4sd0mj5s083cmgy92br3xg7r0000gn/T/ipykernel_9373/3908607499.py\u001b[0m in \u001b[0;36m<module>\u001b[0;34m\u001b[0m\n\u001b[0;32m----> 1\u001b[0;31m \u001b[0;34m\"raceCar\"\u001b[0m\u001b[0;34m.\u001b[0m\u001b[0mreverse\u001b[0m\u001b[0;34m(\u001b[0m\u001b[0;34m)\u001b[0m\u001b[0;34m\u001b[0m\u001b[0;34m\u001b[0m\u001b[0m\n\u001b[0m",
      "\u001b[0;31mAttributeError\u001b[0m: 'str' object has no attribute 'reverse'"
     ]
    }
   ],
   "source": [
    "\"raceCar\".reverse()"
   ]
  },
  {
   "cell_type": "code",
   "execution_count": null,
   "id": "7f9a05cc-fe27-4e6e-9bc8-ecb3e8774f68",
   "metadata": {},
   "outputs": [],
   "source": []
  }
 ],
 "metadata": {
  "kernelspec": {
   "display_name": "Python 3 (ipykernel)",
   "language": "python",
   "name": "python3"
  },
  "language_info": {
   "codemirror_mode": {
    "name": "ipython",
    "version": 3
   },
   "file_extension": ".py",
   "mimetype": "text/x-python",
   "name": "python",
   "nbconvert_exporter": "python",
   "pygments_lexer": "ipython3",
   "version": "3.9.7"
  }
 },
 "nbformat": 4,
 "nbformat_minor": 5
}
