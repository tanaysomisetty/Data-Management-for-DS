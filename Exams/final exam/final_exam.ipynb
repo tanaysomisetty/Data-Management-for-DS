{
 "cells": [
  {
   "cell_type": "code",
   "execution_count": 8,
   "id": "78f11fbc-8860-4cf4-8060-1cabf549c12c",
   "metadata": {},
   "outputs": [],
   "source": [
    "import pandas as pd\n",
    "import numpy as np\n",
    "from numpy import nan as NA\n",
    "from pandas import Series, DataFrame"
   ]
  },
  {
   "cell_type": "code",
   "execution_count": 48,
   "id": "708ecda4-8abc-4b83-85db-31817a88e306",
   "metadata": {},
   "outputs": [
    {
     "data": {
      "text/html": [
       "<div>\n",
       "<style scoped>\n",
       "    .dataframe tbody tr th:only-of-type {\n",
       "        vertical-align: middle;\n",
       "    }\n",
       "\n",
       "    .dataframe tbody tr th {\n",
       "        vertical-align: top;\n",
       "    }\n",
       "\n",
       "    .dataframe thead th {\n",
       "        text-align: right;\n",
       "    }\n",
       "</style>\n",
       "<table border=\"1\" class=\"dataframe\">\n",
       "  <thead>\n",
       "    <tr style=\"text-align: right;\">\n",
       "      <th></th>\n",
       "      <th>0</th>\n",
       "      <th>1</th>\n",
       "      <th>2</th>\n",
       "    </tr>\n",
       "  </thead>\n",
       "  <tbody>\n",
       "    <tr>\n",
       "      <th>0</th>\n",
       "      <td>1.0</td>\n",
       "      <td>3.8</td>\n",
       "      <td>2.1</td>\n",
       "    </tr>\n",
       "    <tr>\n",
       "      <th>1</th>\n",
       "      <td>2.0</td>\n",
       "      <td>NaN</td>\n",
       "      <td>NaN</td>\n",
       "    </tr>\n",
       "    <tr>\n",
       "      <th>2</th>\n",
       "      <td>NaN</td>\n",
       "      <td>NaN</td>\n",
       "      <td>NaN</td>\n",
       "    </tr>\n",
       "    <tr>\n",
       "      <th>3</th>\n",
       "      <td>NaN</td>\n",
       "      <td>4.8</td>\n",
       "      <td>1.7</td>\n",
       "    </tr>\n",
       "  </tbody>\n",
       "</table>\n",
       "</div>"
      ],
      "text/plain": [
       "     0    1    2\n",
       "0  1.0  3.8  2.1\n",
       "1  2.0  NaN  NaN\n",
       "2  NaN  NaN  NaN\n",
       "3  NaN  4.8  1.7"
      ]
     },
     "execution_count": 48,
     "metadata": {},
     "output_type": "execute_result"
    }
   ],
   "source": [
    "#Q1.1\n",
    "\n",
    "df = DataFrame([[1, 3.8, 2.1],\n",
    "                  [2, NA, NA],\n",
    "                  [NA, NA, NA],\n",
    "                  [NA, 4.8, 1.7]])\n",
    "df"
   ]
  },
  {
   "cell_type": "code",
   "execution_count": 49,
   "id": "f8671f8d-4124-4cfb-aa78-781fad50add3",
   "metadata": {},
   "outputs": [
    {
     "data": {
      "text/html": [
       "<div>\n",
       "<style scoped>\n",
       "    .dataframe tbody tr th:only-of-type {\n",
       "        vertical-align: middle;\n",
       "    }\n",
       "\n",
       "    .dataframe tbody tr th {\n",
       "        vertical-align: top;\n",
       "    }\n",
       "\n",
       "    .dataframe thead th {\n",
       "        text-align: right;\n",
       "    }\n",
       "</style>\n",
       "<table border=\"1\" class=\"dataframe\">\n",
       "  <thead>\n",
       "    <tr style=\"text-align: right;\">\n",
       "      <th></th>\n",
       "      <th>0</th>\n",
       "      <th>1</th>\n",
       "      <th>2</th>\n",
       "    </tr>\n",
       "  </thead>\n",
       "  <tbody>\n",
       "    <tr>\n",
       "      <th>0</th>\n",
       "      <td>1.0</td>\n",
       "      <td>3.8</td>\n",
       "      <td>2.1</td>\n",
       "    </tr>\n",
       "    <tr>\n",
       "      <th>1</th>\n",
       "      <td>2.0</td>\n",
       "      <td>3.8</td>\n",
       "      <td>2.1</td>\n",
       "    </tr>\n",
       "    <tr>\n",
       "      <th>2</th>\n",
       "      <td>2.0</td>\n",
       "      <td>3.8</td>\n",
       "      <td>2.1</td>\n",
       "    </tr>\n",
       "    <tr>\n",
       "      <th>3</th>\n",
       "      <td>2.0</td>\n",
       "      <td>4.8</td>\n",
       "      <td>1.7</td>\n",
       "    </tr>\n",
       "  </tbody>\n",
       "</table>\n",
       "</div>"
      ],
      "text/plain": [
       "     0    1    2\n",
       "0  1.0  3.8  2.1\n",
       "1  2.0  3.8  2.1\n",
       "2  2.0  3.8  2.1\n",
       "3  2.0  4.8  1.7"
      ]
     },
     "execution_count": 49,
     "metadata": {},
     "output_type": "execute_result"
    }
   ],
   "source": [
    "df2 = df.fillna(method='ffill')\n",
    "df2"
   ]
  },
  {
   "cell_type": "code",
   "execution_count": 50,
   "id": "af79af58-927e-49e1-b057-5d84c60ceebc",
   "metadata": {},
   "outputs": [
    {
     "data": {
      "text/html": [
       "<div>\n",
       "<style scoped>\n",
       "    .dataframe tbody tr th:only-of-type {\n",
       "        vertical-align: middle;\n",
       "    }\n",
       "\n",
       "    .dataframe tbody tr th {\n",
       "        vertical-align: top;\n",
       "    }\n",
       "\n",
       "    .dataframe thead th {\n",
       "        text-align: right;\n",
       "    }\n",
       "</style>\n",
       "<table border=\"1\" class=\"dataframe\">\n",
       "  <thead>\n",
       "    <tr style=\"text-align: right;\">\n",
       "      <th></th>\n",
       "      <th>0</th>\n",
       "      <th>1</th>\n",
       "      <th>2</th>\n",
       "      <th>diff</th>\n",
       "    </tr>\n",
       "  </thead>\n",
       "  <tbody>\n",
       "    <tr>\n",
       "      <th>0</th>\n",
       "      <td>1.0</td>\n",
       "      <td>3.8</td>\n",
       "      <td>2.1</td>\n",
       "      <td>2.8</td>\n",
       "    </tr>\n",
       "    <tr>\n",
       "      <th>1</th>\n",
       "      <td>2.0</td>\n",
       "      <td>3.8</td>\n",
       "      <td>2.1</td>\n",
       "      <td>1.8</td>\n",
       "    </tr>\n",
       "    <tr>\n",
       "      <th>2</th>\n",
       "      <td>2.0</td>\n",
       "      <td>3.8</td>\n",
       "      <td>2.1</td>\n",
       "      <td>1.8</td>\n",
       "    </tr>\n",
       "    <tr>\n",
       "      <th>3</th>\n",
       "      <td>2.0</td>\n",
       "      <td>4.8</td>\n",
       "      <td>1.7</td>\n",
       "      <td>3.1</td>\n",
       "    </tr>\n",
       "  </tbody>\n",
       "</table>\n",
       "</div>"
      ],
      "text/plain": [
       "     0    1    2  diff\n",
       "0  1.0  3.8  2.1   2.8\n",
       "1  2.0  3.8  2.1   1.8\n",
       "2  2.0  3.8  2.1   1.8\n",
       "3  2.0  4.8  1.7   3.1"
      ]
     },
     "execution_count": 50,
     "metadata": {},
     "output_type": "execute_result"
    }
   ],
   "source": [
    "#Q1.2\n",
    "df2\n",
    "df2['diff'] = df2.max(axis=1) - df2.min(axis=1)\n",
    "df2"
   ]
  },
  {
   "cell_type": "code",
   "execution_count": 51,
   "id": "c8983328-6d35-479c-b7dd-eaeb5eeaa08d",
   "metadata": {},
   "outputs": [
    {
     "name": "stdout",
     "output_type": "stream",
     "text": [
      "0     4\n",
      "1     5\n",
      "2     5\n",
      "3     5\n",
      "4     3\n",
      "5     5\n",
      "6     5\n",
      "7     1\n",
      "8     2\n",
      "9     5\n",
      "10    2\n",
      "11    2\n",
      "dtype: int64\n",
      "5    6\n",
      "2    3\n",
      "4    1\n",
      "3    1\n",
      "1    1\n",
      "dtype: int64\n"
     ]
    },
    {
     "data": {
      "text/plain": [
       "5"
      ]
     },
     "execution_count": 51,
     "metadata": {},
     "output_type": "execute_result"
    }
   ],
   "source": [
    "#Q1.3\n",
    "ser = pd.Series(np.random.randint(1, 6, [12]))\n",
    "print(ser)\n",
    "print(ser.value_counts())\n",
    "ser.value_counts().index[0]"
   ]
  },
  {
   "cell_type": "code",
   "execution_count": 70,
   "id": "590dce26-1e7e-40aa-b7da-3617d43b3aba",
   "metadata": {},
   "outputs": [
    {
     "data": {
      "text/html": [
       "<div>\n",
       "<style scoped>\n",
       "    .dataframe tbody tr th:only-of-type {\n",
       "        vertical-align: middle;\n",
       "    }\n",
       "\n",
       "    .dataframe tbody tr th {\n",
       "        vertical-align: top;\n",
       "    }\n",
       "\n",
       "    .dataframe thead th {\n",
       "        text-align: right;\n",
       "    }\n",
       "</style>\n",
       "<table border=\"1\" class=\"dataframe\">\n",
       "  <thead>\n",
       "    <tr style=\"text-align: right;\">\n",
       "      <th></th>\n",
       "      <th>0</th>\n",
       "      <th>1</th>\n",
       "      <th>2</th>\n",
       "    </tr>\n",
       "  </thead>\n",
       "  <tbody>\n",
       "    <tr>\n",
       "      <th>0</th>\n",
       "      <td>1.0</td>\n",
       "      <td>3.8</td>\n",
       "      <td>2.1</td>\n",
       "    </tr>\n",
       "    <tr>\n",
       "      <th>1</th>\n",
       "      <td>2.0</td>\n",
       "      <td>NaN</td>\n",
       "      <td>NaN</td>\n",
       "    </tr>\n",
       "    <tr>\n",
       "      <th>2</th>\n",
       "      <td>NaN</td>\n",
       "      <td>NaN</td>\n",
       "      <td>NaN</td>\n",
       "    </tr>\n",
       "    <tr>\n",
       "      <th>3</th>\n",
       "      <td>NaN</td>\n",
       "      <td>4.8</td>\n",
       "      <td>1.7</td>\n",
       "    </tr>\n",
       "  </tbody>\n",
       "</table>\n",
       "</div>"
      ],
      "text/plain": [
       "     0    1    2\n",
       "0  1.0  3.8  2.1\n",
       "1  2.0  NaN  NaN\n",
       "2  NaN  NaN  NaN\n",
       "3  NaN  4.8  1.7"
      ]
     },
     "execution_count": 70,
     "metadata": {},
     "output_type": "execute_result"
    }
   ],
   "source": [
    "# Q2.1\n",
    "df"
   ]
  },
  {
   "cell_type": "code",
   "execution_count": 73,
   "id": "e2a87bc9-8a0f-4500-87e2-fbf68dd437b8",
   "metadata": {},
   "outputs": [
    {
     "data": {
      "text/html": [
       "<div>\n",
       "<style scoped>\n",
       "    .dataframe tbody tr th:only-of-type {\n",
       "        vertical-align: middle;\n",
       "    }\n",
       "\n",
       "    .dataframe tbody tr th {\n",
       "        vertical-align: top;\n",
       "    }\n",
       "\n",
       "    .dataframe thead th {\n",
       "        text-align: right;\n",
       "    }\n",
       "</style>\n",
       "<table border=\"1\" class=\"dataframe\">\n",
       "  <thead>\n",
       "    <tr style=\"text-align: right;\">\n",
       "      <th></th>\n",
       "      <th>0</th>\n",
       "      <th>1</th>\n",
       "      <th>2</th>\n",
       "    </tr>\n",
       "  </thead>\n",
       "  <tbody>\n",
       "    <tr>\n",
       "      <th>0</th>\n",
       "      <td>1.0</td>\n",
       "      <td>3.8</td>\n",
       "      <td>2.1</td>\n",
       "    </tr>\n",
       "    <tr>\n",
       "      <th>1</th>\n",
       "      <td>2.0</td>\n",
       "      <td>NaN</td>\n",
       "      <td>NaN</td>\n",
       "    </tr>\n",
       "    <tr>\n",
       "      <th>3</th>\n",
       "      <td>NaN</td>\n",
       "      <td>4.8</td>\n",
       "      <td>1.7</td>\n",
       "    </tr>\n",
       "  </tbody>\n",
       "</table>\n",
       "</div>"
      ],
      "text/plain": [
       "     0    1    2\n",
       "0  1.0  3.8  2.1\n",
       "1  2.0  NaN  NaN\n",
       "3  NaN  4.8  1.7"
      ]
     },
     "execution_count": 73,
     "metadata": {},
     "output_type": "execute_result"
    }
   ],
   "source": [
    "df1 = df[(df[0].notnull()) | (df1[1].notnull())]\n",
    "#df1 = df1[df1[0].notnull()]\n",
    "df1"
   ]
  },
  {
   "cell_type": "code",
   "execution_count": 66,
   "id": "9e80d7b3-6546-43fc-9c3a-916cc17f12da",
   "metadata": {},
   "outputs": [
    {
     "data": {
      "text/plain": [
       "0      2\n",
       "1    NaN\n",
       "2    NaN\n",
       "3    NaN\n",
       "dtype: object"
      ]
     },
     "execution_count": 66,
     "metadata": {},
     "output_type": "execute_result"
    }
   ],
   "source": [
    "df[[1] == 1.0]"
   ]
  },
  {
   "cell_type": "code",
   "execution_count": 74,
   "id": "9c5d075e-cfa5-4cac-89fe-e0b37c4b8733",
   "metadata": {},
   "outputs": [
    {
     "ename": "SyntaxError",
     "evalue": "unexpected EOF while parsing (1382014683.py, line 8)",
     "output_type": "error",
     "traceback": [
      "\u001b[0;36m  File \u001b[0;32m\"/var/folders/j8/4sd0mj5s083cmgy92br3xg7r0000gn/T/ipykernel_28641/1382014683.py\"\u001b[0;36m, line \u001b[0;32m8\u001b[0m\n\u001b[0;31m    df['Price'] = df['Price'].fillna(df['Category'].apply(avg_category)\u001b[0m\n\u001b[0m                                                                       ^\u001b[0m\n\u001b[0;31mSyntaxError\u001b[0m\u001b[0;31m:\u001b[0m unexpected EOF while parsing\n"
     ]
    }
   ],
   "source": [
    "# Q2.2\n",
    "\n",
    "def avg_category(cat):\n",
    "    df_cat = df[df['Category'] == cat]\n",
    "    avg = df_cat['Category'].mean()\n",
    "    return avg\n",
    "\n",
    "df['Price'] = df['Price'].fillna(df['Category'].apply(avg_category)"
   ]
  },
  {
   "cell_type": "code",
   "execution_count": 75,
   "id": "dd615d98-7be6-4ddb-835f-0cde45f835d2",
   "metadata": {},
   "outputs": [],
   "source": [
    "# Q2.3\n",
    "\n"
   ]
  },
  {
   "cell_type": "markdown",
   "id": "8fa4ddea-1d31-42bb-991f-780c0f70ffd1",
   "metadata": {},
   "source": [
    "# Q3\n",
    "\n",
    "create table author (\n",
    "    id int primary key,\n",
    "    name varchar(50) not null,\n",
    "    email varchar(50) not null\n",
    ");\n",
    "\n",
    "create table title (\n",
    "    id int auto_increment primary key,\n",
    "    name varchar(50) not null,\n",
    ");\n",
    "\n",
    "create table title_author (\n",
    "    title_id int,\n",
    "    foreign key (title_id) references title(id),\n",
    "    author_id in,\n",
    "    foreign key (author_id) references author(id)\n",
    "    primary key (title_id, author_id)\n",
    ");\n",
    "\n",
    "create table publisher (\n",
    "    name varchar(30) primary key\n",
    ");\n",
    "\n",
    "create tabel book (\n",
    "    isbn int(13) primary key,\n",
    "    publication date,\n",
    "    format char(9),\n",
    "    price decimal,\n",
    "    copies_sold int, \n",
    "    publisher varchar(30) not null,\n",
    "    foreign key (publisher) references publisher(name),\n",
    "    title_id int not null,\n",
    "    foreign key (title_id) references title(id)\n",
    ");"
   ]
  },
  {
   "cell_type": "markdown",
   "id": "e3ff8b08-b895-426b-b3a7-a3ff707adbe7",
   "metadata": {},
   "source": [
    "# Q4"
   ]
  },
  {
   "cell_type": "markdown",
   "id": "bb0593c3-6ce3-4c6a-888b-1404fcd83781",
   "metadata": {},
   "source": [
    "##### Q4.1 What is the average price of a hotel room in London, England?\n",
    "\n",
    "select avg(R.Price) as avg_price\n",
    "from Hotel H, Room R\n",
    "where H.HotelNo = R.HotelNo and H.City = 'London' and H.Country = 'England';\n",
    "\n",
    "##### Q4.2 How many different guests from New York, USA, have made bookings for the month of August for any year in any hotel?\n",
    "\n",
    "select count(distinct G.GuestNo)\n",
    "from Guest G, Booking B\n",
    "where G.GuestNo = B.GuestNo and G.GuestCity = 'New York' and G.GuestCountry = 'USA' and month(B.dateFrom) = 08;\n",
    "\n",
    "##### Q4.3 Get all rooms with corresponding hotel numbers that are currently unoccupied at the Hilton chain of hotels.\n",
    "\n",
    "select R.HotelNo as Hotel_Numbers\n",
    "from Room R \n",
    "where R.HotelNo not in (select HotelNo from Booking B, Hotel H where B.HotelNo = H.HotelNo and H.HotelChainName = 'Hilton') as Hilton_Occupied\n",
    "\n",
    "##### Q4.4 Get the country-wise revenue for each hotel chain for the year 2021. The result should have columns named 'HotelChain', 'Country' and 'Revenue'\n",
    "\n",
    "select H.HoteChainName as HotelChain, H.Country as Country, sum(R.Price) as Revenue\n",
    "from Hotel H, Room R, Booking B\n",
    "where H.HotelNo = R.HotelNo and H.HotelNo = B.HotelNo\n",
    "group by H.HotelChainName;"
   ]
  },
  {
   "cell_type": "code",
   "execution_count": null,
   "id": "22c85ddc-7d97-4224-af00-612f43813a6a",
   "metadata": {},
   "outputs": [],
   "source": []
  }
 ],
 "metadata": {
  "kernelspec": {
   "display_name": "Python 3 (ipykernel)",
   "language": "python",
   "name": "python3"
  },
  "language_info": {
   "codemirror_mode": {
    "name": "ipython",
    "version": 3
   },
   "file_extension": ".py",
   "mimetype": "text/x-python",
   "name": "python",
   "nbconvert_exporter": "python",
   "pygments_lexer": "ipython3",
   "version": "3.9.7"
  }
 },
 "nbformat": 4,
 "nbformat_minor": 5
}
