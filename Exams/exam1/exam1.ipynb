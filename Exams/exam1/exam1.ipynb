{
 "cells": [
  {
   "cell_type": "code",
   "execution_count": 1,
   "id": "ebc12740-943a-4a07-a0cf-11946ca7d7fe",
   "metadata": {},
   "outputs": [],
   "source": [
    "# Q1"
   ]
  },
  {
   "cell_type": "code",
   "execution_count": 17,
   "id": "b4106bfb-efe8-453b-b11e-31599605c5ab",
   "metadata": {},
   "outputs": [],
   "source": [
    "def filterTemps(file, lowerTemp=50, upperTemp=60):\n",
    "    ans = []\n",
    "    for line in open(file):\n",
    "        date, temp = line.split(':')\n",
    "        date = date.strip()\n",
    "        temp = temp.strip()\n",
    "        \n",
    "        tempCk = isBetween(int(temp), lowerTemp, upperTemp)\n",
    "        \n",
    "        if tempCk:\n",
    "            outDate = formatDate(date)\n",
    "            ans.append((outDate,temp))\n",
    "        \n",
    "    return ans\n",
    "    \n",
    "def isBetween(temp, lowerTemp, upperTemp):\n",
    "    if (temp >= lowerTemp and temp <= upperTemp):\n",
    "        return True\n",
    "    else:\n",
    "        return False\n",
    "    \n",
    "def formatDate(date):\n",
    "    month, day = date.split(' ')\n",
    "    if month == 'Jan':\n",
    "        return '01' + '/' + day\n",
    "    if month == 'Feb':\n",
    "        return '02' + '/' + day\n",
    "    if month == 'Mar':\n",
    "        return '03' + '/' + day\n",
    "    if month == 'Apr':\n",
    "        return '04' + '/' + day\n",
    "    if month == 'May':\n",
    "        return '05' + '/' + day\n",
    "    if month == 'Jun':\n",
    "        return '06' + '/' + day\n",
    "    if month == 'Jul':\n",
    "        return '07' + '/' + day\n",
    "    if month == 'Aug':\n",
    "        return '08' + '/' + day\n",
    "    if month == 'Sep':\n",
    "        return '09' + '/' + day\n",
    "    if month == 'Oct':\n",
    "        return '10' + '/' + day\n",
    "    if month == 'Nov':\n",
    "        return '11' + '/' + day\n",
    "    if month == 'Dec':\n",
    "        return '12' + '/' + day"
   ]
  },
  {
   "cell_type": "code",
   "execution_count": 18,
   "id": "14135818-f1e9-4c8a-9b06-f026f0e7a709",
   "metadata": {},
   "outputs": [
    {
     "name": "stdout",
     "output_type": "stream",
     "text": [
      "[('03/15', '46'), ('01/2', '32'), ('09/09', '79'), ('04/5', '57')]\n"
     ]
    }
   ],
   "source": [
    "print(filterTemps('temperature.txt', 30, 80))"
   ]
  },
  {
   "cell_type": "code",
   "execution_count": 19,
   "id": "c71a43e7-a7f6-4731-86d9-8d2ba8d25946",
   "metadata": {},
   "outputs": [],
   "source": [
    "# Q2"
   ]
  },
  {
   "cell_type": "code",
   "execution_count": 20,
   "id": "a8baf9f8-d4f0-488d-852b-ec3945b893fa",
   "metadata": {},
   "outputs": [],
   "source": [
    "# Q2.1"
   ]
  },
  {
   "cell_type": "code",
   "execution_count": 44,
   "id": "c548a62d-8e04-4794-98fc-27abc6034570",
   "metadata": {},
   "outputs": [],
   "source": [
    "from collections import Counter\n",
    "\n",
    "def wordcount(file):\n",
    "    wordlst = []\n",
    "    for line in open(file):\n",
    "        line = line.replace('.','')\n",
    "        line = line.replace(',','')\n",
    "        line = line.replace('!','')\n",
    "        line = line.replace('?','')\n",
    "        \n",
    "        words = line.split()\n",
    "        \n",
    "        for word in words:\n",
    "            if len(word) >= 4 and  word.isalpha():\n",
    "                wordlst.append(word)\n",
    "             \n",
    "    counts = Counter(wordlst)\n",
    "    countedlst = []    \n",
    "    for key in counts:\n",
    "        countedlst.append((key, counts[key]))\n",
    "        \n",
    "    return countedlst   "
   ]
  },
  {
   "cell_type": "code",
   "execution_count": 46,
   "id": "873c1bdb-d0fc-4bfc-94c3-f8ad0356e540",
   "metadata": {},
   "outputs": [
    {
     "name": "stdout",
     "output_type": "stream",
     "text": [
      "[('this', 2), ('absolutely', 1), ('amazing', 1), ('crazy', 1), ('movie', 2), ('what', 1), ('funniest', 1), ('year', 1)]\n"
     ]
    }
   ],
   "source": [
    "list1 = wordcount('wordfreqs.txt')\n",
    "print(list1)"
   ]
  },
  {
   "cell_type": "code",
   "execution_count": 62,
   "id": "9a86a698-df40-47a6-b783-416343824ea6",
   "metadata": {},
   "outputs": [],
   "source": [
    "# Q2.2\n",
    "\n",
    "def classify(list):\n",
    "    cnt_dict = {}\n",
    "    for tup in list:\n",
    "        print(tup)\n",
    "        letterNum = len(tup[0])\n",
    "        if letterNum in cnt_dict:\n",
    "            currList = cnt_dict[letterNum]\n",
    "            currList.append(tup)\n",
    "            cnt_dict[letterNum] = sorted(currList, key = lambda x: x[0])\n",
    "        else:\n",
    "            newList = [tup]\n",
    "            cnt_dict[letterNum] = newList\n",
    "\n",
    "    outputLst = []\n",
    "    for key in cnt_dict:\n",
    "        outputLst.append((key, cnt_dict[key]))\n",
    "    \n",
    "    return sorted(outputLst, key = lambda x: x[0])\n"
   ]
  },
  {
   "cell_type": "code",
   "execution_count": 63,
   "id": "fa3d40de-8926-4289-9aec-6c03afd46c99",
   "metadata": {},
   "outputs": [
    {
     "name": "stdout",
     "output_type": "stream",
     "text": [
      "('this', 2)\n",
      "('absolutely', 1)\n",
      "('amazing', 1)\n",
      "('crazy', 1)\n",
      "('movie', 2)\n",
      "('what', 1)\n",
      "('funniest', 1)\n",
      "('year', 1)\n",
      "[(4, [('this', 2), ('what', 1), ('year', 1)]), (5, [('crazy', 1), ('movie', 2)]), (7, [('amazing', 1)]), (8, [('funniest', 1)]), (10, [('absolutely', 1)])]\n"
     ]
    }
   ],
   "source": [
    "print(classify(list1))"
   ]
  },
  {
   "cell_type": "code",
   "execution_count": 64,
   "id": "2e11bb12-143a-4e56-a15f-36a014e0dff8",
   "metadata": {},
   "outputs": [],
   "source": [
    "# Q3"
   ]
  },
  {
   "cell_type": "code",
   "execution_count": 67,
   "id": "151fe086-23d7-4206-9049-e69579d7a37b",
   "metadata": {},
   "outputs": [],
   "source": [
    "# Q3.1\n",
    "\n",
    "lst1 = [i for i in range(1,101) if i%4 == 0]"
   ]
  },
  {
   "cell_type": "code",
   "execution_count": 68,
   "id": "f39ce9b6-580f-4516-9829-c216d57ab8a9",
   "metadata": {},
   "outputs": [
    {
     "data": {
      "text/plain": [
       "[4,\n",
       " 8,\n",
       " 12,\n",
       " 16,\n",
       " 20,\n",
       " 24,\n",
       " 28,\n",
       " 32,\n",
       " 36,\n",
       " 40,\n",
       " 44,\n",
       " 48,\n",
       " 52,\n",
       " 56,\n",
       " 60,\n",
       " 64,\n",
       " 68,\n",
       " 72,\n",
       " 76,\n",
       " 80,\n",
       " 84,\n",
       " 88,\n",
       " 92,\n",
       " 96,\n",
       " 100]"
      ]
     },
     "execution_count": 68,
     "metadata": {},
     "output_type": "execute_result"
    }
   ],
   "source": [
    "lst1"
   ]
  },
  {
   "cell_type": "code",
   "execution_count": 69,
   "id": "21bda14a-adc9-4df8-a787-d4dfa1ebbcea",
   "metadata": {},
   "outputs": [],
   "source": [
    "# Q3.2\n",
    "\n",
    "city_temp = [('nyc',70),('san fran',71),('miami',75),('chicago',65)]\n",
    "\n",
    "lst2 = [city for (city,temp) in city_temp if temp > 70]"
   ]
  },
  {
   "cell_type": "code",
   "execution_count": 70,
   "id": "460badc1-6507-43bd-b493-96210815f63f",
   "metadata": {},
   "outputs": [
    {
     "data": {
      "text/plain": [
       "['san fran', 'miami']"
      ]
     },
     "execution_count": 70,
     "metadata": {},
     "output_type": "execute_result"
    }
   ],
   "source": [
    "lst2"
   ]
  },
  {
   "cell_type": "code",
   "execution_count": 80,
   "id": "40c9419b-a7e0-4fd2-88c0-fac310bd5475",
   "metadata": {},
   "outputs": [],
   "source": [
    "lst3 = [x+y for x in ['F','S','J','E'] for y in ['R','C']]"
   ]
  },
  {
   "cell_type": "code",
   "execution_count": 81,
   "id": "b64baceb-cd2b-40e8-ad60-6de7d01809cc",
   "metadata": {},
   "outputs": [
    {
     "data": {
      "text/plain": [
       "['FR', 'FC', 'SR', 'SC', 'JR', 'JC', 'ER', 'EC']"
      ]
     },
     "execution_count": 81,
     "metadata": {},
     "output_type": "execute_result"
    }
   ],
   "source": [
    "lst3"
   ]
  },
  {
   "cell_type": "code",
   "execution_count": 93,
   "id": "26e0d366-3165-47ce-a1b4-a66111d1e6af",
   "metadata": {},
   "outputs": [],
   "source": [
    "ls4 = [(x,y) for x in range(1,11) for y in range(x+1,11) if (x+y)%3 == 0]"
   ]
  },
  {
   "cell_type": "code",
   "execution_count": 94,
   "id": "aa2647cb-49e3-462a-bb26-1e261436b32f",
   "metadata": {},
   "outputs": [
    {
     "data": {
      "text/plain": [
       "[(1, 2),\n",
       " (1, 5),\n",
       " (1, 8),\n",
       " (2, 4),\n",
       " (2, 7),\n",
       " (2, 10),\n",
       " (3, 6),\n",
       " (3, 9),\n",
       " (4, 5),\n",
       " (4, 8),\n",
       " (5, 7),\n",
       " (5, 10),\n",
       " (6, 9),\n",
       " (7, 8),\n",
       " (8, 10)]"
      ]
     },
     "execution_count": 94,
     "metadata": {},
     "output_type": "execute_result"
    }
   ],
   "source": [
    "ls4"
   ]
  },
  {
   "cell_type": "code",
   "execution_count": null,
   "id": "ea2affca-6151-4a3a-82c4-4b594f3553ee",
   "metadata": {},
   "outputs": [],
   "source": []
  }
 ],
 "metadata": {
  "kernelspec": {
   "display_name": "Python 3 (ipykernel)",
   "language": "python",
   "name": "python3"
  },
  "language_info": {
   "codemirror_mode": {
    "name": "ipython",
    "version": 3
   },
   "file_extension": ".py",
   "mimetype": "text/x-python",
   "name": "python",
   "nbconvert_exporter": "python",
   "pygments_lexer": "ipython3",
   "version": "3.9.7"
  }
 },
 "nbformat": 4,
 "nbformat_minor": 5
}
