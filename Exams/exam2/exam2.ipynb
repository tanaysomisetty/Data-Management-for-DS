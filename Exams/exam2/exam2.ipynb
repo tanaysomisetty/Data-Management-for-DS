{
 "cells": [
  {
   "cell_type": "code",
   "execution_count": 1,
   "id": "3063c06d-22c7-410f-8bbb-677fb849569e",
   "metadata": {},
   "outputs": [],
   "source": [
    "import re"
   ]
  },
  {
   "cell_type": "code",
   "execution_count": 55,
   "id": "ba8765c3-0d15-4fa5-9827-666bcc136da1",
   "metadata": {},
   "outputs": [
    {
     "name": "stdout",
     "output_type": "stream",
     "text": [
      "<re.Match object; span=(0, 6), match='_hello'>\n",
      "_hello\n"
     ]
    }
   ],
   "source": [
    "res = re.match('[a-zA-z][_a-zA-Z0-9]*','_hello')\n",
    "print(res) if res else print('no match')\n",
    "print(res.group())"
   ]
  },
  {
   "cell_type": "code",
   "execution_count": 111,
   "id": "cb7a38f2-1aaa-488f-8b51-73ec8f57e322",
   "metadata": {},
   "outputs": [
    {
     "name": "stdout",
     "output_type": "stream",
     "text": [
      "[('Girl, Interrupted', '2094', '20', '$11.99')]\n"
     ]
    }
   ],
   "source": [
    "res = re.findall('\\s*\"(.+)\",((19|20)[0-9]{2}),(\\$[0-9]{1,2}.[0-9]{2})\\s*', '\"Girl, Interrupted\",2094,$11.99')\n",
    "print(res) if res else print('no match')"
   ]
  },
  {
   "cell_type": "code",
   "execution_count": 142,
   "id": "0495682d-5a27-48e0-a2d1-17ceb8c1f4e5",
   "metadata": {},
   "outputs": [
    {
     "name": "stdout",
     "output_type": "stream",
     "text": [
      "no match\n"
     ]
    }
   ],
   "source": [
    "res = re.match('(\\S)\\s*(\\S)\\s*\\S\\s*\\2\\s*\\1','albla')\n",
    "print(res) if res else print('no match')"
   ]
  },
  {
   "cell_type": "code",
   "execution_count": 143,
   "id": "7eb27ac4-b3b4-4a62-9c1a-461444e107f8",
   "metadata": {},
   "outputs": [],
   "source": [
    "import numpy as np"
   ]
  },
  {
   "cell_type": "code",
   "execution_count": 160,
   "id": "dfe9c579-4ba1-4c86-bd31-45e835bd9414",
   "metadata": {},
   "outputs": [
    {
     "data": {
      "text/plain": [
       "array([0, 1, 2, 3, 4, 5, 6, 7, 8, 9])"
      ]
     },
     "execution_count": 160,
     "metadata": {},
     "output_type": "execute_result"
    }
   ],
   "source": [
    "nparr = np.array([0,1,2,3,4,5,6,7,8,9])\n",
    "nparr"
   ]
  },
  {
   "cell_type": "code",
   "execution_count": 161,
   "id": "445d9dca-23de-4aad-a046-b092fab434e9",
   "metadata": {},
   "outputs": [
    {
     "ename": "ValueError",
     "evalue": "NumPy boolean array indexing assignment cannot assign 10 input values to the 5 output values where the mask is true",
     "output_type": "error",
     "traceback": [
      "\u001b[0;31m---------------------------------------------------------------------------\u001b[0m",
      "\u001b[0;31mValueError\u001b[0m                                Traceback (most recent call last)",
      "\u001b[0;32m/var/folders/j8/4sd0mj5s083cmgy92br3xg7r0000gn/T/ipykernel_33655/379937632.py\u001b[0m in \u001b[0;36m<module>\u001b[0;34m\u001b[0m\n\u001b[1;32m      1\u001b[0m \u001b[0modd_vals\u001b[0m \u001b[0;34m=\u001b[0m \u001b[0;34m(\u001b[0m\u001b[0mnparr\u001b[0m\u001b[0;34m%\u001b[0m\u001b[0;36m2\u001b[0m \u001b[0;34m==\u001b[0m \u001b[0;36m1\u001b[0m\u001b[0;34m)\u001b[0m\u001b[0;34m\u001b[0m\u001b[0;34m\u001b[0m\u001b[0m\n\u001b[0;32m----> 2\u001b[0;31m \u001b[0mnparr\u001b[0m\u001b[0;34m[\u001b[0m\u001b[0modd_vals\u001b[0m\u001b[0;34m]\u001b[0m \u001b[0;34m=\u001b[0m \u001b[0mnparr\u001b[0m\u001b[0;34m**\u001b[0m\u001b[0;36m2\u001b[0m\u001b[0;34m\u001b[0m\u001b[0;34m\u001b[0m\u001b[0m\n\u001b[0m\u001b[1;32m      3\u001b[0m \u001b[0mnparr\u001b[0m\u001b[0;34m\u001b[0m\u001b[0;34m\u001b[0m\u001b[0m\n",
      "\u001b[0;31mValueError\u001b[0m: NumPy boolean array indexing assignment cannot assign 10 input values to the 5 output values where the mask is true"
     ]
    }
   ],
   "source": [
    "odd_vals = (nparr%2 == 1)\n",
    "nparr[odd_vals] = nparr**2\n",
    "nparr"
   ]
  },
  {
   "cell_type": "code",
   "execution_count": 166,
   "id": "0db7070f-6780-48bc-a7e9-9ae553c13a13",
   "metadata": {},
   "outputs": [
    {
     "data": {
      "text/plain": [
       "array([[1, 2, 3],\n",
       "       [4, 5, 6],\n",
       "       [7, 8, 9]])"
      ]
     },
     "execution_count": 166,
     "metadata": {},
     "output_type": "execute_result"
    }
   ],
   "source": [
    "narr = np.arange(1,10).reshape(3,3)\n",
    "narr"
   ]
  },
  {
   "cell_type": "code",
   "execution_count": 193,
   "id": "3de4f78d-785f-4828-ba23-bc7956e1e709",
   "metadata": {},
   "outputs": [
    {
     "name": "stdout",
     "output_type": "stream",
     "text": [
      "<re.Match object; span=(0, 3), match='0e1'>\n"
     ]
    }
   ],
   "source": [
    "res = re.match('([0-9]+|[0-9]*.[0-9]+)(e|E)[1-9][0-9]*$','0e1')\n",
    "print(res) if res else print('no match')"
   ]
  },
  {
   "cell_type": "code",
   "execution_count": 194,
   "id": "ed35b1fd-c226-4766-a136-9e8d595984c3",
   "metadata": {},
   "outputs": [],
   "source": [
    "import numpy as np"
   ]
  },
  {
   "cell_type": "code",
   "execution_count": 199,
   "id": "c705dd83-0d1e-41d5-936d-00df7f79341c",
   "metadata": {},
   "outputs": [
    {
     "data": {
      "text/plain": [
       "array([ 4.,  5., nan,  9.])"
      ]
     },
     "execution_count": 199,
     "metadata": {},
     "output_type": "execute_result"
    }
   ],
   "source": [
    "arr = np.array([4,5,np.nan,9]) \n",
    "arr"
   ]
  },
  {
   "cell_type": "code",
   "execution_count": 214,
   "id": "f371570a-7e67-4c10-8e1f-b8fbe583547c",
   "metadata": {},
   "outputs": [
    {
     "data": {
      "text/plain": [
       "array([ 1,  9, 25, 49])"
      ]
     },
     "execution_count": 214,
     "metadata": {},
     "output_type": "execute_result"
    }
   ],
   "source": [
    "nparr = np.arange(1,9)\n",
    "npnew = nparr.copy()\n",
    "npnew\n",
    "new = npnew[(npnew % 2 == 1)]**2\n",
    "new"
   ]
  },
  {
   "cell_type": "code",
   "execution_count": null,
   "id": "8b14a822-a662-44f8-9877-c93059140967",
   "metadata": {},
   "outputs": [],
   "source": []
  }
 ],
 "metadata": {
  "kernelspec": {
   "display_name": "Python 3 (ipykernel)",
   "language": "python",
   "name": "python3"
  },
  "language_info": {
   "codemirror_mode": {
    "name": "ipython",
    "version": 3
   },
   "file_extension": ".py",
   "mimetype": "text/x-python",
   "name": "python",
   "nbconvert_exporter": "python",
   "pygments_lexer": "ipython3",
   "version": "3.9.7"
  }
 },
 "nbformat": 4,
 "nbformat_minor": 5
}
