{
 "cells": [
  {
   "cell_type": "markdown",
   "metadata": {},
   "source": [
    "### <font color=\"brown\">Problem Set 9: Pandas</font>"
   ]
  },
  {
   "cell_type": "code",
   "execution_count": 1,
   "metadata": {},
   "outputs": [],
   "source": [
    "import numpy as np\n",
    "import pandas as pd\n",
    "from pandas import Series\n",
    "from pandas import DataFrame"
   ]
  },
  {
   "cell_type": "code",
   "execution_count": 8,
   "metadata": {},
   "outputs": [
    {
     "data": {
      "text/plain": [
       "7"
      ]
     },
     "execution_count": 8,
     "metadata": {},
     "output_type": "execute_result"
    }
   ],
   "source": [
    "df = DataFrame(np.arange(1,9).reshape(4,2), index=['A','B','C','D'])\n",
    "df\n",
    "df.loc['B':'D'][0].max()"
   ]
  },
  {
   "cell_type": "markdown",
   "metadata": {},
   "source": [
    "---"
   ]
  },
  {
   "cell_type": "markdown",
   "metadata": {
    "id": "E7KyJP-pw2nb"
   },
   "source": [
    "#### Problem 1: \n",
    "\n",
    "**Series and DataFrame - Short Answer Questions**"
   ]
  },
  {
   "cell_type": "markdown",
   "metadata": {},
   "source": [
    "**1. What does the following code print?**\n",
    "\n",
    "<pre>\n",
    "ser = Series({'A':25, 'B':31, 'C':26},name='scores')\n",
    "print(ser.reset_index().scores[1])\n",
    "</pre>"
   ]
  },
  {
   "cell_type": "markdown",
   "metadata": {},
   "source": [
    "**---------------------------------------------------------------**"
   ]
  },
  {
   "cell_type": "markdown",
   "metadata": {},
   "source": [
    "**2. What does the following code print?**\n",
    "\n",
    "<pre>\n",
    "df = DataFrame(np.arange(1,9).reshape(4,2), index=['A','B','C','D'])\n",
    "df.loc['B':'D'][0].max()\n",
    "</pre>"
   ]
  },
  {
   "cell_type": "markdown",
   "metadata": {},
   "source": [
    "**---------------------------------------------------------------**"
   ]
  },
  {
   "cell_type": "markdown",
   "metadata": {},
   "source": [
    "**3. Write 3 different ways to extract the last 3 rows of the following DataFrame**\n",
    "\n",
    "<pre>\n",
    "df = DataFrame(np.arange(1,25).reshape(4,6))\n",
    "</pre>\n"
   ]
  },
  {
   "cell_type": "markdown",
   "metadata": {},
   "source": [
    "**---------------------------------------------------------------**"
   ]
  },
  {
   "cell_type": "markdown",
   "metadata": {},
   "source": [
    "**4. What is the result of the following?**\n",
    "\n",
    "<pre>\n",
    "data = DataFrame({\n",
    "   'id':[1,2,3,4,5],\n",
    "   'Name': ['Alex', 'Amy', 'Allen', 'Alice', 'Abby'],\n",
    "   'subject_id':['sub1','sub2','sub3','sub4','sub5']})\n",
    "\n",
    "data.T[1:3][2][0]\n",
    "</pre>\n"
   ]
  },
  {
   "cell_type": "markdown",
   "metadata": {},
   "source": [
    "**---------------------------------------------------------------**"
   ]
  },
  {
   "cell_type": "markdown",
   "metadata": {},
   "source": [
    "**5. For the dataframe given below which of the which of the following will make Yale an IVY, and NYU not an IVY, by setting the respective NaNs to 'Yes' and 'No'?:**\n",
    "\n",
    "1. data['IVY'] = data['IVY'].fillna(method='bfill')\n",
    "2. data['IVY'] = data['IVY'].fillna(method='ffill')\n",
    "3. data['IVY'] = data['IVY'].fillna('Yes')\n",
    "4. None of the above\n",
    "\n",
    "<pre>\n",
    "data = pd.DataFrame({'Univ':['USC', 'Yale', 'Harvard', 'UCLA', 'NCSU', 'NYU'],\n",
    "                     'IVY':['No', np.nan, 'Yes', np.nan, 'No', np.nan]})\n",
    "</pre>"
   ]
  },
  {
   "cell_type": "markdown",
   "metadata": {},
   "source": [
    "---"
   ]
  },
  {
   "cell_type": "markdown",
   "metadata": {},
   "source": [
    "#### Problem 2"
   ]
  },
  {
   "cell_type": "markdown",
   "metadata": {},
   "source": [
    "For the sub problem #5 above, write code that will give the desired result"
   ]
  },
  {
   "cell_type": "code",
   "execution_count": 12,
   "metadata": {},
   "outputs": [
    {
     "data": {
      "text/html": [
       "<div>\n",
       "<style scoped>\n",
       "    .dataframe tbody tr th:only-of-type {\n",
       "        vertical-align: middle;\n",
       "    }\n",
       "\n",
       "    .dataframe tbody tr th {\n",
       "        vertical-align: top;\n",
       "    }\n",
       "\n",
       "    .dataframe thead th {\n",
       "        text-align: right;\n",
       "    }\n",
       "</style>\n",
       "<table border=\"1\" class=\"dataframe\">\n",
       "  <thead>\n",
       "    <tr style=\"text-align: right;\">\n",
       "      <th></th>\n",
       "      <th>Univ</th>\n",
       "      <th>IVY</th>\n",
       "    </tr>\n",
       "  </thead>\n",
       "  <tbody>\n",
       "    <tr>\n",
       "      <th>0</th>\n",
       "      <td>USC</td>\n",
       "      <td>No</td>\n",
       "    </tr>\n",
       "    <tr>\n",
       "      <th>1</th>\n",
       "      <td>Yale</td>\n",
       "      <td>Yes</td>\n",
       "    </tr>\n",
       "    <tr>\n",
       "      <th>2</th>\n",
       "      <td>Harvard</td>\n",
       "      <td>Yes</td>\n",
       "    </tr>\n",
       "    <tr>\n",
       "      <th>3</th>\n",
       "      <td>UCLA</td>\n",
       "      <td>NaN</td>\n",
       "    </tr>\n",
       "    <tr>\n",
       "      <th>4</th>\n",
       "      <td>NCSU</td>\n",
       "      <td>No</td>\n",
       "    </tr>\n",
       "    <tr>\n",
       "      <th>5</th>\n",
       "      <td>NYU</td>\n",
       "      <td>No</td>\n",
       "    </tr>\n",
       "  </tbody>\n",
       "</table>\n",
       "</div>"
      ],
      "text/plain": [
       "      Univ  IVY\n",
       "0      USC   No\n",
       "1     Yale  Yes\n",
       "2  Harvard  Yes\n",
       "3     UCLA  NaN\n",
       "4     NCSU   No\n",
       "5      NYU   No"
      ]
     },
     "execution_count": 12,
     "metadata": {},
     "output_type": "execute_result"
    }
   ],
   "source": [
    "data = pd.DataFrame({'Univ':['USC', 'Yale', 'Harvard', 'UCLA', 'NCSU', 'NYU'],\n",
    "                     'IVY':['No', np.nan, 'Yes', np.nan, 'No', np.nan]})\n",
    "data.iloc[1,1] = 'Yes'\n",
    "data.iloc[5,1] = 'No'\n",
    "data"
   ]
  },
  {
   "cell_type": "markdown",
   "metadata": {},
   "source": [
    "---"
   ]
  },
  {
   "cell_type": "markdown",
   "metadata": {
    "id": "HxpZ5nIjeCgG"
   },
   "source": [
    "#### Problem 3\n",
    "Execute the code below to get a series called nums. <br>\n",
    "Fill in the missing values (NaN) by the rounded off mean value of the series and get a subset of the series where the numbers are divisible by 3."
   ]
  },
  {
   "cell_type": "code",
   "execution_count": 17,
   "metadata": {
    "executionInfo": {
     "elapsed": 2436,
     "status": "ok",
     "timestamp": 1611853652488,
     "user": {
      "displayName": "PRAKRUTI JOSHI",
      "photoUrl": "",
      "userId": "13509940654676308883"
     },
     "user_tz": -330
    },
    "id": "U2r0GZ3fTCJy"
   },
   "outputs": [
    {
     "data": {
      "text/plain": [
       "0     4.000000\n",
       "1     7.000000\n",
       "2     4.000000\n",
       "3     4.000000\n",
       "4     9.000000\n",
       "5     5.411765\n",
       "6     8.000000\n",
       "7     8.000000\n",
       "8     6.000000\n",
       "9     7.000000\n",
       "10    1.000000\n",
       "11    1.000000\n",
       "12    2.000000\n",
       "13    5.411765\n",
       "14    6.000000\n",
       "15    5.411765\n",
       "16    8.000000\n",
       "17    7.000000\n",
       "18    7.000000\n",
       "19    3.000000\n",
       "dtype: float64"
      ]
     },
     "execution_count": 17,
     "metadata": {},
     "output_type": "execute_result"
    }
   ],
   "source": [
    "from numpy import nan as NA\n",
    "nums = pd.Series(np.random.randint(1, 10, 20))\n",
    "for i in range(5):\n",
    "    nums[np.random.randint(0, 20, 1)] = NA\n",
    "nums = nums.fillna(nums.mean())\n",
    "nums"
   ]
  },
  {
   "cell_type": "code",
   "execution_count": 18,
   "metadata": {},
   "outputs": [
    {
     "data": {
      "text/plain": [
       "4     9.0\n",
       "8     6.0\n",
       "14    6.0\n",
       "19    3.0\n",
       "dtype: float64"
      ]
     },
     "execution_count": 18,
     "metadata": {},
     "output_type": "execute_result"
    }
   ],
   "source": [
    "nums[nums % 3 == 0]"
   ]
  },
  {
   "cell_type": "markdown",
   "metadata": {},
   "source": [
    "---"
   ]
  },
  {
   "cell_type": "markdown",
   "metadata": {},
   "source": [
    "#### Problem 4\n",
    "\n",
    "Given the following series, keep only top 2 most frequent values as is, and replace everything else with 'Other'\n",
    "\n",
    "<pre>\n",
    "  ser = pd.Series(np.random.randint(1, 6, [12]))\n",
    "</pre>\n",
    "\n",
    "Hint: Use Series method <tt>isin</tt>"
   ]
  },
  {
   "cell_type": "code",
   "execution_count": 30,
   "metadata": {},
   "outputs": [
    {
     "name": "stdout",
     "output_type": "stream",
     "text": [
      "5    4\n",
      "3    3\n",
      "dtype: int64\n"
     ]
    },
    {
     "data": {
      "text/plain": [
       "Int64Index([5, 3], dtype='int64')"
      ]
     },
     "execution_count": 30,
     "metadata": {},
     "output_type": "execute_result"
    }
   ],
   "source": [
    "ser = pd.Series(np.random.randint(1, 6, [12]))\n",
    "print(ser.value_counts()[:2])\n",
    "ser.value_counts().index[:2]"
   ]
  },
  {
   "cell_type": "markdown",
   "metadata": {},
   "source": [
    "---"
   ]
  },
  {
   "cell_type": "markdown",
   "metadata": {
    "id": "ikfVXtSGa0wI"
   },
   "source": [
    "#### Problem 5\n",
    "\n",
    "In the following Series, convert the first character of each word to uppercase. (Hint: the title() method of String converts the first letter of each word to uppercase, and all others to lowercase. Also try without using the title() method)\n",
    "\n",
    "<pre>\n",
    "   ser = pd.Series(['how', 'to easily', 'learn', 'spoken spanish'])\n",
    "</pre>\n"
   ]
  },
  {
   "cell_type": "code",
   "execution_count": 41,
   "metadata": {},
   "outputs": [
    {
     "data": {
      "text/plain": [
       "0               how\n",
       "1         to easily\n",
       "2             learn\n",
       "3    spoken spanish\n",
       "dtype: object"
      ]
     },
     "execution_count": 41,
     "metadata": {},
     "output_type": "execute_result"
    }
   ],
   "source": [
    "ser = pd.Series(['how', 'to easily', 'learn', 'spoken spanish'])\n",
    "ser"
   ]
  },
  {
   "cell_type": "code",
   "execution_count": 42,
   "metadata": {},
   "outputs": [
    {
     "data": {
      "text/plain": [
       "0               How\n",
       "1         To Easily\n",
       "2             Learn\n",
       "3    Spoken Spanish\n",
       "dtype: object"
      ]
     },
     "execution_count": 42,
     "metadata": {},
     "output_type": "execute_result"
    }
   ],
   "source": [
    "def capitalize(word):\n",
    "    word = word.title()\n",
    "    return word\n",
    "\n",
    "ser.map(capitalize)"
   ]
  },
  {
   "cell_type": "code",
   "execution_count": 43,
   "metadata": {},
   "outputs": [
    {
     "data": {
      "text/plain": [
       "0               HOW\n",
       "1         TO EASILY\n",
       "2             LEARN\n",
       "3    SPOKEN SPANISH\n",
       "dtype: object"
      ]
     },
     "execution_count": 43,
     "metadata": {},
     "output_type": "execute_result"
    }
   ],
   "source": [
    "ser.map(lambda v: v.upper())"
   ]
  },
  {
   "cell_type": "markdown",
   "metadata": {},
   "source": [
    "---"
   ]
  },
  {
   "cell_type": "markdown",
   "metadata": {
    "id": "ikfVXtSGa0wI"
   },
   "source": [
    "#### Problem 6\n",
    "\n",
    "Write code to pick words in a Series that contain at least 2 vowels."
   ]
  },
  {
   "cell_type": "code",
   "execution_count": 45,
   "metadata": {},
   "outputs": [
    {
     "data": {
      "text/plain": [
       "0               how\n",
       "1         to easily\n",
       "3    spoken spanish\n",
       "dtype: object"
      ]
     },
     "execution_count": 45,
     "metadata": {},
     "output_type": "execute_result"
    }
   ],
   "source": [
    "ser = pd.Series(['how', 'to easily', 'learn', 'spoken spanish'])\n",
    "\n",
    "ser[[True, True, False, True]]"
   ]
  },
  {
   "cell_type": "markdown",
   "metadata": {},
   "source": [
    "---"
   ]
  },
  {
   "cell_type": "markdown",
   "metadata": {},
   "source": [
    "#### Problem 7\n",
    "\n",
    "Write a generic function to switch the columns of a dataframe. (Take column names as input to function)"
   ]
  }
 ],
 "metadata": {
  "kernelspec": {
   "display_name": "Python 3 (ipykernel)",
   "language": "python",
   "name": "python3"
  },
  "language_info": {
   "codemirror_mode": {
    "name": "ipython",
    "version": 3
   },
   "file_extension": ".py",
   "mimetype": "text/x-python",
   "name": "python",
   "nbconvert_exporter": "python",
   "pygments_lexer": "ipython3",
   "version": "3.9.7"
  }
 },
 "nbformat": 4,
 "nbformat_minor": 4
}
