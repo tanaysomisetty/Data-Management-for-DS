{
 "cells": [
  {
   "cell_type": "markdown",
   "metadata": {},
   "source": [
    "---"
   ]
  },
  {
   "cell_type": "markdown",
   "metadata": {
    "id": "z0alGOgt8nsy"
   },
   "source": [
    "#### Problem 1:\n",
    "\n",
    "Given the below value of x, print the values of following:\n",
    "1. Cube of x\n",
    "2. The remainder when divided by 4\n",
    "3. The integer quotient when divided by 5\n",
    "4. Expression to determine whether x is greater than 15 and less than 25. Print the resultant value.\n",
    "5. Check if x is equal to the value of x as string. Eg: if 3 and \"3\" are same.  \n",
    "\n",
    "All the above values should be printed in the following form: <br>\n",
    "\"Problem: Value\"\n",
    "For e.g.: \"Cube of 10: 1000\""
   ]
  },
  {
   "cell_type": "code",
   "execution_count": 4,
   "metadata": {
    "id": "AwxVpl3z8nsy"
   },
   "outputs": [
    {
     "name": "stdout",
     "output_type": "stream",
     "text": [
      "Cube of 3: 27\n"
     ]
    }
   ],
   "source": [
    "#1\n",
    "x = 3\n",
    "y = x**3\n",
    "print(f'Cube of {x}: {y}')"
   ]
  },
  {
   "cell_type": "code",
   "execution_count": 5,
   "metadata": {
    "id": "HbxPXTBL8nsy"
   },
   "outputs": [
    {
     "name": "stdout",
     "output_type": "stream",
     "text": [
      "Remainder of 9 divided by 4: 1\n"
     ]
    }
   ],
   "source": [
    "#2\n",
    "x = 9\n",
    "y = x % 4\n",
    "print(f'Remainder of {x} divided by 4: {y}')"
   ]
  },
  {
   "cell_type": "code",
   "execution_count": 8,
   "metadata": {
    "id": "tU9cnicJ8nsy"
   },
   "outputs": [
    {
     "name": "stdout",
     "output_type": "stream",
     "text": [
      "Integer quotient of 13 divided by 5: 2\n"
     ]
    }
   ],
   "source": [
    "#3\n",
    "x = 13\n",
    "y = x // 5\n",
    "print(f'Integer quotient of {x} divided by 5: {y}')"
   ]
  },
  {
   "cell_type": "code",
   "execution_count": 11,
   "metadata": {
    "id": "XPMB7Nsu8nsy"
   },
   "outputs": [
    {
     "name": "stdout",
     "output_type": "stream",
     "text": [
      "10 is greater than 15 and less than 25: False\n"
     ]
    }
   ],
   "source": [
    "#4\n",
    "x = 10\n",
    "y = (x > 15) and (x < 25)\n",
    "print(f'{x} is greater than 15 and less than 25: {y}')"
   ]
  },
  {
   "cell_type": "code",
   "execution_count": 21,
   "metadata": {
    "id": "yxo3SMkT8nsy"
   },
   "outputs": [
    {
     "name": "stdout",
     "output_type": "stream",
     "text": [
      "3 is equal to the value as a string: True\n"
     ]
    }
   ],
   "source": [
    "#5\n",
    "x = '3'\n",
    "y = float(x)\n",
    "print(f'{x} is equal to the value as a string: {y == float(x)}')"
   ]
  },
  {
   "cell_type": "markdown",
   "metadata": {},
   "source": [
    "---"
   ]
  },
  {
   "cell_type": "markdown",
   "metadata": {
    "id": "r_Wu8xYH8nsz"
   },
   "source": [
    "#### Problem 2:\n",
    "\n",
    "The function \"calculate_average\" takes in three integers and returns their average. Complete the function definition to calculate the average. Print the value of average inside the function. Also, print the data type of computed average inside the function. "
   ]
  },
  {
   "cell_type": "code",
   "execution_count": 23,
   "metadata": {
    "id": "qvW5Pbkb8nsz"
   },
   "outputs": [],
   "source": [
    "def calculate_average(val1, val2, val3):\n",
    "    sum = val1 + val2 + val3\n",
    "    avg = sum / 3\n",
    "    print(avg)\n",
    "    print(type(avg))"
   ]
  },
  {
   "cell_type": "code",
   "execution_count": 25,
   "metadata": {},
   "outputs": [
    {
     "name": "stdout",
     "output_type": "stream",
     "text": [
      "15.0\n",
      "<class 'float'>\n"
     ]
    }
   ],
   "source": [
    "calculate_average(10,20,15)"
   ]
  },
  {
   "cell_type": "markdown",
   "metadata": {},
   "source": [
    "---"
   ]
  },
  {
   "cell_type": "markdown",
   "metadata": {
    "id": "BvWrfby68nsz"
   },
   "source": [
    "#### Problem 3: \n",
    "\n",
    "String concatenation and string repetition:\n",
    "\n",
    "Form a single string using the below given variables: \n",
    "\n",
    "\"My name is Jim Halpert. My annual salary is $60000 <br>\n",
    "I am good. I am good. I am good.\" \n",
    "\n",
    "Print the resultant string."
   ]
  },
  {
   "cell_type": "code",
   "execution_count": 27,
   "metadata": {
    "id": "OzqWzNcO8nsz"
   },
   "outputs": [],
   "source": [
    "name = \"Jim Halpert\" \n",
    "salary = 60000\n",
    "string = \"I am good. \"\n",
    "age = 35"
   ]
  },
  {
   "cell_type": "code",
   "execution_count": 29,
   "metadata": {
    "id": "W4Lz4Vs78nsz"
   },
   "outputs": [
    {
     "name": "stdout",
     "output_type": "stream",
     "text": [
      "My name is Jim Halpert. My annual salary is $60000\n",
      "I am good. I am good. I am good. \n"
     ]
    }
   ],
   "source": [
    "#solution\n",
    "string_1 = f'My name is {name}. My annual salary is ${salary}'\n",
    "print(string_1)\n",
    "string_2 = string*3\n",
    "print(string_2)"
   ]
  },
  {
   "cell_type": "markdown",
   "metadata": {},
   "source": [
    "---"
   ]
  },
  {
   "cell_type": "markdown",
   "metadata": {
    "id": "LouUoFKi8nsz"
   },
   "source": [
    "#### Problem 4:\n",
    "\n",
    "String Functions:\n",
    "\n",
    "Note: All string methods returns new values. They do not change the original string.\n",
    "\n",
    "Reference: https://www.w3schools.com/python/python_ref_string.asp"
   ]
  },
  {
   "cell_type": "code",
   "execution_count": 50,
   "metadata": {
    "id": "QDRm6W2d8nsz"
   },
   "outputs": [],
   "source": [
    "string = \"Hello! How are you? It has been quite some time. Last time I saw you was in California.\""
   ]
  },
  {
   "cell_type": "markdown",
   "metadata": {
    "id": "2eVgjV0U8nsz"
   },
   "source": [
    "Given the following input string, perform the following:\n",
    "1. Print the length of string\n",
    "2. Occurrence of substring \"time\"\n",
    "3. Check if substring \"California\" and \"New York\" occurs in string\n",
    "4. Convert string to uppercase\n",
    "5. Find the index of '!' in the string\n",
    "6. Check is there are any digits in the string"
   ]
  },
  {
   "cell_type": "code",
   "execution_count": 51,
   "metadata": {
    "id": "mJ9X4BV28nsz"
   },
   "outputs": [
    {
     "name": "stdout",
     "output_type": "stream",
     "text": [
      "87\n",
      "2\n",
      "California is in string: True; New York is in string: False\n",
      "HELLO! HOW ARE YOU? IT HAS BEEN QUITE SOME TIME. LAST TIME I SAW YOU WAS IN CALIFORNIA.\n",
      "5\n",
      "The string contains digits: False\n"
     ]
    }
   ],
   "source": [
    "# Solution\n",
    "\n",
    "#1\n",
    "print(len(string))\n",
    "\n",
    "#2\n",
    "print(string.count('time'))\n",
    "\n",
    "#3\n",
    "ca_occurs = False\n",
    "ny_occurs = False\n",
    "\n",
    "if 'California' in string:\n",
    "    ca_occurs = True\n",
    "if 'New York' in string:\n",
    "    ny_occurs = True\n",
    "\n",
    "print(f'California is in string: {ca_occurs}; New York is in string: {ny_occurs}')\n",
    "\n",
    "#4\n",
    "print(string.upper())\n",
    "\n",
    "#5\n",
    "print(string.index('!'))\n",
    "\n",
    "#6\n",
    "contains_digit = any(i.isdigit() for i in string)\n",
    "print(f'The string contains digits: {contains_digit}')"
   ]
  },
  {
   "cell_type": "markdown",
   "metadata": {},
   "source": [
    "---"
   ]
  },
  {
   "cell_type": "markdown",
   "metadata": {
    "id": "srit6lO38nsz"
   },
   "source": [
    "#### Problem 5:\n",
    "\n",
    "Write a function to compute the area of the circle given radius r. "
   ]
  },
  {
   "cell_type": "code",
   "execution_count": 52,
   "metadata": {
    "id": "sOhhkTEv8nsz"
   },
   "outputs": [
    {
     "data": {
      "text/plain": [
       "113.04"
      ]
     },
     "execution_count": 52,
     "metadata": {},
     "output_type": "execute_result"
    }
   ],
   "source": [
    "# Solution \n",
    "\n",
    "def areaOfCircle(radius):\n",
    "    pi = 3.14\n",
    "    return pi * (radius**2)\n",
    "\n",
    "areaOfCircle(6)"
   ]
  },
  {
   "cell_type": "markdown",
   "metadata": {},
   "source": [
    "---"
   ]
  },
  {
   "cell_type": "markdown",
   "metadata": {
    "id": "Qwerb4-38nsz"
   },
   "source": [
    "#### Problem 6: \n",
    "\n",
    "Create a function that takes in the student id, age, name, and grade of the student. The function should print both the values. If the grade is missing, the function should display the grade as 'B'. If the age is missing, the function should display the age as 18. "
   ]
  },
  {
   "cell_type": "code",
   "execution_count": 40,
   "metadata": {
    "id": "oSVezndG8nsz"
   },
   "outputs": [
    {
     "name": "stdout",
     "output_type": "stream",
     "text": [
      "id=1002456, name=Tanay, grade=A, age=21\n"
     ]
    }
   ],
   "source": [
    "# Solution \n",
    "def student(id, name, grade='B',age=18):\n",
    "    print(f'id={id}, name={name}, grade={grade}, age={age}')\n",
    "    \n",
    "student(1002456, 'Tanay', 'A', 21)"
   ]
  },
  {
   "cell_type": "markdown",
   "metadata": {},
   "source": [
    "---"
   ]
  },
  {
   "cell_type": "markdown",
   "metadata": {
    "id": "Pq8gHj9e8nsz"
   },
   "source": [
    "#### Problem 7: \n",
    "\n",
    "1. Create a function \"calculate()\" that takes in two integers (a,b). The function should return addition, subtraction, multiplication, division of a and b. Note: If b is zero, it will result in \"Divide by zero error\".  <br>\n",
    "2. Write a function call with sample values of a and b. Print the results from the function call. "
   ]
  },
  {
   "cell_type": "code",
   "execution_count": 44,
   "metadata": {
    "id": "zSU7qcM38nsz"
   },
   "outputs": [
    {
     "name": "stdout",
     "output_type": "stream",
     "text": [
      "addition: 9\n",
      "subtraction: 3\n",
      "multiplication: 18\n",
      "division: 2.0\n"
     ]
    }
   ],
   "source": [
    "# Solution \n",
    "def calculate(a,b):\n",
    "    print(f'addition: {a+b}')\n",
    "    print(f'subtraction: {a-b}')\n",
    "    print(f'multiplication: {a*b}')\n",
    "    if b != 0:\n",
    "        print(f'division: {(a/b)}')\n",
    "    else:\n",
    "        print('Divide by zero error')\n",
    "        \n",
    "calculate(6,3)"
   ]
  },
  {
   "cell_type": "markdown",
   "metadata": {},
   "source": [
    "---"
   ]
  },
  {
   "cell_type": "markdown",
   "metadata": {
    "id": "nD8CZ5iW8nsz"
   },
   "source": [
    "#### Problem 8:\n",
    "\n",
    "Write a function to check if a number belongs to a particular range (a,b). If the range is not mentioned, the range should be (0,100). <br>\n",
    "\n",
    "Test your code by checking if 7 belongs to the range (5,15)."
   ]
  },
  {
   "cell_type": "code",
   "execution_count": 47,
   "metadata": {
    "id": "NJwMLsSS8nsz"
   },
   "outputs": [
    {
     "data": {
      "text/plain": [
       "False"
      ]
     },
     "execution_count": 47,
     "metadata": {},
     "output_type": "execute_result"
    }
   ],
   "source": [
    "# Solution \n",
    "def rangeCheck(num, a=0, b=100):\n",
    "    if (num >= a and num <= b):\n",
    "        return(True)\n",
    "    else:\n",
    "        return(False)\n",
    "    \n",
    "rangeCheck(4,-10,-1)"
   ]
  },
  {
   "cell_type": "code",
   "execution_count": null,
   "metadata": {},
   "outputs": [],
   "source": []
  }
 ],
 "metadata": {
  "colab": {
   "name": "Week1_Exercises.ipynb",
   "provenance": []
  },
  "kernelspec": {
   "display_name": "Python 3 (ipykernel)",
   "language": "python",
   "name": "python3"
  },
  "language_info": {
   "codemirror_mode": {
    "name": "ipython",
    "version": 3
   },
   "file_extension": ".py",
   "mimetype": "text/x-python",
   "name": "python",
   "nbconvert_exporter": "python",
   "pygments_lexer": "ipython3",
   "version": "3.9.7"
  }
 },
 "nbformat": 4,
 "nbformat_minor": 4
}
