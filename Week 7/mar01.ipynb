{
 "cells": [
  {
   "cell_type": "markdown",
   "id": "e63630c9-bfce-4969-97c0-c0cf5add7dde",
   "metadata": {},
   "source": [
    "#### DictReader ####"
   ]
  },
  {
   "cell_type": "code",
   "execution_count": 2,
   "id": "f079e886-01d7-4a51-a6af-59c30c47d874",
   "metadata": {},
   "outputs": [],
   "source": [
    "import csv"
   ]
  },
  {
   "cell_type": "code",
   "execution_count": 5,
   "id": "f0264317-3fbb-4369-bf24-7fb83d145189",
   "metadata": {},
   "outputs": [
    {
     "name": "stdout",
     "output_type": "stream",
     "text": [
      "{'mpg': '18.0', 'cylinders': '8.', 'displacement': '307.0', 'horsepower': '130.0', 'weight': '3504.', 'acceleration': '12.0', 'model year': '70.', 'origin': '1.', 'car name': 'chevrolet chevelle malibu'}\n",
      "{'mpg': '15.0', 'cylinders': '8.', 'displacement': '350.0', 'horsepower': '165.0', 'weight': '3693.', 'acceleration': '11.5', 'model year': '70.', 'origin': '1.', 'car name': 'buick skylark 320'}\n",
      "{'mpg': '18.0', 'cylinders': '8.', 'displacement': '318.0', 'horsepower': '150.0', 'weight': '3436.', 'acceleration': '11.0', 'model year': '70.', 'origin': '1.', 'car name': 'plymouth satellite'}\n",
      "{'mpg': '16.0', 'cylinders': '8.', 'displacement': '304.0', 'horsepower': '150.0', 'weight': '3433.', 'acceleration': '12.0', 'model year': '70.', 'origin': '1.', 'car name': 'amc rebel sst'}\n",
      "{'mpg': '17.0', 'cylinders': '8.', 'displacement': '302.0', 'horsepower': '140.0', 'weight': '3449.', 'acceleration': '10.5', 'model year': '70.', 'origin': '1.', 'car name': 'ford torino'}\n"
     ]
    }
   ],
   "source": [
    "reader = csv.DictReader(open('auto_mpg_original (1).csv'))\n",
    "for index,row in enumerate(reader):\n",
    "    print(row)\n",
    "    if index >3:\n",
    "        break"
   ]
  },
  {
   "cell_type": "code",
   "execution_count": 7,
   "id": "adb1bcae-ec47-4760-a63d-66df82979748",
   "metadata": {},
   "outputs": [
    {
     "name": "stdout",
     "output_type": "stream",
     "text": [
      "['mpg', 'cylinders', 'displacement', 'horsepower', 'weight', 'acceleration', 'model year', 'origin', 'car name']\n",
      "mpg,cylinders,displacement,horsepower,weight,acceleration,model year,origin,car name\n",
      "NA,4.,133.0,115.0,3090.,17.5,70.,2.,\"citroen ds-21 pallas\"\n",
      "NA,8.,350.0,165.0,4142.,11.5,70.,1.,\"chevrolet chevelle concours (sw)\"\n",
      "NA,8.,351.0,153.0,4034.,11.0,70.,1.,\"ford torino (sw)\"\n",
      "NA,8.,383.0,175.0,4166.,10.5,70.,1.,\"plymouth satellite (sw)\"\n",
      "NA,8.,360.0,175.0,3850.,11.0,70.,1.,\"amc rebel sst (sw)\"\n",
      "NA,8.,302.0,140.0,3353.,8.0,70.,1.,\"ford mustang boss 302\"\n",
      "25.0,4.,98.00,NA,2046.,19.0,71.,1.,\"ford pinto\"\n",
      "NA,4.,97.00,48.00,1978.,20.0,71.,2.,\"volkswagen super beetle 117\"\n",
      "21.0,6.,200.0,NA,2875.,17.0,74.,1.,\"ford maverick\"\n",
      "40.9,4.,85.00,NA,1835.,17.3,80.,2.,\"renault lecar deluxe\"\n",
      "23.6,4.,140.0,NA,2905.,14.3,80.,1.,\"ford mustang cobra\"\n",
      "34.5,4.,100.0,NA,2320.,15.8,81.,2.,\"renault 18i\"\n",
      "NA,4.,121.0,110.0,2800.,15.4,81.,2.,\"saab 900s\"\n",
      "23.0,4.,151.0,NA,3035.,20.5,82.,1.,\"amc concord dl\"\n"
     ]
    }
   ],
   "source": [
    "# using fieldnames and values\n",
    "reader = csv.DictReader(open('auto_mpg_original (1).csv'))\n",
    "print(reader.fieldnames) # fieldnames is a reader property\n",
    "print(','.join(reader.fieldnames))\n",
    "for row in reader:\n",
    "    values = list(row.values())\n",
    "    if 'NA' in values:\n",
    "        values[-1] = '\"' + values[-1] + '\"'\n",
    "        print(','.join(values))"
   ]
  },
  {
   "cell_type": "code",
   "execution_count": 5,
   "id": "9900cf41-e4ac-4f4f-8dfe-29dfdf09e101",
   "metadata": {},
   "outputs": [],
   "source": [
    "# write cleaned up version in csv file\n",
    "reader = csv.DictReader(open('auto_mpg_original (1).csv'))\n",
    "with open('auto_mpg.csv','w') as csvfile:\n",
    "    csvfile.write(','.join(reader.fieldnames)+'\\n')\n",
    "    for row in reader:\n",
    "        if 'NA' in row.values():\n",
    "            continue\n",
    "        values = list(row.values())\n",
    "        csvfile.write(','.join(values)+'\\n')"
   ]
  },
  {
   "cell_type": "code",
   "execution_count": 6,
   "id": "9cb1a9e1-2368-44fa-8db2-4ca442bedbf6",
   "metadata": {},
   "outputs": [],
   "source": [
    "# can write using a DictWriter instead\n",
    "reader = csv.DictReader(open('auto_mpg_original (1).csv'))\n",
    "with open('auto_mpg.csv','w') as csvfile:\n",
    "    writer = csv.DictWriter(csvfile,fieldnames=reader.fieldnames,delimiter='\\t')\n",
    "    writer.writeheader()\n",
    "    \n",
    "    for row in reader:\n",
    "        if 'NA' in row.values():\n",
    "            continue\n",
    "        writer.writerow(row)"
   ]
  },
  {
   "cell_type": "markdown",
   "id": "6977ea31-db64-4c41-8235-9230d010055b",
   "metadata": {},
   "source": [
    "### JSON ###"
   ]
  },
  {
   "cell_type": "code",
   "execution_count": 7,
   "id": "64a28080-f0a7-4418-8ff5-fdf9672a3769",
   "metadata": {},
   "outputs": [],
   "source": [
    "import json"
   ]
  },
  {
   "cell_type": "code",
   "execution_count": 12,
   "id": "66f78686-6992-45f4-b867-fba3cd30ef2e",
   "metadata": {},
   "outputs": [
    {
     "name": "stdout",
     "output_type": "stream",
     "text": [
      "{'hill center': 'Busch', 'AB': 'College Ave'}\n",
      "dict_keys(['hill center', 'AB'])\n",
      "dict_values(['Busch', 'College Ave'])\n",
      "<class 'dict'>\n"
     ]
    }
   ],
   "source": [
    "json1 = '{\"hill center\":\"Busch\", \"AB\": \"College Ave\"}'\n",
    "# load this into Python\n",
    "dict1 = json.loads(json1)\n",
    "print(dict1)\n",
    "print(dict1.keys())\n",
    "print(dict1.values())\n",
    "print(type(dict1))"
   ]
  },
  {
   "cell_type": "code",
   "execution_count": 13,
   "id": "884b0cfc-04a8-453b-812e-73e21489aed9",
   "metadata": {},
   "outputs": [
    {
     "ename": "TypeError",
     "evalue": "the JSON object must be str, bytes or bytearray, not dict",
     "output_type": "error",
     "traceback": [
      "\u001b[0;31m---------------------------------------------------------------------------\u001b[0m",
      "\u001b[0;31mTypeError\u001b[0m                                 Traceback (most recent call last)",
      "\u001b[0;32m/var/folders/j8/4sd0mj5s083cmgy92br3xg7r0000gn/T/ipykernel_52413/3630758374.py\u001b[0m in \u001b[0;36m<module>\u001b[0;34m\u001b[0m\n\u001b[1;32m      1\u001b[0m \u001b[0mjson1\u001b[0m \u001b[0;34m=\u001b[0m \u001b[0;34m{\u001b[0m\u001b[0;34m\"hill center\"\u001b[0m\u001b[0;34m:\u001b[0m\u001b[0;34m\"Busch\"\u001b[0m\u001b[0;34m,\u001b[0m \u001b[0;34m\"AB\"\u001b[0m\u001b[0;34m:\u001b[0m \u001b[0;34m\"College Ave\"\u001b[0m\u001b[0;34m}\u001b[0m\u001b[0;34m\u001b[0m\u001b[0;34m\u001b[0m\u001b[0m\n\u001b[1;32m      2\u001b[0m \u001b[0;31m# load this into Python\u001b[0m\u001b[0;34m\u001b[0m\u001b[0;34m\u001b[0m\u001b[0m\n\u001b[0;32m----> 3\u001b[0;31m \u001b[0mdict1\u001b[0m \u001b[0;34m=\u001b[0m \u001b[0mjson\u001b[0m\u001b[0;34m.\u001b[0m\u001b[0mloads\u001b[0m\u001b[0;34m(\u001b[0m\u001b[0mjson1\u001b[0m\u001b[0;34m)\u001b[0m\u001b[0;34m\u001b[0m\u001b[0;34m\u001b[0m\u001b[0m\n\u001b[0m",
      "\u001b[0;32m/opt/anaconda3/lib/python3.9/json/__init__.py\u001b[0m in \u001b[0;36mloads\u001b[0;34m(s, cls, object_hook, parse_float, parse_int, parse_constant, object_pairs_hook, **kw)\u001b[0m\n\u001b[1;32m    337\u001b[0m     \u001b[0;32melse\u001b[0m\u001b[0;34m:\u001b[0m\u001b[0;34m\u001b[0m\u001b[0;34m\u001b[0m\u001b[0m\n\u001b[1;32m    338\u001b[0m         \u001b[0;32mif\u001b[0m \u001b[0;32mnot\u001b[0m \u001b[0misinstance\u001b[0m\u001b[0;34m(\u001b[0m\u001b[0ms\u001b[0m\u001b[0;34m,\u001b[0m \u001b[0;34m(\u001b[0m\u001b[0mbytes\u001b[0m\u001b[0;34m,\u001b[0m \u001b[0mbytearray\u001b[0m\u001b[0;34m)\u001b[0m\u001b[0;34m)\u001b[0m\u001b[0;34m:\u001b[0m\u001b[0;34m\u001b[0m\u001b[0;34m\u001b[0m\u001b[0m\n\u001b[0;32m--> 339\u001b[0;31m             raise TypeError(f'the JSON object must be str, bytes or bytearray, '\n\u001b[0m\u001b[1;32m    340\u001b[0m                             f'not {s.__class__.__name__}')\n\u001b[1;32m    341\u001b[0m         \u001b[0ms\u001b[0m \u001b[0;34m=\u001b[0m \u001b[0ms\u001b[0m\u001b[0;34m.\u001b[0m\u001b[0mdecode\u001b[0m\u001b[0;34m(\u001b[0m\u001b[0mdetect_encoding\u001b[0m\u001b[0;34m(\u001b[0m\u001b[0ms\u001b[0m\u001b[0;34m)\u001b[0m\u001b[0;34m,\u001b[0m \u001b[0;34m'surrogatepass'\u001b[0m\u001b[0;34m)\u001b[0m\u001b[0;34m\u001b[0m\u001b[0;34m\u001b[0m\u001b[0m\n",
      "\u001b[0;31mTypeError\u001b[0m: the JSON object must be str, bytes or bytearray, not dict"
     ]
    }
   ],
   "source": [
    "json1 = {\"hill center\":\"Busch\", \"AB\": \"College Ave\"}\n",
    "# load this into Python\n",
    "dict1 = json.loads(json1)"
   ]
  },
  {
   "cell_type": "code",
   "execution_count": 15,
   "id": "46f15a1c-a181-4788-a2c2-b0339ed4f119",
   "metadata": {},
   "outputs": [
    {
     "ename": "JSONDecodeError",
     "evalue": "Expecting property name enclosed in double quotes: line 1 column 2 (char 1)",
     "output_type": "error",
     "traceback": [
      "\u001b[0;31m---------------------------------------------------------------------------\u001b[0m",
      "\u001b[0;31mJSONDecodeError\u001b[0m                           Traceback (most recent call last)",
      "\u001b[0;32m/var/folders/j8/4sd0mj5s083cmgy92br3xg7r0000gn/T/ipykernel_52413/3870728644.py\u001b[0m in \u001b[0;36m<module>\u001b[0;34m\u001b[0m\n\u001b[1;32m      1\u001b[0m \u001b[0mjson1\u001b[0m \u001b[0;34m=\u001b[0m \u001b[0;34m'{2: \"Busch\", 1:\"College Ave\"}'\u001b[0m\u001b[0;34m\u001b[0m\u001b[0;34m\u001b[0m\u001b[0m\n\u001b[0;32m----> 2\u001b[0;31m \u001b[0mdict1\u001b[0m \u001b[0;34m=\u001b[0m \u001b[0mjson\u001b[0m\u001b[0;34m.\u001b[0m\u001b[0mloads\u001b[0m\u001b[0;34m(\u001b[0m\u001b[0mjson1\u001b[0m\u001b[0;34m)\u001b[0m\u001b[0;34m\u001b[0m\u001b[0;34m\u001b[0m\u001b[0m\n\u001b[0m\u001b[1;32m      3\u001b[0m \u001b[0mprint\u001b[0m\u001b[0;34m(\u001b[0m\u001b[0mdict1\u001b[0m\u001b[0;34m)\u001b[0m\u001b[0;34m\u001b[0m\u001b[0;34m\u001b[0m\u001b[0m\n",
      "\u001b[0;32m/opt/anaconda3/lib/python3.9/json/__init__.py\u001b[0m in \u001b[0;36mloads\u001b[0;34m(s, cls, object_hook, parse_float, parse_int, parse_constant, object_pairs_hook, **kw)\u001b[0m\n\u001b[1;32m    344\u001b[0m             \u001b[0mparse_int\u001b[0m \u001b[0;32mis\u001b[0m \u001b[0;32mNone\u001b[0m \u001b[0;32mand\u001b[0m \u001b[0mparse_float\u001b[0m \u001b[0;32mis\u001b[0m \u001b[0;32mNone\u001b[0m \u001b[0;32mand\u001b[0m\u001b[0;34m\u001b[0m\u001b[0;34m\u001b[0m\u001b[0m\n\u001b[1;32m    345\u001b[0m             parse_constant is None and object_pairs_hook is None and not kw):\n\u001b[0;32m--> 346\u001b[0;31m         \u001b[0;32mreturn\u001b[0m \u001b[0m_default_decoder\u001b[0m\u001b[0;34m.\u001b[0m\u001b[0mdecode\u001b[0m\u001b[0;34m(\u001b[0m\u001b[0ms\u001b[0m\u001b[0;34m)\u001b[0m\u001b[0;34m\u001b[0m\u001b[0;34m\u001b[0m\u001b[0m\n\u001b[0m\u001b[1;32m    347\u001b[0m     \u001b[0;32mif\u001b[0m \u001b[0mcls\u001b[0m \u001b[0;32mis\u001b[0m \u001b[0;32mNone\u001b[0m\u001b[0;34m:\u001b[0m\u001b[0;34m\u001b[0m\u001b[0;34m\u001b[0m\u001b[0m\n\u001b[1;32m    348\u001b[0m         \u001b[0mcls\u001b[0m \u001b[0;34m=\u001b[0m \u001b[0mJSONDecoder\u001b[0m\u001b[0;34m\u001b[0m\u001b[0;34m\u001b[0m\u001b[0m\n",
      "\u001b[0;32m/opt/anaconda3/lib/python3.9/json/decoder.py\u001b[0m in \u001b[0;36mdecode\u001b[0;34m(self, s, _w)\u001b[0m\n\u001b[1;32m    335\u001b[0m \u001b[0;34m\u001b[0m\u001b[0m\n\u001b[1;32m    336\u001b[0m         \"\"\"\n\u001b[0;32m--> 337\u001b[0;31m         \u001b[0mobj\u001b[0m\u001b[0;34m,\u001b[0m \u001b[0mend\u001b[0m \u001b[0;34m=\u001b[0m \u001b[0mself\u001b[0m\u001b[0;34m.\u001b[0m\u001b[0mraw_decode\u001b[0m\u001b[0;34m(\u001b[0m\u001b[0ms\u001b[0m\u001b[0;34m,\u001b[0m \u001b[0midx\u001b[0m\u001b[0;34m=\u001b[0m\u001b[0m_w\u001b[0m\u001b[0;34m(\u001b[0m\u001b[0ms\u001b[0m\u001b[0;34m,\u001b[0m \u001b[0;36m0\u001b[0m\u001b[0;34m)\u001b[0m\u001b[0;34m.\u001b[0m\u001b[0mend\u001b[0m\u001b[0;34m(\u001b[0m\u001b[0;34m)\u001b[0m\u001b[0;34m)\u001b[0m\u001b[0;34m\u001b[0m\u001b[0;34m\u001b[0m\u001b[0m\n\u001b[0m\u001b[1;32m    338\u001b[0m         \u001b[0mend\u001b[0m \u001b[0;34m=\u001b[0m \u001b[0m_w\u001b[0m\u001b[0;34m(\u001b[0m\u001b[0ms\u001b[0m\u001b[0;34m,\u001b[0m \u001b[0mend\u001b[0m\u001b[0;34m)\u001b[0m\u001b[0;34m.\u001b[0m\u001b[0mend\u001b[0m\u001b[0;34m(\u001b[0m\u001b[0;34m)\u001b[0m\u001b[0;34m\u001b[0m\u001b[0;34m\u001b[0m\u001b[0m\n\u001b[1;32m    339\u001b[0m         \u001b[0;32mif\u001b[0m \u001b[0mend\u001b[0m \u001b[0;34m!=\u001b[0m \u001b[0mlen\u001b[0m\u001b[0;34m(\u001b[0m\u001b[0ms\u001b[0m\u001b[0;34m)\u001b[0m\u001b[0;34m:\u001b[0m\u001b[0;34m\u001b[0m\u001b[0;34m\u001b[0m\u001b[0m\n",
      "\u001b[0;32m/opt/anaconda3/lib/python3.9/json/decoder.py\u001b[0m in \u001b[0;36mraw_decode\u001b[0;34m(self, s, idx)\u001b[0m\n\u001b[1;32m    351\u001b[0m         \"\"\"\n\u001b[1;32m    352\u001b[0m         \u001b[0;32mtry\u001b[0m\u001b[0;34m:\u001b[0m\u001b[0;34m\u001b[0m\u001b[0;34m\u001b[0m\u001b[0m\n\u001b[0;32m--> 353\u001b[0;31m             \u001b[0mobj\u001b[0m\u001b[0;34m,\u001b[0m \u001b[0mend\u001b[0m \u001b[0;34m=\u001b[0m \u001b[0mself\u001b[0m\u001b[0;34m.\u001b[0m\u001b[0mscan_once\u001b[0m\u001b[0;34m(\u001b[0m\u001b[0ms\u001b[0m\u001b[0;34m,\u001b[0m \u001b[0midx\u001b[0m\u001b[0;34m)\u001b[0m\u001b[0;34m\u001b[0m\u001b[0;34m\u001b[0m\u001b[0m\n\u001b[0m\u001b[1;32m    354\u001b[0m         \u001b[0;32mexcept\u001b[0m \u001b[0mStopIteration\u001b[0m \u001b[0;32mas\u001b[0m \u001b[0merr\u001b[0m\u001b[0;34m:\u001b[0m\u001b[0;34m\u001b[0m\u001b[0;34m\u001b[0m\u001b[0m\n\u001b[1;32m    355\u001b[0m             \u001b[0;32mraise\u001b[0m \u001b[0mJSONDecodeError\u001b[0m\u001b[0;34m(\u001b[0m\u001b[0;34m\"Expecting value\"\u001b[0m\u001b[0;34m,\u001b[0m \u001b[0ms\u001b[0m\u001b[0;34m,\u001b[0m \u001b[0merr\u001b[0m\u001b[0;34m.\u001b[0m\u001b[0mvalue\u001b[0m\u001b[0;34m)\u001b[0m \u001b[0;32mfrom\u001b[0m \u001b[0;32mNone\u001b[0m\u001b[0;34m\u001b[0m\u001b[0;34m\u001b[0m\u001b[0m\n",
      "\u001b[0;31mJSONDecodeError\u001b[0m: Expecting property name enclosed in double quotes: line 1 column 2 (char 1)"
     ]
    }
   ],
   "source": [
    "json1 = '{2: \"Busch\", 1:\"College Ave\"}'\n",
    "dict1 = json.loads(json1)\n",
    "print(dict1)"
   ]
  },
  {
   "cell_type": "code",
   "execution_count": 16,
   "id": "a916d20a-3f20-405a-b799-71853427676a",
   "metadata": {},
   "outputs": [
    {
     "name": "stdout",
     "output_type": "stream",
     "text": [
      "{'Busch': 2, 'College Ave': 1}\n"
     ]
    }
   ],
   "source": [
    "json1 = '{\"Busch\":2, \"College Ave\":1}'\n",
    "dict1 = json.loads(json1)\n",
    "print(dict1)"
   ]
  },
  {
   "cell_type": "code",
   "execution_count": 17,
   "id": "2e03be5f-c65b-4fb0-95fd-79598babae18",
   "metadata": {},
   "outputs": [
    {
     "ename": "JSONDecodeError",
     "evalue": "Expecting property name enclosed in double quotes: line 1 column 2 (char 1)",
     "output_type": "error",
     "traceback": [
      "\u001b[0;31m---------------------------------------------------------------------------\u001b[0m",
      "\u001b[0;31mJSONDecodeError\u001b[0m                           Traceback (most recent call last)",
      "\u001b[0;32m/var/folders/j8/4sd0mj5s083cmgy92br3xg7r0000gn/T/ipykernel_52413/326954428.py\u001b[0m in \u001b[0;36m<module>\u001b[0;34m\u001b[0m\n\u001b[1;32m      1\u001b[0m \u001b[0mjson1\u001b[0m \u001b[0;34m=\u001b[0m \u001b[0;34m\"{'Busch':2, 'College Ave':1}\"\u001b[0m\u001b[0;34m\u001b[0m\u001b[0;34m\u001b[0m\u001b[0m\n\u001b[0;32m----> 2\u001b[0;31m \u001b[0mdict1\u001b[0m \u001b[0;34m=\u001b[0m \u001b[0mjson\u001b[0m\u001b[0;34m.\u001b[0m\u001b[0mloads\u001b[0m\u001b[0;34m(\u001b[0m\u001b[0mjson1\u001b[0m\u001b[0;34m)\u001b[0m\u001b[0;34m\u001b[0m\u001b[0;34m\u001b[0m\u001b[0m\n\u001b[0m\u001b[1;32m      3\u001b[0m \u001b[0mprint\u001b[0m\u001b[0;34m(\u001b[0m\u001b[0mdict1\u001b[0m\u001b[0;34m)\u001b[0m\u001b[0;34m\u001b[0m\u001b[0;34m\u001b[0m\u001b[0m\n",
      "\u001b[0;32m/opt/anaconda3/lib/python3.9/json/__init__.py\u001b[0m in \u001b[0;36mloads\u001b[0;34m(s, cls, object_hook, parse_float, parse_int, parse_constant, object_pairs_hook, **kw)\u001b[0m\n\u001b[1;32m    344\u001b[0m             \u001b[0mparse_int\u001b[0m \u001b[0;32mis\u001b[0m \u001b[0;32mNone\u001b[0m \u001b[0;32mand\u001b[0m \u001b[0mparse_float\u001b[0m \u001b[0;32mis\u001b[0m \u001b[0;32mNone\u001b[0m \u001b[0;32mand\u001b[0m\u001b[0;34m\u001b[0m\u001b[0;34m\u001b[0m\u001b[0m\n\u001b[1;32m    345\u001b[0m             parse_constant is None and object_pairs_hook is None and not kw):\n\u001b[0;32m--> 346\u001b[0;31m         \u001b[0;32mreturn\u001b[0m \u001b[0m_default_decoder\u001b[0m\u001b[0;34m.\u001b[0m\u001b[0mdecode\u001b[0m\u001b[0;34m(\u001b[0m\u001b[0ms\u001b[0m\u001b[0;34m)\u001b[0m\u001b[0;34m\u001b[0m\u001b[0;34m\u001b[0m\u001b[0m\n\u001b[0m\u001b[1;32m    347\u001b[0m     \u001b[0;32mif\u001b[0m \u001b[0mcls\u001b[0m \u001b[0;32mis\u001b[0m \u001b[0;32mNone\u001b[0m\u001b[0;34m:\u001b[0m\u001b[0;34m\u001b[0m\u001b[0;34m\u001b[0m\u001b[0m\n\u001b[1;32m    348\u001b[0m         \u001b[0mcls\u001b[0m \u001b[0;34m=\u001b[0m \u001b[0mJSONDecoder\u001b[0m\u001b[0;34m\u001b[0m\u001b[0;34m\u001b[0m\u001b[0m\n",
      "\u001b[0;32m/opt/anaconda3/lib/python3.9/json/decoder.py\u001b[0m in \u001b[0;36mdecode\u001b[0;34m(self, s, _w)\u001b[0m\n\u001b[1;32m    335\u001b[0m \u001b[0;34m\u001b[0m\u001b[0m\n\u001b[1;32m    336\u001b[0m         \"\"\"\n\u001b[0;32m--> 337\u001b[0;31m         \u001b[0mobj\u001b[0m\u001b[0;34m,\u001b[0m \u001b[0mend\u001b[0m \u001b[0;34m=\u001b[0m \u001b[0mself\u001b[0m\u001b[0;34m.\u001b[0m\u001b[0mraw_decode\u001b[0m\u001b[0;34m(\u001b[0m\u001b[0ms\u001b[0m\u001b[0;34m,\u001b[0m \u001b[0midx\u001b[0m\u001b[0;34m=\u001b[0m\u001b[0m_w\u001b[0m\u001b[0;34m(\u001b[0m\u001b[0ms\u001b[0m\u001b[0;34m,\u001b[0m \u001b[0;36m0\u001b[0m\u001b[0;34m)\u001b[0m\u001b[0;34m.\u001b[0m\u001b[0mend\u001b[0m\u001b[0;34m(\u001b[0m\u001b[0;34m)\u001b[0m\u001b[0;34m)\u001b[0m\u001b[0;34m\u001b[0m\u001b[0;34m\u001b[0m\u001b[0m\n\u001b[0m\u001b[1;32m    338\u001b[0m         \u001b[0mend\u001b[0m \u001b[0;34m=\u001b[0m \u001b[0m_w\u001b[0m\u001b[0;34m(\u001b[0m\u001b[0ms\u001b[0m\u001b[0;34m,\u001b[0m \u001b[0mend\u001b[0m\u001b[0;34m)\u001b[0m\u001b[0;34m.\u001b[0m\u001b[0mend\u001b[0m\u001b[0;34m(\u001b[0m\u001b[0;34m)\u001b[0m\u001b[0;34m\u001b[0m\u001b[0;34m\u001b[0m\u001b[0m\n\u001b[1;32m    339\u001b[0m         \u001b[0;32mif\u001b[0m \u001b[0mend\u001b[0m \u001b[0;34m!=\u001b[0m \u001b[0mlen\u001b[0m\u001b[0;34m(\u001b[0m\u001b[0ms\u001b[0m\u001b[0;34m)\u001b[0m\u001b[0;34m:\u001b[0m\u001b[0;34m\u001b[0m\u001b[0;34m\u001b[0m\u001b[0m\n",
      "\u001b[0;32m/opt/anaconda3/lib/python3.9/json/decoder.py\u001b[0m in \u001b[0;36mraw_decode\u001b[0;34m(self, s, idx)\u001b[0m\n\u001b[1;32m    351\u001b[0m         \"\"\"\n\u001b[1;32m    352\u001b[0m         \u001b[0;32mtry\u001b[0m\u001b[0;34m:\u001b[0m\u001b[0;34m\u001b[0m\u001b[0;34m\u001b[0m\u001b[0m\n\u001b[0;32m--> 353\u001b[0;31m             \u001b[0mobj\u001b[0m\u001b[0;34m,\u001b[0m \u001b[0mend\u001b[0m \u001b[0;34m=\u001b[0m \u001b[0mself\u001b[0m\u001b[0;34m.\u001b[0m\u001b[0mscan_once\u001b[0m\u001b[0;34m(\u001b[0m\u001b[0ms\u001b[0m\u001b[0;34m,\u001b[0m \u001b[0midx\u001b[0m\u001b[0;34m)\u001b[0m\u001b[0;34m\u001b[0m\u001b[0;34m\u001b[0m\u001b[0m\n\u001b[0m\u001b[1;32m    354\u001b[0m         \u001b[0;32mexcept\u001b[0m \u001b[0mStopIteration\u001b[0m \u001b[0;32mas\u001b[0m \u001b[0merr\u001b[0m\u001b[0;34m:\u001b[0m\u001b[0;34m\u001b[0m\u001b[0;34m\u001b[0m\u001b[0m\n\u001b[1;32m    355\u001b[0m             \u001b[0;32mraise\u001b[0m \u001b[0mJSONDecodeError\u001b[0m\u001b[0;34m(\u001b[0m\u001b[0;34m\"Expecting value\"\u001b[0m\u001b[0;34m,\u001b[0m \u001b[0ms\u001b[0m\u001b[0;34m,\u001b[0m \u001b[0merr\u001b[0m\u001b[0;34m.\u001b[0m\u001b[0mvalue\u001b[0m\u001b[0;34m)\u001b[0m \u001b[0;32mfrom\u001b[0m \u001b[0;32mNone\u001b[0m\u001b[0;34m\u001b[0m\u001b[0;34m\u001b[0m\u001b[0m\n",
      "\u001b[0;31mJSONDecodeError\u001b[0m: Expecting property name enclosed in double quotes: line 1 column 2 (char 1)"
     ]
    }
   ],
   "source": [
    "json1 = \"{'Busch':2, 'College Ave':1}\"\n",
    "dict1 = json.loads(json1)\n",
    "print(dict1)"
   ]
  },
  {
   "cell_type": "code",
   "execution_count": 18,
   "id": "3e410ee3-261e-420b-8431-74d3351f18f9",
   "metadata": {},
   "outputs": [
    {
     "name": "stdout",
     "output_type": "stream",
     "text": [
      "{\"2\": \"Busch\", \"1\": \"College\"}\n"
     ]
    }
   ],
   "source": [
    "# writing out a dictionary to JSON string (dumping)\n",
    "dict2 = {2: 'Busch', 1: 'College'}\n",
    "dict2_str = json.dumps(dict2)\n",
    "print(dict2_str)"
   ]
  },
  {
   "cell_type": "code",
   "execution_count": 19,
   "id": "b2ad47db-bd01-422a-8f58-6594f911a315",
   "metadata": {},
   "outputs": [
    {
     "name": "stdout",
     "output_type": "stream",
     "text": [
      "{'2': 'Busch', '1': 'College'}\n"
     ]
    }
   ],
   "source": [
    "dict3 = json.loads(dict2_str)\n",
    "print(dict3)"
   ]
  },
  {
   "cell_type": "code",
   "execution_count": 22,
   "id": "31b5d13d-8c0a-44de-821d-3eb6b7764605",
   "metadata": {},
   "outputs": [
    {
     "name": "stdout",
     "output_type": "stream",
     "text": [
      "40\n"
     ]
    }
   ],
   "source": [
    "# using arrays as values\n",
    "json4 = '{\"name\":\"Anika\", \"quiz_scores\":[38,40,36,40,31]}'\n",
    "dict4 = json.loads(json4)\n",
    "print(dict4['quiz_scores'][1])"
   ]
  },
  {
   "cell_type": "code",
   "execution_count": 27,
   "id": "ba99fe31-4763-459f-af64-7344688d0233",
   "metadata": {},
   "outputs": [
    {
     "name": "stdout",
     "output_type": "stream",
     "text": [
      "Amir\n",
      "[10, 25, 33, 42, 31]\n"
     ]
    }
   ],
   "source": [
    "# array of dictionaries\n",
    "json5 = '{\"quiz_scores\": [{\"name\":\"Anika\", \"scores\":[38,40,36,40,31]}, {\"name\":\"Amir\", \"scores\":[10,25,33,42,31]}]}'\n",
    "dict5 = json.loads(json5)\n",
    "print(dict5['quiz_scores'][1]['name'])\n",
    "print(dict5['quiz_scores'][1]['scores'])"
   ]
  },
  {
   "cell_type": "code",
   "execution_count": 28,
   "id": "80e4aade-5a6b-4622-bb85-9695f7e736dd",
   "metadata": {},
   "outputs": [],
   "source": [
    "# store json to file\n",
    "with open('quiz_scores.json','w') as qsfile:\n",
    "    json.dump(dict5, qsfile)"
   ]
  },
  {
   "cell_type": "code",
   "execution_count": 30,
   "id": "28082046-d721-4692-b68b-e9ac4eb6492b",
   "metadata": {},
   "outputs": [
    {
     "name": "stdout",
     "output_type": "stream",
     "text": [
      "{'quiz_scores': [{'name': 'Anika', 'scores': [38, 40, 36, 40, 31]}, {'name': 'Amir', 'scores': [10, 25, 33, 42, 31]}]}\n"
     ]
    }
   ],
   "source": [
    "# load from file\n",
    "json6 = json.load(open('quiz_scores.json'))\n",
    "print(json6)"
   ]
  },
  {
   "cell_type": "code",
   "execution_count": 42,
   "id": "67895dfa-26cf-4f24-85ab-a6e23dfe9c3b",
   "metadata": {},
   "outputs": [],
   "source": [
    "# Getting JSON from a web page\n",
    "import requests\n",
    "nobel_url = 'http://api.nobelprize.org/v1/prize.json'\n",
    "resp = requests.get(nobel_url)\n",
    "nobels = json.loads(resp.text)"
   ]
  },
  {
   "cell_type": "code",
   "execution_count": 32,
   "id": "cb9e5919-9c4e-4e04-a5fb-e7909623a8d6",
   "metadata": {},
   "outputs": [
    {
     "name": "stdout",
     "output_type": "stream",
     "text": [
      "dict_keys(['prizes'])\n"
     ]
    }
   ],
   "source": [
    "print(nobels.keys())"
   ]
  },
  {
   "cell_type": "code",
   "execution_count": 33,
   "id": "6ba6dd03-15b9-4260-81f0-3059bac073ac",
   "metadata": {},
   "outputs": [
    {
     "data": {
      "text/plain": [
       "658"
      ]
     },
     "execution_count": 33,
     "metadata": {},
     "output_type": "execute_result"
    }
   ],
   "source": [
    "len(nobels['prizes'])"
   ]
  },
  {
   "cell_type": "code",
   "execution_count": 34,
   "id": "15e3bfca-be77-4ff6-b212-31c76cebb70b",
   "metadata": {},
   "outputs": [
    {
     "name": "stdout",
     "output_type": "stream",
     "text": [
      "{'year': '2021', 'category': 'chemistry', 'laureates': [{'id': '1002', 'firstname': 'Benjamin', 'surname': 'List', 'motivation': '\"for the development of asymmetric organocatalysis\"', 'share': '2'}, {'id': '1003', 'firstname': 'David', 'surname': 'MacMillan', 'motivation': '\"for the development of asymmetric organocatalysis\"', 'share': '2'}]}\n"
     ]
    }
   ],
   "source": [
    "print(nobels['prizes'][0])"
   ]
  },
  {
   "cell_type": "code",
   "execution_count": 35,
   "id": "fbdf4294-87be-4e24-9234-2ba3f0807b57",
   "metadata": {},
   "outputs": [
    {
     "name": "stdout",
     "output_type": "stream",
     "text": [
      "{'year': '2021', 'category': 'economics', 'laureates': [{'id': '1007', 'firstname': 'David', 'surname': 'Card', 'motivation': '\"for his empirical contributions to labour economics\"', 'share': '2'}, {'id': '1008', 'firstname': 'Joshua', 'surname': 'Angrist', 'motivation': '\"for their methodological contributions to the analysis of causal relationships\"', 'share': '4'}, {'id': '1009', 'firstname': 'Guido', 'surname': 'Imbens', 'motivation': '\"for their methodological contributions to the analysis of causal relationships\"', 'share': '4'}]}\n"
     ]
    }
   ],
   "source": [
    "print(nobels['prizes'][1])"
   ]
  },
  {
   "cell_type": "code",
   "execution_count": 37,
   "id": "d0a44d97-6a20-4ba5-9228-eda46fadc3f2",
   "metadata": {},
   "outputs": [
    {
     "name": "stdout",
     "output_type": "stream",
     "text": [
      "[{'year': '2021', 'category': 'chemistry', 'laureates': [{'id': '1002', 'firstname': 'Benjamin', 'surname': 'List', 'motivation': '\"for the development of asymmetric organocatalysis\"', 'share': '2'}, {'id': '1003', 'firstname': 'David', 'surname': 'MacMillan', 'motivation': '\"for the development of asymmetric organocatalysis\"', 'share': '2'}]}, {'year': '2021', 'category': 'economics', 'laureates': [{'id': '1007', 'firstname': 'David', 'surname': 'Card', 'motivation': '\"for his empirical contributions to labour economics\"', 'share': '2'}, {'id': '1008', 'firstname': 'Joshua', 'surname': 'Angrist', 'motivation': '\"for their methodological contributions to the analysis of causal relationships\"', 'share': '4'}, {'id': '1009', 'firstname': 'Guido', 'surname': 'Imbens', 'motivation': '\"for their methodological contributions to the analysis of causal relationships\"', 'share': '4'}]}, {'year': '2021', 'category': 'literature', 'laureates': [{'id': '1004', 'firstname': 'Abdulrazak', 'surname': 'Gurnah', 'motivation': '\"for his uncompromising and compassionate penetration of the effects of colonialism and the fate of the refugee in the gulf between cultures and continents\"', 'share': '1'}]}, {'year': '2021', 'category': 'peace', 'laureates': [{'id': '1005', 'firstname': 'Maria', 'surname': 'Ressa', 'motivation': '\"for their efforts to safeguard freedom of expression, which is a precondition for democracy and lasting peace\"', 'share': '2'}, {'id': '1006', 'firstname': 'Dmitry', 'surname': 'Muratov', 'motivation': '\"for their efforts to safeguard freedom of expression, which is a precondition for democracy and lasting peace\"', 'share': '2'}]}, {'year': '2021', 'category': 'physics', 'overallMotivation': '\"for groundbreaking contributions to our understanding of complex physical systems\"', 'laureates': [{'id': '999', 'firstname': 'Syukuro', 'surname': 'Manabe', 'motivation': '\"for the physical modelling of Earth’s climate, quantifying variability and reliably predicting global warming\"', 'share': '4'}, {'id': '1000', 'firstname': 'Klaus', 'surname': 'Hasselmann', 'motivation': '\"for the physical modelling of Earth’s climate, quantifying variability and reliably predicting global warming\"', 'share': '4'}, {'id': '1001', 'firstname': 'Giorgio', 'surname': 'Parisi', 'motivation': '\"for the discovery of the interplay of disorder and fluctuations in physical systems from atomic to planetary scales\"', 'share': '2'}]}, {'year': '2021', 'category': 'medicine', 'laureates': [{'id': '997', 'firstname': 'David', 'surname': 'Julius', 'motivation': '\"for their discoveries of receptors for temperature and touch\"', 'share': '2'}, {'id': '998', 'firstname': 'Ardem', 'surname': 'Patapoutian', 'motivation': '\"for their discoveries of receptors for temperature and touch\"', 'share': '2'}]}]\n"
     ]
    }
   ],
   "source": [
    "# get all prizes awarded ub year 2021\n",
    "nobels_2021 = [prize for prize in nobels['prizes'] if prize['year'] == '2021']\n",
    "print(nobels_2021)"
   ]
  },
  {
   "cell_type": "code",
   "execution_count": 39,
   "id": "aa33086a-9d0d-4eca-82be-e3ac7348cb61",
   "metadata": {},
   "outputs": [
    {
     "name": "stdout",
     "output_type": "stream",
     "text": [
      "Chemistry: Benjamin List,David MacMillan\n",
      "Economics: David Card,Joshua Angrist,Guido Imbens\n",
      "Literature: Abdulrazak Gurnah\n",
      "Peace: Maria Ressa,Dmitry Muratov\n",
      "Physics: Syukuro Manabe,Klaus Hasselmann,Giorgio Parisi\n",
      "Medicine: David Julius,Ardem Patapoutian\n"
     ]
    }
   ],
   "source": [
    "# we want:\n",
    "#Chemistry: name1, name2\n",
    "#Economics: name1, name2, ..\n",
    "for prize in nobels_2021:\n",
    "    print(prize['category'].capitalize() + ': ', end='')\n",
    "    winners = [winner['firstname'] + ' ' + winner['surname'] for winner in prize['laureates']]\n",
    "    print(','.join(winners))\n",
    "    "
   ]
  },
  {
   "cell_type": "code",
   "execution_count": 40,
   "id": "ec221455-58f5-4019-936d-89fc9b96b266",
   "metadata": {},
   "outputs": [
    {
     "name": "stdout",
     "output_type": "stream",
     "text": [
      "Chemistry: Emmanuelle Charpentier,Jennifer A. Doudna\n",
      "Economics: Paul Milgrom,Robert Wilson\n",
      "Literature: Louise Glück\n",
      "Peace: "
     ]
    },
    {
     "ename": "KeyError",
     "evalue": "'surname'",
     "output_type": "error",
     "traceback": [
      "\u001b[0;31m---------------------------------------------------------------------------\u001b[0m",
      "\u001b[0;31mKeyError\u001b[0m                                  Traceback (most recent call last)",
      "\u001b[0;32m/var/folders/j8/4sd0mj5s083cmgy92br3xg7r0000gn/T/ipykernel_52413/470284221.py\u001b[0m in \u001b[0;36m<module>\u001b[0;34m\u001b[0m\n\u001b[1;32m      3\u001b[0m \u001b[0;32mfor\u001b[0m \u001b[0mprize\u001b[0m \u001b[0;32min\u001b[0m \u001b[0mnobels_2020\u001b[0m\u001b[0;34m:\u001b[0m\u001b[0;34m\u001b[0m\u001b[0;34m\u001b[0m\u001b[0m\n\u001b[1;32m      4\u001b[0m     \u001b[0mprint\u001b[0m\u001b[0;34m(\u001b[0m\u001b[0mprize\u001b[0m\u001b[0;34m[\u001b[0m\u001b[0;34m'category'\u001b[0m\u001b[0;34m]\u001b[0m\u001b[0;34m.\u001b[0m\u001b[0mcapitalize\u001b[0m\u001b[0;34m(\u001b[0m\u001b[0;34m)\u001b[0m \u001b[0;34m+\u001b[0m \u001b[0;34m': '\u001b[0m\u001b[0;34m,\u001b[0m \u001b[0mend\u001b[0m\u001b[0;34m=\u001b[0m\u001b[0;34m''\u001b[0m\u001b[0;34m)\u001b[0m\u001b[0;34m\u001b[0m\u001b[0;34m\u001b[0m\u001b[0m\n\u001b[0;32m----> 5\u001b[0;31m     \u001b[0mwinners\u001b[0m \u001b[0;34m=\u001b[0m \u001b[0;34m[\u001b[0m\u001b[0mwinner\u001b[0m\u001b[0;34m[\u001b[0m\u001b[0;34m'firstname'\u001b[0m\u001b[0;34m]\u001b[0m \u001b[0;34m+\u001b[0m \u001b[0;34m' '\u001b[0m \u001b[0;34m+\u001b[0m \u001b[0mwinner\u001b[0m\u001b[0;34m[\u001b[0m\u001b[0;34m'surname'\u001b[0m\u001b[0;34m]\u001b[0m \u001b[0;32mfor\u001b[0m \u001b[0mwinner\u001b[0m \u001b[0;32min\u001b[0m \u001b[0mprize\u001b[0m\u001b[0;34m[\u001b[0m\u001b[0;34m'laureates'\u001b[0m\u001b[0;34m]\u001b[0m\u001b[0;34m]\u001b[0m\u001b[0;34m\u001b[0m\u001b[0;34m\u001b[0m\u001b[0m\n\u001b[0m\u001b[1;32m      6\u001b[0m     \u001b[0mprint\u001b[0m\u001b[0;34m(\u001b[0m\u001b[0;34m','\u001b[0m\u001b[0;34m.\u001b[0m\u001b[0mjoin\u001b[0m\u001b[0;34m(\u001b[0m\u001b[0mwinners\u001b[0m\u001b[0;34m)\u001b[0m\u001b[0;34m)\u001b[0m\u001b[0;34m\u001b[0m\u001b[0;34m\u001b[0m\u001b[0m\n",
      "\u001b[0;32m/var/folders/j8/4sd0mj5s083cmgy92br3xg7r0000gn/T/ipykernel_52413/470284221.py\u001b[0m in \u001b[0;36m<listcomp>\u001b[0;34m(.0)\u001b[0m\n\u001b[1;32m      3\u001b[0m \u001b[0;32mfor\u001b[0m \u001b[0mprize\u001b[0m \u001b[0;32min\u001b[0m \u001b[0mnobels_2020\u001b[0m\u001b[0;34m:\u001b[0m\u001b[0;34m\u001b[0m\u001b[0;34m\u001b[0m\u001b[0m\n\u001b[1;32m      4\u001b[0m     \u001b[0mprint\u001b[0m\u001b[0;34m(\u001b[0m\u001b[0mprize\u001b[0m\u001b[0;34m[\u001b[0m\u001b[0;34m'category'\u001b[0m\u001b[0;34m]\u001b[0m\u001b[0;34m.\u001b[0m\u001b[0mcapitalize\u001b[0m\u001b[0;34m(\u001b[0m\u001b[0;34m)\u001b[0m \u001b[0;34m+\u001b[0m \u001b[0;34m': '\u001b[0m\u001b[0;34m,\u001b[0m \u001b[0mend\u001b[0m\u001b[0;34m=\u001b[0m\u001b[0;34m''\u001b[0m\u001b[0;34m)\u001b[0m\u001b[0;34m\u001b[0m\u001b[0;34m\u001b[0m\u001b[0m\n\u001b[0;32m----> 5\u001b[0;31m     \u001b[0mwinners\u001b[0m \u001b[0;34m=\u001b[0m \u001b[0;34m[\u001b[0m\u001b[0mwinner\u001b[0m\u001b[0;34m[\u001b[0m\u001b[0;34m'firstname'\u001b[0m\u001b[0;34m]\u001b[0m \u001b[0;34m+\u001b[0m \u001b[0;34m' '\u001b[0m \u001b[0;34m+\u001b[0m \u001b[0mwinner\u001b[0m\u001b[0;34m[\u001b[0m\u001b[0;34m'surname'\u001b[0m\u001b[0;34m]\u001b[0m \u001b[0;32mfor\u001b[0m \u001b[0mwinner\u001b[0m \u001b[0;32min\u001b[0m \u001b[0mprize\u001b[0m\u001b[0;34m[\u001b[0m\u001b[0;34m'laureates'\u001b[0m\u001b[0;34m]\u001b[0m\u001b[0;34m]\u001b[0m\u001b[0;34m\u001b[0m\u001b[0;34m\u001b[0m\u001b[0m\n\u001b[0m\u001b[1;32m      6\u001b[0m     \u001b[0mprint\u001b[0m\u001b[0;34m(\u001b[0m\u001b[0;34m','\u001b[0m\u001b[0;34m.\u001b[0m\u001b[0mjoin\u001b[0m\u001b[0;34m(\u001b[0m\u001b[0mwinners\u001b[0m\u001b[0;34m)\u001b[0m\u001b[0;34m)\u001b[0m\u001b[0;34m\u001b[0m\u001b[0;34m\u001b[0m\u001b[0m\n",
      "\u001b[0;31mKeyError\u001b[0m: 'surname'"
     ]
    }
   ],
   "source": [
    "# get all prizes for year 2020\n",
    "nobels_2020 = [prize for prize in nobels['prizes'] if prize['year'] == '2020']\n",
    "for prize in nobels_2020:\n",
    "    print(prize['category'].capitalize() + ': ', end='')\n",
    "    winners = [winner['firstname'] + ' ' + winner['surname'] for winner in prize['laureates']]\n",
    "    print(','.join(winners))"
   ]
  },
  {
   "cell_type": "code",
   "execution_count": 41,
   "id": "8d357751-6b56-4ad3-9f7f-693ff93fd5b3",
   "metadata": {},
   "outputs": [
    {
     "name": "stdout",
     "output_type": "stream",
     "text": [
      "Chemistry: Emmanuelle Charpentier,Jennifer A. Doudna\n",
      "Economics: Paul Milgrom,Robert Wilson\n",
      "Literature: Louise Glück\n",
      "Peace: World Food Programme \n",
      "Physics: Roger Penrose,Reinhard Genzel,Andrea Ghez\n",
      "Medicine: Harvey Alter,Michael Houghton,Charles Rice\n"
     ]
    }
   ],
   "source": [
    "for prize in nobels_2020:\n",
    "    print(prize['category'].capitalize() + ': ', end='')\n",
    "    winners = [winner['firstname'] + ' ' + winner.get('surname','') for winner in prize['laureates']]\n",
    "    print(','.join(winners))"
   ]
  },
  {
   "cell_type": "code",
   "execution_count": null,
   "id": "47ad51fc-f7eb-46bf-b3c1-e8ba5418b7bc",
   "metadata": {},
   "outputs": [],
   "source": []
  },
  {
   "cell_type": "code",
   "execution_count": null,
   "id": "1e1720f6-e30e-4973-86e7-c65a4ae830c3",
   "metadata": {},
   "outputs": [],
   "source": []
  }
 ],
 "metadata": {
  "kernelspec": {
   "display_name": "Python 3 (ipykernel)",
   "language": "python",
   "name": "python3"
  },
  "language_info": {
   "codemirror_mode": {
    "name": "ipython",
    "version": 3
   },
   "file_extension": ".py",
   "mimetype": "text/x-python",
   "name": "python",
   "nbconvert_exporter": "python",
   "pygments_lexer": "ipython3",
   "version": "3.9.7"
  }
 },
 "nbformat": 4,
 "nbformat_minor": 5
}
