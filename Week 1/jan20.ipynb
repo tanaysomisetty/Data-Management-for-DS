{
 "cells": [
  {
   "cell_type": "code",
   "execution_count": 1,
   "id": "b1532757-c39d-45e3-9987-12360112c312",
   "metadata": {},
   "outputs": [
    {
     "data": {
      "text/plain": [
       "3"
      ]
     },
     "execution_count": 1,
     "metadata": {},
     "output_type": "execute_result"
    }
   ],
   "source": [
    "3"
   ]
  },
  {
   "cell_type": "code",
   "execution_count": 2,
   "id": "325b2335-a580-4bcb-83c7-0aab666d9a45",
   "metadata": {},
   "outputs": [
    {
     "data": {
      "text/plain": [
       "6"
      ]
     },
     "execution_count": 2,
     "metadata": {},
     "output_type": "execute_result"
    }
   ],
   "source": [
    "3+3"
   ]
  },
  {
   "cell_type": "code",
   "execution_count": 3,
   "id": "1c2f9d8e-c9b2-45c9-8f03-8c985f325818",
   "metadata": {},
   "outputs": [
    {
     "data": {
      "text/plain": [
       "6"
      ]
     },
     "execution_count": 3,
     "metadata": {},
     "output_type": "execute_result"
    }
   ],
   "source": [
    "4+2"
   ]
  },
  {
   "cell_type": "code",
   "execution_count": 4,
   "id": "29eb6850-e1dd-470b-984c-cfdf370f6619",
   "metadata": {},
   "outputs": [],
   "source": [
    "x=3+3"
   ]
  },
  {
   "cell_type": "code",
   "execution_count": 5,
   "id": "54d5f098-b3fa-43d6-973d-aba11f77c0c2",
   "metadata": {},
   "outputs": [
    {
     "data": {
      "text/plain": [
       "6"
      ]
     },
     "execution_count": 5,
     "metadata": {},
     "output_type": "execute_result"
    }
   ],
   "source": [
    "x"
   ]
  },
  {
   "cell_type": "code",
   "execution_count": 6,
   "id": "116827bf-fa1e-4669-99de-61f4357fddd6",
   "metadata": {},
   "outputs": [
    {
     "name": "stdout",
     "output_type": "stream",
     "text": [
      "6\n"
     ]
    }
   ],
   "source": [
    "print(x)"
   ]
  },
  {
   "cell_type": "code",
   "execution_count": 7,
   "id": "11898cae-d25e-47bf-9352-5b5bdbf3e35c",
   "metadata": {},
   "outputs": [
    {
     "data": {
      "text/plain": [
       "int"
      ]
     },
     "execution_count": 7,
     "metadata": {},
     "output_type": "execute_result"
    }
   ],
   "source": [
    "type(x)"
   ]
  },
  {
   "cell_type": "code",
   "execution_count": 8,
   "id": "32499f31-6c92-488a-b394-83268ef07ef4",
   "metadata": {
    "tags": []
   },
   "outputs": [
    {
     "data": {
      "text/plain": [
       "float"
      ]
     },
     "execution_count": 8,
     "metadata": {},
     "output_type": "execute_result"
    }
   ],
   "source": [
    " type(3.3)"
   ]
  },
  {
   "cell_type": "code",
   "execution_count": 9,
   "id": "5f43ca68-8b43-4823-8e3d-75840c078323",
   "metadata": {},
   "outputs": [
    {
     "name": "stdout",
     "output_type": "stream",
     "text": [
      "2 4\n"
     ]
    }
   ],
   "source": [
    "a=2\n",
    "p=2+2\n",
    "print(a,p)"
   ]
  },
  {
   "cell_type": "code",
   "execution_count": 10,
   "id": "de776f30-0b85-4411-9d80-f0b6d658320d",
   "metadata": {},
   "outputs": [
    {
     "name": "stdout",
     "output_type": "stream",
     "text": [
      "2 3\n"
     ]
    }
   ],
   "source": [
    "print(a, 3)"
   ]
  },
  {
   "cell_type": "raw",
   "id": "6d056609-157d-4b52-9594-f594804c125e",
   "metadata": {},
   "source": [
    "print(a, ',', p)"
   ]
  },
  {
   "cell_type": "code",
   "execution_count": 12,
   "id": "2fd07f8e-2e0d-4c1c-a9ec-80b38f21e280",
   "metadata": {},
   "outputs": [
    {
     "name": "stdout",
     "output_type": "stream",
     "text": [
      "2 ',' 4\n"
     ]
    }
   ],
   "source": [
    "print(a, \"','\",p)"
   ]
  },
  {
   "cell_type": "code",
   "execution_count": 14,
   "id": "e73361dd-b0ac-4343-bf8d-f1fe37f3b62d",
   "metadata": {},
   "outputs": [
    {
     "name": "stdout",
     "output_type": "stream",
     "text": [
      "2 \",\" 4\n"
     ]
    }
   ],
   "source": [
    "print(a, '\",\"',p)"
   ]
  },
  {
   "cell_type": "markdown",
   "id": "be56c52c-fa67-4e4f-830e-c661774c2db2",
   "metadata": {},
   "source": [
    "**Arithmetic**"
   ]
  },
  {
   "cell_type": "code",
   "execution_count": 15,
   "id": "87ce1bbe-84d5-4978-87a1-cd5e326d41f3",
   "metadata": {},
   "outputs": [
    {
     "data": {
      "text/plain": [
       "1.5"
      ]
     },
     "execution_count": 15,
     "metadata": {},
     "output_type": "execute_result"
    }
   ],
   "source": [
    "3/2 # real number result"
   ]
  },
  {
   "cell_type": "code",
   "execution_count": 15,
   "id": "bb358379-e209-41de-81bc-d451dd6b041a",
   "metadata": {},
   "outputs": [
    {
     "data": {
      "text/plain": [
       "1.5"
      ]
     },
     "execution_count": 15,
     "metadata": {},
     "output_type": "execute_result"
    }
   ],
   "source": [
    "3/2 # real number result"
   ]
  },
  {
   "cell_type": "code",
   "execution_count": 17,
   "id": "d70cef9d-1b54-4a51-ac1d-f736c0beb492",
   "metadata": {},
   "outputs": [
    {
     "data": {
      "text/plain": [
       "1"
      ]
     },
     "execution_count": 17,
     "metadata": {},
     "output_type": "execute_result"
    }
   ],
   "source": [
    "3 // 2 # integer result, quotient"
   ]
  },
  {
   "cell_type": "code",
   "execution_count": 18,
   "id": "ed055cb4-5edd-462d-aceb-c36948a304d8",
   "metadata": {},
   "outputs": [
    {
     "ename": "ZeroDivisionError",
     "evalue": "division by zero",
     "output_type": "error",
     "traceback": [
      "\u001b[0;31m---------------------------------------------------------------------------\u001b[0m",
      "\u001b[0;31mZeroDivisionError\u001b[0m                         Traceback (most recent call last)",
      "\u001b[0;32m/var/folders/j8/4sd0mj5s083cmgy92br3xg7r0000gn/T/ipykernel_62336/3150626867.py\u001b[0m in \u001b[0;36m<module>\u001b[0;34m\u001b[0m\n\u001b[0;32m----> 1\u001b[0;31m \u001b[0;36m3\u001b[0m\u001b[0;34m/\u001b[0m\u001b[0;36m0\u001b[0m\u001b[0;34m\u001b[0m\u001b[0;34m\u001b[0m\u001b[0m\n\u001b[0m",
      "\u001b[0;31mZeroDivisionError\u001b[0m: division by zero"
     ]
    }
   ],
   "source": [
    "3/0"
   ]
  },
  {
   "cell_type": "code",
   "execution_count": 20,
   "id": "046c4600-b079-4b6f-a383-9e4bfe30b3ad",
   "metadata": {},
   "outputs": [
    {
     "data": {
      "text/plain": [
       "3"
      ]
     },
     "execution_count": 20,
     "metadata": {},
     "output_type": "execute_result"
    }
   ],
   "source": [
    "15 % 4 # mod function, gives remainder"
   ]
  },
  {
   "cell_type": "code",
   "execution_count": 21,
   "id": "ea871dd6-31cb-408c-8dbe-ec36b2a08f2b",
   "metadata": {},
   "outputs": [
    {
     "data": {
      "text/plain": [
       "2.4000000000000004"
      ]
     },
     "execution_count": 21,
     "metadata": {},
     "output_type": "execute_result"
    }
   ],
   "source": [
    "7.4 % 5 # mod of real number divided by int"
   ]
  },
  {
   "cell_type": "code",
   "execution_count": 22,
   "id": "bdf42602-8ad2-438c-8030-4e5c3843e000",
   "metadata": {},
   "outputs": [
    {
     "data": {
      "text/plain": [
       "0.0"
      ]
     },
     "execution_count": 22,
     "metadata": {},
     "output_type": "execute_result"
    }
   ],
   "source": [
    "2.4 % 1.2"
   ]
  },
  {
   "cell_type": "code",
   "execution_count": 23,
   "id": "283f33c2-4695-4cbe-bc43-48f41f6e16f7",
   "metadata": {},
   "outputs": [
    {
     "data": {
      "text/plain": [
       "28"
      ]
     },
     "execution_count": 23,
     "metadata": {},
     "output_type": "execute_result"
    }
   ],
   "source": [
    "3 + 5 * 5 # * (and /) precede + (and -)"
   ]
  },
  {
   "cell_type": "code",
   "execution_count": 24,
   "id": "fe4553bf-afab-4ed2-b5dd-5212965b55a3",
   "metadata": {},
   "outputs": [
    {
     "data": {
      "text/plain": [
       "25"
      ]
     },
     "execution_count": 24,
     "metadata": {},
     "output_type": "execute_result"
    }
   ],
   "source": [
    "(2+3)*5"
   ]
  },
  {
   "cell_type": "code",
   "execution_count": 26,
   "id": "ec7063b0-08bf-4435-9a37-d4376130f0d8",
   "metadata": {},
   "outputs": [
    {
     "data": {
      "text/plain": [
       "9"
      ]
     },
     "execution_count": 26,
     "metadata": {},
     "output_type": "execute_result"
    }
   ],
   "source": [
    "3 ** 2 # power"
   ]
  },
  {
   "cell_type": "code",
   "execution_count": 27,
   "id": "e274c23f-63ce-4d52-b0e1-8d1a4208e64a",
   "metadata": {},
   "outputs": [
    {
     "name": "stdout",
     "output_type": "stream",
     "text": [
      "5\n"
     ]
    }
   ],
   "source": [
    "# Casting\n",
    "# real to int\n",
    "x = int(5.5)\n",
    "print(x)"
   ]
  },
  {
   "cell_type": "markdown",
   "id": "d92244d3-4ee1-4a0b-88e7-af29aef43d39",
   "metadata": {},
   "source": [
    "#### Using the math module"
   ]
  },
  {
   "cell_type": "code",
   "execution_count": 30,
   "id": "6fa3332a-52e7-460f-9827-efcfb9f36b8b",
   "metadata": {},
   "outputs": [
    {
     "name": "stdout",
     "output_type": "stream",
     "text": [
      "9.0\n"
     ]
    }
   ],
   "source": [
    "import math\n",
    "\n",
    "print(math.pow(3,2))"
   ]
  },
  {
   "cell_type": "code",
   "execution_count": 31,
   "id": "9d401fb3-04e7-4bb2-b6aa-a24afc8b62f0",
   "metadata": {},
   "outputs": [
    {
     "name": "stdout",
     "output_type": "stream",
     "text": [
      "10.240000000000002\n"
     ]
    }
   ],
   "source": [
    "print(math.pow(-3.2,2))"
   ]
  },
  {
   "cell_type": "code",
   "execution_count": 32,
   "id": "58c2df06-362a-4458-8620-0dc65a2bcf80",
   "metadata": {},
   "outputs": [
    {
     "name": "stdout",
     "output_type": "stream",
     "text": [
      "1.4142135623730951\n"
     ]
    }
   ],
   "source": [
    "print(math.pow(2,0.5))"
   ]
  },
  {
   "cell_type": "code",
   "execution_count": 33,
   "id": "83ec9748-45e4-4758-b874-70d9a3410896",
   "metadata": {},
   "outputs": [
    {
     "ename": "ValueError",
     "evalue": "math domain error",
     "output_type": "error",
     "traceback": [
      "\u001b[0;31m---------------------------------------------------------------------------\u001b[0m",
      "\u001b[0;31mValueError\u001b[0m                                Traceback (most recent call last)",
      "\u001b[0;32m/var/folders/j8/4sd0mj5s083cmgy92br3xg7r0000gn/T/ipykernel_62336/1875084895.py\u001b[0m in \u001b[0;36m<module>\u001b[0;34m\u001b[0m\n\u001b[0;32m----> 1\u001b[0;31m \u001b[0mprint\u001b[0m\u001b[0;34m(\u001b[0m\u001b[0mmath\u001b[0m\u001b[0;34m.\u001b[0m\u001b[0mpow\u001b[0m\u001b[0;34m(\u001b[0m\u001b[0;34m-\u001b[0m\u001b[0;36m1\u001b[0m\u001b[0;34m,\u001b[0m\u001b[0;36m0.5\u001b[0m\u001b[0;34m)\u001b[0m\u001b[0;34m)\u001b[0m \u001b[0;31m# square root of -1\u001b[0m\u001b[0;34m\u001b[0m\u001b[0;34m\u001b[0m\u001b[0m\n\u001b[0m",
      "\u001b[0;31mValueError\u001b[0m: math domain error"
     ]
    }
   ],
   "source": [
    "print(math.pow(-1,0.5)) # square root of -1"
   ]
  },
  {
   "cell_type": "markdown",
   "id": "d1dc6113-06c4-40f1-9778-2256ca2fc2df",
   "metadata": {},
   "source": [
    "#### <font color=\"brown\">Strings</font>"
   ]
  },
  {
   "cell_type": "code",
   "execution_count": 45,
   "id": "79f455b7-5a87-4cdf-860e-49c350c3b8da",
   "metadata": {},
   "outputs": [],
   "source": [
    "# multi_line string\n",
    "multi_line = \"\"\"\n",
    "line 1,\n",
    "line 2, and\n",
    "line 3\n",
    "\"\"\""
   ]
  },
  {
   "cell_type": "code",
   "execution_count": 46,
   "id": "2d89d638-b36c-46ef-8726-40a1a1551c32",
   "metadata": {},
   "outputs": [
    {
     "name": "stdout",
     "output_type": "stream",
     "text": [
      "\n",
      "line 1,\n",
      "line 2, and\n",
      "line 3\n",
      "\n"
     ]
    }
   ],
   "source": [
    "print(multi_line)"
   ]
  },
  {
   "cell_type": "code",
   "execution_count": 47,
   "id": "bce0af79-5338-49e7-ab8f-196a9801657b",
   "metadata": {},
   "outputs": [
    {
     "data": {
      "text/plain": [
       "'\\nline 1,\\nline 2, and\\nline 3\\n'"
      ]
     },
     "execution_count": 47,
     "metadata": {},
     "output_type": "execute_result"
    }
   ],
   "source": [
    "multi_line"
   ]
  },
  {
   "cell_type": "code",
   "execution_count": 48,
   "id": "fe61fb9c-3675-4f78-90ff-fd91acd8c777",
   "metadata": {},
   "outputs": [
    {
     "ename": "SyntaxError",
     "evalue": "EOL while scanning string literal (2785790922.py, line 1)",
     "output_type": "error",
     "traceback": [
      "\u001b[0;36m  File \u001b[0;32m\"/var/folders/j8/4sd0mj5s083cmgy92br3xg7r0000gn/T/ipykernel_62336/2785790922.py\"\u001b[0;36m, line \u001b[0;32m1\u001b[0m\n\u001b[0;31m    lines2 = 'line1\u001b[0m\n\u001b[0m                   ^\u001b[0m\n\u001b[0;31mSyntaxError\u001b[0m\u001b[0;31m:\u001b[0m EOL while scanning string literal\n"
     ]
    }
   ],
   "source": [
    "lines2 = 'line1\n",
    "line2, and\n",
    "line3'"
   ]
  },
  {
   "cell_type": "code",
   "execution_count": 50,
   "id": "fe098c16-2194-49db-9119-9c51fdd7521c",
   "metadata": {},
   "outputs": [
    {
     "data": {
      "text/plain": [
       "'before tab\\tafter tab'"
      ]
     },
     "execution_count": 50,
     "metadata": {},
     "output_type": "execute_result"
    }
   ],
   "source": [
    "tabbed_str = 'before tab\\tafter tab'\n",
    "tabbed_str"
   ]
  },
  {
   "cell_type": "code",
   "execution_count": 51,
   "id": "4f17ef10-b1a5-4a44-8c75-bc77538e91f9",
   "metadata": {},
   "outputs": [
    {
     "name": "stdout",
     "output_type": "stream",
     "text": [
      "before tab\tafter tab\n"
     ]
    }
   ],
   "source": [
    "print(tabbed_str)"
   ]
  },
  {
   "cell_type": "code",
   "execution_count": 52,
   "id": "91c3dff6-adf4-4d38-a9c8-68a8930643a3",
   "metadata": {},
   "outputs": [
    {
     "ename": "TypeError",
     "evalue": "can only concatenate str (not \"int\") to str",
     "output_type": "error",
     "traceback": [
      "\u001b[0;31m---------------------------------------------------------------------------\u001b[0m",
      "\u001b[0;31mTypeError\u001b[0m                                 Traceback (most recent call last)",
      "\u001b[0;32m/var/folders/j8/4sd0mj5s083cmgy92br3xg7r0000gn/T/ipykernel_62336/839720431.py\u001b[0m in \u001b[0;36m<module>\u001b[0;34m\u001b[0m\n\u001b[1;32m      1\u001b[0m \u001b[0;31m# concatenate strings\u001b[0m\u001b[0;34m\u001b[0m\u001b[0;34m\u001b[0m\u001b[0m\n\u001b[0;32m----> 2\u001b[0;31m \u001b[0mprint\u001b[0m\u001b[0;34m(\u001b[0m\u001b[0;34m\"cs\"\u001b[0m \u001b[0;34m+\u001b[0m \u001b[0;36m210\u001b[0m\u001b[0;34m)\u001b[0m\u001b[0;34m\u001b[0m\u001b[0;34m\u001b[0m\u001b[0m\n\u001b[0m",
      "\u001b[0;31mTypeError\u001b[0m: can only concatenate str (not \"int\") to str"
     ]
    }
   ],
   "source": [
    "# concatenate strings\n",
    "print(\"cs\" + 210)"
   ]
  },
  {
   "cell_type": "code",
   "execution_count": 53,
   "id": "cc0bd65f-cc3b-46db-9cfe-3daa9eb8b06e",
   "metadata": {},
   "outputs": [
    {
     "name": "stdout",
     "output_type": "stream",
     "text": [
      "cs210\n"
     ]
    }
   ],
   "source": [
    "print(\"cs\" + \"210\")"
   ]
  },
  {
   "cell_type": "code",
   "execution_count": 54,
   "id": "6baae3fd-26bd-49b2-9cd1-cb359b37162c",
   "metadata": {},
   "outputs": [
    {
     "data": {
      "text/plain": [
       "str"
      ]
     },
     "execution_count": 54,
     "metadata": {},
     "output_type": "execute_result"
    }
   ],
   "source": [
    "type('str')"
   ]
  },
  {
   "cell_type": "code",
   "execution_count": 56,
   "id": "fbda6e49-0540-4eeb-9c24-04e0c5db7e53",
   "metadata": {},
   "outputs": [
    {
     "data": {
      "text/plain": [
       "int"
      ]
     },
     "execution_count": 56,
     "metadata": {},
     "output_type": "execute_result"
    }
   ],
   "source": [
    "type(210)"
   ]
  },
  {
   "cell_type": "code",
   "execution_count": 57,
   "id": "b51bdcb6-81f9-466a-8cfc-f4d73edd747b",
   "metadata": {},
   "outputs": [
    {
     "data": {
      "text/plain": [
       "'cs210'"
      ]
     },
     "execution_count": 57,
     "metadata": {},
     "output_type": "execute_result"
    }
   ],
   "source": [
    "s = \"cs\" + \"210\"\n",
    "s"
   ]
  },
  {
   "cell_type": "code",
   "execution_count": 58,
   "id": "9f28fdde-6f4b-43df-bd4a-75c796f28fa1",
   "metadata": {},
   "outputs": [
    {
     "name": "stdout",
     "output_type": "stream",
     "text": [
      "cs210\n"
     ]
    }
   ],
   "source": [
    "print(\"cs\"+str(210)) # cast 210 to string"
   ]
  },
  {
   "cell_type": "code",
   "execution_count": 59,
   "id": "c8d71985-7594-49f5-8e9d-54091893f82e",
   "metadata": {},
   "outputs": [
    {
     "data": {
      "text/plain": [
       "'abcabc'"
      ]
     },
     "execution_count": 59,
     "metadata": {},
     "output_type": "execute_result"
    }
   ],
   "source": [
    "# Replicate a string\n",
    "'abc'*2"
   ]
  },
  {
   "cell_type": "code",
   "execution_count": 60,
   "id": "46353ed8-4303-4d69-958b-25a001852325",
   "metadata": {},
   "outputs": [
    {
     "data": {
      "text/plain": [
       "'abcabcabc'"
      ]
     },
     "execution_count": 60,
     "metadata": {},
     "output_type": "execute_result"
    }
   ],
   "source": [
    "'abc'*3"
   ]
  },
  {
   "cell_type": "markdown",
   "id": "c56d7bc0-7692-452f-bbd1-2bb7d474cd33",
   "metadata": {},
   "source": [
    " #### <font color=\"brown\">Formatting printed output</font>"
   ]
  },
  {
   "cell_type": "markdown",
   "id": "7131a567-48da-42ca-9bc6-ab894fd0cdf7",
   "metadata": {},
   "source": [
    "**1. Using the format function** "
   ]
  },
  {
   "cell_type": "code",
   "execution_count": 62,
   "id": "3ab47111-9589-451b-bfd1-3d020f4f0cf8",
   "metadata": {},
   "outputs": [
    {
     "name": "stdout",
     "output_type": "stream",
     "text": [
      "15/10 = 1.5\n"
     ]
    }
   ],
   "source": [
    "m=15\n",
    "n=10\n",
    "print('{0}/{1} = {2}'.format(m,n,m/n))"
   ]
  },
  {
   "cell_type": "markdown",
   "id": "5d2ce6cf-3b84-4ce3-b7be-0eb08847c8b9",
   "metadata": {},
   "source": [
    "**2. Using the f-string**"
   ]
  },
  {
   "cell_type": "code",
   "execution_count": 63,
   "id": "36b379d6-16c2-4b31-8512-005273078366",
   "metadata": {},
   "outputs": [
    {
     "name": "stdout",
     "output_type": "stream",
     "text": [
      "15/10 = 1.5\n"
     ]
    }
   ],
   "source": [
    "print(f'{m}/{n} = {m/n}')"
   ]
  },
  {
   "cell_type": "markdown",
   "id": "ca4c0797-abc0-477f-a944-8eafe280d34b",
   "metadata": {},
   "source": [
    "**Parse numeric values from string, querying the type of value**"
   ]
  },
  {
   "cell_type": "code",
   "execution_count": 64,
   "id": "0d9f8ae3-647e-45d3-bc9d-fb32a4f7c51d",
   "metadata": {},
   "outputs": [
    {
     "name": "stdout",
     "output_type": "stream",
     "text": [
      "5\n"
     ]
    },
    {
     "data": {
      "text/plain": [
       "int"
      ]
     },
     "execution_count": 64,
     "metadata": {},
     "output_type": "execute_result"
    }
   ],
   "source": [
    "x=int('5')\n",
    "print(x)\n",
    "type(x)"
   ]
  },
  {
   "cell_type": "code",
   "execution_count": 65,
   "id": "6434fd14-4fd4-4b07-8891-1aabee9fa1d4",
   "metadata": {},
   "outputs": [],
   "source": [
    "y=float('-5.5') "
   ]
  },
  {
   "cell_type": "code",
   "execution_count": 66,
   "id": "ab979ea0-ae0a-4545-b8fb-cbb14cc75120",
   "metadata": {},
   "outputs": [
    {
     "name": "stdout",
     "output_type": "stream",
     "text": [
      "-5.5\n"
     ]
    },
    {
     "data": {
      "text/plain": [
       "float"
      ]
     },
     "execution_count": 66,
     "metadata": {},
     "output_type": "execute_result"
    }
   ],
   "source": [
    "print(y)\n",
    "type(y)"
   ]
  },
  {
   "cell_type": "code",
   "execution_count": 67,
   "id": "5d792e9a-2e39-40bf-93b9-1ca05d7f5696",
   "metadata": {},
   "outputs": [
    {
     "ename": "NameError",
     "evalue": "name 'double' is not defined",
     "output_type": "error",
     "traceback": [
      "\u001b[0;31m---------------------------------------------------------------------------\u001b[0m",
      "\u001b[0;31mNameError\u001b[0m                                 Traceback (most recent call last)",
      "\u001b[0;32m/var/folders/j8/4sd0mj5s083cmgy92br3xg7r0000gn/T/ipykernel_62336/3905081727.py\u001b[0m in \u001b[0;36m<module>\u001b[0;34m\u001b[0m\n\u001b[0;32m----> 1\u001b[0;31m \u001b[0mz\u001b[0m \u001b[0;34m=\u001b[0m \u001b[0mdouble\u001b[0m\u001b[0;34m(\u001b[0m\u001b[0;34m'8.666551'\u001b[0m\u001b[0;34m)\u001b[0m\u001b[0;34m\u001b[0m\u001b[0;34m\u001b[0m\u001b[0m\n\u001b[0m\u001b[1;32m      2\u001b[0m \u001b[0mprint\u001b[0m\u001b[0;34m(\u001b[0m\u001b[0mz\u001b[0m\u001b[0;34m)\u001b[0m\u001b[0;34m\u001b[0m\u001b[0;34m\u001b[0m\u001b[0m\n",
      "\u001b[0;31mNameError\u001b[0m: name 'double' is not defined"
     ]
    }
   ],
   "source": [
    "z = double('8.666551')\n",
    "print(z)"
   ]
  },
  {
   "cell_type": "code",
   "execution_count": 68,
   "id": "1ffe3f71-cdda-41a8-bbfb-2dcb4098f641",
   "metadata": {},
   "outputs": [
    {
     "ename": "ValueError",
     "evalue": "could not convert string to float: 'abc'",
     "output_type": "error",
     "traceback": [
      "\u001b[0;31m---------------------------------------------------------------------------\u001b[0m",
      "\u001b[0;31mValueError\u001b[0m                                Traceback (most recent call last)",
      "\u001b[0;32m/var/folders/j8/4sd0mj5s083cmgy92br3xg7r0000gn/T/ipykernel_62336/3646000741.py\u001b[0m in \u001b[0;36m<module>\u001b[0;34m\u001b[0m\n\u001b[0;32m----> 1\u001b[0;31m \u001b[0mfloat\u001b[0m\u001b[0;34m(\u001b[0m\u001b[0;34m'abc'\u001b[0m\u001b[0;34m)\u001b[0m\u001b[0;34m\u001b[0m\u001b[0;34m\u001b[0m\u001b[0m\n\u001b[0m",
      "\u001b[0;31mValueError\u001b[0m: could not convert string to float: 'abc'"
     ]
    }
   ],
   "source": [
    "float('abc')"
   ]
  },
  {
   "cell_type": "markdown",
   "id": "74c235e4-861f-40b1-851c-2219bfb37d76",
   "metadata": {},
   "source": [
    "**Booleans**"
   ]
  },
  {
   "cell_type": "code",
   "execution_count": 69,
   "id": "41e110fe-0359-49b1-b375-78bcbb7a1e5b",
   "metadata": {},
   "outputs": [
    {
     "name": "stdout",
     "output_type": "stream",
     "text": [
      "True , False\n"
     ]
    }
   ],
   "source": [
    "tr=True\n",
    "fl=False\n",
    "print(tr,',',fl)"
   ]
  },
  {
   "cell_type": "code",
   "execution_count": 70,
   "id": "4c988dcf-0f8d-43a3-9863-a5f99638c8bf",
   "metadata": {},
   "outputs": [
    {
     "data": {
      "text/plain": [
       "bool"
      ]
     },
     "execution_count": 70,
     "metadata": {},
     "output_type": "execute_result"
    }
   ],
   "source": [
    "type(tr)"
   ]
  },
  {
   "cell_type": "code",
   "execution_count": 71,
   "id": "9a52a524-13cb-471c-a126-96d4d7c1fae2",
   "metadata": {},
   "outputs": [
    {
     "data": {
      "text/plain": [
       "False"
      ]
     },
     "execution_count": 71,
     "metadata": {},
     "output_type": "execute_result"
    }
   ],
   "source": [
    "2 == 3"
   ]
  },
  {
   "cell_type": "code",
   "execution_count": 74,
   "id": "b5e4ea76-b7b6-497e-a0d0-549b9f4af207",
   "metadata": {},
   "outputs": [
    {
     "name": "stdout",
     "output_type": "stream",
     "text": [
      "False\n"
     ]
    },
    {
     "data": {
      "text/plain": [
       "bool"
      ]
     },
     "execution_count": 74,
     "metadata": {},
     "output_type": "execute_result"
    }
   ],
   "source": [
    "res = 2== 3\n",
    "print(res)\n",
    "type(res)"
   ]
  },
  {
   "cell_type": "code",
   "execution_count": 75,
   "id": "9b934114-8b2a-4081-9f65-8c0dded0c8ec",
   "metadata": {
    "tags": []
   },
   "outputs": [
    {
     "data": {
      "text/plain": [
       "True"
      ]
     },
     "execution_count": 75,
     "metadata": {},
     "output_type": "execute_result"
    }
   ],
   "source": [
    "2 != 3"
   ]
  },
  {
   "cell_type": "code",
   "execution_count": 77,
   "id": "e9236b6c-0d4c-4d9c-bcc1-e592d79d9e7d",
   "metadata": {},
   "outputs": [],
   "source": [
    "num1 = 9\n",
    "num2 = -10\n",
    "num3 = 15"
   ]
  },
  {
   "cell_type": "code",
   "execution_count": 80,
   "id": "a2de96db-5025-421e-8d79-b35cd460b216",
   "metadata": {
    "jp-MarkdownHeadingCollapsed": true,
    "tags": []
   },
   "outputs": [
    {
     "name": "stdout",
     "output_type": "stream",
     "text": [
      "True\n"
     ]
    }
   ],
   "source": [
    "res = num3 > 0\n",
    "print(res)"
   ]
  },
  {
   "cell_type": "code",
   "execution_count": 82,
   "id": "8d0c8605-d89b-4192-aaed-ee157a7a3f9e",
   "metadata": {},
   "outputs": [
    {
     "data": {
      "text/plain": [
       "False"
      ]
     },
     "execution_count": 82,
     "metadata": {},
     "output_type": "execute_result"
    }
   ],
   "source": [
    "num1 > 0 and num2 > 0"
   ]
  },
  {
   "cell_type": "code",
   "execution_count": null,
   "id": "3dcac9d0-9568-4b9b-85b7-bbf48d04b045",
   "metadata": {},
   "outputs": [],
   "source": []
  },
  {
   "cell_type": "code",
   "execution_count": 84,
   "id": "30954600-c0e8-4cc9-9032-372f30976b96",
   "metadata": {},
   "outputs": [
    {
     "data": {
      "text/plain": [
       "True"
      ]
     },
     "execution_count": 84,
     "metadata": {},
     "output_type": "execute_result"
    }
   ],
   "source": [
    "num1 > 0 or num2 > 0"
   ]
  },
  {
   "cell_type": "code",
   "execution_count": 86,
   "id": "2a37cba1-64e9-4604-a737-79423ffd681c",
   "metadata": {},
   "outputs": [
    {
     "data": {
      "text/plain": [
       "False"
      ]
     },
     "execution_count": 86,
     "metadata": {},
     "output_type": "execute_result"
    }
   ],
   "source": [
    "num1 < 0 or num3 < 0"
   ]
  },
  {
   "cell_type": "code",
   "execution_count": 87,
   "id": "02da63b6-6738-4356-8878-f71b8f442c4e",
   "metadata": {},
   "outputs": [
    {
     "data": {
      "text/plain": [
       "True"
      ]
     },
     "execution_count": 87,
     "metadata": {},
     "output_type": "execute_result"
    }
   ],
   "source": [
    "not num1 < 0"
   ]
  },
  {
   "cell_type": "code",
   "execution_count": 88,
   "id": "578cc264-5c9c-45ca-925d-43dbbf31d69c",
   "metadata": {},
   "outputs": [
    {
     "data": {
      "text/plain": [
       "True"
      ]
     },
     "execution_count": 88,
     "metadata": {},
     "output_type": "execute_result"
    }
   ],
   "source": [
    "not (num1 < 0)"
   ]
  },
  {
   "cell_type": "code",
   "execution_count": 89,
   "id": "1edb2c63-c004-4cb8-9f9e-ac8ccb037a7a",
   "metadata": {},
   "outputs": [],
   "source": [
    "# Precedence: not, then and, and lastly or"
   ]
  },
  {
   "cell_type": "code",
   "execution_count": 90,
   "id": "2fdc181b-4d27-4708-bb13-c1c2f4fb65d9",
   "metadata": {},
   "outputs": [],
   "source": [
    "num1 = 9\n",
    "num2 = -10\n",
    "num3 = 15"
   ]
  },
  {
   "cell_type": "code",
   "execution_count": 91,
   "id": "a77d73f7-0c02-4807-848a-557b19f9539b",
   "metadata": {},
   "outputs": [
    {
     "data": {
      "text/plain": [
       "True"
      ]
     },
     "execution_count": 91,
     "metadata": {},
     "output_type": "execute_result"
    }
   ],
   "source": [
    "not num1 < 0 or num2 < 0"
   ]
  },
  {
   "cell_type": "code",
   "execution_count": 92,
   "id": "2dd245c8-0c1d-480b-822b-3f1aeb27d9d1",
   "metadata": {},
   "outputs": [
    {
     "data": {
      "text/plain": [
       "False"
      ]
     },
     "execution_count": 92,
     "metadata": {},
     "output_type": "execute_result"
    }
   ],
   "source": [
    "not (num1 < 0 or num2 < 0)"
   ]
  },
  {
   "cell_type": "code",
   "execution_count": 93,
   "id": "69dd63f8-4293-4fd6-a16e-e516efd6b077",
   "metadata": {},
   "outputs": [
    {
     "data": {
      "text/plain": [
       "True"
      ]
     },
     "execution_count": 93,
     "metadata": {},
     "output_type": "execute_result"
    }
   ],
   "source": [
    "num1 < 0 and num3 < 0 or num2 < 0"
   ]
  },
  {
   "cell_type": "code",
   "execution_count": 94,
   "id": "52c56df0-b826-4971-8b1d-59cc602c9092",
   "metadata": {},
   "outputs": [
    {
     "data": {
      "text/plain": [
       "False"
      ]
     },
     "execution_count": 94,
     "metadata": {},
     "output_type": "execute_result"
    }
   ],
   "source": [
    "num1 < 0 and (num3 < 0 or num2 < 0)"
   ]
  },
  {
   "cell_type": "markdown",
   "id": "3a97788b-5144-4c61-8837-0103d55ab6ac",
   "metadata": {},
   "source": [
    "------"
   ]
  },
  {
   "cell_type": "markdown",
   "id": "9e80073f-baf3-44b2-acac-34bc4ca58616",
   "metadata": {},
   "source": [
    " ### <font color=\"brown\">Functions</font>"
   ]
  },
  {
   "cell_type": "code",
   "execution_count": 98,
   "id": "6f362ec7-4ac0-4892-afc0-77005eae7444",
   "metadata": {},
   "outputs": [],
   "source": [
    "# function definition\n",
    "def double(x):\n",
    "    return x*2"
   ]
  },
  {
   "cell_type": "code",
   "execution_count": 101,
   "id": "b99309ae-9c36-407b-a99d-943dff53f865",
   "metadata": {},
   "outputs": [
    {
     "name": "stdout",
     "output_type": "stream",
     "text": [
      "10 14\n"
     ]
    }
   ],
   "source": [
    "# call the function\n",
    "a = 5\n",
    "adoub = double(a) # call with a as argument\n",
    "doub7 = double(7)\n",
    "print(adoub,doub7)"
   ]
  },
  {
   "cell_type": "markdown",
   "id": "6f44c0d6-ec3a-455f-b980-27d25d48a33f",
   "metadata": {},
   "source": [
    "**String methods**"
   ]
  },
  {
   "cell_type": "code",
   "execution_count": 102,
   "id": "9974cd2f-ca79-40f3-8992-c14ff093babc",
   "metadata": {},
   "outputs": [
    {
     "data": {
      "text/plain": [
       "True"
      ]
     },
     "execution_count": 102,
     "metadata": {},
     "output_type": "execute_result"
    }
   ],
   "source": [
    "\"myfile.ipynb\".endswith('ipynb')"
   ]
  },
  {
   "cell_type": "code",
   "execution_count": 103,
   "id": "3a1f1908-8788-4560-8870-992b0e44ec5c",
   "metadata": {},
   "outputs": [
    {
     "data": {
      "text/plain": [
       "False"
      ]
     },
     "execution_count": 103,
     "metadata": {},
     "output_type": "execute_result"
    }
   ],
   "source": [
    "\"myfile.ipynb\".startswith('ipynb')"
   ]
  },
  {
   "cell_type": "code",
   "execution_count": 104,
   "id": "e8360431-10b9-4323-8def-19a3f0206cc8",
   "metadata": {},
   "outputs": [
    {
     "data": {
      "text/plain": [
       "True"
      ]
     },
     "execution_count": 104,
     "metadata": {},
     "output_type": "execute_result"
    }
   ],
   "source": [
    "\"myfile.ipynb\".startswith('my')"
   ]
  },
  {
   "cell_type": "code",
   "execution_count": 106,
   "id": "94b9816d-fef7-42a2-8e5a-bac15df13b2c",
   "metadata": {},
   "outputs": [
    {
     "data": {
      "text/plain": [
       "False"
      ]
     },
     "execution_count": 106,
     "metadata": {},
     "output_type": "execute_result"
    }
   ],
   "source": [
    "\"myfile.ipynb\".startswith('My')"
   ]
  },
  {
   "cell_type": "code",
   "execution_count": 107,
   "id": "2fdf1814-6d5f-468e-b5d0-d87587c5ef3a",
   "metadata": {},
   "outputs": [
    {
     "data": {
      "text/plain": [
       "13"
      ]
     },
     "execution_count": 107,
     "metadata": {},
     "output_type": "execute_result"
    }
   ],
   "source": [
    "str = \"This is a sentence.\"\n",
    "str.find('ten')"
   ]
  },
  {
   "cell_type": "code",
   "execution_count": 108,
   "id": "89cdf09c-d27e-4c47-8865-d577a26fb88e",
   "metadata": {},
   "outputs": [
    {
     "data": {
      "text/plain": [
       "-1"
      ]
     },
     "execution_count": 108,
     "metadata": {},
     "output_type": "execute_result"
    }
   ],
   "source": [
    "str.find('tense')"
   ]
  },
  {
   "cell_type": "code",
   "execution_count": 111,
   "id": "c750bf9d-0dd9-48c4-879a-34cb1c201438",
   "metadata": {},
   "outputs": [
    {
     "data": {
      "text/plain": [
       "False"
      ]
     },
     "execution_count": 111,
     "metadata": {},
     "output_type": "execute_result"
    }
   ],
   "source": [
    "str.isalpha()"
   ]
  },
  {
   "cell_type": "code",
   "execution_count": 112,
   "id": "c500e4cd-d389-4137-937a-171873d34577",
   "metadata": {},
   "outputs": [
    {
     "data": {
      "text/plain": [
       "True"
      ]
     },
     "execution_count": 112,
     "metadata": {},
     "output_type": "execute_result"
    }
   ],
   "source": [
    "'xyz'.isalpha()"
   ]
  },
  {
   "cell_type": "code",
   "execution_count": 113,
   "id": "eca3ec3c-ef85-4086-9fd0-b70f2e051305",
   "metadata": {},
   "outputs": [
    {
     "data": {
      "text/plain": [
       "False"
      ]
     },
     "execution_count": 113,
     "metadata": {},
     "output_type": "execute_result"
    }
   ],
   "source": [
    "\"\".isalpha() # empty string"
   ]
  },
  {
   "cell_type": "code",
   "execution_count": 114,
   "id": "a87c9627-6aae-4363-982d-6e50a73339f8",
   "metadata": {},
   "outputs": [
    {
     "data": {
      "text/plain": [
       "False"
      ]
     },
     "execution_count": 114,
     "metadata": {},
     "output_type": "execute_result"
    }
   ],
   "source": [
    "\"hey!\".isalpha()"
   ]
  },
  {
   "cell_type": "code",
   "execution_count": 115,
   "id": "1e494089-edd5-4cef-b54f-f9163836d07d",
   "metadata": {},
   "outputs": [
    {
     "data": {
      "text/plain": [
       "True"
      ]
     },
     "execution_count": 115,
     "metadata": {},
     "output_type": "execute_result"
    }
   ],
   "source": [
    "\"1234\".isdigit()"
   ]
  },
  {
   "cell_type": "code",
   "execution_count": 116,
   "id": "de3b2923-87cb-4b8e-9424-cf7ffd0904c4",
   "metadata": {},
   "outputs": [
    {
     "data": {
      "text/plain": [
       "False"
      ]
     },
     "execution_count": 116,
     "metadata": {},
     "output_type": "execute_result"
    }
   ],
   "source": [
    "\"123-456-789\".isdigit()"
   ]
  },
  {
   "cell_type": "code",
   "execution_count": 117,
   "id": "4c1f8050-250d-4413-b39b-fca420215c90",
   "metadata": {},
   "outputs": [
    {
     "data": {
      "text/plain": [
       "'01-24-2021'"
      ]
     },
     "execution_count": 117,
     "metadata": {},
     "output_type": "execute_result"
    }
   ],
   "source": [
    "# replace\n",
    "\"01/24/2021\".replace(\"/\",\"-\")"
   ]
  },
  {
   "cell_type": "code",
   "execution_count": 119,
   "id": "09357725-af80-451a-8a9c-6e4236ee8fee",
   "metadata": {},
   "outputs": [
    {
     "name": "stdout",
     "output_type": "stream",
     "text": [
      "This and that and the other\n"
     ]
    }
   ],
   "source": [
    "res = \"This&that&the other\".replace(\"&\",\" and \")\n",
    "print(res)"
   ]
  },
  {
   "cell_type": "code",
   "execution_count": 120,
   "id": "a4b1dfd9-483c-4fac-8eeb-412ee4271fc3",
   "metadata": {},
   "outputs": [
    {
     "name": "stdout",
     "output_type": "stream",
     "text": [
      "This and that&the other\n"
     ]
    }
   ],
   "source": [
    "res = \"This&that&the other\".replace(\"&\",\" and \", 1) # only replace first occurrences\n",
    "print(res)"
   ]
  },
  {
   "cell_type": "code",
   "execution_count": 122,
   "id": "eeef9fb7-2f00-45fe-be1b-cbc191da909d",
   "metadata": {},
   "outputs": [
    {
     "name": "stdout",
     "output_type": "stream",
     "text": [
      "Strip out \n"
     ]
    }
   ],
   "source": [
    "str = \"Strip out ;,!\"\n",
    "newstr = str.strip(\";,!\")\n",
    "print(newstr)"
   ]
  },
  {
   "cell_type": "code",
   "execution_count": 123,
   "id": "7d29ae6e-d3b4-422a-bcc6-642897e037df",
   "metadata": {},
   "outputs": [
    {
     "data": {
      "text/plain": [
       "10"
      ]
     },
     "execution_count": 123,
     "metadata": {},
     "output_type": "execute_result"
    }
   ],
   "source": [
    "len(newstr) # space at end of Strip out"
   ]
  },
  {
   "cell_type": "code",
   "execution_count": 125,
   "id": "693f8817-7ceb-46b6-941b-f271fb793b5e",
   "metadata": {},
   "outputs": [
    {
     "name": "stdout",
     "output_type": "stream",
     "text": [
      "Strip out ;,\n"
     ]
    }
   ],
   "source": [
    "newstr = str.strip(\";!\")\n",
    "print(newstr)"
   ]
  },
  {
   "cell_type": "code",
   "execution_count": 126,
   "id": "2366c825-dd3b-430d-935e-9238b234e39e",
   "metadata": {},
   "outputs": [
    {
     "ename": "TypeError",
     "evalue": "'str' object is not callable",
     "output_type": "error",
     "traceback": [
      "\u001b[0;31m---------------------------------------------------------------------------\u001b[0m",
      "\u001b[0;31mTypeError\u001b[0m                                 Traceback (most recent call last)",
      "\u001b[0;32m/var/folders/j8/4sd0mj5s083cmgy92br3xg7r0000gn/T/ipykernel_62336/3455841668.py\u001b[0m in \u001b[0;36m<module>\u001b[0;34m\u001b[0m\n\u001b[0;32m----> 1\u001b[0;31m \u001b[0mstr\u001b[0m\u001b[0;34m(\u001b[0m\u001b[0;36m5\u001b[0m\u001b[0;34m)\u001b[0m\u001b[0;34m\u001b[0m\u001b[0;34m\u001b[0m\u001b[0m\n\u001b[0m",
      "\u001b[0;31mTypeError\u001b[0m: 'str' object is not callable"
     ]
    }
   ],
   "source": [
    "str(5)"
   ]
  },
  {
   "cell_type": "code",
   "execution_count": null,
   "id": "6848b661-9a95-4530-8567-bc442d437475",
   "metadata": {},
   "outputs": [],
   "source": []
  }
 ],
 "metadata": {
  "kernelspec": {
   "display_name": "Python 3 (ipykernel)",
   "language": "python",
   "name": "python3"
  },
  "language_info": {
   "codemirror_mode": {
    "name": "ipython",
    "version": 3
   },
   "file_extension": ".py",
   "mimetype": "text/x-python",
   "name": "python",
   "nbconvert_exporter": "python",
   "pygments_lexer": "ipython3",
   "version": "3.9.7"
  }
 },
 "nbformat": 4,
 "nbformat_minor": 5
}
